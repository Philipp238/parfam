{
 "cells": [
  {
   "cell_type": "code",
   "execution_count": 1,
   "metadata": {},
   "outputs": [
    {
     "name": "stdout",
     "output_type": "stream",
     "text": [
      "/home/math/scholl/projects/physicalLawLearning/parfam\n",
      "Using cpu.\n"
     ]
    }
   ],
   "source": [
    "from parfamwrapper import ParFamWrapper\n",
    "\n",
    "import sympy\n",
    "import torch\n",
    "import numpy as np\n",
    "import matplotlib.pyplot as plt"
   ]
  },
  {
   "cell_type": "code",
   "execution_count": 2,
   "metadata": {},
   "outputs": [],
   "source": [
    "# Collection of function for ParFam to use, can be readily extended\n",
    "\n",
    "function_dict = {'sqrt': lambda x: torch.sqrt(torch.abs(x)),\n",
    "                 'exp': lambda x: torch.minimum(torch.exp(x), np.exp(10) + torch.abs(x)),\n",
    "                 'log': lambda x: torch.log(torch.abs(x) + 0.000001),\n",
    "                 'cos': torch.cos, 'sin': torch.sin}\n",
    "function_name_dict = {'sqrt': lambda x: sympy.sqrt(sympy.Abs(x)), 'exp': sympy.exp, 'cos': sympy.cos, 'sin': sympy.sin,\n",
    "                      'log': lambda x: sympy.log(sympy.Abs(x) + 0.000001)}\n",
    "\n",
    "standard_function_names_str = ['sin', 'sqrt', 'exp', 'sqrt'] \n",
    "standard_functions = [function_dict[key] for key in standard_function_names_str]\n",
    "standard_function_names = [function_name_dict[key] for key in standard_function_names_str]"
   ]
  },
  {
   "cell_type": "markdown",
   "metadata": {},
   "source": [
    "# Basic functionality"
   ]
  },
  {
   "cell_type": "markdown",
   "metadata": {},
   "source": [
    "## One dimensional problem"
   ]
  },
  {
   "cell_type": "code",
   "execution_count": 3,
   "metadata": {},
   "outputs": [
    {
     "name": "stdout",
     "output_type": "stream",
     "text": [
      "(20, 1)\n",
      "Target formula: -0.2*sin(0.230854243040085*x)/x\n"
     ]
    }
   ],
   "source": [
    "device = 'cpu'\n",
    "\n",
    "a = 2 * torch.randn(1)\n",
    "\n",
    "x = np.arange(1, 5, 0.2)  # 1 dimensional \n",
    "x = x.reshape(len(x), 1)  # 1 dimensional \n",
    "print(x.shape) \n",
    "x = torch.tensor(x, device=device)\n",
    "\n",
    "def func(a, x, module):\n",
    "    # return module.sin((a[0] * x + 1) / (0.1 * x + 2))\n",
    "    # return module.sin((a[0] * x + 1) / (0.1 * x)) \n",
    "    # return module.sin((a[0] * x)) \n",
    "    # return a[0] * x / (1+x)\n",
    "    return 0.2 * module.sin(a[0] * x) / x\n",
    "    # return 0.5 * x / (x + 1)\n",
    "    # return module.log(x + 1.4) + module.log(x ** 2 + 1.3)\n",
    "    # return module.sin(x ** 2) * module.cos(x) - 1\n",
    "\n",
    "y = func(a, x, np).squeeze(1)\n",
    "x_sym = sympy.symbols('x')\n",
    "\n",
    "target_expr = func(a, x_sym, sympy)\n",
    "print(f'Target formula: {target_expr}')"
   ]
  },
  {
   "cell_type": "code",
   "execution_count": 4,
   "metadata": {},
   "outputs": [],
   "source": [
    "# Assuming we already know that only the sin function is necessary:\n",
    "functions = [torch.sin]\n",
    "function_names = [sympy.sin]"
   ]
  },
  {
   "cell_type": "code",
   "execution_count": 5,
   "metadata": {},
   "outputs": [
    {
     "name": "stderr",
     "output_type": "stream",
     "text": [
      "/home/math/scholl/projects/physicalLawLearning/parfam/train.py:1628: UserWarning: To copy construct from a tensor, it is recommended to use sourceTensor.clone().detach() or sourceTensor.clone().detach().requires_grad_(True), rather than torch.tensor(sourceTensor).\n",
      "  x, y = torch.tensor(x, device=training_parameters['device']), torch.tensor(y, device=training_parameters['device'])\n",
      "INFO:root:Sequential computation\n",
      "INFO:root:Model parameters: {'degree_input_polynomials': 0, 'degree_output_polynomials': 2, 'degree_output_denominator': 0, 'degree_input_denominator': 0, 'function_names': [], 'width': 1, 'functions': [], 'degree_output_polynomials_specific': None, 'degree_output_polynomials_denominator_specific': None, 'enforce_function': False, 'maximal_potence': 3}\n",
      "INFO:root:Number parameters: 3\n",
      "INFO:root:Number parameters active: 3\n",
      "INFO:root:Number of evaluations: 507\n",
      "INFO:root:Relative l2 distance train: 0.004583417815819734\n",
      "INFO:root:Relative l2 distance validation: 0.007769162867236745\n",
      "INFO:root:Training time: 0.14017963409423828\n",
      "INFO:root:Cumulative training time: 0.1414346694946289\n",
      "INFO:root:Cumulative number of evaluations: 507\n",
      "INFO:root:New best relative l2 distance validation: 0.007769162867236745\n",
      "INFO:root:Model parameters: {'degree_input_polynomials': 0, 'degree_output_polynomials': 1, 'degree_output_denominator': 1, 'degree_input_denominator': 0, 'functions': [], 'function_names': [], 'width': 1, 'degree_output_polynomials_specific': None, 'degree_output_polynomials_denominator_specific': None, 'enforce_function': False, 'maximal_potence': 3}\n",
      "INFO:root:Number parameters: 4\n",
      "INFO:root:Number parameters active: 4\n"
     ]
    },
    {
     "name": "stdout",
     "output_type": "stream",
     "text": [
      "Training parameters: {'normalization': False, 'time_limit': 100, 'evaluations_limit': 1000000, 'max_dataset_length': 20, 'model': 'ParFamTorch', 'target_noise': 0.0, 'feature_noise': 0.0, 'seed': 1234, 'accuracy': 0.0001, 'maxiter1': 100, 'maxiter2': 0, 'optimizer': 'basinhopping', 'pruning_iterations': 1, 'pruning_cut_off': 0.01, 'classifier': None, 'local_minimizer': 'BFGS', 'maxiter_per_dim_local_minimizer': 100, 'lambda_1': 0.001, 'repetitions': 1, 'parallel': False, 'n_processes': 4, 'lambda_1_cut': 0, 'lambda_1_piecewise': 0, 'device': 'cpu', 'iterative_finetuning': True, 'max_n_active_parameters': 10, 'lambda_1_finetuning': 1e-05, 'path_pretrained': 'Flexible dimension/full_19_big_training_sets/20240427_070711_5M/Datetime_20240427_070717_Loss_training_set_size_797545_batch_size_341_hidden_dim_256.pt', 'topk_predictions': 10, 'enforce_function_iterate': 'False'}\n",
      "Sequential computation\n",
      "##### Training #####\n",
      "Number parameters: 3\n",
      "Number parameters active: 3\n",
      "Training time: 0.14017963409423828\n",
      "Target expression: None\n",
      "Relative l_2-distance train: 0.004583417815819734\n",
      "Relative l_2-distance validation: 0.007769162867236745\n",
      "##### Training #####\n",
      "Number parameters: 4\n",
      "Number parameters active: 4\n"
     ]
    },
    {
     "name": "stderr",
     "output_type": "stream",
     "text": [
      "INFO:root:Number of evaluations: 2190\n",
      "INFO:root:Relative l2 distance train: 0.02898118051313699\n",
      "INFO:root:Relative l2 distance validation: 0.03306080474434832\n",
      "INFO:root:Training time: 0.7206802368164062\n",
      "INFO:root:Cumulative training time: 0.8638942241668701\n",
      "INFO:root:Cumulative number of evaluations: 2697\n",
      "INFO:root:Model parameters: {'degree_input_polynomials': 0, 'degree_output_polynomials': 2, 'degree_output_denominator': 1, 'degree_input_denominator': 0, 'functions': [], 'function_names': [], 'width': 1, 'degree_output_polynomials_specific': None, 'degree_output_polynomials_denominator_specific': None, 'enforce_function': False, 'maximal_potence': 3}\n",
      "INFO:root:Number parameters: 5\n",
      "INFO:root:Number parameters active: 5\n"
     ]
    },
    {
     "name": "stdout",
     "output_type": "stream",
     "text": [
      "Training time: 0.7206802368164062\n",
      "Target expression: None\n",
      "Relative l_2-distance train: 0.02898118051313699\n",
      "Relative l_2-distance validation: 0.03306080474434832\n",
      "##### Training #####\n",
      "Number parameters: 5\n",
      "Number parameters active: 5\n"
     ]
    },
    {
     "name": "stderr",
     "output_type": "stream",
     "text": [
      "INFO:root:Number of evaluations: 1910\n",
      "INFO:root:Relative l2 distance train: 0.053585320463667145\n",
      "INFO:root:Relative l2 distance validation: 0.06611950845378721\n",
      "INFO:root:Training time: 1.1952338218688965\n",
      "INFO:root:Cumulative training time: 2.060877561569214\n",
      "INFO:root:Cumulative number of evaluations: 4607\n",
      "INFO:root:Model parameters: {'degree_input_polynomials': 1, 'degree_output_polynomials': 1, 'functions': ['function_0'], 'function_names': ['function_0'], 'width': 1, 'degree_input_denominator': 0, 'degree_output_denominator': 0, 'degree_output_polynomials_specific': [1], 'degree_output_polynomials_denominator_specific': [1], 'enforce_function': False, 'maximal_potence': 3}\n",
      "INFO:root:Number parameters: 5\n",
      "INFO:root:Number parameters active: 5\n"
     ]
    },
    {
     "name": "stdout",
     "output_type": "stream",
     "text": [
      "Training time: 1.1952338218688965\n",
      "Target expression: None\n",
      "Relative l_2-distance train: 0.053585320463667145\n",
      "Relative l_2-distance validation: 0.06611950845378721\n",
      "##### Training #####\n",
      "Number parameters: 5\n",
      "Number parameters active: 5\n"
     ]
    },
    {
     "name": "stderr",
     "output_type": "stream",
     "text": [
      "INFO:root:Number of evaluations: 1452\n",
      "INFO:root:Relative l2 distance train: 0.18414238207863287\n",
      "INFO:root:Relative l2 distance validation: 0.17536398160191327\n",
      "INFO:root:Training time: 0.6170718669891357\n",
      "INFO:root:Cumulative training time: 2.6794309616088867\n",
      "INFO:root:Cumulative number of evaluations: 6059\n",
      "INFO:root:Model parameters: {'degree_input_polynomials': 2, 'degree_output_polynomials': 1, 'functions': ['function_0'], 'function_names': ['function_0'], 'width': 1, 'degree_input_denominator': 0, 'degree_output_denominator': 0, 'degree_output_polynomials_specific': [1], 'degree_output_polynomials_denominator_specific': [1], 'enforce_function': False, 'maximal_potence': 3}\n",
      "INFO:root:Number parameters: 6\n",
      "INFO:root:Number parameters active: 6\n"
     ]
    },
    {
     "name": "stdout",
     "output_type": "stream",
     "text": [
      "Training time: 0.6170718669891357\n",
      "Target expression: None\n",
      "Relative l_2-distance train: 0.18414238207863287\n",
      "Relative l_2-distance validation: 0.17536398160191327\n",
      "##### Training #####\n",
      "Number parameters: 6\n",
      "Number parameters active: 6\n"
     ]
    },
    {
     "name": "stderr",
     "output_type": "stream",
     "text": [
      "INFO:root:Number of evaluations: 1276\n",
      "INFO:root:Relative l2 distance train: 0.0009722588708164045\n",
      "INFO:root:Relative l2 distance validation: 0.0019960037983497926\n",
      "INFO:root:Training time: 0.5092406272888184\n",
      "INFO:root:Cumulative training time: 3.190040349960327\n",
      "INFO:root:Cumulative number of evaluations: 7335\n",
      "INFO:root:New best relative l2 distance validation: 0.0019960037983497926\n",
      "INFO:root:Model parameters: {'degree_input_polynomials': 1, 'degree_output_polynomials': 1, 'functions': ['function_0'], 'function_names': ['function_0'], 'width': 1, 'degree_input_denominator': 1, 'degree_output_denominator': 0, 'degree_output_polynomials_specific': [1], 'degree_output_polynomials_denominator_specific': [1], 'enforce_function': False, 'maximal_potence': 3}\n",
      "INFO:root:Number parameters: 7\n",
      "INFO:root:Number parameters active: 7\n"
     ]
    },
    {
     "name": "stdout",
     "output_type": "stream",
     "text": [
      "Training time: 0.5092406272888184\n",
      "Target expression: None\n",
      "Relative l_2-distance train: 0.0009722588708164045\n",
      "Relative l_2-distance validation: 0.0019960037983497926\n",
      "##### Training #####\n",
      "Number parameters: 7\n",
      "Number parameters active: 7\n"
     ]
    },
    {
     "name": "stderr",
     "output_type": "stream",
     "text": [
      "INFO:root:Number of evaluations: 2006\n",
      "INFO:root:Relative l2 distance train: 0.059180207655024034\n",
      "INFO:root:Relative l2 distance validation: 0.0704183590336862\n",
      "INFO:root:Training time: 1.056764841079712\n",
      "INFO:root:Cumulative training time: 4.248532295227051\n",
      "INFO:root:Cumulative number of evaluations: 9341\n",
      "INFO:root:Model parameters: {'degree_input_polynomials': 2, 'degree_output_polynomials': 1, 'functions': ['function_0'], 'function_names': ['function_0'], 'width': 1, 'degree_input_denominator': 1, 'degree_output_denominator': 0, 'degree_output_polynomials_specific': [1], 'degree_output_polynomials_denominator_specific': [1], 'enforce_function': False, 'maximal_potence': 3}\n",
      "INFO:root:Number parameters: 8\n",
      "INFO:root:Number parameters active: 8\n"
     ]
    },
    {
     "name": "stdout",
     "output_type": "stream",
     "text": [
      "Training time: 1.056764841079712\n",
      "Target expression: None\n",
      "Relative l_2-distance train: 0.059180207655024034\n",
      "Relative l_2-distance validation: 0.0704183590336862\n",
      "##### Training #####\n",
      "Number parameters: 8\n",
      "Number parameters active: 8\n"
     ]
    },
    {
     "name": "stderr",
     "output_type": "stream",
     "text": [
      "INFO:root:Number of evaluations: 2669\n",
      "INFO:root:Relative l2 distance train: 0.005451129550316074\n",
      "INFO:root:Relative l2 distance validation: 0.004930885317764996\n",
      "INFO:root:Training time: 1.3334529399871826\n",
      "INFO:root:Cumulative training time: 5.5838682651519775\n",
      "INFO:root:Cumulative number of evaluations: 12010\n",
      "INFO:root:Model parameters: {'degree_input_polynomials': 1, 'degree_output_polynomials': 2, 'functions': ['function_0'], 'function_names': ['function_0'], 'width': 1, 'degree_input_denominator': 0, 'degree_output_denominator': 0, 'degree_output_polynomials_specific': [1], 'degree_output_polynomials_denominator_specific': [1], 'enforce_function': False, 'maximal_potence': 3}\n",
      "INFO:root:Number parameters: 7\n",
      "INFO:root:Number parameters active: 7\n"
     ]
    },
    {
     "name": "stdout",
     "output_type": "stream",
     "text": [
      "Training time: 1.3334529399871826\n",
      "Target expression: None\n",
      "Relative l_2-distance train: 0.005451129550316074\n",
      "Relative l_2-distance validation: 0.004930885317764996\n",
      "##### Training #####\n",
      "Number parameters: 7\n",
      "Number parameters active: 7\n"
     ]
    },
    {
     "name": "stderr",
     "output_type": "stream",
     "text": [
      "INFO:root:Number of evaluations: 1456\n",
      "INFO:root:Relative l2 distance train: 0.006069996796973276\n",
      "INFO:root:Relative l2 distance validation: 0.012176334914030636\n",
      "INFO:root:Training time: 0.7962465286254883\n",
      "INFO:root:Cumulative training time: 6.381833553314209\n",
      "INFO:root:Cumulative number of evaluations: 13466\n",
      "INFO:root:Model parameters: {'degree_input_polynomials': 2, 'degree_output_polynomials': 2, 'functions': ['function_0'], 'function_names': ['function_0'], 'width': 1, 'degree_input_denominator': 0, 'degree_output_denominator': 0, 'degree_output_polynomials_specific': [1], 'degree_output_polynomials_denominator_specific': [1], 'enforce_function': False, 'maximal_potence': 3}\n",
      "INFO:root:Number parameters: 8\n",
      "INFO:root:Number parameters active: 8\n"
     ]
    },
    {
     "name": "stdout",
     "output_type": "stream",
     "text": [
      "Training time: 0.7962465286254883\n",
      "Target expression: None\n",
      "Relative l_2-distance train: 0.006069996796973276\n",
      "Relative l_2-distance validation: 0.012176334914030636\n",
      "##### Training #####\n",
      "Number parameters: 8\n",
      "Number parameters active: 8\n"
     ]
    },
    {
     "name": "stderr",
     "output_type": "stream",
     "text": [
      "INFO:root:Number of evaluations: 1448\n",
      "INFO:root:Relative l2 distance train: 0.010313462645565362\n",
      "INFO:root:Relative l2 distance validation: 0.015755098270576844\n",
      "INFO:root:Training time: 0.6994318962097168\n",
      "INFO:root:Cumulative training time: 7.083094596862793\n",
      "INFO:root:Cumulative number of evaluations: 14914\n",
      "INFO:root:Model parameters: {'degree_input_polynomials': 1, 'degree_output_polynomials': 2, 'functions': ['function_0'], 'function_names': ['function_0'], 'width': 1, 'degree_input_denominator': 1, 'degree_output_denominator': 0, 'degree_output_polynomials_specific': [1], 'degree_output_polynomials_denominator_specific': [1], 'enforce_function': False, 'maximal_potence': 3}\n",
      "INFO:root:Number parameters: 9\n",
      "INFO:root:Number parameters active: 9\n"
     ]
    },
    {
     "name": "stdout",
     "output_type": "stream",
     "text": [
      "Training time: 0.6994318962097168\n",
      "Target expression: None\n",
      "Relative l_2-distance train: 0.010313462645565362\n",
      "Relative l_2-distance validation: 0.015755098270576844\n",
      "##### Training #####\n",
      "Number parameters: 9\n",
      "Number parameters active: 9\n"
     ]
    },
    {
     "name": "stderr",
     "output_type": "stream",
     "text": [
      "INFO:root:Number of evaluations: 2247\n",
      "INFO:root:Relative l2 distance train: 0.00598886665389883\n",
      "INFO:root:Relative l2 distance validation: 0.012637923187867557\n",
      "INFO:root:Training time: 1.325866460800171\n",
      "INFO:root:Cumulative training time: 8.410379886627197\n",
      "INFO:root:Cumulative number of evaluations: 17161\n",
      "INFO:root:Model parameters: {'degree_input_polynomials': 2, 'degree_output_polynomials': 2, 'functions': ['function_0'], 'function_names': ['function_0'], 'width': 1, 'degree_input_denominator': 1, 'degree_output_denominator': 0, 'degree_output_polynomials_specific': [1], 'degree_output_polynomials_denominator_specific': [1], 'enforce_function': False, 'maximal_potence': 3}\n",
      "INFO:root:Number parameters: 10\n",
      "INFO:root:Number parameters active: 10\n"
     ]
    },
    {
     "name": "stdout",
     "output_type": "stream",
     "text": [
      "Training time: 1.325866460800171\n",
      "Target expression: None\n",
      "Relative l_2-distance train: 0.00598886665389883\n",
      "Relative l_2-distance validation: 0.012637923187867557\n",
      "##### Training #####\n",
      "Number parameters: 10\n",
      "Number parameters active: 10\n"
     ]
    },
    {
     "name": "stderr",
     "output_type": "stream",
     "text": [
      "INFO:root:Number of evaluations: 2086\n",
      "INFO:root:Relative l2 distance train: 0.0028444094753408006\n",
      "INFO:root:Relative l2 distance validation: 0.00671922480280671\n",
      "INFO:root:Training time: 1.1722805500030518\n",
      "INFO:root:Cumulative training time: 9.584168195724487\n",
      "INFO:root:Cumulative number of evaluations: 19247\n",
      "INFO:root:Model parameters: {'degree_input_polynomials': 1, 'degree_output_polynomials': 1, 'functions': ['function_0'], 'function_names': ['function_0'], 'width': 1, 'degree_input_denominator': 0, 'degree_output_denominator': 1, 'degree_output_polynomials_specific': [1], 'degree_output_polynomials_denominator_specific': [1], 'enforce_function': False, 'maximal_potence': 3}\n",
      "INFO:root:Number parameters: 8\n",
      "INFO:root:Number parameters active: 8\n"
     ]
    },
    {
     "name": "stdout",
     "output_type": "stream",
     "text": [
      "Training time: 1.1722805500030518\n",
      "Target expression: None\n",
      "Relative l_2-distance train: 0.0028444094753408006\n",
      "Relative l_2-distance validation: 0.00671922480280671\n",
      "##### Training #####\n",
      "Number parameters: 8\n",
      "Number parameters active: 8\n"
     ]
    },
    {
     "name": "stderr",
     "output_type": "stream",
     "text": [
      "INFO:root:Number of evaluations: 1519\n",
      "INFO:root:Relative l2 distance train: 0.010496972049698218\n",
      "INFO:root:Relative l2 distance validation: 0.017145748203956302\n",
      "INFO:root:Training time: 0.8330473899841309\n",
      "INFO:root:Cumulative training time: 10.418621063232422\n",
      "INFO:root:Cumulative number of evaluations: 20766\n",
      "INFO:root:Model parameters: {'degree_input_polynomials': 2, 'degree_output_polynomials': 1, 'functions': ['function_0'], 'function_names': ['function_0'], 'width': 1, 'degree_input_denominator': 0, 'degree_output_denominator': 1, 'degree_output_polynomials_specific': [1], 'degree_output_polynomials_denominator_specific': [1], 'enforce_function': False, 'maximal_potence': 3}\n",
      "INFO:root:Number parameters: 9\n",
      "INFO:root:Number parameters active: 9\n"
     ]
    },
    {
     "name": "stdout",
     "output_type": "stream",
     "text": [
      "Training time: 0.8330473899841309\n",
      "Target expression: None\n",
      "Relative l_2-distance train: 0.010496972049698218\n",
      "Relative l_2-distance validation: 0.017145748203956302\n",
      "##### Training #####\n",
      "Number parameters: 9\n",
      "Number parameters active: 9\n"
     ]
    },
    {
     "name": "stderr",
     "output_type": "stream",
     "text": [
      "INFO:root:Number of evaluations: 1594\n",
      "INFO:root:Relative l2 distance train: 0.03572510836743211\n",
      "INFO:root:Relative l2 distance validation: 0.06570051790119043\n",
      "INFO:root:Training time: 0.9065141677856445\n",
      "INFO:root:Cumulative training time: 11.326723098754883\n",
      "INFO:root:Cumulative number of evaluations: 22360\n",
      "INFO:root:Model parameters: {'degree_input_polynomials': 1, 'degree_output_polynomials': 1, 'functions': ['function_0'], 'function_names': ['function_0'], 'width': 1, 'degree_input_denominator': 1, 'degree_output_denominator': 1, 'degree_output_polynomials_specific': [1], 'degree_output_polynomials_denominator_specific': [1], 'enforce_function': False, 'maximal_potence': 3}\n",
      "INFO:root:Number parameters: 10\n",
      "INFO:root:Number parameters active: 10\n"
     ]
    },
    {
     "name": "stdout",
     "output_type": "stream",
     "text": [
      "Training time: 0.9065141677856445\n",
      "Target expression: None\n",
      "Relative l_2-distance train: 0.03572510836743211\n",
      "Relative l_2-distance validation: 0.06570051790119043\n",
      "##### Training #####\n",
      "Number parameters: 10\n",
      "Number parameters active: 10\n"
     ]
    },
    {
     "name": "stderr",
     "output_type": "stream",
     "text": [
      "INFO:root:Number of evaluations: 1712\n",
      "INFO:root:Relative l2 distance train: 0.004575214032571284\n",
      "INFO:root:Relative l2 distance validation: 0.005327705643165474\n",
      "INFO:root:Training time: 1.1277639865875244\n",
      "INFO:root:Cumulative training time: 12.45599913597107\n",
      "INFO:root:Cumulative number of evaluations: 24072\n",
      "INFO:root:Model parameters: {'degree_input_polynomials': 2, 'degree_output_polynomials': 1, 'functions': ['function_0'], 'function_names': ['function_0'], 'width': 1, 'degree_input_denominator': 1, 'degree_output_denominator': 1, 'degree_output_polynomials_specific': [1], 'degree_output_polynomials_denominator_specific': [1], 'enforce_function': False, 'maximal_potence': 3}\n",
      "INFO:root:Number parameters: 11\n",
      "INFO:root:Number parameters active: 11\n"
     ]
    },
    {
     "name": "stdout",
     "output_type": "stream",
     "text": [
      "Training time: 1.1277639865875244\n",
      "Target expression: None\n",
      "Relative l_2-distance train: 0.004575214032571284\n",
      "Relative l_2-distance validation: 0.005327705643165474\n",
      "##### Training #####\n",
      "Number parameters: 11\n",
      "Number parameters active: 11\n"
     ]
    },
    {
     "name": "stderr",
     "output_type": "stream",
     "text": [
      "INFO:root:Number of evaluations: 2127\n",
      "INFO:root:Relative l2 distance train: 0.08646934509733577\n",
      "INFO:root:Relative l2 distance validation: 0.11671744701327592\n",
      "INFO:root:Training time: 1.3827810287475586\n",
      "INFO:root:Cumulative training time: 13.84031057357788\n",
      "INFO:root:Cumulative number of evaluations: 26199\n",
      "INFO:root:Model parameters: {'degree_input_polynomials': 1, 'degree_output_polynomials': 2, 'functions': ['function_0'], 'function_names': ['function_0'], 'width': 1, 'degree_input_denominator': 0, 'degree_output_denominator': 1, 'degree_output_polynomials_specific': [1], 'degree_output_polynomials_denominator_specific': [1], 'enforce_function': False, 'maximal_potence': 3}\n",
      "INFO:root:Number parameters: 10\n",
      "INFO:root:Number parameters active: 10\n"
     ]
    },
    {
     "name": "stdout",
     "output_type": "stream",
     "text": [
      "Training time: 1.3827810287475586\n",
      "Target expression: None\n",
      "Relative l_2-distance train: 0.08646934509733577\n",
      "Relative l_2-distance validation: 0.11671744701327592\n",
      "##### Training #####\n",
      "Number parameters: 10\n",
      "Number parameters active: 10\n"
     ]
    },
    {
     "name": "stderr",
     "output_type": "stream",
     "text": [
      "INFO:root:Number of evaluations: 1573\n",
      "INFO:root:Relative l2 distance train: 0.00018434128333440106\n",
      "INFO:root:Relative l2 distance validation: 0.0005366669641941659\n",
      "INFO:root:Training time: 1.0028276443481445\n",
      "INFO:root:Cumulative training time: 14.84466028213501\n",
      "INFO:root:Cumulative number of evaluations: 27772\n",
      "INFO:root:New best relative l2 distance validation: 0.0005366669641941659\n",
      "INFO:root:Terminate proccess, wanted accuracy 0.001 and number of active parameters 7 / 10 was reached\n",
      "INFO:root:Time for multiprocessing in total: 14.873297452926636\n",
      "INFO:root:Finetuning with this cut off would not change anything.\n",
      "INFO:root:Finetuning with this cut off would not change anything.\n",
      "INFO:root:Finetuning with this cut off would not change anything.\n",
      "INFO:root:Finetuning with this cut off would not change anything.\n"
     ]
    },
    {
     "name": "stdout",
     "output_type": "stream",
     "text": [
      "Training time: 1.0028276443481445\n",
      "Target expression: None\n",
      "Relative l_2-distance train: 0.00018434128333440106\n",
      "Relative l_2-distance validation: 0.0005366669641941659\n",
      "Terminate proccess, wanted accuracy 0.001 and number of active parameters 7 / 10 was reached\n"
     ]
    },
    {
     "name": "stderr",
     "output_type": "stream",
     "text": [
      "INFO:root:Best distance (train, val, test): (tensor(0.0002, dtype=torch.float64), tensor(0.0005, dtype=torch.float64), tensor(0.0002, dtype=torch.float64))\n",
      "INFO:root:Best formula: (0.021*x0 + 0.071*sin(0.37*x0 + 0.048) - 0.002)/(-0.822*x0 - 0.569*sin(0.37*x0 + 0.048) - 0.013) best training time: 1.0028276443481445\n"
     ]
    }
   ],
   "source": [
    "# The config picks defines all the model and training parameter choices. See config_files/wrapper. 'small' is the default. For bigger experiments, for example those in SRBench, choose 'big'.\n",
    "# Every additional variable overwrites the settings in the config. E.g., we restrict the functions we use to being simply the sin function.\n",
    "parfam = ParFamWrapper(config_name='small', iterate=True, functions=functions, function_names=function_names)\n",
    "parfam.fit(x, y, time_limit=100)  # time_limit is in seconds, might have to be higher for higher dimensions and more complicated parametric families"
   ]
  },
  {
   "cell_type": "code",
   "execution_count": 6,
   "metadata": {},
   "outputs": [
    {
     "name": "stdout",
     "output_type": "stream",
     "text": [
      "Target formula: -0.2*sin(0.230854243040085*x)/x\n",
      "Computed formula: (-0.021*x0 - 0.071*sin(0.37*x0 + 0.048) + 0.002)/(0.822*x0 + 0.569*sin(0.37*x0 + 0.048) + 0.013)\n"
     ]
    }
   ],
   "source": [
    "print(f'Target formula: {target_expr}')\n",
    "print(f'Computed formula: {parfam.formula_reduced.simplify()}')"
   ]
  },
  {
   "cell_type": "code",
   "execution_count": 7,
   "metadata": {},
   "outputs": [
    {
     "data": {
      "image/png": "[encoded data removed]",
      "text/plain": [
       "<Figure size 640x480 with 1 Axes>"
      ]
     },
     "metadata": {},
     "output_type": "display_data"
    },
    {
     "name": "stdout",
     "output_type": "stream",
     "text": [
      "Relative l2 distance: 1.9290007851392774e-05\n"
     ]
    }
   ],
   "source": [
    "y_pred = parfam.predict(x).cpu().detach().numpy()\n",
    "plt.plot(x, y, '+', label='Samples')\n",
    "plt.plot(x, y_pred, label='Prediction')\n",
    "plt.legend()\n",
    "plt.show()\n",
    "\n",
    "print(f'Relative l2 distance: {np.linalg.norm(y - y_pred, ord=2) / np.linalg.norm(y, ord=2)}')\n"
   ]
  },
  {
   "cell_type": "markdown",
   "metadata": {},
   "source": [
    "## 2 dimensional problem"
   ]
  },
  {
   "cell_type": "code",
   "execution_count": 8,
   "metadata": {},
   "outputs": [
    {
     "name": "stdout",
     "output_type": "stream",
     "text": [
      "(100, 2)\n",
      "Target formula: x1*sin(x0)\n"
     ]
    }
   ],
   "source": [
    "a = 2 * torch.randn(1)\n",
    "x = np.sort(np.random.uniform(-1.2, 5, 100))\n",
    "x = np.random.uniform(-3, 3, 200).reshape(100, 2)\n",
    "print(x.shape)\n",
    "x = torch.tensor(x, device=device)\n",
    "\n",
    "def func(a, x, module):\n",
    "    return module.sin(x[0]) * x[1]\n",
    "\n",
    "\n",
    "y = func(a, x.T, np)\n",
    "x_sym = []\n",
    "for i in range(x.shape[1]):\n",
    "    x_sym.append(sympy.symbols(f'x{i}'))\n",
    "target_expr = func(a, x_sym, sympy)\n",
    "print(f'Target formula: {target_expr}')"
   ]
  },
  {
   "cell_type": "code",
   "execution_count": 9,
   "metadata": {},
   "outputs": [],
   "source": [
    "# Assuming we already know that only the sin function is necessary:\n",
    "functions = [torch.sin]\n",
    "function_names = [sympy.sin]"
   ]
  },
  {
   "cell_type": "code",
   "execution_count": 10,
   "metadata": {},
   "outputs": [
    {
     "name": "stderr",
     "output_type": "stream",
     "text": [
      "/home/math/scholl/projects/physicalLawLearning/parfam/train.py:1628: UserWarning: To copy construct from a tensor, it is recommended to use sourceTensor.clone().detach() or sourceTensor.clone().detach().requires_grad_(True), rather than torch.tensor(sourceTensor).\n",
      "  x, y = torch.tensor(x, device=training_parameters['device']), torch.tensor(y, device=training_parameters['device'])\n",
      "INFO:root:Sequential computation\n",
      "INFO:root:Model parameters: {'degree_input_polynomials': 0, 'degree_output_polynomials': 2, 'degree_output_denominator': 0, 'degree_input_denominator': 0, 'function_names': [], 'width': 1, 'functions': [], 'degree_output_polynomials_specific': None, 'degree_output_polynomials_denominator_specific': None, 'enforce_function': False, 'maximal_potence': 3}\n",
      "INFO:root:Number parameters: 6\n",
      "INFO:root:Number parameters active: 6\n",
      "INFO:root:Number of evaluations: 208\n"
     ]
    },
    {
     "name": "stderr",
     "output_type": "stream",
     "text": [
      "INFO:root:Relative l2 distance train: 0.422701900594247\n",
      "INFO:root:Relative l2 distance validation: 0.37604533875606067\n",
      "INFO:root:Training time: 0.1056520938873291\n",
      "INFO:root:Cumulative training time: 0.10705184936523438\n",
      "INFO:root:Cumulative number of evaluations: 208\n",
      "INFO:root:New best relative l2 distance validation: 0.37604533875606067\n",
      "INFO:root:Model parameters: {'degree_input_polynomials': 1, 'degree_output_polynomials': 1, 'functions': ['function_0'], 'function_names': ['function_0'], 'width': 1, 'degree_input_denominator': 0, 'degree_output_denominator': 0, 'degree_output_polynomials_specific': [1], 'degree_output_polynomials_denominator_specific': [1], 'enforce_function': False, 'maximal_potence': 3}\n",
      "INFO:root:Number parameters: 7\n",
      "INFO:root:Number parameters active: 7\n"
     ]
    },
    {
     "name": "stdout",
     "output_type": "stream",
     "text": [
      "Training parameters: {'normalization': False, 'time_limit': 100, 'evaluations_limit': 1000000, 'max_dataset_length': 100, 'model': 'ParFamTorch', 'target_noise': 0.0, 'feature_noise': 0.0, 'seed': 1234, 'accuracy': 0.0001, 'maxiter1': 100, 'maxiter2': 0, 'optimizer': 'basinhopping', 'pruning_iterations': 1, 'pruning_cut_off': 0.01, 'classifier': None, 'local_minimizer': 'BFGS', 'maxiter_per_dim_local_minimizer': 100, 'lambda_1': 0.001, 'repetitions': 1, 'parallel': False, 'n_processes': 4, 'lambda_1_cut': 0, 'lambda_1_piecewise': 0, 'device': 'cpu', 'iterative_finetuning': True, 'max_n_active_parameters': 10, 'lambda_1_finetuning': 1e-05, 'path_pretrained': 'Flexible dimension/full_19_big_training_sets/20240427_070711_5M/Datetime_20240427_070717_Loss_training_set_size_797545_batch_size_341_hidden_dim_256.pt', 'topk_predictions': 10, 'enforce_function_iterate': 'False'}\n",
      "Sequential computation\n",
      "##### Training #####\n",
      "Number parameters: 6\n",
      "Number parameters active: 6\n",
      "Training time: 0.1056520938873291\n",
      "Target expression: None\n",
      "Relative l_2-distance train: 0.422701900594247\n",
      "Relative l_2-distance validation: 0.37604533875606067\n",
      "##### Training #####\n",
      "Number parameters: 7\n",
      "Number parameters active: 7\n"
     ]
    },
    {
     "name": "stderr",
     "output_type": "stream",
     "text": [
      "INFO:root:Number of evaluations: 907\n",
      "INFO:root:Relative l2 distance train: 0.9346492975397658\n",
      "INFO:root:Relative l2 distance validation: 1.012519006973158\n",
      "INFO:root:Training time: 0.3679835796356201\n",
      "INFO:root:Cumulative training time: 0.47701001167297363\n",
      "INFO:root:Cumulative number of evaluations: 1115\n",
      "INFO:root:Model parameters: {'degree_input_polynomials': 2, 'degree_output_polynomials': 1, 'functions': ['function_0'], 'function_names': ['function_0'], 'width': 1, 'degree_input_denominator': 0, 'degree_output_denominator': 0, 'degree_output_polynomials_specific': [1], 'degree_output_polynomials_denominator_specific': [1], 'enforce_function': False, 'maximal_potence': 3}\n",
      "INFO:root:Number parameters: 10\n",
      "INFO:root:Number parameters active: 10\n"
     ]
    },
    {
     "name": "stdout",
     "output_type": "stream",
     "text": [
      "Training time: 0.3679835796356201\n",
      "Target expression: None\n",
      "Relative l_2-distance train: 0.9346492975397658\n",
      "Relative l_2-distance validation: 1.012519006973158\n",
      "##### Training #####\n",
      "Number parameters: 10\n",
      "Number parameters active: 10\n"
     ]
    },
    {
     "name": "stderr",
     "output_type": "stream",
     "text": [
      "INFO:root:Number of evaluations: 651\n",
      "INFO:root:Relative l2 distance train: 0.6355553307724993\n",
      "INFO:root:Relative l2 distance validation: 0.7428192033424346\n",
      "INFO:root:Training time: 0.2727658748626709\n",
      "INFO:root:Cumulative training time: 0.7514727115631104\n",
      "INFO:root:Cumulative number of evaluations: 1766\n",
      "INFO:root:Model parameters: {'degree_input_polynomials': 1, 'degree_output_polynomials': 2, 'functions': ['function_0'], 'function_names': ['function_0'], 'width': 1, 'degree_input_denominator': 0, 'degree_output_denominator': 0, 'degree_output_polynomials_specific': [1], 'degree_output_polynomials_denominator_specific': [1], 'enforce_function': False, 'maximal_potence': 3}\n",
      "INFO:root:Number parameters: 12\n",
      "INFO:root:Number parameters active: 12\n"
     ]
    },
    {
     "name": "stdout",
     "output_type": "stream",
     "text": [
      "Training time: 0.2727658748626709\n",
      "Target expression: None\n",
      "Relative l_2-distance train: 0.6355553307724993\n",
      "Relative l_2-distance validation: 0.7428192033424346\n",
      "##### Training #####\n",
      "Number parameters: 12\n",
      "Number parameters active: 12\n"
     ]
    },
    {
     "name": "stderr",
     "output_type": "stream",
     "text": [
      "INFO:root:Number of evaluations: 805\n",
      "INFO:root:Relative l2 distance train: 0.17093963536849657\n",
      "INFO:root:Relative l2 distance validation: 0.14254720858902167\n",
      "INFO:root:Training time: 0.48703718185424805\n",
      "INFO:root:Cumulative training time: 1.2404589653015137\n",
      "INFO:root:Cumulative number of evaluations: 2571\n",
      "INFO:root:New best relative l2 distance validation: 0.14254720858902167\n",
      "INFO:root:Model parameters: {'degree_input_polynomials': 2, 'degree_output_polynomials': 2, 'functions': ['function_0'], 'function_names': ['function_0'], 'width': 1, 'degree_input_denominator': 0, 'degree_output_denominator': 0, 'degree_output_polynomials_specific': [1], 'degree_output_polynomials_denominator_specific': [1], 'enforce_function': False, 'maximal_potence': 3}\n",
      "INFO:root:Number parameters: 15\n",
      "INFO:root:Number parameters active: 15\n"
     ]
    },
    {
     "name": "stdout",
     "output_type": "stream",
     "text": [
      "Training time: 0.48703718185424805\n",
      "Target expression: None\n",
      "Relative l_2-distance train: 0.17093963536849657\n",
      "Relative l_2-distance validation: 0.14254720858902167\n",
      "##### Training #####\n",
      "Number parameters: 15\n",
      "Number parameters active: 15\n"
     ]
    },
    {
     "name": "stderr",
     "output_type": "stream",
     "text": [
      "INFO:root:Number of evaluations: 1031\n",
      "INFO:root:Relative l2 distance train: 0.3027252602221857\n",
      "INFO:root:Relative l2 distance validation: 0.48124265830564816\n",
      "INFO:root:Training time: 0.6442463397979736\n",
      "INFO:root:Cumulative training time: 1.887798547744751\n",
      "INFO:root:Cumulative number of evaluations: 3602\n",
      "INFO:root:Time for multiprocessing in total: 1.9027276039123535\n",
      "INFO:root:Finetuning with this cut off would not change anything.\n",
      "INFO:root:Finetuning with this cut off would not change anything.\n",
      "INFO:root:Finetuning with this cut off would not change anything.\n",
      "INFO:root:Finetuning with this cut off would not change anything.\n",
      "INFO:root:Finetuning with this cut off would not change anything.\n",
      "INFO:root:Finetuning with this cut off would not change anything.\n",
      "INFO:root:Best distance (train, val, test): (tensor(0.1709, dtype=torch.float64), tensor(0.1425, dtype=torch.float64), tensor(0.6131, dtype=torch.float64))\n",
      "INFO:root:Best formula: -0.323*x0**2 + 0.518*x0*x1 + 0.967*x0*sin(0.761*x0 + 0.566*x1 + 0.05) - 0.005*x0 + 0.139*x1**2 - 0.26*x1*sin(0.761*x0 + 0.566*x1 + 0.05) + 0.052*x1 - 0.041*sin(0.761*x0 + 0.566*x1 + 0.05) - 0.178 best training time: 0.48703718185424805\n"
     ]
    },
    {
     "name": "stdout",
     "output_type": "stream",
     "text": [
      "Training time: 0.6442463397979736\n",
      "Target expression: None\n",
      "Relative l_2-distance train: 0.3027252602221857\n",
      "Relative l_2-distance validation: 0.48124265830564816\n"
     ]
    }
   ],
   "source": [
    "parfam = ParFamWrapper(iterate=True, functions=functions, function_names=function_names, degree_input_denominator=0, degree_output_denominator=0)\n",
    "parfam.fit(x, y, time_limit=100)"
   ]
  },
  {
   "cell_type": "code",
   "execution_count": 11,
   "metadata": {},
   "outputs": [
    {
     "name": "stdout",
     "output_type": "stream",
     "text": [
      "Target formula: x1*sin(x0)\n"
     ]
    },
    {
     "name": "stdout",
     "output_type": "stream",
     "text": [
      "Computed formula: -0.323*x0**2 + 0.518*x0*x1 + 0.967*x0*sin(0.761*x0 + 0.566*x1 + 0.05) - 0.005*x0 + 0.139*x1**2 - 0.26*x1*sin(0.761*x0 + 0.566*x1 + 0.05) + 0.052*x1 - 0.041*sin(0.761*x0 + 0.566*x1 + 0.05) - 0.178\n"
     ]
    }
   ],
   "source": [
    "print(f'Target formula: {target_expr}')\n",
    "print(f'Computed formula: {parfam.formula_reduced.simplify()}')\n"
   ]
  },
  {
   "cell_type": "code",
   "execution_count": 12,
   "metadata": {},
   "outputs": [
    {
     "name": "stdout",
     "output_type": "stream",
     "text": [
      "Relative l2 distance: 0.31403189622411776\n"
     ]
    }
   ],
   "source": [
    "y_pred = parfam.predict(x).cpu().detach().numpy()\n",
    "print(f'Relative l2 distance: {np.linalg.norm(y - y_pred, ord=2) / np.linalg.norm(y, ord=2)}')"
   ]
  },
  {
   "cell_type": "markdown",
   "metadata": {},
   "source": [
    "# More complicated functions"
   ]
  },
  {
   "cell_type": "markdown",
   "metadata": {},
   "source": [
    "Test now the feynman formula III 10 19:\n",
    "$$mom\\sqrt{x^2+y^2+z^2}$$"
   ]
  },
  {
   "cell_type": "code",
   "execution_count": 13,
   "metadata": {},
   "outputs": [
    {
     "name": "stdout",
     "output_type": "stream",
     "text": [
      "(500, 4)\n",
      "Target formula: mom*(x**2 + y**2 + z**2)**0.5\n"
     ]
    }
   ],
   "source": [
    "n_datapoints = 500\n",
    "dim = 4\n",
    "x = np.random.uniform(1, dim, n_datapoints * dim).reshape(n_datapoints, dim)\n",
    "print(x.shape)\n",
    "x = torch.tensor(x, device=device)\n",
    "\n",
    "def func(x, module):\n",
    "    # return x[0] * (x[1]*(x[2]**2 + x[3]**2 + x[4]**2))**(1/2)\n",
    "    return x[0] * ((x[2]**2 + x[3]**2 + x[1]**2))**(1/2)\n",
    "\n",
    "\n",
    "y = func(x.T, np)\n",
    "# x_sym = [sympy.symbols(symbol) for symbol in ['mom', 'B', 'x', 'y', 'z']]\n",
    "x_sym = [sympy.symbols(symbol) for symbol in ['mom', 'x', 'y', 'z']]\n",
    "# for i in range(x.shape[1]):\n",
    "#     x_sym.append(sympy.symbols(f'x{i}'))\n",
    "target_expr = func(x_sym, sympy)\n",
    "print(f'Target formula: {target_expr}')"
   ]
  },
  {
   "cell_type": "code",
   "execution_count": 14,
   "metadata": {},
   "outputs": [],
   "source": [
    "# Assuming we already know that only the sqrt function is necessary.\n",
    "# If we do not assume this knowledge, we could also just use the variable standard_functions and standard_function_names instead, it just takes more time.\n",
    "# Do not define the sqrt here yourself by just defining it as torch.sqrt, since it is not defined on all reals, which is a problem for the optimizer. Thus, see how it was defined in the function_dict.  \n",
    "functions = [function_dict['sqrt']]\n",
    "function_names = [function_name_dict['sqrt']]"
   ]
  },
  {
   "cell_type": "code",
   "execution_count": 15,
   "metadata": {},
   "outputs": [
    {
     "name": "stderr",
     "output_type": "stream",
     "text": [
      "/home/math/scholl/projects/physicalLawLearning/parfam/train.py:1628: UserWarning: To copy construct from a tensor, it is recommended to use sourceTensor.clone().detach() or sourceTensor.clone().detach().requires_grad_(True), rather than torch.tensor(sourceTensor).\n",
      "  x, y = torch.tensor(x, device=training_parameters['device']), torch.tensor(y, device=training_parameters['device'])\n",
      "INFO:root:Sequential computation\n",
      "INFO:root:Model parameters: {'degree_input_polynomials': 0, 'degree_output_polynomials': 3, 'degree_output_denominator': 0, 'degree_input_denominator': 0, 'function_names': [], 'width': 1, 'functions': [], 'degree_output_polynomials_specific': None, 'degree_output_polynomials_denominator_specific': None, 'enforce_function': False, 'maximal_potence': 3}\n",
      "INFO:root:Number parameters: 35\n",
      "INFO:root:Number parameters active: 35\n"
     ]
    },
    {
     "name": "stdout",
     "output_type": "stream",
     "text": [
      "Training parameters: {'normalization': False, 'time_limit': 100, 'evaluations_limit': 1000000, 'max_dataset_length': 500, 'model': 'ParFamTorch', 'target_noise': 0.0, 'feature_noise': 0.0, 'seed': 1234, 'accuracy': 0.0001, 'maxiter1': 100, 'maxiter2': 0, 'optimizer': 'basinhopping', 'pruning_iterations': 1, 'pruning_cut_off': 0.01, 'classifier': None, 'local_minimizer': 'BFGS', 'maxiter_per_dim_local_minimizer': 100, 'lambda_1': 0.001, 'repetitions': 1, 'parallel': False, 'n_processes': 4, 'lambda_1_cut': 0, 'lambda_1_piecewise': 0, 'device': 'cpu', 'iterative_finetuning': True, 'max_n_active_parameters': 10, 'lambda_1_finetuning': 1e-05, 'path_pretrained': 'Flexible dimension/full_19_big_training_sets/20240427_070711_5M/Datetime_20240427_070717_Loss_training_set_size_797545_batch_size_341_hidden_dim_256.pt', 'topk_predictions': 10, 'enforce_function_iterate': 'False'}\n",
      "Sequential computation\n",
      "##### Training #####\n",
      "Number parameters: 35\n",
      "Number parameters active: 35\n"
     ]
    },
    {
     "name": "stderr",
     "output_type": "stream",
     "text": [
      "INFO:root:Number of evaluations: 2110\n",
      "INFO:root:Relative l2 distance train: 0.004852963370269322\n",
      "INFO:root:Relative l2 distance validation: 0.006087892812096801\n",
      "INFO:root:Training time: 1.0209622383117676\n",
      "INFO:root:Cumulative training time: 1.0246734619140625\n",
      "INFO:root:Cumulative number of evaluations: 2110\n",
      "INFO:root:New best relative l2 distance validation: 0.006087892812096801\n",
      "INFO:root:Model parameters: {'degree_input_polynomials': 1, 'degree_output_polynomials': 1, 'functions': ['function_0'], 'function_names': ['function_0'], 'width': 1, 'degree_input_denominator': 0, 'degree_output_denominator': 0, 'degree_output_polynomials_specific': [1], 'degree_output_polynomials_denominator_specific': [1], 'enforce_function': False, 'maximal_potence': 3}\n",
      "INFO:root:Number parameters: 11\n",
      "INFO:root:Number parameters active: 11\n"
     ]
    },
    {
     "name": "stdout",
     "output_type": "stream",
     "text": [
      "Training time: 1.0209622383117676\n",
      "Target expression: None\n",
      "Relative l_2-distance train: 0.004852963370269322\n",
      "Relative l_2-distance validation: 0.006087892812096801\n",
      "##### Training #####\n",
      "Number parameters: 11\n",
      "Number parameters active: 11\n"
     ]
    },
    {
     "name": "stderr",
     "output_type": "stream",
     "text": [
      "INFO:root:Number of evaluations: 1200\n",
      "INFO:root:Relative l2 distance train: 0.13312445273737974\n",
      "INFO:root:Relative l2 distance validation: 0.10351078922403623\n",
      "INFO:root:Training time: 0.6440615653991699\n",
      "INFO:root:Cumulative training time: 1.6709041595458984\n",
      "INFO:root:Cumulative number of evaluations: 3310\n",
      "INFO:root:Model parameters: {'degree_input_polynomials': 2, 'degree_output_polynomials': 1, 'functions': ['function_0'], 'function_names': ['function_0'], 'width': 1, 'degree_input_denominator': 0, 'degree_output_denominator': 0, 'degree_output_polynomials_specific': [1], 'degree_output_polynomials_denominator_specific': [1], 'enforce_function': False, 'maximal_potence': 3}\n",
      "INFO:root:Number parameters: 21\n",
      "INFO:root:Number parameters active: 21\n"
     ]
    },
    {
     "name": "stdout",
     "output_type": "stream",
     "text": [
      "Training time: 0.6440615653991699\n",
      "Target expression: None\n",
      "Relative l_2-distance train: 0.13312445273737974\n",
      "Relative l_2-distance validation: 0.10351078922403623\n",
      "##### Training #####\n",
      "Number parameters: 21\n",
      "Number parameters active: 21\n"
     ]
    },
    {
     "name": "stderr",
     "output_type": "stream",
     "text": [
      "INFO:root:Number of evaluations: 2061\n",
      "INFO:root:Relative l2 distance train: 0.09910290090575284\n",
      "INFO:root:Relative l2 distance validation: 0.10834654290855726\n",
      "INFO:root:Training time: 1.0401601791381836\n",
      "INFO:root:Cumulative training time: 2.7143964767456055\n",
      "INFO:root:Cumulative number of evaluations: 5371\n",
      "INFO:root:Model parameters: {'degree_input_polynomials': 1, 'degree_output_polynomials': 2, 'functions': ['function_0'], 'function_names': ['function_0'], 'width': 1, 'degree_input_denominator': 0, 'degree_output_denominator': 0, 'degree_output_polynomials_specific': [1], 'degree_output_polynomials_denominator_specific': [1], 'enforce_function': False, 'maximal_potence': 3}\n",
      "INFO:root:Number parameters: 25\n",
      "INFO:root:Number parameters active: 25\n"
     ]
    },
    {
     "name": "stdout",
     "output_type": "stream",
     "text": [
      "Training time: 1.0401601791381836\n",
      "Target expression: None\n",
      "Relative l_2-distance train: 0.09910290090575284\n",
      "Relative l_2-distance validation: 0.10834654290855726\n",
      "##### Training #####\n",
      "Number parameters: 25\n",
      "Number parameters active: 25\n"
     ]
    },
    {
     "name": "stderr",
     "output_type": "stream",
     "text": [
      "INFO:root:Number of evaluations: 1867\n",
      "INFO:root:Relative l2 distance train: 0.021225963392843238\n",
      "INFO:root:Relative l2 distance validation: 0.02267919090976496\n",
      "INFO:root:Training time: 1.7087528705596924\n",
      "INFO:root:Cumulative training time: 4.425605058670044\n",
      "INFO:root:Cumulative number of evaluations: 7238\n",
      "INFO:root:Model parameters: {'degree_input_polynomials': 2, 'degree_output_polynomials': 2, 'functions': ['function_0'], 'function_names': ['function_0'], 'width': 1, 'degree_input_denominator': 0, 'degree_output_denominator': 0, 'degree_output_polynomials_specific': [1], 'degree_output_polynomials_denominator_specific': [1], 'enforce_function': False, 'maximal_potence': 3}\n",
      "INFO:root:Number parameters: 35\n",
      "INFO:root:Number parameters active: 35\n"
     ]
    },
    {
     "name": "stdout",
     "output_type": "stream",
     "text": [
      "Training time: 1.7087528705596924\n",
      "Target expression: None\n",
      "Relative l_2-distance train: 0.021225963392843238\n",
      "Relative l_2-distance validation: 0.02267919090976496\n",
      "##### Training #####\n",
      "Number parameters: 35\n",
      "Number parameters active: 35\n"
     ]
    },
    {
     "name": "stderr",
     "output_type": "stream",
     "text": [
      "INFO:root:Number of evaluations: 3841\n",
      "INFO:root:Relative l2 distance train: 1.2871244444645057e-07\n",
      "INFO:root:Relative l2 distance validation: 1.4906590102158942e-07\n",
      "INFO:root:Training time: 3.53725528717041\n",
      "INFO:root:Cumulative training time: 7.9655115604400635\n",
      "INFO:root:Cumulative number of evaluations: 11079\n",
      "INFO:root:New best relative l2 distance validation: 1.4906590102158942e-07\n",
      "INFO:root:Terminate proccess, wanted accuracy 0.001 and number of active parameters 4 / 10 was reached\n",
      "INFO:root:Time for multiprocessing in total: 7.977764844894409\n",
      "INFO:root:Finetuning with this cut off would not change anything.\n",
      "INFO:root:Finetuning with this cut off would not change anything.\n",
      "INFO:root:Finetuning with this cut off would not change anything.\n",
      "INFO:root:Finetuning with this cut off would not change anything.\n",
      "INFO:root:Finetuning with this cut off would not change anything.\n",
      "INFO:root:Finetuning with this cut off would not change anything.\n",
      "INFO:root:Finetuning with this cut off would not change anything.\n",
      "INFO:root:Best distance (train, val, test): (tensor(1.2871e-07, dtype=torch.float64), tensor(1.4907e-07, dtype=torch.float64), tensor(1.4346e-07, dtype=torch.float64))\n",
      "INFO:root:Best formula: 0.999*x0*sqrt(Abs(1.003*x1**2 + 1.003*x2**2 + 1.003*x3**2)) best training time: 3.53725528717041\n"
     ]
    },
    {
     "name": "stdout",
     "output_type": "stream",
     "text": [
      "Training time: 3.53725528717041\n",
      "Target expression: None\n",
      "Relative l_2-distance train: 1.2871244444645057e-07\n",
      "Relative l_2-distance validation: 1.4906590102158942e-07\n",
      "Terminate proccess, wanted accuracy 0.001 and number of active parameters 4 / 10 was reached\n"
     ]
    }
   ],
   "source": [
    "# ParFamWrapper with its most important input parameters\n",
    "parfam = ParFamWrapper(iterate=True, # iterate through multiple different parametric families (costs more time, but is the better choice when one is not sure about the degrees and the functions of the target formula)\n",
    "                       functions=functions, function_names=function_names, # which functions to use \n",
    "                       degree_input_numerator=2, degree_output_numerator=3, degree_input_denominator=0, degree_output_denominator=0,  # the maximal degrees of the polynomials in the parametric family\n",
    "                       input_names=x_sym,  # the names of the input variables\n",
    "                       enforce_function=False,  # has only an effect, if iterate=False\n",
    "                       device='cpu', \n",
    "                       separate_test_set=True  # ParFam uses a smaller set for training, to use a part of it as a test set afterwards\n",
    "                       )\n",
    "parfam.fit(x, y, time_limit=100, seed=1234)  # If we cannot assume that degree_input_denominator=0 and degree_output_denominator=0 holds, we would have to increase the time limit"
   ]
  },
  {
   "cell_type": "code",
   "execution_count": 16,
   "metadata": {},
   "outputs": [
    {
     "name": "stdout",
     "output_type": "stream",
     "text": [
      "Target formula: mom*(x**2 + y**2 + z**2)**0.5\n",
      "Computed formula: 1.00049737780766*x0*sqrt(Abs(x1**2 + x2**2 + x3**2))\n"
     ]
    }
   ],
   "source": [
    "print(f'Target formula: {target_expr}')\n",
    "print(f'Computed formula: {parfam.formula_reduced.simplify()}')"
   ]
  },
  {
   "cell_type": "code",
   "execution_count": 17,
   "metadata": {},
   "outputs": [
    {
     "name": "stdout",
     "output_type": "stream",
     "text": [
      "Relative l2 distance: 3.650236287367951e-08\n"
     ]
    }
   ],
   "source": [
    "y_pred = parfam.predict(x).cpu().detach().numpy()\n",
    "print(f'Relative l2 distance: {np.linalg.norm(y - y_pred, ord=2) / np.linalg.norm(y, ord=2)}')"
   ]
  },
  {
   "cell_type": "code",
   "execution_count": 18,
   "metadata": {},
   "outputs": [
    {
     "name": "stderr",
     "output_type": "stream",
     "text": [
      "/home/math/scholl/projects/physicalLawLearning/parfam/train.py:1628: UserWarning: To copy construct from a tensor, it is recommended to use sourceTensor.clone().detach() or sourceTensor.clone().detach().requires_grad_(True), rather than torch.tensor(sourceTensor).\n",
      "  x, y = torch.tensor(x, device=training_parameters['device']), torch.tensor(y, device=training_parameters['device'])\n",
      "INFO:root:Sequential computation\n",
      "INFO:root:Model parameters: {'degree_input_polynomials': 0, 'degree_output_polynomials': 4, 'degree_output_denominator': 0, 'degree_input_denominator': 0, 'function_names': [], 'width': 1, 'functions': [], 'degree_output_polynomials_specific': None, 'degree_output_polynomials_denominator_specific': None, 'enforce_function': False, 'maximal_potence': 3}\n",
      "INFO:root:Number parameters: 66\n",
      "INFO:root:Number parameters active: 66\n"
     ]
    },
    {
     "name": "stdout",
     "output_type": "stream",
     "text": [
      "Training parameters: {'normalization': False, 'time_limit': 500, 'evaluations_limit': 1000000, 'max_dataset_length': 500, 'model': 'ParFamTorch', 'target_noise': 0.0, 'feature_noise': 0.0, 'seed': 1234, 'accuracy': 0.0001, 'maxiter1': 100, 'maxiter2': 0, 'optimizer': 'basinhopping', 'pruning_iterations': 1, 'pruning_cut_off': 0.01, 'classifier': None, 'local_minimizer': 'BFGS', 'maxiter_per_dim_local_minimizer': 100, 'lambda_1': 0.001, 'repetitions': 1, 'parallel': False, 'n_processes': 4, 'lambda_1_cut': 0, 'lambda_1_piecewise': 0.0, 'device': 'cpu', 'iterative_finetuning': True, 'max_n_active_parameters': 10, 'lambda_1_finetuning': 1e-05, 'path_pretrained': 'Flexible dimension/full_19_big_training_sets/20240427_070711_5M/Datetime_20240427_070717_Loss_training_set_size_797545_batch_size_341_hidden_dim_256.pt', 'topk_predictions': 3, 'enforce_function_iterate': 'Both'}\n",
      "Sequential computation\n",
      "##### Training #####\n",
      "Number parameters: 66\n",
      "Number parameters active: 66\n"
     ]
    },
    {
     "name": "stderr",
     "output_type": "stream",
     "text": [
      "INFO:root:Number of evaluations: 3534\n",
      "INFO:root:Relative l2 distance train: 0.002649219332609953\n",
      "INFO:root:Relative l2 distance validation: 0.0029717487501623578\n",
      "INFO:root:Training time: 5.353136301040649\n",
      "INFO:root:Cumulative training time: 5.358363151550293\n",
      "INFO:root:Cumulative number of evaluations: 3534\n",
      "INFO:root:New best relative l2 distance validation: 0.0029717487501623578\n",
      "INFO:root:Model parameters: {'degree_input_polynomials': 0, 'degree_output_polynomials': 1, 'degree_output_denominator': 1, 'degree_input_denominator': 0, 'functions': [], 'function_names': [], 'width': 1, 'degree_output_polynomials_specific': None, 'degree_output_polynomials_denominator_specific': None, 'enforce_function': False, 'maximal_potence': 3}\n",
      "INFO:root:Number parameters: 10\n",
      "INFO:root:Number parameters active: 10\n"
     ]
    },
    {
     "name": "stdout",
     "output_type": "stream",
     "text": [
      "Training time: 5.353136301040649\n",
      "Target expression: None\n",
      "Relative l_2-distance train: 0.002649219332609953\n",
      "Relative l_2-distance validation: 0.0029717487501623578\n",
      "##### Training #####\n",
      "Number parameters: 10\n",
      "Number parameters active: 10\n"
     ]
    },
    {
     "name": "stderr",
     "output_type": "stream",
     "text": [
      "INFO:root:Number of evaluations: 4480\n",
      "INFO:root:Relative l2 distance train: 0.13909446416690732\n",
      "INFO:root:Relative l2 distance validation: 0.12273609961672621\n",
      "INFO:root:Training time: 1.8341166973114014\n",
      "INFO:root:Cumulative training time: 7.1944286823272705\n",
      "INFO:root:Cumulative number of evaluations: 8014\n",
      "INFO:root:Model parameters: {'degree_input_polynomials': 0, 'degree_output_polynomials': 2, 'degree_output_denominator': 1, 'degree_input_denominator': 0, 'functions': [], 'function_names': [], 'width': 1, 'degree_output_polynomials_specific': None, 'degree_output_polynomials_denominator_specific': None, 'enforce_function': False, 'maximal_potence': 3}\n",
      "INFO:root:Number parameters: 20\n",
      "INFO:root:Number parameters active: 20\n"
     ]
    },
    {
     "name": "stdout",
     "output_type": "stream",
     "text": [
      "Training time: 1.8341166973114014\n",
      "Target expression: None\n",
      "Relative l_2-distance train: 0.13909446416690732\n",
      "Relative l_2-distance validation: 0.12273609961672621\n",
      "##### Training #####\n",
      "Number parameters: 20\n",
      "Number parameters active: 20\n"
     ]
    },
    {
     "name": "stderr",
     "output_type": "stream",
     "text": [
      "INFO:root:Number of evaluations: 2872\n",
      "INFO:root:Relative l2 distance train: 0.022271135240979786\n",
      "INFO:root:Relative l2 distance validation: 0.02310070459007912\n",
      "INFO:root:Training time: 1.1935479640960693\n",
      "INFO:root:Cumulative training time: 8.390474319458008\n",
      "INFO:root:Cumulative number of evaluations: 10886\n",
      "INFO:root:Model parameters: {'degree_input_polynomials': 0, 'degree_output_polynomials': 3, 'degree_output_denominator': 1, 'degree_input_denominator': 0, 'functions': [], 'function_names': [], 'width': 1, 'degree_output_polynomials_specific': None, 'degree_output_polynomials_denominator_specific': None, 'enforce_function': False, 'maximal_potence': 3}\n",
      "INFO:root:Number parameters: 40\n",
      "INFO:root:Number parameters active: 40\n"
     ]
    },
    {
     "name": "stdout",
     "output_type": "stream",
     "text": [
      "Training time: 1.1935479640960693\n",
      "Target expression: None\n",
      "Relative l_2-distance train: 0.022271135240979786\n",
      "Relative l_2-distance validation: 0.02310070459007912\n",
      "##### Training #####\n",
      "Number parameters: 40\n",
      "Number parameters active: 40\n"
     ]
    },
    {
     "name": "stderr",
     "output_type": "stream",
     "text": [
      "INFO:root:Number of evaluations: 3932\n",
      "INFO:root:Relative l2 distance train: 0.00937179149041912\n",
      "INFO:root:Relative l2 distance validation: 0.01089829477176194\n",
      "INFO:root:Training time: 2.6037349700927734\n",
      "INFO:root:Cumulative training time: 10.998070478439331\n",
      "INFO:root:Cumulative number of evaluations: 14818\n",
      "INFO:root:Model parameters: {'degree_input_polynomials': 0, 'degree_output_polynomials': 4, 'degree_output_denominator': 1, 'degree_input_denominator': 0, 'functions': [], 'function_names': [], 'width': 1, 'degree_output_polynomials_specific': None, 'degree_output_polynomials_denominator_specific': None, 'enforce_function': False, 'maximal_potence': 3}\n",
      "INFO:root:Number parameters: 71\n",
      "INFO:root:Number parameters active: 71\n"
     ]
    },
    {
     "name": "stdout",
     "output_type": "stream",
     "text": [
      "Training time: 2.6037349700927734\n",
      "Target expression: None\n",
      "Relative l_2-distance train: 0.00937179149041912\n",
      "Relative l_2-distance validation: 0.01089829477176194\n",
      "##### Training #####\n",
      "Number parameters: 71\n",
      "Number parameters active: 71\n"
     ]
    },
    {
     "name": "stderr",
     "output_type": "stream",
     "text": [
      "INFO:root:Number of evaluations: 4159\n",
      "INFO:root:Relative l2 distance train: 0.0014949643709420378\n",
      "INFO:root:Relative l2 distance validation: 0.002821844529561299\n",
      "INFO:root:Training time: 6.258610963821411\n",
      "INFO:root:Cumulative training time: 17.263200998306274\n",
      "INFO:root:Cumulative number of evaluations: 18977\n",
      "INFO:root:New best relative l2 distance validation: 0.002821844529561299\n",
      "INFO:root:Model parameters: {'degree_input_polynomials': 0, 'degree_output_polynomials': 1, 'degree_output_denominator': 2, 'degree_input_denominator': 0, 'functions': [], 'function_names': [], 'width': 1, 'degree_output_polynomials_specific': None, 'degree_output_polynomials_denominator_specific': None, 'enforce_function': False, 'maximal_potence': 3}\n",
      "INFO:root:Number parameters: 20\n",
      "INFO:root:Number parameters active: 20\n"
     ]
    },
    {
     "name": "stdout",
     "output_type": "stream",
     "text": [
      "Training time: 6.258610963821411\n",
      "Target expression: None\n",
      "Relative l_2-distance train: 0.0014949643709420378\n",
      "Relative l_2-distance validation: 0.002821844529561299\n",
      "##### Training #####\n",
      "Number parameters: 20\n",
      "Number parameters active: 20\n"
     ]
    },
    {
     "name": "stderr",
     "output_type": "stream",
     "text": [
      "INFO:root:Number of evaluations: 4531\n",
      "INFO:root:Relative l2 distance train: 0.055571229157699915\n",
      "INFO:root:Relative l2 distance validation: 0.052855604558449246\n",
      "INFO:root:Training time: 1.9895966053009033\n",
      "INFO:root:Cumulative training time: 19.255276203155518\n",
      "INFO:root:Cumulative number of evaluations: 23508\n",
      "INFO:root:Model parameters: {'degree_input_polynomials': 0, 'degree_output_polynomials': 2, 'degree_output_denominator': 2, 'degree_input_denominator': 0, 'functions': [], 'function_names': [], 'width': 1, 'degree_output_polynomials_specific': None, 'degree_output_polynomials_denominator_specific': None, 'enforce_function': False, 'maximal_potence': 3}\n",
      "INFO:root:Number parameters: 30\n",
      "INFO:root:Number parameters active: 30\n"
     ]
    },
    {
     "name": "stdout",
     "output_type": "stream",
     "text": [
      "Training time: 1.9895966053009033\n",
      "Target expression: None\n",
      "Relative l_2-distance train: 0.055571229157699915\n",
      "Relative l_2-distance validation: 0.052855604558449246\n",
      "##### Training #####\n",
      "Number parameters: 30\n",
      "Number parameters active: 30\n"
     ]
    },
    {
     "name": "stderr",
     "output_type": "stream",
     "text": [
      "INFO:root:Number of evaluations: 3998\n",
      "INFO:root:Relative l2 distance train: 0.016964628312630015\n",
      "INFO:root:Relative l2 distance validation: 0.01795901247099571\n",
      "INFO:root:Training time: 1.9093449115753174\n",
      "INFO:root:Cumulative training time: 21.16730499267578\n",
      "INFO:root:Cumulative number of evaluations: 27506\n",
      "INFO:root:Model parameters: {'degree_input_polynomials': 0, 'degree_output_polynomials': 3, 'degree_output_denominator': 2, 'degree_input_denominator': 0, 'functions': [], 'function_names': [], 'width': 1, 'degree_output_polynomials_specific': None, 'degree_output_polynomials_denominator_specific': None, 'enforce_function': False, 'maximal_potence': 3}\n",
      "INFO:root:Number parameters: 50\n",
      "INFO:root:Number parameters active: 50\n"
     ]
    },
    {
     "name": "stdout",
     "output_type": "stream",
     "text": [
      "Training time: 1.9093449115753174\n",
      "Target expression: None\n",
      "Relative l_2-distance train: 0.016964628312630015\n",
      "Relative l_2-distance validation: 0.01795901247099571\n",
      "##### Training #####\n",
      "Number parameters: 50\n",
      "Number parameters active: 50\n"
     ]
    },
    {
     "name": "stderr",
     "output_type": "stream",
     "text": [
      "INFO:root:Number of evaluations: 4426\n",
      "INFO:root:Relative l2 distance train: 0.0030946418680602022\n",
      "INFO:root:Relative l2 distance validation: 0.005039512663853945\n",
      "INFO:root:Training time: 6.680865049362183\n",
      "INFO:root:Cumulative training time: 27.8515887260437\n",
      "INFO:root:Cumulative number of evaluations: 31932\n",
      "INFO:root:Model parameters: {'degree_input_polynomials': 0, 'degree_output_polynomials': 4, 'degree_output_denominator': 2, 'degree_input_denominator': 0, 'functions': [], 'function_names': [], 'width': 1, 'degree_output_polynomials_specific': None, 'degree_output_polynomials_denominator_specific': None, 'enforce_function': False, 'maximal_potence': 3}\n",
      "INFO:root:Number parameters: 81\n",
      "INFO:root:Number parameters active: 81\n"
     ]
    },
    {
     "name": "stdout",
     "output_type": "stream",
     "text": [
      "Training time: 6.680865049362183\n",
      "Target expression: None\n",
      "Relative l_2-distance train: 0.0030946418680602022\n",
      "Relative l_2-distance validation: 0.005039512663853945\n",
      "##### Training #####\n",
      "Number parameters: 81\n",
      "Number parameters active: 81\n"
     ]
    },
    {
     "name": "stderr",
     "output_type": "stream",
     "text": [
      "INFO:root:Number of evaluations: 4286\n",
      "INFO:root:Relative l2 distance train: 0.004407325891034844\n",
      "INFO:root:Relative l2 distance validation: 0.01842472666638459\n",
      "INFO:root:Training time: 6.877220869064331\n",
      "INFO:root:Cumulative training time: 34.73428702354431\n",
      "INFO:root:Cumulative number of evaluations: 36218\n",
      "INFO:root:Model parameters: {'degree_input_polynomials': 0, 'degree_output_polynomials': 1, 'degree_output_denominator': 3, 'degree_input_denominator': 0, 'functions': [], 'function_names': [], 'width': 1, 'degree_output_polynomials_specific': None, 'degree_output_polynomials_denominator_specific': None, 'enforce_function': False, 'maximal_potence': 3}\n",
      "INFO:root:Number parameters: 40\n",
      "INFO:root:Number parameters active: 40\n"
     ]
    },
    {
     "name": "stdout",
     "output_type": "stream",
     "text": [
      "Training time: 6.877220869064331\n",
      "Target expression: None\n",
      "Relative l_2-distance train: 0.004407325891034844\n",
      "Relative l_2-distance validation: 0.01842472666638459\n",
      "##### Training #####\n",
      "Number parameters: 40\n",
      "Number parameters active: 40\n"
     ]
    },
    {
     "name": "stderr",
     "output_type": "stream",
     "text": [
      "INFO:root:Number of evaluations: 5255\n",
      "INFO:root:Relative l2 distance train: 0.08231378060510092\n",
      "INFO:root:Relative l2 distance validation: 0.2727775416316353\n",
      "INFO:root:Training time: 4.180423736572266\n",
      "INFO:root:Cumulative training time: 38.918113231658936\n",
      "INFO:root:Cumulative number of evaluations: 41473\n",
      "INFO:root:Model parameters: {'degree_input_polynomials': 0, 'degree_output_polynomials': 2, 'degree_output_denominator': 3, 'degree_input_denominator': 0, 'functions': [], 'function_names': [], 'width': 1, 'degree_output_polynomials_specific': None, 'degree_output_polynomials_denominator_specific': None, 'enforce_function': False, 'maximal_potence': 3}\n",
      "INFO:root:Number parameters: 50\n",
      "INFO:root:Number parameters active: 50\n"
     ]
    },
    {
     "name": "stdout",
     "output_type": "stream",
     "text": [
      "Training time: 4.180423736572266\n",
      "Target expression: None\n",
      "Relative l_2-distance train: 0.08231378060510092\n",
      "Relative l_2-distance validation: 0.2727775416316353\n",
      "##### Training #####\n",
      "Number parameters: 50\n",
      "Number parameters active: 50\n"
     ]
    },
    {
     "name": "stderr",
     "output_type": "stream",
     "text": [
      "INFO:root:Number of evaluations: 5094\n",
      "INFO:root:Relative l2 distance train: 0.03891131324960259\n",
      "INFO:root:Relative l2 distance validation: 0.17120852251286772\n",
      "INFO:root:Training time: 7.704194068908691\n",
      "INFO:root:Cumulative training time: 46.62763285636902\n",
      "INFO:root:Cumulative number of evaluations: 46567\n",
      "INFO:root:Model parameters: {'degree_input_polynomials': 0, 'degree_output_polynomials': 3, 'degree_output_denominator': 3, 'degree_input_denominator': 0, 'functions': [], 'function_names': [], 'width': 1, 'degree_output_polynomials_specific': None, 'degree_output_polynomials_denominator_specific': None, 'enforce_function': False, 'maximal_potence': 3}\n",
      "INFO:root:Number parameters: 70\n",
      "INFO:root:Number parameters active: 70\n"
     ]
    },
    {
     "name": "stdout",
     "output_type": "stream",
     "text": [
      "Training time: 7.704194068908691\n",
      "Target expression: None\n",
      "Relative l_2-distance train: 0.03891131324960259\n",
      "Relative l_2-distance validation: 0.17120852251286772\n",
      "##### Training #####\n",
      "Number parameters: 70\n",
      "Number parameters active: 70\n"
     ]
    },
    {
     "name": "stderr",
     "output_type": "stream",
     "text": [
      "INFO:root:Number of evaluations: 5108\n",
      "INFO:root:Relative l2 distance train: 0.022461869100168008\n",
      "INFO:root:Relative l2 distance validation: 0.03255393537415464\n",
      "INFO:root:Training time: 8.584386825561523\n",
      "INFO:root:Cumulative training time: 55.217254877090454\n",
      "INFO:root:Cumulative number of evaluations: 51675\n",
      "INFO:root:Model parameters: {'degree_input_polynomials': 0, 'degree_output_polynomials': 4, 'degree_output_denominator': 3, 'degree_input_denominator': 0, 'functions': [], 'function_names': [], 'width': 1, 'degree_output_polynomials_specific': None, 'degree_output_polynomials_denominator_specific': None, 'enforce_function': False, 'maximal_potence': 3}\n",
      "INFO:root:Number parameters: 101\n",
      "INFO:root:Number parameters active: 101\n"
     ]
    },
    {
     "name": "stdout",
     "output_type": "stream",
     "text": [
      "Training time: 8.584386825561523\n",
      "Target expression: None\n",
      "Relative l_2-distance train: 0.022461869100168008\n",
      "Relative l_2-distance validation: 0.03255393537415464\n",
      "##### Training #####\n",
      "Number parameters: 101\n",
      "Number parameters active: 101\n"
     ]
    },
    {
     "name": "stderr",
     "output_type": "stream",
     "text": [
      "INFO:root:Number of evaluations: 4739\n",
      "INFO:root:Relative l2 distance train: 0.001495305131702687\n",
      "INFO:root:Relative l2 distance validation: 0.0022583414890591127\n",
      "INFO:root:Training time: 8.950591802597046\n",
      "INFO:root:Cumulative training time: 64.17437934875488\n",
      "INFO:root:Cumulative number of evaluations: 56414\n",
      "INFO:root:New best relative l2 distance validation: 0.0022583414890591127\n",
      "INFO:root:Model parameters: {'degree_input_polynomials': 1, 'degree_output_polynomials': 1, 'functions': ['sqrt'], 'function_names': ['sqrt'], 'width': 1, 'degree_input_denominator': 0, 'degree_output_denominator': 0, 'degree_output_polynomials_specific': [1], 'degree_output_polynomials_denominator_specific': [1], 'enforce_function': False, 'maximal_potence': 3}\n",
      "INFO:root:Number parameters: 11\n",
      "INFO:root:Number parameters active: 11\n"
     ]
    },
    {
     "name": "stdout",
     "output_type": "stream",
     "text": [
      "Training time: 8.950591802597046\n",
      "Target expression: None\n",
      "Relative l_2-distance train: 0.001495305131702687\n",
      "Relative l_2-distance validation: 0.0022583414890591127\n",
      "##### Training #####\n",
      "Number parameters: 11\n",
      "Number parameters active: 11\n"
     ]
    },
    {
     "name": "stderr",
     "output_type": "stream",
     "text": [
      "INFO:root:Number of evaluations: 1232\n",
      "INFO:root:Relative l2 distance train: 0.17500446121820853\n",
      "INFO:root:Relative l2 distance validation: 0.1652432434640407\n",
      "INFO:root:Training time: 0.6291379928588867\n",
      "INFO:root:Cumulative training time: 64.80560350418091\n",
      "INFO:root:Cumulative number of evaluations: 57646\n",
      "INFO:root:Model parameters: {'degree_input_polynomials': 1, 'degree_output_polynomials': 1, 'functions': ['sqrt'], 'function_names': ['sqrt'], 'width': 1, 'degree_input_denominator': 0, 'degree_output_denominator': 0, 'degree_output_polynomials_specific': [1], 'degree_output_polynomials_denominator_specific': [1], 'enforce_function': True, 'maximal_potence': 3}\n",
      "INFO:root:Number parameters: 6\n",
      "INFO:root:Number parameters active: 6\n"
     ]
    },
    {
     "name": "stdout",
     "output_type": "stream",
     "text": [
      "Training time: 0.6291379928588867\n",
      "Target expression: None\n",
      "Relative l_2-distance train: 0.17500446121820853\n",
      "Relative l_2-distance validation: 0.1652432434640407\n",
      "##### Training #####\n",
      "Number parameters: 6\n",
      "Number parameters active: 6\n"
     ]
    },
    {
     "name": "stderr",
     "output_type": "stream",
     "text": [
      "INFO:root:Number of evaluations: 1002\n",
      "INFO:root:Relative l2 distance train: 0.3392887576359784\n",
      "INFO:root:Relative l2 distance validation: 0.35252390268263006\n",
      "INFO:root:Training time: 0.4419126510620117\n",
      "INFO:root:Cumulative training time: 65.24990892410278\n",
      "INFO:root:Cumulative number of evaluations: 58648\n",
      "INFO:root:Model parameters: {'degree_input_polynomials': 1, 'degree_output_polynomials': 1, 'functions': ['cos'], 'function_names': ['cos'], 'width': 1, 'degree_input_denominator': 0, 'degree_output_denominator': 0, 'degree_output_polynomials_specific': [1], 'degree_output_polynomials_denominator_specific': [1], 'enforce_function': False, 'maximal_potence': 3}\n",
      "INFO:root:Number parameters: 11\n",
      "INFO:root:Number parameters active: 11\n"
     ]
    },
    {
     "name": "stdout",
     "output_type": "stream",
     "text": [
      "Training time: 0.4419126510620117\n",
      "Target expression: None\n",
      "Relative l_2-distance train: 0.3392887576359784\n",
      "Relative l_2-distance validation: 0.35252390268263006\n",
      "##### Training #####\n",
      "Number parameters: 11\n",
      "Number parameters active: 11\n"
     ]
    },
    {
     "name": "stderr",
     "output_type": "stream",
     "text": [
      "INFO:root:Number of evaluations: 1260\n",
      "INFO:root:Relative l2 distance train: 0.14311937772781627\n",
      "INFO:root:Relative l2 distance validation: 0.13051602580693394\n",
      "INFO:root:Training time: 0.6455516815185547\n",
      "INFO:root:Cumulative training time: 65.89766716957092\n",
      "INFO:root:Cumulative number of evaluations: 59908\n",
      "INFO:root:Model parameters: {'degree_input_polynomials': 1, 'degree_output_polynomials': 1, 'functions': ['cos'], 'function_names': ['cos'], 'width': 1, 'degree_input_denominator': 0, 'degree_output_denominator': 0, 'degree_output_polynomials_specific': [1], 'degree_output_polynomials_denominator_specific': [1], 'enforce_function': True, 'maximal_potence': 3}\n",
      "INFO:root:Number parameters: 6\n",
      "INFO:root:Number parameters active: 6\n"
     ]
    },
    {
     "name": "stdout",
     "output_type": "stream",
     "text": [
      "Training time: 0.6455516815185547\n",
      "Target expression: None\n",
      "Relative l_2-distance train: 0.14311937772781627\n",
      "Relative l_2-distance validation: 0.13051602580693394\n",
      "##### Training #####\n",
      "Number parameters: 6\n",
      "Number parameters active: 6\n"
     ]
    },
    {
     "name": "stderr",
     "output_type": "stream",
     "text": [
      "INFO:root:Number of evaluations: 716\n",
      "INFO:root:Relative l2 distance train: 2.7606375257548526\n",
      "INFO:root:Relative l2 distance validation: 2.6923892106690634\n",
      "INFO:root:Training time: 0.3183314800262451\n",
      "INFO:root:Cumulative training time: 66.21763277053833\n",
      "INFO:root:Cumulative number of evaluations: 60624\n",
      "INFO:root:Model parameters: {'degree_input_polynomials': 1, 'degree_output_polynomials': 1, 'functions': ['exp'], 'function_names': ['exp'], 'width': 1, 'degree_input_denominator': 0, 'degree_output_denominator': 0, 'degree_output_polynomials_specific': [1], 'degree_output_polynomials_denominator_specific': [1], 'enforce_function': False, 'maximal_potence': 3}\n",
      "INFO:root:Number parameters: 11\n",
      "INFO:root:Number parameters active: 11\n"
     ]
    },
    {
     "name": "stdout",
     "output_type": "stream",
     "text": [
      "Training time: 0.3183314800262451\n",
      "Target expression: None\n",
      "Relative l_2-distance train: 2.7606375257548526\n",
      "Relative l_2-distance validation: 2.6923892106690634\n",
      "##### Training #####\n",
      "Number parameters: 11\n",
      "Number parameters active: 11\n"
     ]
    },
    {
     "name": "stderr",
     "output_type": "stream",
     "text": [
      "INFO:root:Number of evaluations: 1245\n",
      "INFO:root:Relative l2 distance train: 0.14468964074456217\n",
      "INFO:root:Relative l2 distance validation: 0.12531563141426094\n",
      "INFO:root:Training time: 0.668881893157959\n",
      "INFO:root:Cumulative training time: 66.88848352432251\n",
      "INFO:root:Cumulative number of evaluations: 61869\n",
      "INFO:root:Model parameters: {'degree_input_polynomials': 1, 'degree_output_polynomials': 1, 'functions': ['exp'], 'function_names': ['exp'], 'width': 1, 'degree_input_denominator': 0, 'degree_output_denominator': 0, 'degree_output_polynomials_specific': [1], 'degree_output_polynomials_denominator_specific': [1], 'enforce_function': True, 'maximal_potence': 3}\n",
      "INFO:root:Number parameters: 6\n",
      "INFO:root:Number parameters active: 6\n"
     ]
    },
    {
     "name": "stdout",
     "output_type": "stream",
     "text": [
      "Training time: 0.668881893157959\n",
      "Target expression: None\n",
      "Relative l_2-distance train: 0.14468964074456217\n",
      "Relative l_2-distance validation: 0.12531563141426094\n",
      "##### Training #####\n",
      "Number parameters: 6\n",
      "Number parameters active: 6\n"
     ]
    },
    {
     "name": "stderr",
     "output_type": "stream",
     "text": [
      "INFO:root:Number of evaluations: 988\n",
      "INFO:root:Relative l2 distance train: 0.1734012904685096\n",
      "INFO:root:Relative l2 distance validation: 0.15055360914975927\n",
      "INFO:root:Training time: 0.48276686668395996\n",
      "INFO:root:Cumulative training time: 67.37283301353455\n",
      "INFO:root:Cumulative number of evaluations: 62857\n",
      "INFO:root:Model parameters: {'degree_input_polynomials': 2, 'degree_output_polynomials': 1, 'functions': ['sqrt'], 'function_names': ['sqrt'], 'width': 1, 'degree_input_denominator': 0, 'degree_output_denominator': 0, 'degree_output_polynomials_specific': [1], 'degree_output_polynomials_denominator_specific': [1], 'enforce_function': False, 'maximal_potence': 3}\n",
      "INFO:root:Number parameters: 21\n",
      "INFO:root:Number parameters active: 21\n"
     ]
    },
    {
     "name": "stdout",
     "output_type": "stream",
     "text": [
      "Training time: 0.48276686668395996\n",
      "Target expression: None\n",
      "Relative l_2-distance train: 0.1734012904685096\n",
      "Relative l_2-distance validation: 0.15055360914975927\n",
      "##### Training #####\n",
      "Number parameters: 21\n",
      "Number parameters active: 21\n"
     ]
    },
    {
     "name": "stderr",
     "output_type": "stream",
     "text": [
      "INFO:root:Number of evaluations: 2241\n",
      "INFO:root:Relative l2 distance train: 0.046567999645406456\n",
      "INFO:root:Relative l2 distance validation: 0.053232226247535\n",
      "INFO:root:Training time: 1.1701436042785645\n",
      "INFO:root:Cumulative training time: 68.54548597335815\n",
      "INFO:root:Cumulative number of evaluations: 65098\n",
      "INFO:root:Model parameters: {'degree_input_polynomials': 2, 'degree_output_polynomials': 1, 'functions': ['sqrt'], 'function_names': ['sqrt'], 'width': 1, 'degree_input_denominator': 0, 'degree_output_denominator': 0, 'degree_output_polynomials_specific': [1], 'degree_output_polynomials_denominator_specific': [1], 'enforce_function': True, 'maximal_potence': 3}\n",
      "INFO:root:Number parameters: 16\n",
      "INFO:root:Number parameters active: 16\n"
     ]
    },
    {
     "name": "stdout",
     "output_type": "stream",
     "text": [
      "Training time: 1.1701436042785645\n",
      "Target expression: None\n",
      "Relative l_2-distance train: 0.046567999645406456\n",
      "Relative l_2-distance validation: 0.053232226247535\n",
      "##### Training #####\n",
      "Number parameters: 16\n",
      "Number parameters active: 16\n"
     ]
    },
    {
     "name": "stderr",
     "output_type": "stream",
     "text": [
      "INFO:root:Number of evaluations: 2163\n",
      "INFO:root:Relative l2 distance train: 0.1408765653665603\n",
      "INFO:root:Relative l2 distance validation: 0.18108611701455513\n",
      "INFO:root:Training time: 0.9284558296203613\n",
      "INFO:root:Cumulative training time: 69.47666645050049\n",
      "INFO:root:Cumulative number of evaluations: 67261\n",
      "INFO:root:Model parameters: {'degree_input_polynomials': 2, 'degree_output_polynomials': 1, 'functions': ['cos'], 'function_names': ['cos'], 'width': 1, 'degree_input_denominator': 0, 'degree_output_denominator': 0, 'degree_output_polynomials_specific': [1], 'degree_output_polynomials_denominator_specific': [1], 'enforce_function': False, 'maximal_potence': 3}\n",
      "INFO:root:Number parameters: 21\n",
      "INFO:root:Number parameters active: 21\n"
     ]
    },
    {
     "name": "stdout",
     "output_type": "stream",
     "text": [
      "Training time: 0.9284558296203613\n",
      "Target expression: None\n",
      "Relative l_2-distance train: 0.1408765653665603\n",
      "Relative l_2-distance validation: 0.18108611701455513\n",
      "##### Training #####\n",
      "Number parameters: 21\n",
      "Number parameters active: 21\n"
     ]
    },
    {
     "name": "stderr",
     "output_type": "stream",
     "text": [
      "INFO:root:Number of evaluations: 2054\n",
      "INFO:root:Relative l2 distance train: 0.18112700713906021\n",
      "INFO:root:Relative l2 distance validation: 0.17502421258550632\n",
      "INFO:root:Training time: 1.0329406261444092\n",
      "INFO:root:Cumulative training time: 70.51267910003662\n",
      "INFO:root:Cumulative number of evaluations: 69315\n",
      "INFO:root:Model parameters: {'degree_input_polynomials': 2, 'degree_output_polynomials': 1, 'functions': ['cos'], 'function_names': ['cos'], 'width': 1, 'degree_input_denominator': 0, 'degree_output_denominator': 0, 'degree_output_polynomials_specific': [1], 'degree_output_polynomials_denominator_specific': [1], 'enforce_function': True, 'maximal_potence': 3}\n",
      "INFO:root:Number parameters: 16\n",
      "INFO:root:Number parameters active: 16\n"
     ]
    },
    {
     "name": "stdout",
     "output_type": "stream",
     "text": [
      "Training time: 1.0329406261444092\n",
      "Target expression: None\n",
      "Relative l_2-distance train: 0.18112700713906021\n",
      "Relative l_2-distance validation: 0.17502421258550632\n",
      "##### Training #####\n",
      "Number parameters: 16\n",
      "Number parameters active: 16\n"
     ]
    },
    {
     "name": "stderr",
     "output_type": "stream",
     "text": [
      "INFO:root:Number of evaluations: 1807\n",
      "INFO:root:Relative l2 distance train: 2.619838881769492\n",
      "INFO:root:Relative l2 distance validation: 2.680333920730007\n",
      "INFO:root:Training time: 0.7708935737609863\n",
      "INFO:root:Cumulative training time: 71.28602719306946\n",
      "INFO:root:Cumulative number of evaluations: 71122\n",
      "INFO:root:Model parameters: {'degree_input_polynomials': 2, 'degree_output_polynomials': 1, 'functions': ['exp'], 'function_names': ['exp'], 'width': 1, 'degree_input_denominator': 0, 'degree_output_denominator': 0, 'degree_output_polynomials_specific': [1], 'degree_output_polynomials_denominator_specific': [1], 'enforce_function': False, 'maximal_potence': 3}\n",
      "INFO:root:Number parameters: 21\n",
      "INFO:root:Number parameters active: 21\n"
     ]
    },
    {
     "name": "stdout",
     "output_type": "stream",
     "text": [
      "Training time: 0.7708935737609863\n",
      "Target expression: None\n",
      "Relative l_2-distance train: 2.619838881769492\n",
      "Relative l_2-distance validation: 2.680333920730007\n",
      "##### Training #####\n",
      "Number parameters: 21\n",
      "Number parameters active: 21\n"
     ]
    },
    {
     "name": "stderr",
     "output_type": "stream",
     "text": [
      "INFO:root:Number of evaluations: 2492\n",
      "INFO:root:Relative l2 distance train: 0.1827910815811785\n",
      "INFO:root:Relative l2 distance validation: 0.1754486308259725\n",
      "INFO:root:Training time: 1.416306972503662\n",
      "INFO:root:Cumulative training time: 72.70715594291687\n",
      "INFO:root:Cumulative number of evaluations: 73614\n",
      "INFO:root:Model parameters: {'degree_input_polynomials': 2, 'degree_output_polynomials': 1, 'functions': ['exp'], 'function_names': ['exp'], 'width': 1, 'degree_input_denominator': 0, 'degree_output_denominator': 0, 'degree_output_polynomials_specific': [1], 'degree_output_polynomials_denominator_specific': [1], 'enforce_function': True, 'maximal_potence': 3}\n",
      "INFO:root:Number parameters: 16\n",
      "INFO:root:Number parameters active: 16\n"
     ]
    },
    {
     "name": "stdout",
     "output_type": "stream",
     "text": [
      "Training time: 1.416306972503662\n",
      "Target expression: None\n",
      "Relative l_2-distance train: 0.1827910815811785\n",
      "Relative l_2-distance validation: 0.1754486308259725\n",
      "##### Training #####\n",
      "Number parameters: 16\n",
      "Number parameters active: 16\n"
     ]
    },
    {
     "name": "stderr",
     "output_type": "stream",
     "text": [
      "INFO:root:Number of evaluations: 2026\n",
      "INFO:root:Relative l2 distance train: 0.041111072067966374\n",
      "INFO:root:Relative l2 distance validation: 0.03982159664063033\n",
      "INFO:root:Training time: 1.0262653827667236\n",
      "INFO:root:Cumulative training time: 73.73602199554443\n",
      "INFO:root:Cumulative number of evaluations: 75640\n",
      "INFO:root:Model parameters: {'degree_input_polynomials': 1, 'degree_output_polynomials': 1, 'functions': ['sqrt'], 'function_names': ['sqrt'], 'width': 1, 'degree_input_denominator': 1, 'degree_output_denominator': 0, 'degree_output_polynomials_specific': [1], 'degree_output_polynomials_denominator_specific': [1], 'enforce_function': False, 'maximal_potence': 3}\n",
      "INFO:root:Number parameters: 16\n",
      "INFO:root:Number parameters active: 16\n"
     ]
    },
    {
     "name": "stdout",
     "output_type": "stream",
     "text": [
      "Training time: 1.0262653827667236\n",
      "Target expression: None\n",
      "Relative l_2-distance train: 0.041111072067966374\n",
      "Relative l_2-distance validation: 0.03982159664063033\n",
      "##### Training #####\n",
      "Number parameters: 16\n",
      "Number parameters active: 16\n"
     ]
    },
    {
     "name": "stderr",
     "output_type": "stream",
     "text": [
      "INFO:root:Number of evaluations: 2741\n",
      "INFO:root:Relative l2 distance train: 0.09058738874325475\n",
      "INFO:root:Relative l2 distance validation: 0.09688020442951956\n",
      "INFO:root:Training time: 1.6603798866271973\n",
      "INFO:root:Cumulative training time: 75.39831900596619\n",
      "INFO:root:Cumulative number of evaluations: 78381\n",
      "INFO:root:Model parameters: {'degree_input_polynomials': 1, 'degree_output_polynomials': 1, 'functions': ['sqrt'], 'function_names': ['sqrt'], 'width': 1, 'degree_input_denominator': 1, 'degree_output_denominator': 0, 'degree_output_polynomials_specific': [1], 'degree_output_polynomials_denominator_specific': [1], 'enforce_function': True, 'maximal_potence': 3}\n",
      "INFO:root:Number parameters: 11\n",
      "INFO:root:Number parameters active: 11\n"
     ]
    },
    {
     "name": "stdout",
     "output_type": "stream",
     "text": [
      "Training time: 1.6603798866271973\n",
      "Target expression: None\n",
      "Relative l_2-distance train: 0.09058738874325475\n",
      "Relative l_2-distance validation: 0.09688020442951956\n",
      "##### Training #####\n",
      "Number parameters: 11\n",
      "Number parameters active: 11\n"
     ]
    },
    {
     "name": "stderr",
     "output_type": "stream",
     "text": [
      "INFO:root:Number of evaluations: 3934\n",
      "INFO:root:Relative l2 distance train: 0.15793362973689043\n",
      "INFO:root:Relative l2 distance validation: 0.13514706052250905\n",
      "INFO:root:Training time: 2.1106560230255127\n",
      "INFO:root:Cumulative training time: 77.51093912124634\n",
      "INFO:root:Cumulative number of evaluations: 82315\n",
      "INFO:root:Model parameters: {'degree_input_polynomials': 1, 'degree_output_polynomials': 1, 'functions': ['cos'], 'function_names': ['cos'], 'width': 1, 'degree_input_denominator': 1, 'degree_output_denominator': 0, 'degree_output_polynomials_specific': [1], 'degree_output_polynomials_denominator_specific': [1], 'enforce_function': False, 'maximal_potence': 3}\n",
      "INFO:root:Number parameters: 16\n",
      "INFO:root:Number parameters active: 16\n"
     ]
    },
    {
     "name": "stdout",
     "output_type": "stream",
     "text": [
      "Training time: 2.1106560230255127\n",
      "Target expression: None\n",
      "Relative l_2-distance train: 0.15793362973689043\n",
      "Relative l_2-distance validation: 0.13514706052250905\n",
      "##### Training #####\n",
      "Number parameters: 16\n",
      "Number parameters active: 16\n"
     ]
    },
    {
     "name": "stderr",
     "output_type": "stream",
     "text": [
      "INFO:root:Number of evaluations: 2858\n",
      "INFO:root:Relative l2 distance train: 0.09203654623936382\n",
      "INFO:root:Relative l2 distance validation: 0.1103735979094763\n",
      "INFO:root:Training time: 1.7093889713287354\n",
      "INFO:root:Cumulative training time: 79.22231006622314\n",
      "INFO:root:Cumulative number of evaluations: 85173\n",
      "INFO:root:Model parameters: {'degree_input_polynomials': 1, 'degree_output_polynomials': 1, 'functions': ['cos'], 'function_names': ['cos'], 'width': 1, 'degree_input_denominator': 1, 'degree_output_denominator': 0, 'degree_output_polynomials_specific': [1], 'degree_output_polynomials_denominator_specific': [1], 'enforce_function': True, 'maximal_potence': 3}\n",
      "INFO:root:Number parameters: 11\n",
      "INFO:root:Number parameters active: 11\n"
     ]
    },
    {
     "name": "stdout",
     "output_type": "stream",
     "text": [
      "Training time: 1.7093889713287354\n",
      "Target expression: None\n",
      "Relative l_2-distance train: 0.09203654623936382\n",
      "Relative l_2-distance validation: 0.1103735979094763\n",
      "##### Training #####\n",
      "Number parameters: 11\n",
      "Number parameters active: 11\n"
     ]
    },
    {
     "name": "stderr",
     "output_type": "stream",
     "text": [
      "INFO:root:Number of evaluations: 2677\n",
      "INFO:root:Relative l2 distance train: 1.380238519582754\n",
      "INFO:root:Relative l2 distance validation: 1.5207550739119384\n",
      "INFO:root:Training time: 1.376612663269043\n",
      "INFO:root:Cumulative training time: 80.60158777236938\n",
      "INFO:root:Cumulative number of evaluations: 87850\n",
      "INFO:root:Model parameters: {'degree_input_polynomials': 1, 'degree_output_polynomials': 1, 'functions': ['exp'], 'function_names': ['exp'], 'width': 1, 'degree_input_denominator': 1, 'degree_output_denominator': 0, 'degree_output_polynomials_specific': [1], 'degree_output_polynomials_denominator_specific': [1], 'enforce_function': False, 'maximal_potence': 3}\n",
      "INFO:root:Number parameters: 16\n",
      "INFO:root:Number parameters active: 16\n"
     ]
    },
    {
     "name": "stdout",
     "output_type": "stream",
     "text": [
      "Training time: 1.376612663269043\n",
      "Target expression: None\n",
      "Relative l_2-distance train: 1.380238519582754\n",
      "Relative l_2-distance validation: 1.5207550739119384\n",
      "##### Training #####\n",
      "Number parameters: 16\n",
      "Number parameters active: 16\n"
     ]
    },
    {
     "name": "stderr",
     "output_type": "stream",
     "text": [
      "INFO:root:Number of evaluations: 2413\n",
      "INFO:root:Relative l2 distance train: 0.07569868023240849\n",
      "INFO:root:Relative l2 distance validation: 0.08406052004637231\n",
      "INFO:root:Training time: 1.6558151245117188\n",
      "INFO:root:Cumulative training time: 82.26087069511414\n",
      "INFO:root:Cumulative number of evaluations: 90263\n",
      "INFO:root:Model parameters: {'degree_input_polynomials': 1, 'degree_output_polynomials': 1, 'functions': ['exp'], 'function_names': ['exp'], 'width': 1, 'degree_input_denominator': 1, 'degree_output_denominator': 0, 'degree_output_polynomials_specific': [1], 'degree_output_polynomials_denominator_specific': [1], 'enforce_function': True, 'maximal_potence': 3}\n",
      "INFO:root:Number parameters: 11\n",
      "INFO:root:Number parameters active: 11\n"
     ]
    },
    {
     "name": "stdout",
     "output_type": "stream",
     "text": [
      "Training time: 1.6558151245117188\n",
      "Target expression: None\n",
      "Relative l_2-distance train: 0.07569868023240849\n",
      "Relative l_2-distance validation: 0.08406052004637231\n",
      "##### Training #####\n",
      "Number parameters: 11\n",
      "Number parameters active: 11\n"
     ]
    },
    {
     "name": "stderr",
     "output_type": "stream",
     "text": [
      "INFO:root:Number of evaluations: 1909\n",
      "INFO:root:Relative l2 distance train: 0.1391071014697656\n",
      "INFO:root:Relative l2 distance validation: 0.12435098597039909\n",
      "INFO:root:Training time: 1.1751353740692139\n",
      "INFO:root:Cumulative training time: 83.44028782844543\n",
      "INFO:root:Cumulative number of evaluations: 92172\n",
      "INFO:root:Model parameters: {'degree_input_polynomials': 2, 'degree_output_polynomials': 1, 'functions': ['sqrt'], 'function_names': ['sqrt'], 'width': 1, 'degree_input_denominator': 1, 'degree_output_denominator': 0, 'degree_output_polynomials_specific': [1], 'degree_output_polynomials_denominator_specific': [1], 'enforce_function': False, 'maximal_potence': 3}\n",
      "INFO:root:Number parameters: 26\n",
      "INFO:root:Number parameters active: 26\n"
     ]
    },
    {
     "name": "stdout",
     "output_type": "stream",
     "text": [
      "Training time: 1.1751353740692139\n",
      "Target expression: None\n",
      "Relative l_2-distance train: 0.1391071014697656\n",
      "Relative l_2-distance validation: 0.12435098597039909\n",
      "##### Training #####\n",
      "Number parameters: 26\n",
      "Number parameters active: 26\n"
     ]
    },
    {
     "name": "stderr",
     "output_type": "stream",
     "text": [
      "INFO:root:Number of evaluations: 2569\n",
      "INFO:root:Relative l2 distance train: 0.1568614786088103\n",
      "INFO:root:Relative l2 distance validation: 0.16835490956744187\n",
      "INFO:root:Training time: 1.536874771118164\n",
      "INFO:root:Cumulative training time: 84.97976899147034\n",
      "INFO:root:Cumulative number of evaluations: 94741\n",
      "INFO:root:Model parameters: {'degree_input_polynomials': 2, 'degree_output_polynomials': 1, 'functions': ['sqrt'], 'function_names': ['sqrt'], 'width': 1, 'degree_input_denominator': 1, 'degree_output_denominator': 0, 'degree_output_polynomials_specific': [1], 'degree_output_polynomials_denominator_specific': [1], 'enforce_function': True, 'maximal_potence': 3}\n",
      "INFO:root:Number parameters: 21\n",
      "INFO:root:Number parameters active: 21\n"
     ]
    },
    {
     "name": "stdout",
     "output_type": "stream",
     "text": [
      "Training time: 1.536874771118164\n",
      "Target expression: None\n",
      "Relative l_2-distance train: 0.1568614786088103\n",
      "Relative l_2-distance validation: 0.16835490956744187\n",
      "##### Training #####\n",
      "Number parameters: 21\n",
      "Number parameters active: 21\n"
     ]
    },
    {
     "name": "stderr",
     "output_type": "stream",
     "text": [
      "INFO:root:Number of evaluations: 3272\n",
      "INFO:root:Relative l2 distance train: 0.13791368562262774\n",
      "INFO:root:Relative l2 distance validation: 0.18030521221399975\n",
      "INFO:root:Training time: 1.7576916217803955\n",
      "INFO:root:Cumulative training time: 86.73954606056213\n",
      "INFO:root:Cumulative number of evaluations: 98013\n",
      "INFO:root:Model parameters: {'degree_input_polynomials': 2, 'degree_output_polynomials': 1, 'functions': ['cos'], 'function_names': ['cos'], 'width': 1, 'degree_input_denominator': 1, 'degree_output_denominator': 0, 'degree_output_polynomials_specific': [1], 'degree_output_polynomials_denominator_specific': [1], 'enforce_function': False, 'maximal_potence': 3}\n",
      "INFO:root:Number parameters: 26\n",
      "INFO:root:Number parameters active: 26\n"
     ]
    },
    {
     "name": "stdout",
     "output_type": "stream",
     "text": [
      "Training time: 1.7576916217803955\n",
      "Target expression: None\n",
      "Relative l_2-distance train: 0.13791368562262774\n",
      "Relative l_2-distance validation: 0.18030521221399975\n",
      "##### Training #####\n",
      "Number parameters: 26\n",
      "Number parameters active: 26\n"
     ]
    },
    {
     "name": "stderr",
     "output_type": "stream",
     "text": [
      "INFO:root:Number of evaluations: 2155\n",
      "INFO:root:Relative l2 distance train: 0.265092404180135\n",
      "INFO:root:Relative l2 distance validation: 0.2876214055004252\n",
      "INFO:root:Training time: 1.28196120262146\n",
      "INFO:root:Cumulative training time: 88.02420043945312\n",
      "INFO:root:Cumulative number of evaluations: 100168\n",
      "INFO:root:Model parameters: {'degree_input_polynomials': 2, 'degree_output_polynomials': 1, 'functions': ['cos'], 'function_names': ['cos'], 'width': 1, 'degree_input_denominator': 1, 'degree_output_denominator': 0, 'degree_output_polynomials_specific': [1], 'degree_output_polynomials_denominator_specific': [1], 'enforce_function': True, 'maximal_potence': 3}\n",
      "INFO:root:Number parameters: 21\n",
      "INFO:root:Number parameters active: 21\n"
     ]
    },
    {
     "name": "stdout",
     "output_type": "stream",
     "text": [
      "Training time: 1.28196120262146\n",
      "Target expression: None\n",
      "Relative l_2-distance train: 0.265092404180135\n",
      "Relative l_2-distance validation: 0.2876214055004252\n",
      "##### Training #####\n",
      "Number parameters: 21\n",
      "Number parameters active: 21\n"
     ]
    },
    {
     "name": "stderr",
     "output_type": "stream",
     "text": [
      "INFO:root:Number of evaluations: 2605\n",
      "INFO:root:Relative l2 distance train: 2.7234345892949374\n",
      "INFO:root:Relative l2 distance validation: 2.871033273903371\n",
      "INFO:root:Training time: 1.526392936706543\n",
      "INFO:root:Cumulative training time: 89.55296421051025\n",
      "INFO:root:Cumulative number of evaluations: 102773\n",
      "INFO:root:Model parameters: {'degree_input_polynomials': 2, 'degree_output_polynomials': 1, 'functions': ['exp'], 'function_names': ['exp'], 'width': 1, 'degree_input_denominator': 1, 'degree_output_denominator': 0, 'degree_output_polynomials_specific': [1], 'degree_output_polynomials_denominator_specific': [1], 'enforce_function': False, 'maximal_potence': 3}\n",
      "INFO:root:Number parameters: 26\n",
      "INFO:root:Number parameters active: 26\n"
     ]
    },
    {
     "name": "stdout",
     "output_type": "stream",
     "text": [
      "Training time: 1.526392936706543\n",
      "Target expression: None\n",
      "Relative l_2-distance train: 2.7234345892949374\n",
      "Relative l_2-distance validation: 2.871033273903371\n",
      "##### Training #####\n",
      "Number parameters: 26\n",
      "Number parameters active: 26\n"
     ]
    },
    {
     "name": "stderr",
     "output_type": "stream",
     "text": [
      "INFO:root:Number of evaluations: 908\n",
      "INFO:root:Relative l2 distance train: 0.18181747970445722\n",
      "INFO:root:Relative l2 distance validation: 0.1747793538052086\n",
      "INFO:root:Training time: 0.5655672550201416\n",
      "INFO:root:Cumulative training time: 90.12132263183594\n",
      "INFO:root:Cumulative number of evaluations: 103681\n",
      "INFO:root:Model parameters: {'degree_input_polynomials': 2, 'degree_output_polynomials': 1, 'functions': ['exp'], 'function_names': ['exp'], 'width': 1, 'degree_input_denominator': 1, 'degree_output_denominator': 0, 'degree_output_polynomials_specific': [1], 'degree_output_polynomials_denominator_specific': [1], 'enforce_function': True, 'maximal_potence': 3}\n",
      "INFO:root:Number parameters: 21\n",
      "INFO:root:Number parameters active: 21\n",
      "INFO:root:Number of evaluations: 47\n",
      "INFO:root:Relative l2 distance train: 128.93436698917904\n",
      "INFO:root:Relative l2 distance validation: 106.81550848714404\n",
      "INFO:root:Training time: 0.030332326889038086\n",
      "INFO:root:Cumulative training time: 90.15459418296814\n",
      "INFO:root:Cumulative number of evaluations: 103728\n",
      "INFO:root:Model parameters: {'degree_input_polynomials': 1, 'degree_output_polynomials': 1, 'functions': ['sqrt'], 'function_names': ['sqrt'], 'width': 1, 'degree_input_denominator': 2, 'degree_output_denominator': 0, 'degree_output_polynomials_specific': [1], 'degree_output_polynomials_denominator_specific': [1], 'enforce_function': False, 'maximal_potence': 3}\n",
      "INFO:root:Number parameters: 26\n",
      "INFO:root:Number parameters active: 26\n"
     ]
    },
    {
     "name": "stdout",
     "output_type": "stream",
     "text": [
      "Training time: 0.5655672550201416\n",
      "Target expression: None\n",
      "Relative l_2-distance train: 0.18181747970445722\n",
      "Relative l_2-distance validation: 0.1747793538052086\n",
      "##### Training #####\n",
      "Number parameters: 21\n",
      "Number parameters active: 21\n",
      "Training time: 0.030332326889038086\n",
      "Target expression: None\n",
      "Relative l_2-distance train: 128.93436698917904\n",
      "Relative l_2-distance validation: 106.81550848714404\n",
      "##### Training #####\n",
      "Number parameters: 26\n",
      "Number parameters active: 26\n"
     ]
    },
    {
     "name": "stderr",
     "output_type": "stream",
     "text": [
      "INFO:root:Number of evaluations: 3779\n",
      "INFO:root:Relative l2 distance train: 0.02723379414444421\n",
      "INFO:root:Relative l2 distance validation: 0.030622951513354972\n",
      "INFO:root:Training time: 2.369960308074951\n",
      "INFO:root:Cumulative training time: 92.52761912345886\n",
      "INFO:root:Cumulative number of evaluations: 107507\n",
      "INFO:root:Model parameters: {'degree_input_polynomials': 1, 'degree_output_polynomials': 1, 'functions': ['sqrt'], 'function_names': ['sqrt'], 'width': 1, 'degree_input_denominator': 2, 'degree_output_denominator': 0, 'degree_output_polynomials_specific': [1], 'degree_output_polynomials_denominator_specific': [1], 'enforce_function': True, 'maximal_potence': 3}\n",
      "INFO:root:Number parameters: 21\n",
      "INFO:root:Number parameters active: 21\n"
     ]
    },
    {
     "name": "stdout",
     "output_type": "stream",
     "text": [
      "Training time: 2.369960308074951\n",
      "Target expression: None\n",
      "Relative l_2-distance train: 0.02723379414444421\n",
      "Relative l_2-distance validation: 0.030622951513354972\n",
      "##### Training #####\n",
      "Number parameters: 21\n",
      "Number parameters active: 21\n"
     ]
    },
    {
     "name": "stderr",
     "output_type": "stream",
     "text": [
      "INFO:root:Number of evaluations: 4079\n",
      "INFO:root:Relative l2 distance train: 0.746996493253091\n",
      "INFO:root:Relative l2 distance validation: 1.3408442335496236\n",
      "INFO:root:Training time: 2.3762428760528564\n",
      "INFO:root:Cumulative training time: 94.90616250038147\n",
      "INFO:root:Cumulative number of evaluations: 111586\n",
      "INFO:root:Model parameters: {'degree_input_polynomials': 1, 'degree_output_polynomials': 1, 'functions': ['cos'], 'function_names': ['cos'], 'width': 1, 'degree_input_denominator': 2, 'degree_output_denominator': 0, 'degree_output_polynomials_specific': [1], 'degree_output_polynomials_denominator_specific': [1], 'enforce_function': False, 'maximal_potence': 3}\n",
      "INFO:root:Number parameters: 26\n",
      "INFO:root:Number parameters active: 26\n"
     ]
    },
    {
     "name": "stdout",
     "output_type": "stream",
     "text": [
      "Training time: 2.3762428760528564\n",
      "Target expression: None\n",
      "Relative l_2-distance train: 0.746996493253091\n",
      "Relative l_2-distance validation: 1.3408442335496236\n",
      "##### Training #####\n",
      "Number parameters: 26\n",
      "Number parameters active: 26\n"
     ]
    },
    {
     "name": "stderr",
     "output_type": "stream",
     "text": [
      "INFO:root:Number of evaluations: 4174\n",
      "INFO:root:Relative l2 distance train: 0.04844385306619434\n",
      "INFO:root:Relative l2 distance validation: 0.19264931350903075\n",
      "INFO:root:Training time: 2.507544994354248\n",
      "INFO:root:Cumulative training time: 97.41808462142944\n",
      "INFO:root:Cumulative number of evaluations: 115760\n",
      "INFO:root:Model parameters: {'degree_input_polynomials': 1, 'degree_output_polynomials': 1, 'functions': ['cos'], 'function_names': ['cos'], 'width': 1, 'degree_input_denominator': 2, 'degree_output_denominator': 0, 'degree_output_polynomials_specific': [1], 'degree_output_polynomials_denominator_specific': [1], 'enforce_function': True, 'maximal_potence': 3}\n",
      "INFO:root:Number parameters: 21\n",
      "INFO:root:Number parameters active: 21\n"
     ]
    },
    {
     "name": "stdout",
     "output_type": "stream",
     "text": [
      "Training time: 2.507544994354248\n",
      "Target expression: None\n",
      "Relative l_2-distance train: 0.04844385306619434\n",
      "Relative l_2-distance validation: 0.19264931350903075\n",
      "##### Training #####\n",
      "Number parameters: 21\n",
      "Number parameters active: 21\n"
     ]
    },
    {
     "name": "stderr",
     "output_type": "stream",
     "text": [
      "INFO:root:Number of evaluations: 3335\n",
      "INFO:root:Relative l2 distance train: 0.9546978640715017\n",
      "INFO:root:Relative l2 distance validation: 1.3821408827612718\n",
      "INFO:root:Training time: 1.78297758102417\n",
      "INFO:root:Cumulative training time: 99.20460677146912\n",
      "INFO:root:Cumulative number of evaluations: 119095\n",
      "INFO:root:Model parameters: {'degree_input_polynomials': 1, 'degree_output_polynomials': 1, 'functions': ['exp'], 'function_names': ['exp'], 'width': 1, 'degree_input_denominator': 2, 'degree_output_denominator': 0, 'degree_output_polynomials_specific': [1], 'degree_output_polynomials_denominator_specific': [1], 'enforce_function': False, 'maximal_potence': 3}\n",
      "INFO:root:Number parameters: 26\n",
      "INFO:root:Number parameters active: 26\n"
     ]
    },
    {
     "name": "stdout",
     "output_type": "stream",
     "text": [
      "Training time: 1.78297758102417\n",
      "Target expression: None\n",
      "Relative l_2-distance train: 0.9546978640715017\n",
      "Relative l_2-distance validation: 1.3821408827612718\n",
      "##### Training #####\n",
      "Number parameters: 26\n",
      "Number parameters active: 26\n"
     ]
    },
    {
     "name": "stderr",
     "output_type": "stream",
     "text": [
      "INFO:root:Number of evaluations: 3191\n",
      "INFO:root:Relative l2 distance train: 0.7307338045115238\n",
      "INFO:root:Relative l2 distance validation: 0.7024169098247253\n",
      "INFO:root:Training time: 2.100618600845337\n",
      "INFO:root:Cumulative training time: 101.30928158760071\n",
      "INFO:root:Cumulative number of evaluations: 122286\n",
      "INFO:root:Model parameters: {'degree_input_polynomials': 1, 'degree_output_polynomials': 1, 'functions': ['exp'], 'function_names': ['exp'], 'width': 1, 'degree_input_denominator': 2, 'degree_output_denominator': 0, 'degree_output_polynomials_specific': [1], 'degree_output_polynomials_denominator_specific': [1], 'enforce_function': True, 'maximal_potence': 3}\n",
      "INFO:root:Number parameters: 21\n",
      "INFO:root:Number parameters active: 21\n"
     ]
    },
    {
     "name": "stdout",
     "output_type": "stream",
     "text": [
      "Training time: 2.100618600845337\n",
      "Target expression: None\n",
      "Relative l_2-distance train: 0.7307338045115238\n",
      "Relative l_2-distance validation: 0.7024169098247253\n",
      "##### Training #####\n",
      "Number parameters: 21\n",
      "Number parameters active: 21\n"
     ]
    },
    {
     "name": "stderr",
     "output_type": "stream",
     "text": [
      "INFO:root:Number of evaluations: 3596\n",
      "INFO:root:Relative l2 distance train: 2.777982910302428\n",
      "INFO:root:Relative l2 distance validation: 2.6948262334269937\n",
      "INFO:root:Training time: 2.180906295776367\n",
      "INFO:root:Cumulative training time: 103.4938395023346\n",
      "INFO:root:Cumulative number of evaluations: 125882\n",
      "INFO:root:Model parameters: {'degree_input_polynomials': 2, 'degree_output_polynomials': 1, 'functions': ['sqrt'], 'function_names': ['sqrt'], 'width': 1, 'degree_input_denominator': 2, 'degree_output_denominator': 0, 'degree_output_polynomials_specific': [1], 'degree_output_polynomials_denominator_specific': [1], 'enforce_function': False, 'maximal_potence': 3}\n",
      "INFO:root:Number parameters: 36\n",
      "INFO:root:Number parameters active: 36\n"
     ]
    },
    {
     "name": "stdout",
     "output_type": "stream",
     "text": [
      "Training time: 2.180906295776367\n",
      "Target expression: None\n",
      "Relative l_2-distance train: 2.777982910302428\n",
      "Relative l_2-distance validation: 2.6948262334269937\n",
      "##### Training #####\n",
      "Number parameters: 36\n",
      "Number parameters active: 36\n"
     ]
    },
    {
     "name": "stderr",
     "output_type": "stream",
     "text": [
      "INFO:root:Number of evaluations: 4630\n",
      "INFO:root:Relative l2 distance train: 0.025091384806009313\n",
      "INFO:root:Relative l2 distance validation: 0.024427643622541725\n",
      "INFO:root:Training time: 3.0305891036987305\n",
      "INFO:root:Cumulative training time: 106.52798342704773\n",
      "INFO:root:Cumulative number of evaluations: 130512\n",
      "INFO:root:Model parameters: {'degree_input_polynomials': 2, 'degree_output_polynomials': 1, 'functions': ['sqrt'], 'function_names': ['sqrt'], 'width': 1, 'degree_input_denominator': 2, 'degree_output_denominator': 0, 'degree_output_polynomials_specific': [1], 'degree_output_polynomials_denominator_specific': [1], 'enforce_function': True, 'maximal_potence': 3}\n",
      "INFO:root:Number parameters: 31\n",
      "INFO:root:Number parameters active: 31\n"
     ]
    },
    {
     "name": "stdout",
     "output_type": "stream",
     "text": [
      "Training time: 3.0305891036987305\n",
      "Target expression: None\n",
      "Relative l_2-distance train: 0.025091384806009313\n",
      "Relative l_2-distance validation: 0.024427643622541725\n",
      "##### Training #####\n",
      "Number parameters: 31\n",
      "Number parameters active: 31\n"
     ]
    },
    {
     "name": "stderr",
     "output_type": "stream",
     "text": [
      "INFO:root:Number of evaluations: 5287\n",
      "INFO:root:Relative l2 distance train: 0.5865125425608894\n",
      "INFO:root:Relative l2 distance validation: 0.4152942192447311\n",
      "INFO:root:Training time: 2.9784538745880127\n",
      "INFO:root:Cumulative training time: 109.50911712646484\n",
      "INFO:root:Cumulative number of evaluations: 135799\n",
      "INFO:root:Model parameters: {'degree_input_polynomials': 2, 'degree_output_polynomials': 1, 'functions': ['cos'], 'function_names': ['cos'], 'width': 1, 'degree_input_denominator': 2, 'degree_output_denominator': 0, 'degree_output_polynomials_specific': [1], 'degree_output_polynomials_denominator_specific': [1], 'enforce_function': False, 'maximal_potence': 3}\n",
      "INFO:root:Number parameters: 36\n",
      "INFO:root:Number parameters active: 36\n"
     ]
    },
    {
     "name": "stdout",
     "output_type": "stream",
     "text": [
      "Training time: 2.9784538745880127\n",
      "Target expression: None\n",
      "Relative l_2-distance train: 0.5865125425608894\n",
      "Relative l_2-distance validation: 0.4152942192447311\n",
      "##### Training #####\n",
      "Number parameters: 36\n",
      "Number parameters active: 36\n"
     ]
    },
    {
     "name": "stderr",
     "output_type": "stream",
     "text": [
      "INFO:root:Number of evaluations: 4208\n",
      "INFO:root:Relative l2 distance train: 0.028524428503353284\n",
      "INFO:root:Relative l2 distance validation: 0.03177562590551201\n",
      "INFO:root:Training time: 2.564307689666748\n",
      "INFO:root:Cumulative training time: 112.07946729660034\n",
      "INFO:root:Cumulative number of evaluations: 140007\n",
      "INFO:root:Model parameters: {'degree_input_polynomials': 2, 'degree_output_polynomials': 1, 'functions': ['cos'], 'function_names': ['cos'], 'width': 1, 'degree_input_denominator': 2, 'degree_output_denominator': 0, 'degree_output_polynomials_specific': [1], 'degree_output_polynomials_denominator_specific': [1], 'enforce_function': True, 'maximal_potence': 3}\n",
      "INFO:root:Number parameters: 31\n",
      "INFO:root:Number parameters active: 31\n"
     ]
    },
    {
     "name": "stdout",
     "output_type": "stream",
     "text": [
      "Training time: 2.564307689666748\n",
      "Target expression: None\n",
      "Relative l_2-distance train: 0.028524428503353284\n",
      "Relative l_2-distance validation: 0.03177562590551201\n",
      "##### Training #####\n",
      "Number parameters: 31\n",
      "Number parameters active: 31\n"
     ]
    },
    {
     "name": "stderr",
     "output_type": "stream",
     "text": [
      "INFO:root:Number of evaluations: 4146\n",
      "INFO:root:Relative l2 distance train: 2.702660595823449\n",
      "INFO:root:Relative l2 distance validation: 2.7073709065421583\n",
      "INFO:root:Training time: 2.2807509899139404\n",
      "INFO:root:Cumulative training time: 114.36330389976501\n",
      "INFO:root:Cumulative number of evaluations: 144153\n",
      "INFO:root:Model parameters: {'degree_input_polynomials': 2, 'degree_output_polynomials': 1, 'functions': ['exp'], 'function_names': ['exp'], 'width': 1, 'degree_input_denominator': 2, 'degree_output_denominator': 0, 'degree_output_polynomials_specific': [1], 'degree_output_polynomials_denominator_specific': [1], 'enforce_function': False, 'maximal_potence': 3}\n",
      "INFO:root:Number parameters: 36\n",
      "INFO:root:Number parameters active: 36\n"
     ]
    },
    {
     "name": "stdout",
     "output_type": "stream",
     "text": [
      "Training time: 2.2807509899139404\n",
      "Target expression: None\n",
      "Relative l_2-distance train: 2.702660595823449\n",
      "Relative l_2-distance validation: 2.7073709065421583\n",
      "##### Training #####\n",
      "Number parameters: 36\n",
      "Number parameters active: 36\n"
     ]
    },
    {
     "name": "stderr",
     "output_type": "stream",
     "text": [
      "INFO:root:Number of evaluations: 1259\n",
      "INFO:root:Relative l2 distance train: 1921.2119911331245\n",
      "INFO:root:Relative l2 distance validation: 1484.4719518660727\n",
      "INFO:root:Training time: 0.8308532238006592\n",
      "INFO:root:Cumulative training time: 115.19729828834534\n",
      "INFO:root:Cumulative number of evaluations: 145412\n",
      "INFO:root:Model parameters: {'degree_input_polynomials': 2, 'degree_output_polynomials': 1, 'functions': ['exp'], 'function_names': ['exp'], 'width': 1, 'degree_input_denominator': 2, 'degree_output_denominator': 0, 'degree_output_polynomials_specific': [1], 'degree_output_polynomials_denominator_specific': [1], 'enforce_function': True, 'maximal_potence': 3}\n",
      "INFO:root:Number parameters: 31\n",
      "INFO:root:Number parameters active: 31\n"
     ]
    },
    {
     "name": "stdout",
     "output_type": "stream",
     "text": [
      "Training time: 0.8308532238006592\n",
      "Target expression: None\n",
      "Relative l_2-distance train: 1921.2119911331245\n",
      "Relative l_2-distance validation: 1484.4719518660727\n",
      "##### Training #####\n",
      "Number parameters: 31\n",
      "Number parameters active: 31\n"
     ]
    },
    {
     "name": "stderr",
     "output_type": "stream",
     "text": [
      "INFO:root:Number of evaluations: 3322\n",
      "INFO:root:Relative l2 distance train: 0.01685649871377114\n",
      "INFO:root:Relative l2 distance validation: 0.01578434387046828\n",
      "INFO:root:Training time: 1.969008445739746\n",
      "INFO:root:Cumulative training time: 117.16991639137268\n",
      "INFO:root:Cumulative number of evaluations: 148734\n",
      "INFO:root:Model parameters: {'degree_input_polynomials': 1, 'degree_output_polynomials': 2, 'functions': ['sqrt'], 'function_names': ['sqrt'], 'width': 1, 'degree_input_denominator': 0, 'degree_output_denominator': 0, 'degree_output_polynomials_specific': [1], 'degree_output_polynomials_denominator_specific': [1], 'enforce_function': False, 'maximal_potence': 3}\n",
      "INFO:root:Number parameters: 25\n",
      "INFO:root:Number parameters active: 25\n"
     ]
    },
    {
     "name": "stdout",
     "output_type": "stream",
     "text": [
      "Training time: 1.969008445739746\n",
      "Target expression: None\n",
      "Relative l_2-distance train: 0.01685649871377114\n",
      "Relative l_2-distance validation: 0.01578434387046828\n",
      "##### Training #####\n",
      "Number parameters: 25\n",
      "Number parameters active: 25\n"
     ]
    },
    {
     "name": "stderr",
     "output_type": "stream",
     "text": [
      "INFO:root:Number of evaluations: 1638\n",
      "INFO:root:Relative l2 distance train: 0.023094336102675007\n",
      "INFO:root:Relative l2 distance validation: 0.023368240903921287\n",
      "INFO:root:Training time: 1.713991403579712\n",
      "INFO:root:Cumulative training time: 118.88674139976501\n",
      "INFO:root:Cumulative number of evaluations: 150372\n",
      "INFO:root:Model parameters: {'degree_input_polynomials': 1, 'degree_output_polynomials': 2, 'functions': ['sqrt'], 'function_names': ['sqrt'], 'width': 1, 'degree_input_denominator': 0, 'degree_output_denominator': 0, 'degree_output_polynomials_specific': [1], 'degree_output_polynomials_denominator_specific': [1], 'enforce_function': True, 'maximal_potence': 3}\n",
      "INFO:root:Number parameters: 10\n",
      "INFO:root:Number parameters active: 10\n"
     ]
    },
    {
     "name": "stdout",
     "output_type": "stream",
     "text": [
      "Training time: 1.713991403579712\n",
      "Target expression: None\n",
      "Relative l_2-distance train: 0.023094336102675007\n",
      "Relative l_2-distance validation: 0.023368240903921287\n",
      "##### Training #####\n",
      "Number parameters: 10\n",
      "Number parameters active: 10\n"
     ]
    },
    {
     "name": "stderr",
     "output_type": "stream",
     "text": [
      "INFO:root:Number of evaluations: 1345\n",
      "INFO:root:Relative l2 distance train: 0.07074495348783953\n",
      "INFO:root:Relative l2 distance validation: 0.07545048232695059\n",
      "INFO:root:Training time: 0.9600250720977783\n",
      "INFO:root:Cumulative training time: 119.84861350059509\n",
      "INFO:root:Cumulative number of evaluations: 151717\n",
      "INFO:root:Model parameters: {'degree_input_polynomials': 1, 'degree_output_polynomials': 2, 'functions': ['cos'], 'function_names': ['cos'], 'width': 1, 'degree_input_denominator': 0, 'degree_output_denominator': 0, 'degree_output_polynomials_specific': [1], 'degree_output_polynomials_denominator_specific': [1], 'enforce_function': False, 'maximal_potence': 3}\n",
      "INFO:root:Number parameters: 25\n",
      "INFO:root:Number parameters active: 25\n"
     ]
    },
    {
     "name": "stdout",
     "output_type": "stream",
     "text": [
      "Training time: 0.9600250720977783\n",
      "Target expression: None\n",
      "Relative l_2-distance train: 0.07074495348783953\n",
      "Relative l_2-distance validation: 0.07545048232695059\n",
      "##### Training #####\n",
      "Number parameters: 25\n",
      "Number parameters active: 25\n"
     ]
    },
    {
     "name": "stderr",
     "output_type": "stream",
     "text": [
      "INFO:root:Number of evaluations: 1843\n",
      "INFO:root:Relative l2 distance train: 0.01961996083352315\n",
      "INFO:root:Relative l2 distance validation: 0.020048714526652953\n",
      "INFO:root:Training time: 1.677692174911499\n",
      "INFO:root:Cumulative training time: 121.52869749069214\n",
      "INFO:root:Cumulative number of evaluations: 153560\n",
      "INFO:root:Model parameters: {'degree_input_polynomials': 1, 'degree_output_polynomials': 2, 'functions': ['cos'], 'function_names': ['cos'], 'width': 1, 'degree_input_denominator': 0, 'degree_output_denominator': 0, 'degree_output_polynomials_specific': [1], 'degree_output_polynomials_denominator_specific': [1], 'enforce_function': True, 'maximal_potence': 3}\n",
      "INFO:root:Number parameters: 10\n",
      "INFO:root:Number parameters active: 10\n"
     ]
    },
    {
     "name": "stdout",
     "output_type": "stream",
     "text": [
      "Training time: 1.677692174911499\n",
      "Target expression: None\n",
      "Relative l_2-distance train: 0.01961996083352315\n",
      "Relative l_2-distance validation: 0.020048714526652953\n",
      "##### Training #####\n",
      "Number parameters: 10\n",
      "Number parameters active: 10\n"
     ]
    },
    {
     "name": "stderr",
     "output_type": "stream",
     "text": [
      "INFO:root:Number of evaluations: 1505\n",
      "INFO:root:Relative l2 distance train: 0.07449497672403774\n",
      "INFO:root:Relative l2 distance validation: 0.07217949785265211\n",
      "INFO:root:Training time: 1.1680881977081299\n",
      "INFO:root:Cumulative training time: 122.69954562187195\n",
      "INFO:root:Cumulative number of evaluations: 155065\n",
      "INFO:root:Model parameters: {'degree_input_polynomials': 1, 'degree_output_polynomials': 2, 'functions': ['exp'], 'function_names': ['exp'], 'width': 1, 'degree_input_denominator': 0, 'degree_output_denominator': 0, 'degree_output_polynomials_specific': [1], 'degree_output_polynomials_denominator_specific': [1], 'enforce_function': False, 'maximal_potence': 3}\n",
      "INFO:root:Number parameters: 25\n",
      "INFO:root:Number parameters active: 25\n"
     ]
    },
    {
     "name": "stdout",
     "output_type": "stream",
     "text": [
      "Training time: 1.1680881977081299\n",
      "Target expression: None\n",
      "Relative l_2-distance train: 0.07449497672403774\n",
      "Relative l_2-distance validation: 0.07217949785265211\n",
      "##### Training #####\n",
      "Number parameters: 25\n",
      "Number parameters active: 25\n"
     ]
    },
    {
     "name": "stderr",
     "output_type": "stream",
     "text": [
      "INFO:root:Number of evaluations: 1910\n",
      "INFO:root:Relative l2 distance train: 0.023182569087206378\n",
      "INFO:root:Relative l2 distance validation: 0.02366105303802664\n",
      "INFO:root:Training time: 1.911085605621338\n",
      "INFO:root:Cumulative training time: 124.61307835578918\n",
      "INFO:root:Cumulative number of evaluations: 156975\n",
      "INFO:root:Model parameters: {'degree_input_polynomials': 1, 'degree_output_polynomials': 2, 'functions': ['exp'], 'function_names': ['exp'], 'width': 1, 'degree_input_denominator': 0, 'degree_output_denominator': 0, 'degree_output_polynomials_specific': [1], 'degree_output_polynomials_denominator_specific': [1], 'enforce_function': True, 'maximal_potence': 3}\n",
      "INFO:root:Number parameters: 10\n",
      "INFO:root:Number parameters active: 10\n"
     ]
    },
    {
     "name": "stdout",
     "output_type": "stream",
     "text": [
      "Training time: 1.911085605621338\n",
      "Target expression: None\n",
      "Relative l_2-distance train: 0.023182569087206378\n",
      "Relative l_2-distance validation: 0.02366105303802664\n",
      "##### Training #####\n",
      "Number parameters: 10\n",
      "Number parameters active: 10\n"
     ]
    },
    {
     "name": "stderr",
     "output_type": "stream",
     "text": [
      "INFO:root:Number of evaluations: 1524\n",
      "INFO:root:Relative l2 distance train: 0.14601914640181246\n",
      "INFO:root:Relative l2 distance validation: 0.13643488602978696\n",
      "INFO:root:Training time: 1.0903465747833252\n",
      "INFO:root:Cumulative training time: 125.705246925354\n",
      "INFO:root:Cumulative number of evaluations: 158499\n",
      "INFO:root:Model parameters: {'degree_input_polynomials': 2, 'degree_output_polynomials': 2, 'functions': ['sqrt'], 'function_names': ['sqrt'], 'width': 1, 'degree_input_denominator': 0, 'degree_output_denominator': 0, 'degree_output_polynomials_specific': [1], 'degree_output_polynomials_denominator_specific': [1], 'enforce_function': False, 'maximal_potence': 3}\n",
      "INFO:root:Number parameters: 35\n",
      "INFO:root:Number parameters active: 35\n"
     ]
    },
    {
     "name": "stdout",
     "output_type": "stream",
     "text": [
      "Training time: 1.0903465747833252\n",
      "Target expression: None\n",
      "Relative l_2-distance train: 0.14601914640181246\n",
      "Relative l_2-distance validation: 0.13643488602978696\n",
      "##### Training #####\n",
      "Number parameters: 35\n",
      "Number parameters active: 35\n"
     ]
    },
    {
     "name": "stderr",
     "output_type": "stream",
     "text": [
      "INFO:root:Number of evaluations: 4027\n",
      "INFO:root:Relative l2 distance train: 0.00032481008631229984\n",
      "INFO:root:Relative l2 distance validation: 0.00032817492889557887\n",
      "INFO:root:Training time: 3.848068952560425\n",
      "INFO:root:Cumulative training time: 129.55636739730835\n",
      "INFO:root:Cumulative number of evaluations: 162526\n",
      "INFO:root:New best relative l2 distance validation: 0.00032817492889557887\n",
      "INFO:root:Model parameters: {'degree_input_polynomials': 2, 'degree_output_polynomials': 2, 'functions': ['sqrt'], 'function_names': ['sqrt'], 'width': 1, 'degree_input_denominator': 0, 'degree_output_denominator': 0, 'degree_output_polynomials_specific': [1], 'degree_output_polynomials_denominator_specific': [1], 'enforce_function': True, 'maximal_potence': 3}\n",
      "INFO:root:Number parameters: 20\n",
      "INFO:root:Number parameters active: 20\n"
     ]
    },
    {
     "name": "stdout",
     "output_type": "stream",
     "text": [
      "Training time: 3.848068952560425\n",
      "Target expression: None\n",
      "Relative l_2-distance train: 0.00032481008631229984\n",
      "Relative l_2-distance validation: 0.00032817492889557887\n",
      "##### Training #####\n",
      "Number parameters: 20\n",
      "Number parameters active: 20\n"
     ]
    },
    {
     "name": "stderr",
     "output_type": "stream",
     "text": [
      "INFO:root:Number of evaluations: 4726\n",
      "INFO:root:Relative l2 distance train: 7.53151849457589e-06\n",
      "INFO:root:Relative l2 distance validation: 8.180310709956026e-06\n",
      "INFO:root:Training time: 3.5112245082855225\n",
      "INFO:root:Cumulative training time: 133.07068252563477\n",
      "INFO:root:Cumulative number of evaluations: 167252\n",
      "INFO:root:New best relative l2 distance validation: 8.180310709956026e-06\n",
      "INFO:root:Terminate proccess, wanted accuracy 0.001 and number of active parameters 4 / 10 was reached\n",
      "INFO:root:Time for multiprocessing in total: 133.2012062072754\n",
      "INFO:root:Finetuning with this cut off would not change anything.\n"
     ]
    },
    {
     "name": "stdout",
     "output_type": "stream",
     "text": [
      "Training time: 3.5112245082855225\n",
      "Target expression: None\n",
      "Relative l_2-distance train: 7.53151849457589e-06\n",
      "Relative l_2-distance validation: 8.180310709956026e-06\n",
      "Terminate proccess, wanted accuracy 0.001 and number of active parameters 4 / 10 was reached\n"
     ]
    },
    {
     "name": "stderr",
     "output_type": "stream",
     "text": [
      "INFO:root:Finetuning with this cut off would not change anything.\n",
      "INFO:root:Finetuning with this cut off would not change anything.\n",
      "INFO:root:Finetuning with this cut off would not change anything.\n",
      "INFO:root:Finetuning with this cut off would not change anything.\n",
      "INFO:root:Best distance (train, val, test): (tensor(7.5315e-06, dtype=torch.float64), tensor(8.1803e-06, dtype=torch.float64), tensor(7.8988e-06, dtype=torch.float64))\n",
      "INFO:root:Best formula: 1.133*x0*sqrt(Abs(0.779*x1**2 + 0.779*x2**2 + 0.779*x3**2)) best training time: 3.5112245082855225\n"
     ]
    }
   ],
   "source": [
    "# If one has more time, one can also simply use the 'big' configuration (config_files/wrapper/big.ini) in the following way\n",
    "parfam = ParFamWrapper(iterate=True, config_name='big')\n",
    "parfam.fit(x, y, seed=1234, time_limit=500)"
   ]
  },
  {
   "cell_type": "code",
   "execution_count": 19,
   "metadata": {},
   "outputs": [
    {
     "name": "stdout",
     "output_type": "stream",
     "text": [
      "Target formula: mom*(x**2 + y**2 + z**2)**0.5\n",
      "Computed formula: 0.999996865495087*x0*sqrt(Abs(x1**2 + x2**2 + x3**2))\n"
     ]
    }
   ],
   "source": [
    "print(f'Target formula: {target_expr}')\n",
    "print(f'Computed formula: {parfam.formula_reduced.simplify()}')"
   ]
  },
  {
   "cell_type": "code",
   "execution_count": 20,
   "metadata": {},
   "outputs": [
    {
     "name": "stdout",
     "output_type": "stream",
     "text": [
      "Relative l2 distance: 3.357728362046558e-08\n"
     ]
    }
   ],
   "source": [
    "y_pred = parfam.predict(x).cpu().detach().numpy()\n",
    "print(f'Relative l2 distance: {np.linalg.norm(y - y_pred, ord=2) / np.linalg.norm(y, ord=2)}')"
   ]
  },
  {
   "cell_type": "markdown",
   "metadata": {},
   "source": [
    "# Custom loss\n",
    "\n",
    "Try the custom_loss from parfam_wrapper:\n",
    "\n",
    "Instead of fitting f(x) to y (||f(x)-y||), fit f(x) to y^2 (||f(x)-y^2||). In this case, the same could be achieved with by simply recasting $\\tilde y= y^2$, but this custom_loss can be modified to arbitrary settings, that might be not possible otherwise."
   ]
  },
  {
   "cell_type": "code",
   "execution_count": null,
   "metadata": {},
   "outputs": [
    {
     "name": "stderr",
     "output_type": "stream",
     "text": [
      "INFO:root:Sequential computation\n",
      "INFO:root:Model parameters: {'degree_input_polynomials': 2, 'degree_output_polynomials': 4, 'degree_input_denominator': 0, 'degree_output_denominator': 0, 'degree_output_polynomials_specific': [], 'degree_output_polynomials_denominator_specific': [], 'width': 1, 'function_names': [], 'enforce_function': False, 'maximal_potence': 4, 'functions': []}\n",
      "INFO:root:Number parameters: 5\n",
      "INFO:root:Number parameters active: 5\n"
     ]
    },
    {
     "name": "stdout",
     "output_type": "stream",
     "text": [
      "Training parameters: {'normalization': False, 'time_limit': 100, 'evaluations_limit': 1000000, 'max_dataset_length': 500, 'model': 'ParFamTorch', 'target_noise': 0.0, 'feature_noise': 0.0, 'seed': 1234, 'accuracy': 0.0001, 'maxiter1': 100, 'maxiter2': 0, 'optimizer': 'basinhopping', 'pruning_iterations': 1, 'pruning_cut_off': 0.01, 'classifier': None, 'local_minimizer': 'BFGS', 'maxiter_per_dim_local_minimizer': 100, 'lambda_1': 0.001, 'repetitions': 1, 'parallel': False, 'n_processes': 4, 'lambda_1_cut': 0, 'lambda_1_piecewise': 0, 'device': 'cpu', 'iterative_finetuning': True, 'max_n_active_parameters': 10, 'lambda_1_finetuning': 1e-05, 'path_pretrained': 'Flexible dimension/full_19_big_training_sets/20240427_070711_5M/Datetime_20240427_070717_Loss_training_set_size_797545_batch_size_341_hidden_dim_256.pt', 'topk_predictions': 10, 'enforce_function_iterate': 'False'}\n",
      "Sequential computation\n",
      "##### Training #####\n",
      "Number parameters: 5\n",
      "Number parameters active: 5\n"
     ]
    },
    {
     "name": "stderr",
     "output_type": "stream",
     "text": [
      "INFO:root:Number of evaluations: 0\n",
      "INFO:root:Custom loss train: 2.242207231256821e-07\n",
      "INFO:root:Custom loss val: 2.611264088802875e-07\n",
      "INFO:root:Training time: 0.6437020301818848\n",
      "INFO:root:Cumulative training time: 0.645289421081543\n",
      "INFO:root:Cumulative number of evaluations: 0\n",
      "INFO:root:New best custom loss validation: 2.611264088802875e-07\n",
      "INFO:root:Terminate proccess, wanted accuracy 0.001 and number of active parameters 2 / 10 was reached\n",
      "INFO:root:Time for multiprocessing in total: 0.6487636566162109\n",
      "INFO:root:Finetuning with this cut off would not change anything.\n",
      "INFO:root:Finetuning with this cut off would not change anything.\n",
      "INFO:root:Finetuning with this cut off would not change anything.\n",
      "INFO:root:Finetuning with this cut off would not change anything.\n",
      "INFO:root:Finetuning with this cut off would not change anything.\n",
      "INFO:root:Finetuning with this cut off would not change anything.\n",
      "INFO:root:Finetuning with this cut off would not change anything.\n",
      "INFO:root:Best distance (train, val, test): (tensor(2.2422e-07, dtype=torch.float64), tensor(2.6113e-07, dtype=torch.float64), tensor(2.4205e-07, dtype=torch.float64))\n",
      "INFO:root:Best formula: 1.0*x0**2 + 1.0*x0 best training time: 0.6437020301818848\n"
     ]
    },
    {
     "name": "stdout",
     "output_type": "stream",
     "text": [
      "Training time: 0.6437020301818848\n",
      "Target expression: None\n",
      "Custom loss train: 2.242207231256821e-07\n",
      "Custom loss val: 2.611264088802875e-07\n",
      "Terminate proccess, wanted accuracy 0.001 and number of active parameters 2 / 10 was reached\n",
      "Stop\n",
      "Caught exception: size mismatch, got input (300), mat (300x5), vec (2)\n"
     ]
    },
    {
     "data": {
      "text/plain": [
       "<matplotlib.legend.Legend at 0x7f474793a990>"
      ]
     },
     "execution_count": 21,
     "metadata": {},
     "output_type": "execute_result"
    },
    {
     "data": {
      "image/png": "[encoded data removed]",
      "text/plain": [
       "<Figure size 640x480 with 1 Axes>"
      ]
     },
     "metadata": {},
     "output_type": "display_data"
    }
   ],
   "source": [
    "functions = []\n",
    "function_names = []\n",
    "\n",
    "n_data_points = 500 \n",
    "\n",
    "x = np.linspace(0, 5, n_data_points).reshape(n_data_points,1)\n",
    "y = ((x**2 + x)**(1/2)).flatten()\n",
    "\n",
    "def custom_loss(y_pred, y):\n",
    "    return torch.norm(y_pred - y**2, p=2) / torch.norm(y, p=2)\n",
    "\n",
    "parfam = ParFamWrapper(config_name='small', iterate=False, degree_input_denominator=0, degree_output_denominator=0, function_names=function_names, functions=functions, \n",
    "                        degree_output_numerator=4, maximal_potence=4)\n",
    "parfam.fit(x=x, y=y, custom_loss=custom_loss)\n",
    "\n",
    "b_pred = parfam.predict(a)\n",
    "\n",
    "plt.plot(x, y**2, '+', label='Samples squared')\n",
    "plt.plot(x, y_pred, label='Prediction')\n",
    "plt.legend()"
   ]
  },
  {
   "cell_type": "code",
   "execution_count": 22,
   "metadata": {},
   "outputs": [
    {
     "data": {
      "text/latex": [
       "$\\displaystyle 1.0 x^{2} + 1.0 x$"
      ],
      "text/plain": [
       "1.0*x**2 + 1.0*x"
      ]
     },
     "execution_count": 22,
     "metadata": {},
     "output_type": "execute_result"
    }
   ],
   "source": [
    "parfam.get_formula(['x'])"
   ]
  },
  {
   "cell_type": "markdown",
   "metadata": {},
   "source": []
  }
 ],
 "metadata": {
  "kernelspec": {
   "display_name": "parfam",
   "language": "python",
   "name": "python3"
  },
  "language_info": {
   "codemirror_mode": {
    "name": "ipython",
    "version": 3
   },
   "file_extension": ".py",
   "mimetype": "text/x-python",
   "name": "python",
   "nbconvert_exporter": "python",
   "pygments_lexer": "ipython3",
   "version": "3.12.2"
  }
 },
 "nbformat": 4,
 "nbformat_minor": 2
}
