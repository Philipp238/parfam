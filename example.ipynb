{
 "cells": [
  {
   "cell_type": "code",
   "execution_count": 4,
   "metadata": {},
   "outputs": [],
   "source": [
    "from parfamwrapper import ParFamWrapper\n",
    "\n",
    "import sympy\n",
    "import torch\n",
    "import numpy as np\n",
    "import matplotlib.pyplot as plt"
   ]
  },
  {
   "cell_type": "code",
   "execution_count": 5,
   "metadata": {},
   "outputs": [],
   "source": [
    "# Collection of function for ParFam to use, can be readily extended\n",
    "\n",
    "function_dict = {'sqrt': lambda x: torch.sqrt(torch.abs(x)),\n",
    "                 'exp': lambda x: torch.minimum(torch.exp(x), np.exp(10) + torch.abs(x)),\n",
    "                 'log': lambda x: torch.log(torch.abs(x) + 0.000001),\n",
    "                 'cos': torch.cos, 'sin': torch.sin}\n",
    "function_name_dict = {'sqrt': lambda x: sympy.sqrt(sympy.Abs(x)), 'exp': sympy.exp, 'cos': sympy.cos, 'sin': sympy.sin,\n",
    "                      'log': lambda x: sympy.log(sympy.Abs(x) + 0.000001)}\n",
    "\n",
    "standard_function_names_str = ['sin', 'sqrt', 'exp', 'sqrt'] \n",
    "standard_functions = [function_dict[key] for key in standard_function_names_str]\n",
    "standard_function_names = [function_name_dict[key] for key in standard_function_names_str]"
   ]
  },
  {
   "cell_type": "markdown",
   "metadata": {},
   "source": [
    "# Basic functionality"
   ]
  },
  {
   "cell_type": "markdown",
   "metadata": {},
   "source": [
    "## One dimensional problem"
   ]
  },
  {
   "cell_type": "code",
   "execution_count": 6,
   "metadata": {},
   "outputs": [
    {
     "name": "stdout",
     "output_type": "stream",
     "text": [
      "(20, 1)\n",
      "Target formula: 0.2*sin(0.0922609269618988*x)/x\n"
     ]
    }
   ],
   "source": [
    "device = 'cpu'\n",
    "\n",
    "a = 2 * torch.randn(1)\n",
    "\n",
    "x = np.arange(1, 5, 0.2)  # 1 dimensional \n",
    "x = x.reshape(len(x), 1)  # 1 dimensional \n",
    "print(x.shape) \n",
    "x = torch.tensor(x, device=device)\n",
    "\n",
    "def func(a, x, module):\n",
    "    # return module.sin((a[0] * x + 1) / (0.1 * x + 2))\n",
    "    # return module.sin((a[0] * x + 1) / (0.1 * x)) \n",
    "    # return module.sin((a[0] * x)) \n",
    "    # return a[0] * x / (1+x)\n",
    "    return 0.2 * module.sin(a[0] * x) / x\n",
    "    # return 0.5 * x / (x + 1)\n",
    "    # return module.log(x + 1.4) + module.log(x ** 2 + 1.3)\n",
    "    # return module.sin(x ** 2) * module.cos(x) - 1\n",
    "\n",
    "y = func(a, x, np).squeeze(1)\n",
    "x_sym = sympy.symbols('x')\n",
    "\n",
    "target_expr = func(a, x_sym, sympy)\n",
    "print(f'Target formula: {target_expr}')"
   ]
  },
  {
   "cell_type": "code",
   "execution_count": 7,
   "metadata": {},
   "outputs": [],
   "source": [
    "# Assuming we already know that only the sin function is necessary:\n",
    "functions = [torch.sin]\n",
    "function_names = [sympy.sin]"
   ]
  },
  {
   "cell_type": "code",
   "execution_count": 8,
   "metadata": {},
   "outputs": [
    {
     "name": "stderr",
     "output_type": "stream",
     "text": [
      "/home/math/scholl/projects/physicalLawLearning/parfam/train.py:1632: UserWarning: To copy construct from a tensor, it is recommended to use sourceTensor.clone().detach() or sourceTensor.clone().detach().requires_grad_(True), rather than torch.tensor(sourceTensor).\n",
      "  x, y = torch.tensor(x, device=training_parameters['device']), torch.tensor(y, device=training_parameters['device'])\n",
      "INFO:root:Sequential computation\n",
      "INFO:root:Model parameters: {'degree_input_polynomials': 0, 'degree_output_polynomials': 2, 'degree_output_denominator': 0, 'degree_input_denominator': 0, 'function_names': [], 'width': 1, 'functions': [], 'degree_output_polynomials_specific': None, 'degree_output_polynomials_denominator_specific': None, 'enforce_function': False, 'maximal_potence': 3}\n",
      "INFO:root:Number parameters: 3\n",
      "INFO:root:Number parameters active: 3\n"
     ]
    },
    {
     "name": "stdout",
     "output_type": "stream",
     "text": [
      "Training parameters: {'normalization': False, 'time_limit': 100, 'evaluations_limit': 1000000, 'max_dataset_length': 20, 'model': 'ParFamTorch', 'target_noise': 0.0, 'feature_noise': 0.0, 'seed': 1234, 'accuracy': 0.0001, 'maxiter1': 100, 'maxiter2': 0, 'optimizer': 'basinhopping', 'pruning_iterations': 1, 'pruning_cut_off': 0.01, 'classifier': None, 'local_minimizer': 'BFGS', 'maxiter_per_dim_local_minimizer': 100, 'lambda_1': 0.001, 'repetitions': 1, 'parallel': False, 'n_processes': 4, 'lambda_1_cut': 0, 'lambda_1_piecewise': 0, 'device': 'cpu', 'iterative_finetuning': True, 'max_n_active_parameters': 10, 'lambda_1_finetuning': 1e-05, 'path_pretrained': 'Flexible dimension/full_19_big_training_sets/20240427_070711_5M/Datetime_20240427_070717_Loss_training_set_size_797545_batch_size_341_hidden_dim_256.pt', 'topk_predictions': 10, 'enforce_function_iterate': 'False'}\n",
      "Sequential computation\n",
      "##### Training #####\n",
      "Number parameters: 3\n",
      "Number parameters active: 3\n"
     ]
    },
    {
     "name": "stderr",
     "output_type": "stream",
     "text": [
      "INFO:root:Number of evaluations: 712\n",
      "INFO:root:Relative l2 distance train: 0.000732251937132936\n",
      "INFO:root:Relative l2 distance validation: 0.0012345963500160944\n",
      "INFO:root:Training time: 0.19450640678405762\n",
      "INFO:root:Cumulative training time: 0.19703388214111328\n",
      "INFO:root:Cumulative number of evaluations: 712\n",
      "INFO:root:New best relative l2 distance validation: 0.0012345963500160944\n",
      "INFO:root:Model parameters: {'degree_input_polynomials': 0, 'degree_output_polynomials': 1, 'degree_output_denominator': 1, 'degree_input_denominator': 0, 'functions': [], 'function_names': [], 'width': 1, 'degree_output_polynomials_specific': None, 'degree_output_polynomials_denominator_specific': None, 'enforce_function': False, 'maximal_potence': 3}\n",
      "INFO:root:Number parameters: 4\n",
      "INFO:root:Number parameters active: 4\n"
     ]
    },
    {
     "name": "stdout",
     "output_type": "stream",
     "text": [
      "Training time: 0.19450640678405762\n",
      "Target expression: None\n",
      "Relative l_2-distance train: 0.000732251937132936\n",
      "Relative l_2-distance validation: 0.0012345963500160944\n",
      "##### Training #####\n",
      "Number parameters: 4\n",
      "Number parameters active: 4\n"
     ]
    },
    {
     "name": "stderr",
     "output_type": "stream",
     "text": [
      "INFO:root:Number of evaluations: 2087\n",
      "INFO:root:Relative l2 distance train: 0.4841033518183892\n",
      "INFO:root:Relative l2 distance validation: 0.5475760989391464\n",
      "INFO:root:Training time: 0.6803522109985352\n",
      "INFO:root:Cumulative training time: 0.8787221908569336\n",
      "INFO:root:Cumulative number of evaluations: 2799\n",
      "INFO:root:Model parameters: {'degree_input_polynomials': 0, 'degree_output_polynomials': 2, 'degree_output_denominator': 1, 'degree_input_denominator': 0, 'functions': [], 'function_names': [], 'width': 1, 'degree_output_polynomials_specific': None, 'degree_output_polynomials_denominator_specific': None, 'enforce_function': False, 'maximal_potence': 3}\n",
      "INFO:root:Number parameters: 5\n",
      "INFO:root:Number parameters active: 5\n"
     ]
    },
    {
     "name": "stdout",
     "output_type": "stream",
     "text": [
      "Training time: 0.6803522109985352\n",
      "Target expression: None\n",
      "Relative l_2-distance train: 0.4841033518183892\n",
      "Relative l_2-distance validation: 0.5475760989391464\n",
      "##### Training #####\n",
      "Number parameters: 5\n",
      "Number parameters active: 5\n"
     ]
    },
    {
     "name": "stderr",
     "output_type": "stream",
     "text": [
      "INFO:root:Number of evaluations: 1898\n",
      "INFO:root:Relative l2 distance train: 0.05967455767987764\n",
      "INFO:root:Relative l2 distance validation: 0.0789699609947599\n",
      "INFO:root:Training time: 0.6200611591339111\n",
      "INFO:root:Cumulative training time: 1.50014328956604\n",
      "INFO:root:Cumulative number of evaluations: 4697\n",
      "INFO:root:Model parameters: {'degree_input_polynomials': 1, 'degree_output_polynomials': 1, 'functions': ['function_0'], 'function_names': ['function_0'], 'width': 1, 'degree_input_denominator': 0, 'degree_output_denominator': 0, 'degree_output_polynomials_specific': [1], 'degree_output_polynomials_denominator_specific': [1], 'enforce_function': False, 'maximal_potence': 3}\n",
      "INFO:root:Number parameters: 5\n",
      "INFO:root:Number parameters active: 5\n"
     ]
    },
    {
     "name": "stdout",
     "output_type": "stream",
     "text": [
      "Training time: 0.6200611591339111\n",
      "Target expression: None\n",
      "Relative l_2-distance train: 0.05967455767987764\n",
      "Relative l_2-distance validation: 0.0789699609947599\n",
      "##### Training #####\n",
      "Number parameters: 5\n",
      "Number parameters active: 5\n"
     ]
    },
    {
     "name": "stderr",
     "output_type": "stream",
     "text": [
      "INFO:root:Number of evaluations: 1366\n",
      "INFO:root:Relative l2 distance train: 0.00042718391016134845\n",
      "INFO:root:Relative l2 distance validation: 0.0006257447632730634\n",
      "INFO:root:Training time: 0.5482444763183594\n",
      "INFO:root:Cumulative training time: 2.0499908924102783\n",
      "INFO:root:Cumulative number of evaluations: 6063\n",
      "INFO:root:New best relative l2 distance validation: 0.0006257447632730634\n",
      "INFO:root:Terminate proccess, wanted accuracy 0.001 and number of active parameters 3 / 10 was reached\n",
      "INFO:root:Time for multiprocessing in total: 2.0574092864990234\n",
      "INFO:root:Finetuning with this cut off would not change anything.\n",
      "INFO:root:Finetuning with this cut off would not change anything.\n",
      "INFO:root:Finetuning with this cut off would not change anything.\n",
      "INFO:root:Finetuning with this cut off would not change anything.\n",
      "INFO:root:Finetuning with this cut off would not change anything.\n",
      "INFO:root:Finetuning with this cut off would not change anything.\n",
      "INFO:root:Best distance (train, val, test): (tensor(0.0004, dtype=torch.float64), tensor(0.0006, dtype=torch.float64), tensor(0.0006, dtype=torch.float64))\n",
      "INFO:root:Best formula: 0.006*x0 - 1.157*sin(0.008*x0 - 0.882) - 0.875 best training time: 0.5482444763183594\n"
     ]
    },
    {
     "name": "stdout",
     "output_type": "stream",
     "text": [
      "Training time: 0.5482444763183594\n",
      "Target expression: None\n",
      "Relative l_2-distance train: 0.00042718391016134845\n",
      "Relative l_2-distance validation: 0.0006257447632730634\n",
      "Terminate proccess, wanted accuracy 0.001 and number of active parameters 3 / 10 was reached\n"
     ]
    }
   ],
   "source": [
    "# The config picks defines all the model and training parameter choices. See config_files/wrapper. 'small' is the default. For bigger experiments, for example those in SRBench, choose 'big'.\n",
    "# Every additional variable overwrites the settings in the config. E.g., we restrict the functions we use to being simply the sin function.\n",
    "parfam = ParFamWrapper(config_name='small', iterate=True, functions=functions, function_names=function_names)\n",
    "parfam.fit(x, y, time_limit=100)  # time_limit is in seconds, might have to be higher for higher dimensions and more complicated parametric families"
   ]
  },
  {
   "cell_type": "code",
   "execution_count": 9,
   "metadata": {},
   "outputs": [
    {
     "name": "stdout",
     "output_type": "stream",
     "text": [
      "Target formula: 0.2*sin(0.0922609269618988*x)/x\n",
      "Computed formula: 0.006*x0 - 1.157*sin(0.008*x0 - 0.882) - 0.875\n"
     ]
    }
   ],
   "source": [
    "print(f'Target formula: {target_expr}')\n",
    "print(f'Computed formula: {parfam.formula_reduced.simplify()}')"
   ]
  },
  {
   "cell_type": "code",
   "execution_count": 10,
   "metadata": {},
   "outputs": [
    {
     "data": {
      "image/png": "[encoded data removed]",
      "text/plain": [
       "<Figure size 640x480 with 1 Axes>"
      ]
     },
     "metadata": {},
     "output_type": "display_data"
    },
    {
     "name": "stdout",
     "output_type": "stream",
     "text": [
      "Relative l2 distance: 5.170813453957574e-06\n"
     ]
    }
   ],
   "source": [
    "y_pred = parfam.predict(x).cpu().detach().numpy()\n",
    "plt.plot(x, y, '+', label='Samples')\n",
    "plt.plot(x, y_pred, label='Prediction')\n",
    "plt.legend()\n",
    "plt.show()\n",
    "\n",
    "print(f'Relative l2 distance: {np.linalg.norm(y - y_pred, ord=2) / np.linalg.norm(y, ord=2)}')\n"
   ]
  },
  {
   "cell_type": "markdown",
   "metadata": {},
   "source": [
    "## 2 dimensional problem"
   ]
  },
  {
   "cell_type": "code",
   "execution_count": 11,
   "metadata": {},
   "outputs": [
    {
     "name": "stdout",
     "output_type": "stream",
     "text": [
      "(100, 2)\n",
      "Target formula: x1*sin(x0)\n"
     ]
    }
   ],
   "source": [
    "a = 2 * torch.randn(1)\n",
    "x = np.sort(np.random.uniform(-1.2, 5, 100))\n",
    "x = np.random.uniform(-3, 3, 200).reshape(100, 2)\n",
    "print(x.shape)\n",
    "x = torch.tensor(x, device=device)\n",
    "\n",
    "def func(a, x, module):\n",
    "    return module.sin(x[0]) * x[1]\n",
    "\n",
    "\n",
    "y = func(a, x.T, np)\n",
    "x_sym = []\n",
    "for i in range(x.shape[1]):\n",
    "    x_sym.append(sympy.symbols(f'x{i}'))\n",
    "target_expr = func(a, x_sym, sympy)\n",
    "print(f'Target formula: {target_expr}')"
   ]
  },
  {
   "cell_type": "code",
   "execution_count": 12,
   "metadata": {},
   "outputs": [],
   "source": [
    "# Assuming we already know that only the sin function is necessary:\n",
    "functions = [torch.sin]\n",
    "function_names = [sympy.sin]"
   ]
  },
  {
   "cell_type": "code",
   "execution_count": 13,
   "metadata": {},
   "outputs": [
    {
     "name": "stderr",
     "output_type": "stream",
     "text": [
      "/home/math/scholl/projects/physicalLawLearning/parfam/train.py:1632: UserWarning: To copy construct from a tensor, it is recommended to use sourceTensor.clone().detach() or sourceTensor.clone().detach().requires_grad_(True), rather than torch.tensor(sourceTensor).\n",
      "  x, y = torch.tensor(x, device=training_parameters['device']), torch.tensor(y, device=training_parameters['device'])\n",
      "INFO:root:Sequential computation\n",
      "INFO:root:Model parameters: {'degree_input_polynomials': 0, 'degree_output_polynomials': 2, 'degree_output_denominator': 0, 'degree_input_denominator': 0, 'function_names': [], 'width': 1, 'functions': [], 'degree_output_polynomials_specific': None, 'degree_output_polynomials_denominator_specific': None, 'enforce_function': False, 'maximal_potence': 3}\n",
      "INFO:root:Number parameters: 6\n",
      "INFO:root:Number parameters active: 6\n",
      "INFO:root:Number of evaluations: 200\n",
      "INFO:root:Relative l2 distance train: 0.5690579841034251\n",
      "INFO:root:Relative l2 distance validation: 0.6784908353482222\n",
      "INFO:root:Training time: 0.06549215316772461\n",
      "INFO:root:Cumulative training time: 0.06769132614135742\n",
      "INFO:root:Cumulative number of evaluations: 200\n",
      "INFO:root:New best relative l2 distance validation: 0.6784908353482222\n",
      "INFO:root:Model parameters: {'degree_input_polynomials': 1, 'degree_output_polynomials': 1, 'functions': ['function_0'], 'function_names': ['function_0'], 'width': 1, 'degree_input_denominator': 0, 'degree_output_denominator': 0, 'degree_output_polynomials_specific': [1], 'degree_output_polynomials_denominator_specific': [1], 'enforce_function': False, 'maximal_potence': 3}\n",
      "INFO:root:Number parameters: 7\n",
      "INFO:root:Number parameters active: 7\n"
     ]
    },
    {
     "name": "stdout",
     "output_type": "stream",
     "text": [
      "Training parameters: {'normalization': False, 'time_limit': 100, 'evaluations_limit': 1000000, 'max_dataset_length': 100, 'model': 'ParFamTorch', 'target_noise': 0.0, 'feature_noise': 0.0, 'seed': 1234, 'accuracy': 0.0001, 'maxiter1': 100, 'maxiter2': 0, 'optimizer': 'basinhopping', 'pruning_iterations': 1, 'pruning_cut_off': 0.01, 'classifier': None, 'local_minimizer': 'BFGS', 'maxiter_per_dim_local_minimizer': 100, 'lambda_1': 0.001, 'repetitions': 1, 'parallel': False, 'n_processes': 4, 'lambda_1_cut': 0, 'lambda_1_piecewise': 0, 'device': 'cpu', 'iterative_finetuning': True, 'max_n_active_parameters': 10, 'lambda_1_finetuning': 1e-05, 'path_pretrained': 'Flexible dimension/full_19_big_training_sets/20240427_070711_5M/Datetime_20240427_070717_Loss_training_set_size_797545_batch_size_341_hidden_dim_256.pt', 'topk_predictions': 10, 'enforce_function_iterate': 'False'}\n",
      "Sequential computation\n",
      "##### Training #####\n",
      "Number parameters: 6\n",
      "Number parameters active: 6\n",
      "Training time: 0.06549215316772461\n",
      "Target expression: None\n",
      "Relative l_2-distance train: 0.5690579841034251\n",
      "Relative l_2-distance validation: 0.6784908353482222\n",
      "##### Training #####\n",
      "Number parameters: 7\n",
      "Number parameters active: 7\n"
     ]
    },
    {
     "name": "stderr",
     "output_type": "stream",
     "text": [
      "INFO:root:Number of evaluations: 277\n",
      "INFO:root:Relative l2 distance train: 0.8638941648222552\n",
      "INFO:root:Relative l2 distance validation: 1.0674714158508152\n",
      "INFO:root:Training time: 0.11748671531677246\n",
      "INFO:root:Cumulative training time: 0.18630552291870117\n",
      "INFO:root:Cumulative number of evaluations: 477\n",
      "INFO:root:Model parameters: {'degree_input_polynomials': 2, 'degree_output_polynomials': 1, 'functions': ['function_0'], 'function_names': ['function_0'], 'width': 1, 'degree_input_denominator': 0, 'degree_output_denominator': 0, 'degree_output_polynomials_specific': [1], 'degree_output_polynomials_denominator_specific': [1], 'enforce_function': False, 'maximal_potence': 3}\n",
      "INFO:root:Number parameters: 10\n",
      "INFO:root:Number parameters active: 10\n"
     ]
    },
    {
     "name": "stdout",
     "output_type": "stream",
     "text": [
      "Training time: 0.11748671531677246\n",
      "Target expression: None\n",
      "Relative l_2-distance train: 0.8638941648222552\n",
      "Relative l_2-distance validation: 1.0674714158508152\n",
      "##### Training #####\n",
      "Number parameters: 10\n",
      "Number parameters active: 10\n"
     ]
    },
    {
     "name": "stderr",
     "output_type": "stream",
     "text": [
      "INFO:root:Number of evaluations: 615\n",
      "INFO:root:Relative l2 distance train: 0.8978929244860187\n",
      "INFO:root:Relative l2 distance validation: 1.1173049372256418\n",
      "INFO:root:Training time: 0.25736141204833984\n",
      "INFO:root:Cumulative training time: 0.44507765769958496\n",
      "INFO:root:Cumulative number of evaluations: 1092\n",
      "INFO:root:Model parameters: {'degree_input_polynomials': 1, 'degree_output_polynomials': 2, 'functions': ['function_0'], 'function_names': ['function_0'], 'width': 1, 'degree_input_denominator': 0, 'degree_output_denominator': 0, 'degree_output_polynomials_specific': [1], 'degree_output_polynomials_denominator_specific': [1], 'enforce_function': False, 'maximal_potence': 3}\n",
      "INFO:root:Number parameters: 12\n",
      "INFO:root:Number parameters active: 12\n"
     ]
    },
    {
     "name": "stdout",
     "output_type": "stream",
     "text": [
      "Training time: 0.25736141204833984\n",
      "Target expression: None\n",
      "Relative l_2-distance train: 0.8978929244860187\n",
      "Relative l_2-distance validation: 1.1173049372256418\n",
      "##### Training #####\n",
      "Number parameters: 12\n",
      "Number parameters active: 12\n"
     ]
    },
    {
     "name": "stderr",
     "output_type": "stream",
     "text": [
      "INFO:root:Number of evaluations: 2131\n",
      "INFO:root:Relative l2 distance train: 4.617569426005576e-08\n",
      "INFO:root:Relative l2 distance validation: 4.4911296927552924e-08\n",
      "INFO:root:Training time: 1.2129127979278564\n",
      "INFO:root:Cumulative training time: 1.6593613624572754\n",
      "INFO:root:Cumulative number of evaluations: 3223\n",
      "INFO:root:New best relative l2 distance validation: 4.4911296927552924e-08\n",
      "INFO:root:Terminate proccess, wanted accuracy 0.001 and number of active parameters 2 / 10 was reached\n",
      "INFO:root:Time for multiprocessing in total: 1.6662180423736572\n",
      "INFO:root:Finetuning with this cut off would not change anything.\n",
      "INFO:root:Finetuning with this cut off would not change anything.\n",
      "INFO:root:Finetuning with this cut off would not change anything.\n",
      "INFO:root:Finetuning with this cut off would not change anything.\n",
      "INFO:root:Finetuning with this cut off would not change anything.\n",
      "INFO:root:Finetuning with this cut off would not change anything.\n",
      "INFO:root:Finetuning with this cut off would not change anything.\n",
      "INFO:root:Best distance (train, val, test): (tensor(4.6176e-08, dtype=torch.float64), tensor(4.4911e-08, dtype=torch.float64), tensor(4.5534e-08, dtype=torch.float64))\n",
      "INFO:root:Best formula: 1.0*x1*sin(1.0*x0) best training time: 1.2129127979278564\n"
     ]
    },
    {
     "name": "stdout",
     "output_type": "stream",
     "text": [
      "Training time: 1.2129127979278564\n",
      "Target expression: None\n",
      "Relative l_2-distance train: 4.617569426005576e-08\n",
      "Relative l_2-distance validation: 4.4911296927552924e-08\n",
      "Terminate proccess, wanted accuracy 0.001 and number of active parameters 2 / 10 was reached\n"
     ]
    }
   ],
   "source": [
    "parfam = ParFamWrapper(iterate=True, functions=functions, function_names=function_names, degree_input_denominator=0, degree_output_denominator=0)\n",
    "parfam.fit(x, y, time_limit=100)"
   ]
  },
  {
   "cell_type": "code",
   "execution_count": 14,
   "metadata": {},
   "outputs": [
    {
     "name": "stdout",
     "output_type": "stream",
     "text": [
      "Target formula: x1*sin(x0)\n",
      "Computed formula: 1.0*x1*sin(1.0*x0)\n"
     ]
    }
   ],
   "source": [
    "print(f'Target formula: {target_expr}')\n",
    "print(f'Computed formula: {parfam.formula_reduced.simplify()}')\n"
   ]
  },
  {
   "cell_type": "code",
   "execution_count": 15,
   "metadata": {},
   "outputs": [
    {
     "name": "stdout",
     "output_type": "stream",
     "text": [
      "Relative l2 distance: 3.405488039384396e-08\n"
     ]
    }
   ],
   "source": [
    "y_pred = parfam.predict(x).cpu().detach().numpy()\n",
    "print(f'Relative l2 distance: {np.linalg.norm(y - y_pred, ord=2) / np.linalg.norm(y, ord=2)}')"
   ]
  },
  {
   "cell_type": "markdown",
   "metadata": {},
   "source": [
    "# More complicated functions"
   ]
  },
  {
   "cell_type": "markdown",
   "metadata": {},
   "source": [
    "Test now the feynman formula III 10 19:\n",
    "$$mom\\sqrt{x^2+y^2+z^2}$$"
   ]
  },
  {
   "cell_type": "code",
   "execution_count": 16,
   "metadata": {},
   "outputs": [
    {
     "name": "stdout",
     "output_type": "stream",
     "text": [
      "(500, 4)\n",
      "Target formula: mom*(x**2 + y**2 + z**2)**0.5\n"
     ]
    }
   ],
   "source": [
    "n_datapoints = 500\n",
    "dim = 4\n",
    "x = np.random.uniform(1, dim, n_datapoints * dim).reshape(n_datapoints, dim)\n",
    "print(x.shape)\n",
    "x = torch.tensor(x, device=device)\n",
    "\n",
    "def func(x, module):\n",
    "    # return x[0] * (x[1]*(x[2]**2 + x[3]**2 + x[4]**2))**(1/2)\n",
    "    return x[0] * ((x[2]**2 + x[3]**2 + x[1]**2))**(1/2)\n",
    "\n",
    "\n",
    "y = func(x.T, np)\n",
    "# x_sym = [sympy.symbols(symbol) for symbol in ['mom', 'B', 'x', 'y', 'z']]\n",
    "x_sym = [sympy.symbols(symbol) for symbol in ['mom', 'x', 'y', 'z']]\n",
    "# for i in range(x.shape[1]):\n",
    "#     x_sym.append(sympy.symbols(f'x{i}'))\n",
    "target_expr = func(x_sym, sympy)\n",
    "print(f'Target formula: {target_expr}')"
   ]
  },
  {
   "cell_type": "code",
   "execution_count": 17,
   "metadata": {},
   "outputs": [],
   "source": [
    "# Assuming we already know that only the sqrt function is necessary.\n",
    "# If we do not assume this knowledge, we could also just use the variable standard_functions and standard_function_names instead, it just takes more time.\n",
    "# Do not define the sqrt here yourself by just defining it as torch.sqrt, since it is not defined on all reals, which is a problem for the optimizer. Thus, see how it was defined in the function_dict.  \n",
    "functions = [function_dict['sqrt']]\n",
    "function_names = [function_name_dict['sqrt']]"
   ]
  },
  {
   "cell_type": "code",
   "execution_count": 18,
   "metadata": {},
   "outputs": [
    {
     "name": "stderr",
     "output_type": "stream",
     "text": [
      "/home/math/scholl/projects/physicalLawLearning/parfam/train.py:1632: UserWarning: To copy construct from a tensor, it is recommended to use sourceTensor.clone().detach() or sourceTensor.clone().detach().requires_grad_(True), rather than torch.tensor(sourceTensor).\n",
      "  x, y = torch.tensor(x, device=training_parameters['device']), torch.tensor(y, device=training_parameters['device'])\n",
      "INFO:root:Sequential computation\n",
      "INFO:root:Model parameters: {'degree_input_polynomials': 0, 'degree_output_polynomials': 3, 'degree_output_denominator': 0, 'degree_input_denominator': 0, 'function_names': [], 'width': 1, 'functions': [], 'degree_output_polynomials_specific': None, 'degree_output_polynomials_denominator_specific': None, 'enforce_function': False, 'maximal_potence': 3}\n",
      "INFO:root:Number parameters: 35\n",
      "INFO:root:Number parameters active: 35\n"
     ]
    },
    {
     "name": "stdout",
     "output_type": "stream",
     "text": [
      "Training parameters: {'normalization': False, 'time_limit': 100, 'evaluations_limit': 1000000, 'max_dataset_length': 500, 'model': 'ParFamTorch', 'target_noise': 0.0, 'feature_noise': 0.0, 'seed': 1234, 'accuracy': 0.0001, 'maxiter1': 100, 'maxiter2': 0, 'optimizer': 'basinhopping', 'pruning_iterations': 1, 'pruning_cut_off': 0.01, 'classifier': None, 'local_minimizer': 'BFGS', 'maxiter_per_dim_local_minimizer': 100, 'lambda_1': 0.001, 'repetitions': 1, 'parallel': False, 'n_processes': 4, 'lambda_1_cut': 0, 'lambda_1_piecewise': 0, 'device': 'cpu', 'iterative_finetuning': True, 'max_n_active_parameters': 10, 'lambda_1_finetuning': 1e-05, 'path_pretrained': 'Flexible dimension/full_19_big_training_sets/20240427_070711_5M/Datetime_20240427_070717_Loss_training_set_size_797545_batch_size_341_hidden_dim_256.pt', 'topk_predictions': 10, 'enforce_function_iterate': 'False'}\n",
      "Sequential computation\n",
      "##### Training #####\n",
      "Number parameters: 35\n",
      "Number parameters active: 35\n"
     ]
    },
    {
     "name": "stderr",
     "output_type": "stream",
     "text": [
      "INFO:root:Number of evaluations: 1923\n",
      "INFO:root:Relative l2 distance train: 0.004558680468408374\n",
      "INFO:root:Relative l2 distance validation: 0.007646561911086443\n",
      "INFO:root:Training time: 0.8118729591369629\n",
      "INFO:root:Cumulative training time: 0.8146424293518066\n",
      "INFO:root:Cumulative number of evaluations: 1923\n",
      "INFO:root:New best relative l2 distance validation: 0.007646561911086443\n",
      "INFO:root:Model parameters: {'degree_input_polynomials': 1, 'degree_output_polynomials': 1, 'functions': ['function_0'], 'function_names': ['function_0'], 'width': 1, 'degree_input_denominator': 0, 'degree_output_denominator': 0, 'degree_output_polynomials_specific': [1], 'degree_output_polynomials_denominator_specific': [1], 'enforce_function': False, 'maximal_potence': 3}\n",
      "INFO:root:Number parameters: 11\n",
      "INFO:root:Number parameters active: 11\n"
     ]
    },
    {
     "name": "stdout",
     "output_type": "stream",
     "text": [
      "Training time: 0.8118729591369629\n",
      "Target expression: None\n",
      "Relative l_2-distance train: 0.004558680468408374\n",
      "Relative l_2-distance validation: 0.007646561911086443\n",
      "##### Training #####\n",
      "Number parameters: 11\n",
      "Number parameters active: 11\n"
     ]
    },
    {
     "name": "stderr",
     "output_type": "stream",
     "text": [
      "INFO:root:Number of evaluations: 1043\n",
      "INFO:root:Relative l2 distance train: 0.1441351943974871\n",
      "INFO:root:Relative l2 distance validation: 0.16250724664670532\n",
      "INFO:root:Training time: 0.48293423652648926\n",
      "INFO:root:Cumulative training time: 1.2991211414337158\n",
      "INFO:root:Cumulative number of evaluations: 2966\n",
      "INFO:root:Model parameters: {'degree_input_polynomials': 2, 'degree_output_polynomials': 1, 'functions': ['function_0'], 'function_names': ['function_0'], 'width': 1, 'degree_input_denominator': 0, 'degree_output_denominator': 0, 'degree_output_polynomials_specific': [1], 'degree_output_polynomials_denominator_specific': [1], 'enforce_function': False, 'maximal_potence': 3}\n",
      "INFO:root:Number parameters: 21\n",
      "INFO:root:Number parameters active: 21\n"
     ]
    },
    {
     "name": "stdout",
     "output_type": "stream",
     "text": [
      "Training time: 0.48293423652648926\n",
      "Target expression: None\n",
      "Relative l_2-distance train: 0.1441351943974871\n",
      "Relative l_2-distance validation: 0.16250724664670532\n",
      "##### Training #####\n",
      "Number parameters: 21\n",
      "Number parameters active: 21\n"
     ]
    },
    {
     "name": "stderr",
     "output_type": "stream",
     "text": [
      "INFO:root:Number of evaluations: 1942\n",
      "INFO:root:Relative l2 distance train: 0.09915537450351226\n",
      "INFO:root:Relative l2 distance validation: 0.13571817435992423\n",
      "INFO:root:Training time: 0.939211368560791\n",
      "INFO:root:Cumulative training time: 2.2403948307037354\n",
      "INFO:root:Cumulative number of evaluations: 4908\n",
      "INFO:root:Model parameters: {'degree_input_polynomials': 1, 'degree_output_polynomials': 2, 'functions': ['function_0'], 'function_names': ['function_0'], 'width': 1, 'degree_input_denominator': 0, 'degree_output_denominator': 0, 'degree_output_polynomials_specific': [1], 'degree_output_polynomials_denominator_specific': [1], 'enforce_function': False, 'maximal_potence': 3}\n",
      "INFO:root:Number parameters: 25\n",
      "INFO:root:Number parameters active: 25\n"
     ]
    },
    {
     "name": "stdout",
     "output_type": "stream",
     "text": [
      "Training time: 0.939211368560791\n",
      "Target expression: None\n",
      "Relative l_2-distance train: 0.09915537450351226\n",
      "Relative l_2-distance validation: 0.13571817435992423\n",
      "##### Training #####\n",
      "Number parameters: 25\n",
      "Number parameters active: 25\n"
     ]
    },
    {
     "name": "stderr",
     "output_type": "stream",
     "text": [
      "INFO:root:Number of evaluations: 1681\n",
      "INFO:root:Relative l2 distance train: 0.021842611548117216\n",
      "INFO:root:Relative l2 distance validation: 0.030086924968384873\n",
      "INFO:root:Training time: 1.471256971359253\n",
      "INFO:root:Cumulative training time: 3.71380877494812\n",
      "INFO:root:Cumulative number of evaluations: 6589\n",
      "INFO:root:Model parameters: {'degree_input_polynomials': 2, 'degree_output_polynomials': 2, 'functions': ['function_0'], 'function_names': ['function_0'], 'width': 1, 'degree_input_denominator': 0, 'degree_output_denominator': 0, 'degree_output_polynomials_specific': [1], 'degree_output_polynomials_denominator_specific': [1], 'enforce_function': False, 'maximal_potence': 3}\n",
      "INFO:root:Number parameters: 35\n",
      "INFO:root:Number parameters active: 35\n"
     ]
    },
    {
     "name": "stdout",
     "output_type": "stream",
     "text": [
      "Training time: 1.471256971359253\n",
      "Target expression: None\n",
      "Relative l_2-distance train: 0.021842611548117216\n",
      "Relative l_2-distance validation: 0.030086924968384873\n",
      "##### Training #####\n",
      "Number parameters: 35\n",
      "Number parameters active: 35\n"
     ]
    },
    {
     "name": "stderr",
     "output_type": "stream",
     "text": [
      "INFO:root:Number of evaluations: 3650\n",
      "INFO:root:Relative l2 distance train: 0.00010405827929379963\n",
      "INFO:root:Relative l2 distance validation: 0.00011309275779543814\n",
      "INFO:root:Training time: 3.2585105895996094\n",
      "INFO:root:Cumulative training time: 6.974799633026123\n",
      "INFO:root:Cumulative number of evaluations: 10239\n",
      "INFO:root:New best relative l2 distance validation: 0.00011309275779543814\n",
      "INFO:root:Terminate proccess, wanted accuracy 0.001 and number of active parameters 4 / 10 was reached\n",
      "INFO:root:Time for multiprocessing in total: 6.982349872589111\n",
      "INFO:root:Finetuning with this cut off would not change anything.\n",
      "INFO:root:Finetuning with this cut off would not change anything.\n"
     ]
    },
    {
     "name": "stdout",
     "output_type": "stream",
     "text": [
      "Training time: 3.2585105895996094\n",
      "Target expression: None\n",
      "Relative l_2-distance train: 0.00010405827929379963\n",
      "Relative l_2-distance validation: 0.00011309275779543814\n",
      "Terminate proccess, wanted accuracy 0.001 and number of active parameters 4 / 10 was reached\n"
     ]
    },
    {
     "name": "stderr",
     "output_type": "stream",
     "text": [
      "INFO:root:Finetuning with this cut off would not change anything.\n",
      "INFO:root:Finetuning with this cut off would not change anything.\n",
      "INFO:root:Best distance (train, val, test): (tensor(0.0001, dtype=torch.float64), tensor(0.0001, dtype=torch.float64), tensor(0.0001, dtype=torch.float64))\n",
      "INFO:root:Best formula: 0.004*x0*x1 - 0.001*x0*x2 + 0.004*x0*x3 + 0.978*x0*sqrt(Abs(0.001*x0*x2 + 0.002*x0*x3 - 0.001*x0 + 1.037*x1**2 - 0.004*x1*x3 + 1.043*x2**2 + 0.001*x2*x3 + 1.034*x3**2 + 0.001*x3 - 0.004)) + 0.001*x0 + 0.003*x1**2 + 0.001*x1*x3 - 0.003*x1*sqrt(Abs(0.001*x0*x2 + 0.002*x0*x3 - 0.001*x0 + 1.037*x1**2 - 0.004*x1*x3 + 1.043*x2**2 + 0.001*x2*x3 + 1.034*x3**2 + 0.001*x3 - 0.004)) + 0.001*x2**2 + 0.003*x3**2 - 0.002*x3*sqrt(Abs(0.001*x0*x2 + 0.002*x0*x3 - 0.001*x0 + 1.037*x1**2 - 0.004*x1*x3 + 1.043*x2**2 + 0.001*x2*x3 + 1.034*x3**2 + 0.001*x3 - 0.004)) - 0.002*x3 best training time: 3.2585105895996094\n"
     ]
    }
   ],
   "source": [
    "# ParFamWrapper with its most important input parameters\n",
    "parfam = ParFamWrapper(iterate=True, # iterate through multiple different parametric families (costs more time, but is the better choice when one is not sure about the degrees and the functions of the target formula)\n",
    "                       functions=functions, function_names=function_names, # which functions to use \n",
    "                       degree_input_numerator=2, degree_output_numerator=3, degree_input_denominator=0, degree_output_denominator=0,  # the maximal degrees of the polynomials in the parametric family\n",
    "                       input_names=x_sym,  # the names of the input variables\n",
    "                       enforce_function=False,  # has only an effect, if iterate=False\n",
    "                       device='cpu', \n",
    "                       separate_test_set=True  # ParFam uses a smaller set for training, to use a part of it as a test set afterwards\n",
    "                       )\n",
    "parfam.fit(x, y, time_limit=100, seed=1234)  # If we cannot assume that degree_input_denominator=0 and degree_output_denominator=0 holds, we would have to increase the time limit"
   ]
  },
  {
   "cell_type": "code",
   "execution_count": 19,
   "metadata": {},
   "outputs": [
    {
     "name": "stdout",
     "output_type": "stream",
     "text": [
      "Target formula: mom*(x**2 + y**2 + z**2)**0.5\n",
      "Computed formula: 0.999946538070911*x0*sqrt(Abs(x1**2 + x2**2 + x3**2))\n"
     ]
    }
   ],
   "source": [
    "print(f'Target formula: {target_expr}')\n",
    "print(f'Computed formula: {parfam.formula_reduced.simplify()}')"
   ]
  },
  {
   "cell_type": "code",
   "execution_count": 20,
   "metadata": {},
   "outputs": [
    {
     "name": "stdout",
     "output_type": "stream",
     "text": [
      "Relative l2 distance: 3.427624413780228e-08\n"
     ]
    }
   ],
   "source": [
    "y_pred = parfam.predict(x).cpu().detach().numpy()\n",
    "print(f'Relative l2 distance: {np.linalg.norm(y - y_pred, ord=2) / np.linalg.norm(y, ord=2)}')"
   ]
  },
  {
   "cell_type": "code",
   "execution_count": 21,
   "metadata": {},
   "outputs": [
    {
     "name": "stderr",
     "output_type": "stream",
     "text": [
      "/home/math/scholl/projects/physicalLawLearning/parfam/train.py:1632: UserWarning: To copy construct from a tensor, it is recommended to use sourceTensor.clone().detach() or sourceTensor.clone().detach().requires_grad_(True), rather than torch.tensor(sourceTensor).\n",
      "  x, y = torch.tensor(x, device=training_parameters['device']), torch.tensor(y, device=training_parameters['device'])\n",
      "INFO:root:Sequential computation\n",
      "INFO:root:Model parameters: {'degree_input_polynomials': 0, 'degree_output_polynomials': 4, 'degree_output_denominator': 0, 'degree_input_denominator': 0, 'function_names': [], 'width': 1, 'functions': [], 'degree_output_polynomials_specific': None, 'degree_output_polynomials_denominator_specific': None, 'enforce_function': False, 'maximal_potence': 3}\n",
      "INFO:root:Number parameters: 66\n",
      "INFO:root:Number parameters active: 66\n"
     ]
    },
    {
     "name": "stdout",
     "output_type": "stream",
     "text": [
      "Training parameters: {'normalization': False, 'time_limit': 500, 'evaluations_limit': 1000000, 'max_dataset_length': 500, 'model': 'ParFamTorch', 'target_noise': 0.0, 'feature_noise': 0.0, 'seed': 1234, 'accuracy': 0.0001, 'maxiter1': 100, 'maxiter2': 0, 'optimizer': 'basinhopping', 'pruning_iterations': 1, 'pruning_cut_off': 0.01, 'classifier': None, 'local_minimizer': 'BFGS', 'maxiter_per_dim_local_minimizer': 100, 'lambda_1': 0.001, 'repetitions': 1, 'parallel': False, 'n_processes': 4, 'lambda_1_cut': 0, 'lambda_1_piecewise': 0.0, 'device': 'cpu', 'iterative_finetuning': True, 'max_n_active_parameters': 10, 'lambda_1_finetuning': 1e-05, 'path_pretrained': 'Flexible dimension/full_19_big_training_sets/20240427_070711_5M/Datetime_20240427_070717_Loss_training_set_size_797545_batch_size_341_hidden_dim_256.pt', 'topk_predictions': 3, 'enforce_function_iterate': 'Both'}\n",
      "Sequential computation\n",
      "##### Training #####\n",
      "Number parameters: 66\n",
      "Number parameters active: 66\n"
     ]
    },
    {
     "name": "stderr",
     "output_type": "stream",
     "text": [
      "INFO:root:Number of evaluations: 3317\n",
      "INFO:root:Relative l2 distance train: 0.0020119228528878703\n",
      "INFO:root:Relative l2 distance validation: 0.005193511368540645\n",
      "INFO:root:Training time: 2.565164566040039\n",
      "INFO:root:Cumulative training time: 2.5703089237213135\n",
      "INFO:root:Cumulative number of evaluations: 3317\n",
      "INFO:root:New best relative l2 distance validation: 0.005193511368540645\n",
      "INFO:root:Model parameters: {'degree_input_polynomials': 0, 'degree_output_polynomials': 1, 'degree_output_denominator': 1, 'degree_input_denominator': 0, 'functions': [], 'function_names': [], 'width': 1, 'degree_output_polynomials_specific': None, 'degree_output_polynomials_denominator_specific': None, 'enforce_function': False, 'maximal_potence': 3}\n",
      "INFO:root:Number parameters: 10\n",
      "INFO:root:Number parameters active: 10\n"
     ]
    },
    {
     "name": "stdout",
     "output_type": "stream",
     "text": [
      "Training time: 2.565164566040039\n",
      "Target expression: None\n",
      "Relative l_2-distance train: 0.0020119228528878703\n",
      "Relative l_2-distance validation: 0.005193511368540645\n",
      "##### Training #####\n",
      "Number parameters: 10\n",
      "Number parameters active: 10\n"
     ]
    },
    {
     "name": "stderr",
     "output_type": "stream",
     "text": [
      "INFO:root:Number of evaluations: 4274\n",
      "INFO:root:Relative l2 distance train: 0.1251169127887042\n",
      "INFO:root:Relative l2 distance validation: 0.16135444659586412\n",
      "INFO:root:Training time: 1.5988874435424805\n",
      "INFO:root:Cumulative training time: 4.170811414718628\n",
      "INFO:root:Cumulative number of evaluations: 7591\n",
      "INFO:root:Model parameters: {'degree_input_polynomials': 0, 'degree_output_polynomials': 2, 'degree_output_denominator': 1, 'degree_input_denominator': 0, 'functions': [], 'function_names': [], 'width': 1, 'degree_output_polynomials_specific': None, 'degree_output_polynomials_denominator_specific': None, 'enforce_function': False, 'maximal_potence': 3}\n",
      "INFO:root:Number parameters: 20\n",
      "INFO:root:Number parameters active: 20\n"
     ]
    },
    {
     "name": "stdout",
     "output_type": "stream",
     "text": [
      "Training time: 1.5988874435424805\n",
      "Target expression: None\n",
      "Relative l_2-distance train: 0.1251169127887042\n",
      "Relative l_2-distance validation: 0.16135444659586412\n",
      "##### Training #####\n",
      "Number parameters: 20\n",
      "Number parameters active: 20\n"
     ]
    },
    {
     "name": "stderr",
     "output_type": "stream",
     "text": [
      "INFO:root:Number of evaluations: 2940\n",
      "INFO:root:Relative l2 distance train: 0.16980045973850486\n",
      "INFO:root:Relative l2 distance validation: 0.2307846650914672\n",
      "INFO:root:Training time: 1.1937453746795654\n",
      "INFO:root:Cumulative training time: 5.3666839599609375\n",
      "INFO:root:Cumulative number of evaluations: 10531\n",
      "INFO:root:Model parameters: {'degree_input_polynomials': 0, 'degree_output_polynomials': 3, 'degree_output_denominator': 1, 'degree_input_denominator': 0, 'functions': [], 'function_names': [], 'width': 1, 'degree_output_polynomials_specific': None, 'degree_output_polynomials_denominator_specific': None, 'enforce_function': False, 'maximal_potence': 3}\n",
      "INFO:root:Number parameters: 40\n",
      "INFO:root:Number parameters active: 40\n"
     ]
    },
    {
     "name": "stdout",
     "output_type": "stream",
     "text": [
      "Training time: 1.1937453746795654\n",
      "Target expression: None\n",
      "Relative l_2-distance train: 0.16980045973850486\n",
      "Relative l_2-distance validation: 0.2307846650914672\n",
      "##### Training #####\n",
      "Number parameters: 40\n",
      "Number parameters active: 40\n"
     ]
    },
    {
     "name": "stderr",
     "output_type": "stream",
     "text": [
      "INFO:root:Number of evaluations: 2916\n",
      "INFO:root:Relative l2 distance train: 0.019977279613446572\n",
      "INFO:root:Relative l2 distance validation: 0.03429796020064968\n",
      "INFO:root:Training time: 1.5343763828277588\n",
      "INFO:root:Cumulative training time: 6.904010057449341\n",
      "INFO:root:Cumulative number of evaluations: 13447\n",
      "INFO:root:Model parameters: {'degree_input_polynomials': 0, 'degree_output_polynomials': 4, 'degree_output_denominator': 1, 'degree_input_denominator': 0, 'functions': [], 'function_names': [], 'width': 1, 'degree_output_polynomials_specific': None, 'degree_output_polynomials_denominator_specific': None, 'enforce_function': False, 'maximal_potence': 3}\n",
      "INFO:root:Number parameters: 71\n",
      "INFO:root:Number parameters active: 71\n"
     ]
    },
    {
     "name": "stdout",
     "output_type": "stream",
     "text": [
      "Training time: 1.5343763828277588\n",
      "Target expression: None\n",
      "Relative l_2-distance train: 0.019977279613446572\n",
      "Relative l_2-distance validation: 0.03429796020064968\n",
      "##### Training #####\n",
      "Number parameters: 71\n",
      "Number parameters active: 71\n"
     ]
    },
    {
     "name": "stderr",
     "output_type": "stream",
     "text": [
      "INFO:root:Number of evaluations: 3772\n",
      "INFO:root:Relative l2 distance train: 0.0013074994761291072\n",
      "INFO:root:Relative l2 distance validation: 0.0028642525845311738\n",
      "INFO:root:Training time: 2.6328444480895996\n",
      "INFO:root:Cumulative training time: 9.541714668273926\n",
      "INFO:root:Cumulative number of evaluations: 17219\n",
      "INFO:root:New best relative l2 distance validation: 0.0028642525845311738\n",
      "INFO:root:Model parameters: {'degree_input_polynomials': 0, 'degree_output_polynomials': 1, 'degree_output_denominator': 2, 'degree_input_denominator': 0, 'functions': [], 'function_names': [], 'width': 1, 'degree_output_polynomials_specific': None, 'degree_output_polynomials_denominator_specific': None, 'enforce_function': False, 'maximal_potence': 3}\n",
      "INFO:root:Number parameters: 20\n",
      "INFO:root:Number parameters active: 20\n"
     ]
    },
    {
     "name": "stdout",
     "output_type": "stream",
     "text": [
      "Training time: 2.6328444480895996\n",
      "Target expression: None\n",
      "Relative l_2-distance train: 0.0013074994761291072\n",
      "Relative l_2-distance validation: 0.0028642525845311738\n",
      "##### Training #####\n",
      "Number parameters: 20\n",
      "Number parameters active: 20\n"
     ]
    },
    {
     "name": "stderr",
     "output_type": "stream",
     "text": [
      "INFO:root:Number of evaluations: 4306\n",
      "INFO:root:Relative l2 distance train: 0.2118762130378455\n",
      "INFO:root:Relative l2 distance validation: 0.5875276882358497\n",
      "INFO:root:Training time: 1.7783243656158447\n",
      "INFO:root:Cumulative training time: 11.32204556465149\n",
      "INFO:root:Cumulative number of evaluations: 21525\n",
      "INFO:root:Model parameters: {'degree_input_polynomials': 0, 'degree_output_polynomials': 2, 'degree_output_denominator': 2, 'degree_input_denominator': 0, 'functions': [], 'function_names': [], 'width': 1, 'degree_output_polynomials_specific': None, 'degree_output_polynomials_denominator_specific': None, 'enforce_function': False, 'maximal_potence': 3}\n",
      "INFO:root:Number parameters: 30\n",
      "INFO:root:Number parameters active: 30\n"
     ]
    },
    {
     "name": "stdout",
     "output_type": "stream",
     "text": [
      "Training time: 1.7783243656158447\n",
      "Target expression: None\n",
      "Relative l_2-distance train: 0.2118762130378455\n",
      "Relative l_2-distance validation: 0.5875276882358497\n",
      "##### Training #####\n",
      "Number parameters: 30\n",
      "Number parameters active: 30\n"
     ]
    },
    {
     "name": "stderr",
     "output_type": "stream",
     "text": [
      "INFO:root:Number of evaluations: 4024\n",
      "INFO:root:Relative l2 distance train: 0.019729407189166742\n",
      "INFO:root:Relative l2 distance validation: 0.021612847889201207\n",
      "INFO:root:Training time: 1.799323558807373\n",
      "INFO:root:Cumulative training time: 13.12382459640503\n",
      "INFO:root:Cumulative number of evaluations: 25549\n",
      "INFO:root:Model parameters: {'degree_input_polynomials': 0, 'degree_output_polynomials': 3, 'degree_output_denominator': 2, 'degree_input_denominator': 0, 'functions': [], 'function_names': [], 'width': 1, 'degree_output_polynomials_specific': None, 'degree_output_polynomials_denominator_specific': None, 'enforce_function': False, 'maximal_potence': 3}\n",
      "INFO:root:Number parameters: 50\n",
      "INFO:root:Number parameters active: 50\n"
     ]
    },
    {
     "name": "stdout",
     "output_type": "stream",
     "text": [
      "Training time: 1.799323558807373\n",
      "Target expression: None\n",
      "Relative l_2-distance train: 0.019729407189166742\n",
      "Relative l_2-distance validation: 0.021612847889201207\n",
      "##### Training #####\n",
      "Number parameters: 50\n",
      "Number parameters active: 50\n"
     ]
    },
    {
     "name": "stderr",
     "output_type": "stream",
     "text": [
      "INFO:root:Number of evaluations: 4273\n",
      "INFO:root:Relative l2 distance train: 0.0012679280937788213\n",
      "INFO:root:Relative l2 distance validation: 0.0022514103748550803\n",
      "INFO:root:Training time: 2.7548251152038574\n",
      "INFO:root:Cumulative training time: 15.881906032562256\n",
      "INFO:root:Cumulative number of evaluations: 29822\n",
      "INFO:root:New best relative l2 distance validation: 0.0022514103748550803\n",
      "INFO:root:Model parameters: {'degree_input_polynomials': 0, 'degree_output_polynomials': 4, 'degree_output_denominator': 2, 'degree_input_denominator': 0, 'functions': [], 'function_names': [], 'width': 1, 'degree_output_polynomials_specific': None, 'degree_output_polynomials_denominator_specific': None, 'enforce_function': False, 'maximal_potence': 3}\n",
      "INFO:root:Number parameters: 81\n",
      "INFO:root:Number parameters active: 81\n"
     ]
    },
    {
     "name": "stdout",
     "output_type": "stream",
     "text": [
      "Training time: 2.7548251152038574\n",
      "Target expression: None\n",
      "Relative l_2-distance train: 0.0012679280937788213\n",
      "Relative l_2-distance validation: 0.0022514103748550803\n",
      "##### Training #####\n",
      "Number parameters: 81\n",
      "Number parameters active: 81\n"
     ]
    },
    {
     "name": "stderr",
     "output_type": "stream",
     "text": [
      "INFO:root:Number of evaluations: 4388\n",
      "INFO:root:Relative l2 distance train: 0.0009482209316574031\n",
      "INFO:root:Relative l2 distance validation: 0.0019336064397912332\n",
      "INFO:root:Training time: 3.3916287422180176\n",
      "INFO:root:Cumulative training time: 19.278654098510742\n",
      "INFO:root:Cumulative number of evaluations: 34210\n",
      "INFO:root:New best relative l2 distance validation: 0.0019336064397912332\n",
      "INFO:root:Model parameters: {'degree_input_polynomials': 0, 'degree_output_polynomials': 1, 'degree_output_denominator': 3, 'degree_input_denominator': 0, 'functions': [], 'function_names': [], 'width': 1, 'degree_output_polynomials_specific': None, 'degree_output_polynomials_denominator_specific': None, 'enforce_function': False, 'maximal_potence': 3}\n",
      "INFO:root:Number parameters: 40\n",
      "INFO:root:Number parameters active: 40\n"
     ]
    },
    {
     "name": "stdout",
     "output_type": "stream",
     "text": [
      "Training time: 3.3916287422180176\n",
      "Target expression: None\n",
      "Relative l_2-distance train: 0.0009482209316574031\n",
      "Relative l_2-distance validation: 0.0019336064397912332\n",
      "##### Training #####\n",
      "Number parameters: 40\n",
      "Number parameters active: 40\n"
     ]
    },
    {
     "name": "stderr",
     "output_type": "stream",
     "text": [
      "INFO:root:Number of evaluations: 5288\n",
      "INFO:root:Relative l2 distance train: 1.3505506796444555\n",
      "INFO:root:Relative l2 distance validation: 2.4137504578738747\n",
      "INFO:root:Training time: 2.9013516902923584\n",
      "INFO:root:Cumulative training time: 22.182945728302002\n",
      "INFO:root:Cumulative number of evaluations: 39498\n",
      "INFO:root:Model parameters: {'degree_input_polynomials': 0, 'degree_output_polynomials': 2, 'degree_output_denominator': 3, 'degree_input_denominator': 0, 'functions': [], 'function_names': [], 'width': 1, 'degree_output_polynomials_specific': None, 'degree_output_polynomials_denominator_specific': None, 'enforce_function': False, 'maximal_potence': 3}\n",
      "INFO:root:Number parameters: 50\n",
      "INFO:root:Number parameters active: 50\n"
     ]
    },
    {
     "name": "stdout",
     "output_type": "stream",
     "text": [
      "Training time: 2.9013516902923584\n",
      "Target expression: None\n",
      "Relative l_2-distance train: 1.3505506796444555\n",
      "Relative l_2-distance validation: 2.4137504578738747\n",
      "##### Training #####\n",
      "Number parameters: 50\n",
      "Number parameters active: 50\n"
     ]
    },
    {
     "name": "stderr",
     "output_type": "stream",
     "text": [
      "INFO:root:Number of evaluations: 4713\n",
      "INFO:root:Relative l2 distance train: 0.026515706660335744\n",
      "INFO:root:Relative l2 distance validation: 1.137938375828238\n",
      "INFO:root:Training time: 3.095998764038086\n",
      "INFO:root:Cumulative training time: 25.282165050506592\n",
      "INFO:root:Cumulative number of evaluations: 44211\n",
      "INFO:root:Model parameters: {'degree_input_polynomials': 0, 'degree_output_polynomials': 3, 'degree_output_denominator': 3, 'degree_input_denominator': 0, 'functions': [], 'function_names': [], 'width': 1, 'degree_output_polynomials_specific': None, 'degree_output_polynomials_denominator_specific': None, 'enforce_function': False, 'maximal_potence': 3}\n",
      "INFO:root:Number parameters: 70\n",
      "INFO:root:Number parameters active: 70\n"
     ]
    },
    {
     "name": "stdout",
     "output_type": "stream",
     "text": [
      "Training time: 3.095998764038086\n",
      "Target expression: None\n",
      "Relative l_2-distance train: 0.026515706660335744\n",
      "Relative l_2-distance validation: 1.137938375828238\n",
      "##### Training #####\n",
      "Number parameters: 70\n",
      "Number parameters active: 70\n"
     ]
    },
    {
     "name": "stderr",
     "output_type": "stream",
     "text": [
      "INFO:root:Number of evaluations: 4900\n",
      "INFO:root:Relative l2 distance train: 0.026064387349014798\n",
      "INFO:root:Relative l2 distance validation: 0.0941035617573898\n",
      "INFO:root:Training time: 3.7367067337036133\n",
      "INFO:root:Cumulative training time: 29.02311372756958\n",
      "INFO:root:Cumulative number of evaluations: 49111\n",
      "INFO:root:Model parameters: {'degree_input_polynomials': 0, 'degree_output_polynomials': 4, 'degree_output_denominator': 3, 'degree_input_denominator': 0, 'functions': [], 'function_names': [], 'width': 1, 'degree_output_polynomials_specific': None, 'degree_output_polynomials_denominator_specific': None, 'enforce_function': False, 'maximal_potence': 3}\n",
      "INFO:root:Number parameters: 101\n",
      "INFO:root:Number parameters active: 101\n"
     ]
    },
    {
     "name": "stdout",
     "output_type": "stream",
     "text": [
      "Training time: 3.7367067337036133\n",
      "Target expression: None\n",
      "Relative l_2-distance train: 0.026064387349014798\n",
      "Relative l_2-distance validation: 0.0941035617573898\n",
      "##### Training #####\n",
      "Number parameters: 101\n",
      "Number parameters active: 101\n"
     ]
    },
    {
     "name": "stderr",
     "output_type": "stream",
     "text": [
      "INFO:root:Number of evaluations: 4687\n",
      "INFO:root:Relative l2 distance train: 0.0008984058181796125\n",
      "INFO:root:Relative l2 distance validation: 0.0014814163063079906\n",
      "INFO:root:Training time: 4.334494352340698\n",
      "INFO:root:Cumulative training time: 33.363773584365845\n",
      "INFO:root:Cumulative number of evaluations: 53798\n",
      "INFO:root:New best relative l2 distance validation: 0.0014814163063079906\n",
      "INFO:root:Model parameters: {'degree_input_polynomials': 1, 'degree_output_polynomials': 1, 'functions': ['sqrt'], 'function_names': ['sqrt'], 'width': 1, 'degree_input_denominator': 0, 'degree_output_denominator': 0, 'degree_output_polynomials_specific': [1], 'degree_output_polynomials_denominator_specific': [1], 'enforce_function': False, 'maximal_potence': 3}\n",
      "INFO:root:Number parameters: 11\n",
      "INFO:root:Number parameters active: 11\n"
     ]
    },
    {
     "name": "stdout",
     "output_type": "stream",
     "text": [
      "Training time: 4.334494352340698\n",
      "Target expression: None\n",
      "Relative l_2-distance train: 0.0008984058181796125\n",
      "Relative l_2-distance validation: 0.0014814163063079906\n",
      "##### Training #####\n",
      "Number parameters: 11\n",
      "Number parameters active: 11\n"
     ]
    },
    {
     "name": "stderr",
     "output_type": "stream",
     "text": [
      "INFO:root:Number of evaluations: 1057\n",
      "INFO:root:Relative l2 distance train: 0.17163321816100935\n",
      "INFO:root:Relative l2 distance validation: 0.19671803211635597\n",
      "INFO:root:Training time: 0.4913957118988037\n",
      "INFO:root:Cumulative training time: 33.85682392120361\n",
      "INFO:root:Cumulative number of evaluations: 54855\n",
      "INFO:root:Model parameters: {'degree_input_polynomials': 1, 'degree_output_polynomials': 1, 'functions': ['sqrt'], 'function_names': ['sqrt'], 'width': 1, 'degree_input_denominator': 0, 'degree_output_denominator': 0, 'degree_output_polynomials_specific': [1], 'degree_output_polynomials_denominator_specific': [1], 'enforce_function': True, 'maximal_potence': 3}\n",
      "INFO:root:Number parameters: 6\n",
      "INFO:root:Number parameters active: 6\n"
     ]
    },
    {
     "name": "stdout",
     "output_type": "stream",
     "text": [
      "Training time: 0.4913957118988037\n",
      "Target expression: None\n",
      "Relative l_2-distance train: 0.17163321816100935\n",
      "Relative l_2-distance validation: 0.19671803211635597\n",
      "##### Training #####\n",
      "Number parameters: 6\n",
      "Number parameters active: 6\n"
     ]
    },
    {
     "name": "stderr",
     "output_type": "stream",
     "text": [
      "INFO:root:Number of evaluations: 801\n",
      "INFO:root:Relative l2 distance train: 0.3592655931616052\n",
      "INFO:root:Relative l2 distance validation: 0.341370124263279\n",
      "INFO:root:Training time: 0.3359866142272949\n",
      "INFO:root:Cumulative training time: 34.194305658340454\n",
      "INFO:root:Cumulative number of evaluations: 55656\n",
      "INFO:root:Model parameters: {'degree_input_polynomials': 1, 'degree_output_polynomials': 1, 'functions': ['cos'], 'function_names': ['cos'], 'width': 1, 'degree_input_denominator': 0, 'degree_output_denominator': 0, 'degree_output_polynomials_specific': [1], 'degree_output_polynomials_denominator_specific': [1], 'enforce_function': False, 'maximal_potence': 3}\n",
      "INFO:root:Number parameters: 11\n",
      "INFO:root:Number parameters active: 11\n"
     ]
    },
    {
     "name": "stdout",
     "output_type": "stream",
     "text": [
      "Training time: 0.3359866142272949\n",
      "Target expression: None\n",
      "Relative l_2-distance train: 0.3592655931616052\n",
      "Relative l_2-distance validation: 0.341370124263279\n",
      "##### Training #####\n",
      "Number parameters: 11\n",
      "Number parameters active: 11\n"
     ]
    },
    {
     "name": "stderr",
     "output_type": "stream",
     "text": [
      "INFO:root:Number of evaluations: 1279\n",
      "INFO:root:Relative l2 distance train: 0.12969638854497045\n",
      "INFO:root:Relative l2 distance validation: 0.15934735783683432\n",
      "INFO:root:Training time: 0.5884697437286377\n",
      "INFO:root:Cumulative training time: 34.78466558456421\n",
      "INFO:root:Cumulative number of evaluations: 56935\n",
      "INFO:root:Model parameters: {'degree_input_polynomials': 1, 'degree_output_polynomials': 1, 'functions': ['cos'], 'function_names': ['cos'], 'width': 1, 'degree_input_denominator': 0, 'degree_output_denominator': 0, 'degree_output_polynomials_specific': [1], 'degree_output_polynomials_denominator_specific': [1], 'enforce_function': True, 'maximal_potence': 3}\n",
      "INFO:root:Number parameters: 6\n",
      "INFO:root:Number parameters active: 6\n"
     ]
    },
    {
     "name": "stdout",
     "output_type": "stream",
     "text": [
      "Training time: 0.5884697437286377\n",
      "Target expression: None\n",
      "Relative l_2-distance train: 0.12969638854497045\n",
      "Relative l_2-distance validation: 0.15934735783683432\n",
      "##### Training #####\n",
      "Number parameters: 6\n",
      "Number parameters active: 6\n"
     ]
    },
    {
     "name": "stderr",
     "output_type": "stream",
     "text": [
      "INFO:root:Number of evaluations: 905\n",
      "INFO:root:Relative l2 distance train: 2.5412881105625726\n",
      "INFO:root:Relative l2 distance validation: 2.5805292084543883\n",
      "INFO:root:Training time: 0.36510348320007324\n",
      "INFO:root:Cumulative training time: 35.15131998062134\n",
      "INFO:root:Cumulative number of evaluations: 57840\n",
      "INFO:root:Model parameters: {'degree_input_polynomials': 1, 'degree_output_polynomials': 1, 'functions': ['exp'], 'function_names': ['exp'], 'width': 1, 'degree_input_denominator': 0, 'degree_output_denominator': 0, 'degree_output_polynomials_specific': [1], 'degree_output_polynomials_denominator_specific': [1], 'enforce_function': False, 'maximal_potence': 3}\n",
      "INFO:root:Number parameters: 11\n",
      "INFO:root:Number parameters active: 11\n"
     ]
    },
    {
     "name": "stdout",
     "output_type": "stream",
     "text": [
      "Training time: 0.36510348320007324\n",
      "Target expression: None\n",
      "Relative l_2-distance train: 2.5412881105625726\n",
      "Relative l_2-distance validation: 2.5805292084543883\n",
      "##### Training #####\n",
      "Number parameters: 11\n",
      "Number parameters active: 11\n"
     ]
    },
    {
     "name": "stderr",
     "output_type": "stream",
     "text": [
      "INFO:root:Number of evaluations: 1098\n",
      "INFO:root:Relative l2 distance train: 0.13233632739707973\n",
      "INFO:root:Relative l2 distance validation: 0.16745206229170756\n",
      "INFO:root:Training time: 0.5618164539337158\n",
      "INFO:root:Cumulative training time: 35.714760303497314\n",
      "INFO:root:Cumulative number of evaluations: 58938\n",
      "INFO:root:Model parameters: {'degree_input_polynomials': 1, 'degree_output_polynomials': 1, 'functions': ['exp'], 'function_names': ['exp'], 'width': 1, 'degree_input_denominator': 0, 'degree_output_denominator': 0, 'degree_output_polynomials_specific': [1], 'degree_output_polynomials_denominator_specific': [1], 'enforce_function': True, 'maximal_potence': 3}\n",
      "INFO:root:Number parameters: 6\n",
      "INFO:root:Number parameters active: 6\n"
     ]
    },
    {
     "name": "stdout",
     "output_type": "stream",
     "text": [
      "Training time: 0.5618164539337158\n",
      "Target expression: None\n",
      "Relative l_2-distance train: 0.13233632739707973\n",
      "Relative l_2-distance validation: 0.16745206229170756\n",
      "##### Training #####\n",
      "Number parameters: 6\n",
      "Number parameters active: 6\n"
     ]
    },
    {
     "name": "stderr",
     "output_type": "stream",
     "text": [
      "INFO:root:Number of evaluations: 1218\n",
      "INFO:root:Relative l2 distance train: 0.16827044938400626\n",
      "INFO:root:Relative l2 distance validation: 0.1958890545598913\n",
      "INFO:root:Training time: 0.5449302196502686\n",
      "INFO:root:Cumulative training time: 36.26119256019592\n",
      "INFO:root:Cumulative number of evaluations: 60156\n",
      "INFO:root:Model parameters: {'degree_input_polynomials': 2, 'degree_output_polynomials': 1, 'functions': ['sqrt'], 'function_names': ['sqrt'], 'width': 1, 'degree_input_denominator': 0, 'degree_output_denominator': 0, 'degree_output_polynomials_specific': [1], 'degree_output_polynomials_denominator_specific': [1], 'enforce_function': False, 'maximal_potence': 3}\n",
      "INFO:root:Number parameters: 21\n",
      "INFO:root:Number parameters active: 21\n"
     ]
    },
    {
     "name": "stdout",
     "output_type": "stream",
     "text": [
      "Training time: 0.5449302196502686\n",
      "Target expression: None\n",
      "Relative l_2-distance train: 0.16827044938400626\n",
      "Relative l_2-distance validation: 0.1958890545598913\n",
      "##### Training #####\n",
      "Number parameters: 21\n",
      "Number parameters active: 21\n"
     ]
    },
    {
     "name": "stderr",
     "output_type": "stream",
     "text": [
      "INFO:root:Number of evaluations: 2027\n",
      "INFO:root:Relative l2 distance train: 0.05455425163361999\n",
      "INFO:root:Relative l2 distance validation: 0.05106021744102862\n",
      "INFO:root:Training time: 0.9811427593231201\n",
      "INFO:root:Cumulative training time: 37.244229793548584\n",
      "INFO:root:Cumulative number of evaluations: 62183\n",
      "INFO:root:Model parameters: {'degree_input_polynomials': 2, 'degree_output_polynomials': 1, 'functions': ['sqrt'], 'function_names': ['sqrt'], 'width': 1, 'degree_input_denominator': 0, 'degree_output_denominator': 0, 'degree_output_polynomials_specific': [1], 'degree_output_polynomials_denominator_specific': [1], 'enforce_function': True, 'maximal_potence': 3}\n",
      "INFO:root:Number parameters: 16\n",
      "INFO:root:Number parameters active: 16\n"
     ]
    },
    {
     "name": "stdout",
     "output_type": "stream",
     "text": [
      "Training time: 0.9811427593231201\n",
      "Target expression: None\n",
      "Relative l_2-distance train: 0.05455425163361999\n",
      "Relative l_2-distance validation: 0.05106021744102862\n",
      "##### Training #####\n",
      "Number parameters: 16\n",
      "Number parameters active: 16\n"
     ]
    },
    {
     "name": "stderr",
     "output_type": "stream",
     "text": [
      "INFO:root:Number of evaluations: 1993\n",
      "INFO:root:Relative l2 distance train: 0.4612084811389389\n",
      "INFO:root:Relative l2 distance validation: 0.5829332195303617\n",
      "INFO:root:Training time: 0.8359074592590332\n",
      "INFO:root:Cumulative training time: 38.082000732421875\n",
      "INFO:root:Cumulative number of evaluations: 64176\n",
      "INFO:root:Model parameters: {'degree_input_polynomials': 2, 'degree_output_polynomials': 1, 'functions': ['cos'], 'function_names': ['cos'], 'width': 1, 'degree_input_denominator': 0, 'degree_output_denominator': 0, 'degree_output_polynomials_specific': [1], 'degree_output_polynomials_denominator_specific': [1], 'enforce_function': False, 'maximal_potence': 3}\n",
      "INFO:root:Number parameters: 21\n",
      "INFO:root:Number parameters active: 21\n"
     ]
    },
    {
     "name": "stdout",
     "output_type": "stream",
     "text": [
      "Training time: 0.8359074592590332\n",
      "Target expression: None\n",
      "Relative l_2-distance train: 0.4612084811389389\n",
      "Relative l_2-distance validation: 0.5829332195303617\n",
      "##### Training #####\n",
      "Number parameters: 21\n",
      "Number parameters active: 21\n"
     ]
    },
    {
     "name": "stderr",
     "output_type": "stream",
     "text": [
      "INFO:root:Number of evaluations: 2166\n",
      "INFO:root:Relative l2 distance train: 0.02720208215682984\n",
      "INFO:root:Relative l2 distance validation: 0.037065577132470044\n",
      "INFO:root:Training time: 1.037590503692627\n",
      "INFO:root:Cumulative training time: 39.121426582336426\n",
      "INFO:root:Cumulative number of evaluations: 66342\n",
      "INFO:root:Model parameters: {'degree_input_polynomials': 2, 'degree_output_polynomials': 1, 'functions': ['cos'], 'function_names': ['cos'], 'width': 1, 'degree_input_denominator': 0, 'degree_output_denominator': 0, 'degree_output_polynomials_specific': [1], 'degree_output_polynomials_denominator_specific': [1], 'enforce_function': True, 'maximal_potence': 3}\n",
      "INFO:root:Number parameters: 16\n",
      "INFO:root:Number parameters active: 16\n"
     ]
    },
    {
     "name": "stdout",
     "output_type": "stream",
     "text": [
      "Training time: 1.037590503692627\n",
      "Target expression: None\n",
      "Relative l_2-distance train: 0.02720208215682984\n",
      "Relative l_2-distance validation: 0.037065577132470044\n",
      "##### Training #####\n",
      "Number parameters: 16\n",
      "Number parameters active: 16\n"
     ]
    },
    {
     "name": "stderr",
     "output_type": "stream",
     "text": [
      "INFO:root:Number of evaluations: 1858\n",
      "INFO:root:Relative l2 distance train: 2.513076690295075\n",
      "INFO:root:Relative l2 distance validation: 2.864734850878621\n",
      "INFO:root:Training time: 0.782524585723877\n",
      "INFO:root:Cumulative training time: 39.905760288238525\n",
      "INFO:root:Cumulative number of evaluations: 68200\n",
      "INFO:root:Model parameters: {'degree_input_polynomials': 2, 'degree_output_polynomials': 1, 'functions': ['exp'], 'function_names': ['exp'], 'width': 1, 'degree_input_denominator': 0, 'degree_output_denominator': 0, 'degree_output_polynomials_specific': [1], 'degree_output_polynomials_denominator_specific': [1], 'enforce_function': False, 'maximal_potence': 3}\n",
      "INFO:root:Number parameters: 21\n",
      "INFO:root:Number parameters active: 21\n"
     ]
    },
    {
     "name": "stdout",
     "output_type": "stream",
     "text": [
      "Training time: 0.782524585723877\n",
      "Target expression: None\n",
      "Relative l_2-distance train: 2.513076690295075\n",
      "Relative l_2-distance validation: 2.864734850878621\n",
      "##### Training #####\n",
      "Number parameters: 21\n",
      "Number parameters active: 21\n"
     ]
    },
    {
     "name": "stderr",
     "output_type": "stream",
     "text": [
      "INFO:root:Number of evaluations: 2196\n",
      "INFO:root:Relative l2 distance train: 0.18758886387167295\n",
      "INFO:root:Relative l2 distance validation: 0.20500108445707788\n",
      "INFO:root:Training time: 1.1582510471343994\n",
      "INFO:root:Cumulative training time: 41.066004037857056\n",
      "INFO:root:Cumulative number of evaluations: 70396\n",
      "INFO:root:Model parameters: {'degree_input_polynomials': 2, 'degree_output_polynomials': 1, 'functions': ['exp'], 'function_names': ['exp'], 'width': 1, 'degree_input_denominator': 0, 'degree_output_denominator': 0, 'degree_output_polynomials_specific': [1], 'degree_output_polynomials_denominator_specific': [1], 'enforce_function': True, 'maximal_potence': 3}\n",
      "INFO:root:Number parameters: 16\n",
      "INFO:root:Number parameters active: 16\n"
     ]
    },
    {
     "name": "stdout",
     "output_type": "stream",
     "text": [
      "Training time: 1.1582510471343994\n",
      "Target expression: None\n",
      "Relative l_2-distance train: 0.18758886387167295\n",
      "Relative l_2-distance validation: 0.20500108445707788\n",
      "##### Training #####\n",
      "Number parameters: 16\n",
      "Number parameters active: 16\n"
     ]
    },
    {
     "name": "stderr",
     "output_type": "stream",
     "text": [
      "INFO:root:Number of evaluations: 2366\n",
      "INFO:root:Relative l2 distance train: 2.715701061460157\n",
      "INFO:root:Relative l2 distance validation: 2.665294339457989\n",
      "INFO:root:Training time: 1.1060259342193604\n",
      "INFO:root:Cumulative training time: 42.17376661300659\n",
      "INFO:root:Cumulative number of evaluations: 72762\n",
      "INFO:root:Model parameters: {'degree_input_polynomials': 1, 'degree_output_polynomials': 1, 'functions': ['sqrt'], 'function_names': ['sqrt'], 'width': 1, 'degree_input_denominator': 1, 'degree_output_denominator': 0, 'degree_output_polynomials_specific': [1], 'degree_output_polynomials_denominator_specific': [1], 'enforce_function': False, 'maximal_potence': 3}\n",
      "INFO:root:Number parameters: 16\n",
      "INFO:root:Number parameters active: 16\n"
     ]
    },
    {
     "name": "stdout",
     "output_type": "stream",
     "text": [
      "Training time: 1.1060259342193604\n",
      "Target expression: None\n",
      "Relative l_2-distance train: 2.715701061460157\n",
      "Relative l_2-distance validation: 2.665294339457989\n",
      "##### Training #####\n",
      "Number parameters: 16\n",
      "Number parameters active: 16\n"
     ]
    },
    {
     "name": "stderr",
     "output_type": "stream",
     "text": [
      "INFO:root:Number of evaluations: 3077\n",
      "INFO:root:Relative l2 distance train: 0.07658960837617432\n",
      "INFO:root:Relative l2 distance validation: 0.08905291066728487\n",
      "INFO:root:Training time: 1.7477095127105713\n",
      "INFO:root:Cumulative training time: 43.92375087738037\n",
      "INFO:root:Cumulative number of evaluations: 75839\n",
      "INFO:root:Model parameters: {'degree_input_polynomials': 1, 'degree_output_polynomials': 1, 'functions': ['sqrt'], 'function_names': ['sqrt'], 'width': 1, 'degree_input_denominator': 1, 'degree_output_denominator': 0, 'degree_output_polynomials_specific': [1], 'degree_output_polynomials_denominator_specific': [1], 'enforce_function': True, 'maximal_potence': 3}\n",
      "INFO:root:Number parameters: 11\n",
      "INFO:root:Number parameters active: 11\n"
     ]
    },
    {
     "name": "stdout",
     "output_type": "stream",
     "text": [
      "Training time: 1.7477095127105713\n",
      "Target expression: None\n",
      "Relative l_2-distance train: 0.07658960837617432\n",
      "Relative l_2-distance validation: 0.08905291066728487\n",
      "##### Training #####\n",
      "Number parameters: 11\n",
      "Number parameters active: 11\n"
     ]
    },
    {
     "name": "stderr",
     "output_type": "stream",
     "text": [
      "INFO:root:Number of evaluations: 3534\n",
      "INFO:root:Relative l2 distance train: 0.16079101479605026\n",
      "INFO:root:Relative l2 distance validation: 0.18968315639854724\n",
      "INFO:root:Training time: 1.7923672199249268\n",
      "INFO:root:Cumulative training time: 45.7179651260376\n",
      "INFO:root:Cumulative number of evaluations: 79373\n",
      "INFO:root:Model parameters: {'degree_input_polynomials': 1, 'degree_output_polynomials': 1, 'functions': ['cos'], 'function_names': ['cos'], 'width': 1, 'degree_input_denominator': 1, 'degree_output_denominator': 0, 'degree_output_polynomials_specific': [1], 'degree_output_polynomials_denominator_specific': [1], 'enforce_function': False, 'maximal_potence': 3}\n",
      "INFO:root:Number parameters: 16\n",
      "INFO:root:Number parameters active: 16\n"
     ]
    },
    {
     "name": "stdout",
     "output_type": "stream",
     "text": [
      "Training time: 1.7923672199249268\n",
      "Target expression: None\n",
      "Relative l_2-distance train: 0.16079101479605026\n",
      "Relative l_2-distance validation: 0.18968315639854724\n",
      "##### Training #####\n",
      "Number parameters: 16\n",
      "Number parameters active: 16\n"
     ]
    },
    {
     "name": "stderr",
     "output_type": "stream",
     "text": [
      "INFO:root:Number of evaluations: 2174\n",
      "INFO:root:Relative l2 distance train: 0.18784719493769156\n",
      "INFO:root:Relative l2 distance validation: 0.20440899210796482\n",
      "INFO:root:Training time: 1.2081520557403564\n",
      "INFO:root:Cumulative training time: 46.92779898643494\n",
      "INFO:root:Cumulative number of evaluations: 81547\n",
      "INFO:root:Model parameters: {'degree_input_polynomials': 1, 'degree_output_polynomials': 1, 'functions': ['cos'], 'function_names': ['cos'], 'width': 1, 'degree_input_denominator': 1, 'degree_output_denominator': 0, 'degree_output_polynomials_specific': [1], 'degree_output_polynomials_denominator_specific': [1], 'enforce_function': True, 'maximal_potence': 3}\n",
      "INFO:root:Number parameters: 11\n",
      "INFO:root:Number parameters active: 11\n"
     ]
    },
    {
     "name": "stdout",
     "output_type": "stream",
     "text": [
      "Training time: 1.2081520557403564\n",
      "Target expression: None\n",
      "Relative l_2-distance train: 0.18784719493769156\n",
      "Relative l_2-distance validation: 0.20440899210796482\n",
      "##### Training #####\n",
      "Number parameters: 11\n",
      "Number parameters active: 11\n"
     ]
    },
    {
     "name": "stderr",
     "output_type": "stream",
     "text": [
      "INFO:root:Number of evaluations: 3196\n",
      "INFO:root:Relative l2 distance train: 2.597965236992886\n",
      "INFO:root:Relative l2 distance validation: 2.8577693710474508\n",
      "INFO:root:Training time: 1.589531421661377\n",
      "INFO:root:Cumulative training time: 48.51927828788757\n",
      "INFO:root:Cumulative number of evaluations: 84743\n",
      "INFO:root:Model parameters: {'degree_input_polynomials': 1, 'degree_output_polynomials': 1, 'functions': ['exp'], 'function_names': ['exp'], 'width': 1, 'degree_input_denominator': 1, 'degree_output_denominator': 0, 'degree_output_polynomials_specific': [1], 'degree_output_polynomials_denominator_specific': [1], 'enforce_function': False, 'maximal_potence': 3}\n",
      "INFO:root:Number parameters: 16\n",
      "INFO:root:Number parameters active: 16\n"
     ]
    },
    {
     "name": "stdout",
     "output_type": "stream",
     "text": [
      "Training time: 1.589531421661377\n",
      "Target expression: None\n",
      "Relative l_2-distance train: 2.597965236992886\n",
      "Relative l_2-distance validation: 2.8577693710474508\n",
      "##### Training #####\n",
      "Number parameters: 16\n",
      "Number parameters active: 16\n"
     ]
    },
    {
     "name": "stderr",
     "output_type": "stream",
     "text": [
      "INFO:root:Number of evaluations: 1272\n",
      "INFO:root:Relative l2 distance train: 0.5222442384654811\n",
      "INFO:root:Relative l2 distance validation: 0.5583671522056766\n",
      "INFO:root:Training time: 0.7597134113311768\n",
      "INFO:root:Cumulative training time: 49.28071665763855\n",
      "INFO:root:Cumulative number of evaluations: 86015\n",
      "INFO:root:Model parameters: {'degree_input_polynomials': 1, 'degree_output_polynomials': 1, 'functions': ['exp'], 'function_names': ['exp'], 'width': 1, 'degree_input_denominator': 1, 'degree_output_denominator': 0, 'degree_output_polynomials_specific': [1], 'degree_output_polynomials_denominator_specific': [1], 'enforce_function': True, 'maximal_potence': 3}\n",
      "INFO:root:Number parameters: 11\n",
      "INFO:root:Number parameters active: 11\n"
     ]
    },
    {
     "name": "stdout",
     "output_type": "stream",
     "text": [
      "Training time: 0.7597134113311768\n",
      "Target expression: None\n",
      "Relative l_2-distance train: 0.5222442384654811\n",
      "Relative l_2-distance validation: 0.5583671522056766\n",
      "##### Training #####\n",
      "Number parameters: 11\n",
      "Number parameters active: 11\n"
     ]
    },
    {
     "name": "stderr",
     "output_type": "stream",
     "text": [
      "INFO:root:Number of evaluations: 2056\n",
      "INFO:root:Relative l2 distance train: 0.12115214789163657\n",
      "INFO:root:Relative l2 distance validation: 0.1553539509143178\n",
      "INFO:root:Training time: 1.1289873123168945\n",
      "INFO:root:Cumulative training time: 50.4114146232605\n",
      "INFO:root:Cumulative number of evaluations: 88071\n",
      "INFO:root:Model parameters: {'degree_input_polynomials': 2, 'degree_output_polynomials': 1, 'functions': ['sqrt'], 'function_names': ['sqrt'], 'width': 1, 'degree_input_denominator': 1, 'degree_output_denominator': 0, 'degree_output_polynomials_specific': [1], 'degree_output_polynomials_denominator_specific': [1], 'enforce_function': False, 'maximal_potence': 3}\n",
      "INFO:root:Number parameters: 26\n",
      "INFO:root:Number parameters active: 26\n"
     ]
    },
    {
     "name": "stdout",
     "output_type": "stream",
     "text": [
      "Training time: 1.1289873123168945\n",
      "Target expression: None\n",
      "Relative l_2-distance train: 0.12115214789163657\n",
      "Relative l_2-distance validation: 0.1553539509143178\n",
      "##### Training #####\n",
      "Number parameters: 26\n",
      "Number parameters active: 26\n"
     ]
    },
    {
     "name": "stderr",
     "output_type": "stream",
     "text": [
      "INFO:root:Number of evaluations: 4093\n",
      "INFO:root:Relative l2 distance train: 0.06277022241098933\n",
      "INFO:root:Relative l2 distance validation: 0.13058230569507603\n",
      "INFO:root:Training time: 2.3953776359558105\n",
      "INFO:root:Cumulative training time: 52.808756828308105\n",
      "INFO:root:Cumulative number of evaluations: 92164\n",
      "INFO:root:Model parameters: {'degree_input_polynomials': 2, 'degree_output_polynomials': 1, 'functions': ['sqrt'], 'function_names': ['sqrt'], 'width': 1, 'degree_input_denominator': 1, 'degree_output_denominator': 0, 'degree_output_polynomials_specific': [1], 'degree_output_polynomials_denominator_specific': [1], 'enforce_function': True, 'maximal_potence': 3}\n",
      "INFO:root:Number parameters: 21\n",
      "INFO:root:Number parameters active: 21\n"
     ]
    },
    {
     "name": "stdout",
     "output_type": "stream",
     "text": [
      "Training time: 2.3953776359558105\n",
      "Target expression: None\n",
      "Relative l_2-distance train: 0.06277022241098933\n",
      "Relative l_2-distance validation: 0.13058230569507603\n",
      "##### Training #####\n",
      "Number parameters: 21\n",
      "Number parameters active: 21\n"
     ]
    },
    {
     "name": "stderr",
     "output_type": "stream",
     "text": [
      "INFO:root:Number of evaluations: 2866\n",
      "INFO:root:Relative l2 distance train: 0.3581068474331552\n",
      "INFO:root:Relative l2 distance validation: 0.9928874556346738\n",
      "INFO:root:Training time: 1.4836223125457764\n",
      "INFO:root:Cumulative training time: 54.29453086853027\n",
      "INFO:root:Cumulative number of evaluations: 95030\n",
      "INFO:root:Model parameters: {'degree_input_polynomials': 2, 'degree_output_polynomials': 1, 'functions': ['cos'], 'function_names': ['cos'], 'width': 1, 'degree_input_denominator': 1, 'degree_output_denominator': 0, 'degree_output_polynomials_specific': [1], 'degree_output_polynomials_denominator_specific': [1], 'enforce_function': False, 'maximal_potence': 3}\n",
      "INFO:root:Number parameters: 26\n",
      "INFO:root:Number parameters active: 26\n"
     ]
    },
    {
     "name": "stdout",
     "output_type": "stream",
     "text": [
      "Training time: 1.4836223125457764\n",
      "Target expression: None\n",
      "Relative l_2-distance train: 0.3581068474331552\n",
      "Relative l_2-distance validation: 0.9928874556346738\n",
      "##### Training #####\n",
      "Number parameters: 26\n",
      "Number parameters active: 26\n"
     ]
    },
    {
     "name": "stderr",
     "output_type": "stream",
     "text": [
      "INFO:root:Number of evaluations: 2726\n",
      "INFO:root:Relative l2 distance train: 0.18208191573261773\n",
      "INFO:root:Relative l2 distance validation: 0.20570911717558688\n",
      "INFO:root:Training time: 1.5563750267028809\n",
      "INFO:root:Cumulative training time: 55.853063106536865\n",
      "INFO:root:Cumulative number of evaluations: 97756\n",
      "INFO:root:Model parameters: {'degree_input_polynomials': 2, 'degree_output_polynomials': 1, 'functions': ['cos'], 'function_names': ['cos'], 'width': 1, 'degree_input_denominator': 1, 'degree_output_denominator': 0, 'degree_output_polynomials_specific': [1], 'degree_output_polynomials_denominator_specific': [1], 'enforce_function': True, 'maximal_potence': 3}\n",
      "INFO:root:Number parameters: 21\n",
      "INFO:root:Number parameters active: 21\n"
     ]
    },
    {
     "name": "stdout",
     "output_type": "stream",
     "text": [
      "Training time: 1.5563750267028809\n",
      "Target expression: None\n",
      "Relative l_2-distance train: 0.18208191573261773\n",
      "Relative l_2-distance validation: 0.20570911717558688\n",
      "##### Training #####\n",
      "Number parameters: 21\n",
      "Number parameters active: 21\n"
     ]
    },
    {
     "name": "stderr",
     "output_type": "stream",
     "text": [
      "INFO:root:Number of evaluations: 3340\n",
      "INFO:root:Relative l2 distance train: 2.5896436521152784\n",
      "INFO:root:Relative l2 distance validation: 2.6856966431947322\n",
      "INFO:root:Training time: 1.7216823101043701\n",
      "INFO:root:Cumulative training time: 57.576767444610596\n",
      "INFO:root:Cumulative number of evaluations: 101096\n",
      "INFO:root:Model parameters: {'degree_input_polynomials': 2, 'degree_output_polynomials': 1, 'functions': ['exp'], 'function_names': ['exp'], 'width': 1, 'degree_input_denominator': 1, 'degree_output_denominator': 0, 'degree_output_polynomials_specific': [1], 'degree_output_polynomials_denominator_specific': [1], 'enforce_function': False, 'maximal_potence': 3}\n",
      "INFO:root:Number parameters: 26\n",
      "INFO:root:Number parameters active: 26\n"
     ]
    },
    {
     "name": "stdout",
     "output_type": "stream",
     "text": [
      "Training time: 1.7216823101043701\n",
      "Target expression: None\n",
      "Relative l_2-distance train: 2.5896436521152784\n",
      "Relative l_2-distance validation: 2.6856966431947322\n",
      "##### Training #####\n",
      "Number parameters: 26\n",
      "Number parameters active: 26\n"
     ]
    },
    {
     "name": "stderr",
     "output_type": "stream",
     "text": [
      "INFO:root:Number of evaluations: 986\n",
      "INFO:root:Relative l2 distance train: 0.1874961282376249\n",
      "INFO:root:Relative l2 distance validation: 0.2052015765872257\n",
      "INFO:root:Training time: 0.6035678386688232\n",
      "INFO:root:Cumulative training time: 58.18246817588806\n",
      "INFO:root:Cumulative number of evaluations: 102082\n",
      "INFO:root:Model parameters: {'degree_input_polynomials': 2, 'degree_output_polynomials': 1, 'functions': ['exp'], 'function_names': ['exp'], 'width': 1, 'degree_input_denominator': 1, 'degree_output_denominator': 0, 'degree_output_polynomials_specific': [1], 'degree_output_polynomials_denominator_specific': [1], 'enforce_function': True, 'maximal_potence': 3}\n",
      "INFO:root:Number parameters: 21\n",
      "INFO:root:Number parameters active: 21\n",
      "INFO:root:Number of evaluations: 29\n",
      "INFO:root:Relative l2 distance train: 132.6852754814299\n",
      "INFO:root:Relative l2 distance validation: 132.486566175155\n",
      "INFO:root:Training time: 0.01640486717224121\n",
      "INFO:root:Cumulative training time: 58.2008113861084\n",
      "INFO:root:Cumulative number of evaluations: 102111\n",
      "INFO:root:Model parameters: {'degree_input_polynomials': 1, 'degree_output_polynomials': 1, 'functions': ['sqrt'], 'function_names': ['sqrt'], 'width': 1, 'degree_input_denominator': 2, 'degree_output_denominator': 0, 'degree_output_polynomials_specific': [1], 'degree_output_polynomials_denominator_specific': [1], 'enforce_function': False, 'maximal_potence': 3}\n",
      "INFO:root:Number parameters: 26\n",
      "INFO:root:Number parameters active: 26\n"
     ]
    },
    {
     "name": "stdout",
     "output_type": "stream",
     "text": [
      "Training time: 0.6035678386688232\n",
      "Target expression: None\n",
      "Relative l_2-distance train: 0.1874961282376249\n",
      "Relative l_2-distance validation: 0.2052015765872257\n",
      "##### Training #####\n",
      "Number parameters: 21\n",
      "Number parameters active: 21\n",
      "Training time: 0.01640486717224121\n",
      "Target expression: None\n",
      "Relative l_2-distance train: 132.6852754814299\n",
      "Relative l_2-distance validation: 132.486566175155\n",
      "##### Training #####\n",
      "Number parameters: 26\n",
      "Number parameters active: 26\n"
     ]
    },
    {
     "name": "stderr",
     "output_type": "stream",
     "text": [
      "INFO:root:Number of evaluations: 3880\n",
      "INFO:root:Relative l2 distance train: 0.027421476913313238\n",
      "INFO:root:Relative l2 distance validation: 0.03779815451005093\n",
      "INFO:root:Training time: 2.2474215030670166\n",
      "INFO:root:Cumulative training time: 60.45013761520386\n",
      "INFO:root:Cumulative number of evaluations: 105991\n",
      "INFO:root:Model parameters: {'degree_input_polynomials': 1, 'degree_output_polynomials': 1, 'functions': ['sqrt'], 'function_names': ['sqrt'], 'width': 1, 'degree_input_denominator': 2, 'degree_output_denominator': 0, 'degree_output_polynomials_specific': [1], 'degree_output_polynomials_denominator_specific': [1], 'enforce_function': True, 'maximal_potence': 3}\n",
      "INFO:root:Number parameters: 21\n",
      "INFO:root:Number parameters active: 21\n"
     ]
    },
    {
     "name": "stdout",
     "output_type": "stream",
     "text": [
      "Training time: 2.2474215030670166\n",
      "Target expression: None\n",
      "Relative l_2-distance train: 0.027421476913313238\n",
      "Relative l_2-distance validation: 0.03779815451005093\n",
      "##### Training #####\n",
      "Number parameters: 21\n",
      "Number parameters active: 21\n"
     ]
    },
    {
     "name": "stderr",
     "output_type": "stream",
     "text": [
      "INFO:root:Number of evaluations: 4772\n",
      "INFO:root:Relative l2 distance train: 1.3108832595009892\n",
      "INFO:root:Relative l2 distance validation: 3.0804499601422743\n",
      "INFO:root:Training time: 2.49753999710083\n",
      "INFO:root:Cumulative training time: 62.949734687805176\n",
      "INFO:root:Cumulative number of evaluations: 110763\n",
      "INFO:root:Model parameters: {'degree_input_polynomials': 1, 'degree_output_polynomials': 1, 'functions': ['cos'], 'function_names': ['cos'], 'width': 1, 'degree_input_denominator': 2, 'degree_output_denominator': 0, 'degree_output_polynomials_specific': [1], 'degree_output_polynomials_denominator_specific': [1], 'enforce_function': False, 'maximal_potence': 3}\n",
      "INFO:root:Number parameters: 26\n",
      "INFO:root:Number parameters active: 26\n"
     ]
    },
    {
     "name": "stdout",
     "output_type": "stream",
     "text": [
      "Training time: 2.49753999710083\n",
      "Target expression: None\n",
      "Relative l_2-distance train: 1.3108832595009892\n",
      "Relative l_2-distance validation: 3.0804499601422743\n",
      "##### Training #####\n",
      "Number parameters: 26\n",
      "Number parameters active: 26\n"
     ]
    },
    {
     "name": "stderr",
     "output_type": "stream",
     "text": [
      "INFO:root:Number of evaluations: 3025\n",
      "INFO:root:Relative l2 distance train: 0.03440135310368167\n",
      "INFO:root:Relative l2 distance validation: 0.048182033962337\n",
      "INFO:root:Training time: 1.736403226852417\n",
      "INFO:root:Cumulative training time: 64.68829083442688\n",
      "INFO:root:Cumulative number of evaluations: 113788\n",
      "INFO:root:Model parameters: {'degree_input_polynomials': 1, 'degree_output_polynomials': 1, 'functions': ['cos'], 'function_names': ['cos'], 'width': 1, 'degree_input_denominator': 2, 'degree_output_denominator': 0, 'degree_output_polynomials_specific': [1], 'degree_output_polynomials_denominator_specific': [1], 'enforce_function': True, 'maximal_potence': 3}\n",
      "INFO:root:Number parameters: 21\n",
      "INFO:root:Number parameters active: 21\n"
     ]
    },
    {
     "name": "stdout",
     "output_type": "stream",
     "text": [
      "Training time: 1.736403226852417\n",
      "Target expression: None\n",
      "Relative l_2-distance train: 0.03440135310368167\n",
      "Relative l_2-distance validation: 0.048182033962337\n",
      "##### Training #####\n",
      "Number parameters: 21\n",
      "Number parameters active: 21\n"
     ]
    },
    {
     "name": "stderr",
     "output_type": "stream",
     "text": [
      "INFO:root:Number of evaluations: 2606\n",
      "INFO:root:Relative l2 distance train: 1.1762942207711689\n",
      "INFO:root:Relative l2 distance validation: 1.2558655386827149\n",
      "INFO:root:Training time: 1.3263683319091797\n",
      "INFO:root:Cumulative training time: 66.01670789718628\n",
      "INFO:root:Cumulative number of evaluations: 116394\n",
      "INFO:root:Model parameters: {'degree_input_polynomials': 1, 'degree_output_polynomials': 1, 'functions': ['exp'], 'function_names': ['exp'], 'width': 1, 'degree_input_denominator': 2, 'degree_output_denominator': 0, 'degree_output_polynomials_specific': [1], 'degree_output_polynomials_denominator_specific': [1], 'enforce_function': False, 'maximal_potence': 3}\n",
      "INFO:root:Number parameters: 26\n",
      "INFO:root:Number parameters active: 26\n"
     ]
    },
    {
     "name": "stdout",
     "output_type": "stream",
     "text": [
      "Training time: 1.3263683319091797\n",
      "Target expression: None\n",
      "Relative l_2-distance train: 1.1762942207711689\n",
      "Relative l_2-distance validation: 1.2558655386827149\n",
      "##### Training #####\n",
      "Number parameters: 26\n",
      "Number parameters active: 26\n"
     ]
    },
    {
     "name": "stderr",
     "output_type": "stream",
     "text": [
      "INFO:root:Number of evaluations: 2516\n",
      "INFO:root:Relative l2 distance train: 0.09615721052005036\n",
      "INFO:root:Relative l2 distance validation: 0.154504235518243\n",
      "INFO:root:Training time: 1.570080280303955\n",
      "INFO:root:Cumulative training time: 67.58894228935242\n",
      "INFO:root:Cumulative number of evaluations: 118910\n",
      "INFO:root:Model parameters: {'degree_input_polynomials': 1, 'degree_output_polynomials': 1, 'functions': ['exp'], 'function_names': ['exp'], 'width': 1, 'degree_input_denominator': 2, 'degree_output_denominator': 0, 'degree_output_polynomials_specific': [1], 'degree_output_polynomials_denominator_specific': [1], 'enforce_function': True, 'maximal_potence': 3}\n",
      "INFO:root:Number parameters: 21\n",
      "INFO:root:Number parameters active: 21\n"
     ]
    },
    {
     "name": "stdout",
     "output_type": "stream",
     "text": [
      "Training time: 1.570080280303955\n",
      "Target expression: None\n",
      "Relative l_2-distance train: 0.09615721052005036\n",
      "Relative l_2-distance validation: 0.154504235518243\n",
      "##### Training #####\n",
      "Number parameters: 21\n",
      "Number parameters active: 21\n"
     ]
    },
    {
     "name": "stderr",
     "output_type": "stream",
     "text": [
      "INFO:root:Number of evaluations: 2738\n",
      "INFO:root:Relative l2 distance train: 1563.8739277659138\n",
      "INFO:root:Relative l2 distance validation: 1225.3421713947068\n",
      "INFO:root:Training time: 1.5468347072601318\n",
      "INFO:root:Cumulative training time: 69.13792014122009\n",
      "INFO:root:Cumulative number of evaluations: 121648\n",
      "INFO:root:Model parameters: {'degree_input_polynomials': 2, 'degree_output_polynomials': 1, 'functions': ['sqrt'], 'function_names': ['sqrt'], 'width': 1, 'degree_input_denominator': 2, 'degree_output_denominator': 0, 'degree_output_polynomials_specific': [1], 'degree_output_polynomials_denominator_specific': [1], 'enforce_function': False, 'maximal_potence': 3}\n",
      "INFO:root:Number parameters: 36\n",
      "INFO:root:Number parameters active: 36\n"
     ]
    },
    {
     "name": "stdout",
     "output_type": "stream",
     "text": [
      "Training time: 1.5468347072601318\n",
      "Target expression: None\n",
      "Relative l_2-distance train: 1563.8739277659138\n",
      "Relative l_2-distance validation: 1225.3421713947068\n",
      "##### Training #####\n",
      "Number parameters: 36\n",
      "Number parameters active: 36\n"
     ]
    },
    {
     "name": "stderr",
     "output_type": "stream",
     "text": [
      "INFO:root:Number of evaluations: 3014\n",
      "INFO:root:Relative l2 distance train: 0.17010321112381396\n",
      "INFO:root:Relative l2 distance validation: 0.25577984726354713\n",
      "INFO:root:Training time: 1.7696375846862793\n",
      "INFO:root:Cumulative training time: 70.91027641296387\n",
      "INFO:root:Cumulative number of evaluations: 124662\n",
      "INFO:root:Model parameters: {'degree_input_polynomials': 2, 'degree_output_polynomials': 1, 'functions': ['sqrt'], 'function_names': ['sqrt'], 'width': 1, 'degree_input_denominator': 2, 'degree_output_denominator': 0, 'degree_output_polynomials_specific': [1], 'degree_output_polynomials_denominator_specific': [1], 'enforce_function': True, 'maximal_potence': 3}\n",
      "INFO:root:Number parameters: 31\n",
      "INFO:root:Number parameters active: 31\n"
     ]
    },
    {
     "name": "stdout",
     "output_type": "stream",
     "text": [
      "Training time: 1.7696375846862793\n",
      "Target expression: None\n",
      "Relative l_2-distance train: 0.17010321112381396\n",
      "Relative l_2-distance validation: 0.25577984726354713\n",
      "##### Training #####\n",
      "Number parameters: 31\n",
      "Number parameters active: 31\n"
     ]
    },
    {
     "name": "stderr",
     "output_type": "stream",
     "text": [
      "INFO:root:Number of evaluations: 4716\n",
      "INFO:root:Relative l2 distance train: 0.7181451324309163\n",
      "INFO:root:Relative l2 distance validation: 1.0862064815441903\n",
      "INFO:root:Training time: 2.52864670753479\n",
      "INFO:root:Cumulative training time: 73.44142246246338\n",
      "INFO:root:Cumulative number of evaluations: 129378\n",
      "INFO:root:Model parameters: {'degree_input_polynomials': 2, 'degree_output_polynomials': 1, 'functions': ['cos'], 'function_names': ['cos'], 'width': 1, 'degree_input_denominator': 2, 'degree_output_denominator': 0, 'degree_output_polynomials_specific': [1], 'degree_output_polynomials_denominator_specific': [1], 'enforce_function': False, 'maximal_potence': 3}\n",
      "INFO:root:Number parameters: 36\n",
      "INFO:root:Number parameters active: 36\n"
     ]
    },
    {
     "name": "stdout",
     "output_type": "stream",
     "text": [
      "Training time: 2.52864670753479\n",
      "Target expression: None\n",
      "Relative l_2-distance train: 0.7181451324309163\n",
      "Relative l_2-distance validation: 1.0862064815441903\n",
      "##### Training #####\n",
      "Number parameters: 36\n",
      "Number parameters active: 36\n"
     ]
    },
    {
     "name": "stderr",
     "output_type": "stream",
     "text": [
      "INFO:root:Number of evaluations: 3556\n",
      "INFO:root:Relative l2 distance train: 0.1822195068836937\n",
      "INFO:root:Relative l2 distance validation: 0.21194448913059524\n",
      "INFO:root:Training time: 2.0777833461761475\n",
      "INFO:root:Cumulative training time: 75.5215654373169\n",
      "INFO:root:Cumulative number of evaluations: 132934\n",
      "INFO:root:Model parameters: {'degree_input_polynomials': 2, 'degree_output_polynomials': 1, 'functions': ['cos'], 'function_names': ['cos'], 'width': 1, 'degree_input_denominator': 2, 'degree_output_denominator': 0, 'degree_output_polynomials_specific': [1], 'degree_output_polynomials_denominator_specific': [1], 'enforce_function': True, 'maximal_potence': 3}\n",
      "INFO:root:Number parameters: 31\n",
      "INFO:root:Number parameters active: 31\n"
     ]
    },
    {
     "name": "stdout",
     "output_type": "stream",
     "text": [
      "Training time: 2.0777833461761475\n",
      "Target expression: None\n",
      "Relative l_2-distance train: 0.1822195068836937\n",
      "Relative l_2-distance validation: 0.21194448913059524\n",
      "##### Training #####\n",
      "Number parameters: 31\n",
      "Number parameters active: 31\n"
     ]
    },
    {
     "name": "stderr",
     "output_type": "stream",
     "text": [
      "INFO:root:Number of evaluations: 3657\n",
      "INFO:root:Relative l2 distance train: 2.6498875774167128\n",
      "INFO:root:Relative l2 distance validation: 2.631995722072138\n",
      "INFO:root:Training time: 1.917210340499878\n",
      "INFO:root:Cumulative training time: 77.4411461353302\n",
      "INFO:root:Cumulative number of evaluations: 136591\n",
      "INFO:root:Model parameters: {'degree_input_polynomials': 2, 'degree_output_polynomials': 1, 'functions': ['exp'], 'function_names': ['exp'], 'width': 1, 'degree_input_denominator': 2, 'degree_output_denominator': 0, 'degree_output_polynomials_specific': [1], 'degree_output_polynomials_denominator_specific': [1], 'enforce_function': False, 'maximal_potence': 3}\n",
      "INFO:root:Number parameters: 36\n",
      "INFO:root:Number parameters active: 36\n"
     ]
    },
    {
     "name": "stdout",
     "output_type": "stream",
     "text": [
      "Training time: 1.917210340499878\n",
      "Target expression: None\n",
      "Relative l_2-distance train: 2.6498875774167128\n",
      "Relative l_2-distance validation: 2.631995722072138\n",
      "##### Training #####\n",
      "Number parameters: 36\n",
      "Number parameters active: 36\n"
     ]
    },
    {
     "name": "stderr",
     "output_type": "stream",
     "text": [
      "INFO:root:Number of evaluations: 3021\n",
      "INFO:root:Relative l2 distance train: 0.18843098727429067\n",
      "INFO:root:Relative l2 distance validation: 0.20648886215290108\n",
      "INFO:root:Training time: 1.901550531387329\n",
      "INFO:root:Cumulative training time: 79.34507966041565\n",
      "INFO:root:Cumulative number of evaluations: 139612\n",
      "INFO:root:Model parameters: {'degree_input_polynomials': 2, 'degree_output_polynomials': 1, 'functions': ['exp'], 'function_names': ['exp'], 'width': 1, 'degree_input_denominator': 2, 'degree_output_denominator': 0, 'degree_output_polynomials_specific': [1], 'degree_output_polynomials_denominator_specific': [1], 'enforce_function': True, 'maximal_potence': 3}\n",
      "INFO:root:Number parameters: 31\n",
      "INFO:root:Number parameters active: 31\n"
     ]
    },
    {
     "name": "stdout",
     "output_type": "stream",
     "text": [
      "Training time: 1.901550531387329\n",
      "Target expression: None\n",
      "Relative l_2-distance train: 0.18843098727429067\n",
      "Relative l_2-distance validation: 0.20648886215290108\n",
      "##### Training #####\n",
      "Number parameters: 31\n",
      "Number parameters active: 31\n"
     ]
    },
    {
     "name": "stderr",
     "output_type": "stream",
     "text": [
      "INFO:root:Number of evaluations: 2304\n",
      "INFO:root:Relative l2 distance train: 1284.2237848150335\n",
      "INFO:root:Relative l2 distance validation: 990.952577830015\n",
      "INFO:root:Training time: 1.315019130706787\n",
      "INFO:root:Cumulative training time: 80.66262221336365\n",
      "INFO:root:Cumulative number of evaluations: 141916\n",
      "INFO:root:Model parameters: {'degree_input_polynomials': 1, 'degree_output_polynomials': 2, 'functions': ['sqrt'], 'function_names': ['sqrt'], 'width': 1, 'degree_input_denominator': 0, 'degree_output_denominator': 0, 'degree_output_polynomials_specific': [1], 'degree_output_polynomials_denominator_specific': [1], 'enforce_function': False, 'maximal_potence': 3}\n",
      "INFO:root:Number parameters: 25\n",
      "INFO:root:Number parameters active: 25\n"
     ]
    },
    {
     "name": "stdout",
     "output_type": "stream",
     "text": [
      "Training time: 1.315019130706787\n",
      "Target expression: None\n",
      "Relative l_2-distance train: 1284.2237848150335\n",
      "Relative l_2-distance validation: 990.952577830015\n",
      "##### Training #####\n",
      "Number parameters: 25\n",
      "Number parameters active: 25\n"
     ]
    },
    {
     "name": "stderr",
     "output_type": "stream",
     "text": [
      "INFO:root:Number of evaluations: 1804\n",
      "INFO:root:Relative l2 distance train: 0.020785644535552657\n",
      "INFO:root:Relative l2 distance validation: 0.02916403395419058\n",
      "INFO:root:Training time: 1.5581612586975098\n",
      "INFO:root:Cumulative training time: 82.22294569015503\n",
      "INFO:root:Cumulative number of evaluations: 143720\n",
      "INFO:root:Model parameters: {'degree_input_polynomials': 1, 'degree_output_polynomials': 2, 'functions': ['sqrt'], 'function_names': ['sqrt'], 'width': 1, 'degree_input_denominator': 0, 'degree_output_denominator': 0, 'degree_output_polynomials_specific': [1], 'degree_output_polynomials_denominator_specific': [1], 'enforce_function': True, 'maximal_potence': 3}\n",
      "INFO:root:Number parameters: 10\n",
      "INFO:root:Number parameters active: 10\n"
     ]
    },
    {
     "name": "stdout",
     "output_type": "stream",
     "text": [
      "Training time: 1.5581612586975098\n",
      "Target expression: None\n",
      "Relative l_2-distance train: 0.020785644535552657\n",
      "Relative l_2-distance validation: 0.02916403395419058\n",
      "##### Training #####\n",
      "Number parameters: 10\n",
      "Number parameters active: 10\n"
     ]
    },
    {
     "name": "stderr",
     "output_type": "stream",
     "text": [
      "INFO:root:Number of evaluations: 1419\n",
      "INFO:root:Relative l2 distance train: 0.06902933086583105\n",
      "INFO:root:Relative l2 distance validation: 0.07679812821898509\n",
      "INFO:root:Training time: 0.9364900588989258\n",
      "INFO:root:Cumulative training time: 83.16116952896118\n",
      "INFO:root:Cumulative number of evaluations: 145139\n",
      "INFO:root:Model parameters: {'degree_input_polynomials': 1, 'degree_output_polynomials': 2, 'functions': ['cos'], 'function_names': ['cos'], 'width': 1, 'degree_input_denominator': 0, 'degree_output_denominator': 0, 'degree_output_polynomials_specific': [1], 'degree_output_polynomials_denominator_specific': [1], 'enforce_function': False, 'maximal_potence': 3}\n",
      "INFO:root:Number parameters: 25\n",
      "INFO:root:Number parameters active: 25\n"
     ]
    },
    {
     "name": "stdout",
     "output_type": "stream",
     "text": [
      "Training time: 0.9364900588989258\n",
      "Target expression: None\n",
      "Relative l_2-distance train: 0.06902933086583105\n",
      "Relative l_2-distance validation: 0.07679812821898509\n",
      "##### Training #####\n",
      "Number parameters: 25\n",
      "Number parameters active: 25\n"
     ]
    },
    {
     "name": "stderr",
     "output_type": "stream",
     "text": [
      "INFO:root:Number of evaluations: 1763\n",
      "INFO:root:Relative l2 distance train: 0.021346686827820528\n",
      "INFO:root:Relative l2 distance validation: 0.029121780486190553\n",
      "INFO:root:Training time: 1.5251712799072266\n",
      "INFO:root:Cumulative training time: 84.68876671791077\n",
      "INFO:root:Cumulative number of evaluations: 146902\n",
      "INFO:root:Model parameters: {'degree_input_polynomials': 1, 'degree_output_polynomials': 2, 'functions': ['cos'], 'function_names': ['cos'], 'width': 1, 'degree_input_denominator': 0, 'degree_output_denominator': 0, 'degree_output_polynomials_specific': [1], 'degree_output_polynomials_denominator_specific': [1], 'enforce_function': True, 'maximal_potence': 3}\n",
      "INFO:root:Number parameters: 10\n",
      "INFO:root:Number parameters active: 10\n"
     ]
    },
    {
     "name": "stdout",
     "output_type": "stream",
     "text": [
      "Training time: 1.5251712799072266\n",
      "Target expression: None\n",
      "Relative l_2-distance train: 0.021346686827820528\n",
      "Relative l_2-distance validation: 0.029121780486190553\n",
      "##### Training #####\n",
      "Number parameters: 10\n",
      "Number parameters active: 10\n"
     ]
    },
    {
     "name": "stderr",
     "output_type": "stream",
     "text": [
      "INFO:root:Number of evaluations: 1226\n",
      "INFO:root:Relative l2 distance train: 0.07349555304463003\n",
      "INFO:root:Relative l2 distance validation: 0.08417451481951203\n",
      "INFO:root:Training time: 0.8026957511901855\n",
      "INFO:root:Cumulative training time: 85.493332862854\n",
      "INFO:root:Cumulative number of evaluations: 148128\n",
      "INFO:root:Model parameters: {'degree_input_polynomials': 1, 'degree_output_polynomials': 2, 'functions': ['exp'], 'function_names': ['exp'], 'width': 1, 'degree_input_denominator': 0, 'degree_output_denominator': 0, 'degree_output_polynomials_specific': [1], 'degree_output_polynomials_denominator_specific': [1], 'enforce_function': False, 'maximal_potence': 3}\n",
      "INFO:root:Number parameters: 25\n",
      "INFO:root:Number parameters active: 25\n"
     ]
    },
    {
     "name": "stdout",
     "output_type": "stream",
     "text": [
      "Training time: 0.8026957511901855\n",
      "Target expression: None\n",
      "Relative l_2-distance train: 0.07349555304463003\n",
      "Relative l_2-distance validation: 0.08417451481951203\n",
      "##### Training #####\n",
      "Number parameters: 25\n",
      "Number parameters active: 25\n"
     ]
    },
    {
     "name": "stderr",
     "output_type": "stream",
     "text": [
      "INFO:root:Number of evaluations: 1839\n",
      "INFO:root:Relative l2 distance train: 0.021628318786378907\n",
      "INFO:root:Relative l2 distance validation: 0.030001872209210287\n",
      "INFO:root:Training time: 1.686255693435669\n",
      "INFO:root:Cumulative training time: 87.18179512023926\n",
      "INFO:root:Cumulative number of evaluations: 149967\n",
      "INFO:root:Model parameters: {'degree_input_polynomials': 1, 'degree_output_polynomials': 2, 'functions': ['exp'], 'function_names': ['exp'], 'width': 1, 'degree_input_denominator': 0, 'degree_output_denominator': 0, 'degree_output_polynomials_specific': [1], 'degree_output_polynomials_denominator_specific': [1], 'enforce_function': True, 'maximal_potence': 3}\n",
      "INFO:root:Number parameters: 10\n",
      "INFO:root:Number parameters active: 10\n"
     ]
    },
    {
     "name": "stdout",
     "output_type": "stream",
     "text": [
      "Training time: 1.686255693435669\n",
      "Target expression: None\n",
      "Relative l_2-distance train: 0.021628318786378907\n",
      "Relative l_2-distance validation: 0.030001872209210287\n",
      "##### Training #####\n",
      "Number parameters: 10\n",
      "Number parameters active: 10\n"
     ]
    },
    {
     "name": "stderr",
     "output_type": "stream",
     "text": [
      "INFO:root:Number of evaluations: 1451\n",
      "INFO:root:Relative l2 distance train: 0.13309986743157756\n",
      "INFO:root:Relative l2 distance validation: 0.1503973815833996\n",
      "INFO:root:Training time: 1.0235049724578857\n",
      "INFO:root:Cumulative training time: 88.20710182189941\n",
      "INFO:root:Cumulative number of evaluations: 151418\n",
      "INFO:root:Model parameters: {'degree_input_polynomials': 2, 'degree_output_polynomials': 2, 'functions': ['sqrt'], 'function_names': ['sqrt'], 'width': 1, 'degree_input_denominator': 0, 'degree_output_denominator': 0, 'degree_output_polynomials_specific': [1], 'degree_output_polynomials_denominator_specific': [1], 'enforce_function': False, 'maximal_potence': 3}\n",
      "INFO:root:Number parameters: 35\n",
      "INFO:root:Number parameters active: 35\n"
     ]
    },
    {
     "name": "stdout",
     "output_type": "stream",
     "text": [
      "Training time: 1.0235049724578857\n",
      "Target expression: None\n",
      "Relative l_2-distance train: 0.13309986743157756\n",
      "Relative l_2-distance validation: 0.1503973815833996\n",
      "##### Training #####\n",
      "Number parameters: 35\n",
      "Number parameters active: 35\n"
     ]
    },
    {
     "name": "stderr",
     "output_type": "stream",
     "text": [
      "INFO:root:Number of evaluations: 4332\n",
      "INFO:root:Relative l2 distance train: 0.0007804080797415648\n",
      "INFO:root:Relative l2 distance validation: 0.0010593342713641125\n",
      "INFO:root:Training time: 3.9197463989257812\n",
      "INFO:root:Cumulative training time: 92.12925410270691\n",
      "INFO:root:Cumulative number of evaluations: 155750\n",
      "INFO:root:New best relative l2 distance validation: 0.0010593342713641125\n",
      "INFO:root:Model parameters: {'degree_input_polynomials': 2, 'degree_output_polynomials': 2, 'functions': ['sqrt'], 'function_names': ['sqrt'], 'width': 1, 'degree_input_denominator': 0, 'degree_output_denominator': 0, 'degree_output_polynomials_specific': [1], 'degree_output_polynomials_denominator_specific': [1], 'enforce_function': True, 'maximal_potence': 3}\n",
      "INFO:root:Number parameters: 20\n",
      "INFO:root:Number parameters active: 20\n"
     ]
    },
    {
     "name": "stdout",
     "output_type": "stream",
     "text": [
      "Training time: 3.9197463989257812\n",
      "Target expression: None\n",
      "Relative l_2-distance train: 0.0007804080797415648\n",
      "Relative l_2-distance validation: 0.0010593342713641125\n",
      "##### Training #####\n",
      "Number parameters: 20\n",
      "Number parameters active: 20\n"
     ]
    },
    {
     "name": "stderr",
     "output_type": "stream",
     "text": [
      "INFO:root:Number of evaluations: 4393\n",
      "INFO:root:Relative l2 distance train: 0.5739713331447448\n",
      "INFO:root:Relative l2 distance validation: 0.7765695929135734\n",
      "INFO:root:Training time: 3.0390615463256836\n",
      "INFO:root:Cumulative training time: 95.17025685310364\n",
      "INFO:root:Cumulative number of evaluations: 160143\n",
      "INFO:root:Model parameters: {'degree_input_polynomials': 2, 'degree_output_polynomials': 2, 'functions': ['cos'], 'function_names': ['cos'], 'width': 1, 'degree_input_denominator': 0, 'degree_output_denominator': 0, 'degree_output_polynomials_specific': [1], 'degree_output_polynomials_denominator_specific': [1], 'enforce_function': False, 'maximal_potence': 3}\n",
      "INFO:root:Number parameters: 35\n",
      "INFO:root:Number parameters active: 35\n"
     ]
    },
    {
     "name": "stdout",
     "output_type": "stream",
     "text": [
      "Training time: 3.0390615463256836\n",
      "Target expression: None\n",
      "Relative l_2-distance train: 0.5739713331447448\n",
      "Relative l_2-distance validation: 0.7765695929135734\n",
      "##### Training #####\n",
      "Number parameters: 35\n",
      "Number parameters active: 35\n"
     ]
    },
    {
     "name": "stderr",
     "output_type": "stream",
     "text": [
      "INFO:root:Number of evaluations: 2195\n",
      "INFO:root:Relative l2 distance train: 0.021146965537391135\n",
      "INFO:root:Relative l2 distance validation: 0.032384372389614516\n",
      "INFO:root:Training time: 1.9167859554290771\n",
      "INFO:root:Cumulative training time: 97.08959126472473\n",
      "INFO:root:Cumulative number of evaluations: 162338\n",
      "INFO:root:Model parameters: {'degree_input_polynomials': 2, 'degree_output_polynomials': 2, 'functions': ['cos'], 'function_names': ['cos'], 'width': 1, 'degree_input_denominator': 0, 'degree_output_denominator': 0, 'degree_output_polynomials_specific': [1], 'degree_output_polynomials_denominator_specific': [1], 'enforce_function': True, 'maximal_potence': 3}\n",
      "INFO:root:Number parameters: 20\n",
      "INFO:root:Number parameters active: 20\n"
     ]
    },
    {
     "name": "stdout",
     "output_type": "stream",
     "text": [
      "Training time: 1.9167859554290771\n",
      "Target expression: None\n",
      "Relative l_2-distance train: 0.021146965537391135\n",
      "Relative l_2-distance validation: 0.032384372389614516\n",
      "##### Training #####\n",
      "Number parameters: 20\n",
      "Number parameters active: 20\n"
     ]
    },
    {
     "name": "stderr",
     "output_type": "stream",
     "text": [
      "INFO:root:Number of evaluations: 1953\n",
      "INFO:root:Relative l2 distance train: 2.487242265734176\n",
      "INFO:root:Relative l2 distance validation: 2.9867517299096598\n",
      "INFO:root:Training time: 1.308119535446167\n",
      "INFO:root:Cumulative training time: 98.3998441696167\n",
      "INFO:root:Cumulative number of evaluations: 164291\n",
      "INFO:root:Model parameters: {'degree_input_polynomials': 2, 'degree_output_polynomials': 2, 'functions': ['exp'], 'function_names': ['exp'], 'width': 1, 'degree_input_denominator': 0, 'degree_output_denominator': 0, 'degree_output_polynomials_specific': [1], 'degree_output_polynomials_denominator_specific': [1], 'enforce_function': False, 'maximal_potence': 3}\n",
      "INFO:root:Number parameters: 35\n",
      "INFO:root:Number parameters active: 35\n"
     ]
    },
    {
     "name": "stdout",
     "output_type": "stream",
     "text": [
      "Training time: 1.308119535446167\n",
      "Target expression: None\n",
      "Relative l_2-distance train: 2.487242265734176\n",
      "Relative l_2-distance validation: 2.9867517299096598\n",
      "##### Training #####\n",
      "Number parameters: 35\n",
      "Number parameters active: 35\n"
     ]
    },
    {
     "name": "stderr",
     "output_type": "stream",
     "text": [
      "INFO:root:Number of evaluations: 2064\n",
      "INFO:root:Relative l2 distance train: 0.021705286018664054\n",
      "INFO:root:Relative l2 distance validation: 0.030541258188137712\n",
      "INFO:root:Training time: 1.910400390625\n",
      "INFO:root:Cumulative training time: 100.31275963783264\n",
      "INFO:root:Cumulative number of evaluations: 166355\n",
      "INFO:root:Model parameters: {'degree_input_polynomials': 2, 'degree_output_polynomials': 2, 'functions': ['exp'], 'function_names': ['exp'], 'width': 1, 'degree_input_denominator': 0, 'degree_output_denominator': 0, 'degree_output_polynomials_specific': [1], 'degree_output_polynomials_denominator_specific': [1], 'enforce_function': True, 'maximal_potence': 3}\n",
      "INFO:root:Number parameters: 20\n",
      "INFO:root:Number parameters active: 20\n"
     ]
    },
    {
     "name": "stdout",
     "output_type": "stream",
     "text": [
      "Training time: 1.910400390625\n",
      "Target expression: None\n",
      "Relative l_2-distance train: 0.021705286018664054\n",
      "Relative l_2-distance validation: 0.030541258188137712\n",
      "##### Training #####\n",
      "Number parameters: 20\n",
      "Number parameters active: 20\n"
     ]
    },
    {
     "name": "stderr",
     "output_type": "stream",
     "text": [
      "INFO:root:Number of evaluations: 1734\n",
      "INFO:root:Relative l2 distance train: 2.715701069815693\n",
      "INFO:root:Relative l2 distance validation: 2.6652943420305926\n",
      "INFO:root:Training time: 1.236253261566162\n",
      "INFO:root:Cumulative training time: 101.55115532875061\n",
      "INFO:root:Cumulative number of evaluations: 168089\n",
      "INFO:root:Model parameters: {'degree_input_polynomials': 1, 'degree_output_polynomials': 2, 'functions': ['sqrt'], 'function_names': ['sqrt'], 'width': 1, 'degree_input_denominator': 1, 'degree_output_denominator': 0, 'degree_output_polynomials_specific': [1], 'degree_output_polynomials_denominator_specific': [1], 'enforce_function': False, 'maximal_potence': 3}\n",
      "INFO:root:Number parameters: 30\n",
      "INFO:root:Number parameters active: 30\n"
     ]
    },
    {
     "name": "stdout",
     "output_type": "stream",
     "text": [
      "Training time: 1.236253261566162\n",
      "Target expression: None\n",
      "Relative l_2-distance train: 2.715701069815693\n",
      "Relative l_2-distance validation: 2.6652943420305926\n",
      "##### Training #####\n",
      "Number parameters: 30\n",
      "Number parameters active: 30\n"
     ]
    },
    {
     "name": "stderr",
     "output_type": "stream",
     "text": [
      "INFO:root:Number of evaluations: 2624\n",
      "INFO:root:Relative l2 distance train: 0.021508337859084105\n",
      "INFO:root:Relative l2 distance validation: 0.02987802643047262\n",
      "INFO:root:Training time: 2.5243303775787354\n",
      "INFO:root:Cumulative training time: 104.07779431343079\n",
      "INFO:root:Cumulative number of evaluations: 170713\n",
      "INFO:root:Model parameters: {'degree_input_polynomials': 1, 'degree_output_polynomials': 2, 'functions': ['sqrt'], 'function_names': ['sqrt'], 'width': 1, 'degree_input_denominator': 1, 'degree_output_denominator': 0, 'degree_output_polynomials_specific': [1], 'degree_output_polynomials_denominator_specific': [1], 'enforce_function': True, 'maximal_potence': 3}\n",
      "INFO:root:Number parameters: 15\n",
      "INFO:root:Number parameters active: 15\n"
     ]
    },
    {
     "name": "stdout",
     "output_type": "stream",
     "text": [
      "Training time: 2.5243303775787354\n",
      "Target expression: None\n",
      "Relative l_2-distance train: 0.021508337859084105\n",
      "Relative l_2-distance validation: 0.02987802643047262\n",
      "##### Training #####\n",
      "Number parameters: 15\n",
      "Number parameters active: 15\n"
     ]
    },
    {
     "name": "stderr",
     "output_type": "stream",
     "text": [
      "INFO:root:Number of evaluations: 3660\n",
      "INFO:root:Relative l2 distance train: 0.18901552634770497\n",
      "INFO:root:Relative l2 distance validation: 0.3419170707912976\n",
      "INFO:root:Training time: 2.797637462615967\n",
      "INFO:root:Cumulative training time: 106.87734508514404\n",
      "INFO:root:Cumulative number of evaluations: 174373\n",
      "INFO:root:Model parameters: {'degree_input_polynomials': 1, 'degree_output_polynomials': 2, 'functions': ['cos'], 'function_names': ['cos'], 'width': 1, 'degree_input_denominator': 1, 'degree_output_denominator': 0, 'degree_output_polynomials_specific': [1], 'degree_output_polynomials_denominator_specific': [1], 'enforce_function': False, 'maximal_potence': 3}\n",
      "INFO:root:Number parameters: 30\n",
      "INFO:root:Number parameters active: 30\n"
     ]
    },
    {
     "name": "stdout",
     "output_type": "stream",
     "text": [
      "Training time: 2.797637462615967\n",
      "Target expression: None\n",
      "Relative l_2-distance train: 0.18901552634770497\n",
      "Relative l_2-distance validation: 0.3419170707912976\n",
      "##### Training #####\n",
      "Number parameters: 30\n",
      "Number parameters active: 30\n"
     ]
    },
    {
     "name": "stderr",
     "output_type": "stream",
     "text": [
      "INFO:root:Number of evaluations: 2586\n",
      "INFO:root:Relative l2 distance train: 1.0769516462322162\n",
      "INFO:root:Relative l2 distance validation: 0.9515727929877971\n",
      "INFO:root:Training time: 2.473794937133789\n",
      "INFO:root:Cumulative training time: 109.35335636138916\n",
      "INFO:root:Cumulative number of evaluations: 176959\n",
      "INFO:root:Model parameters: {'degree_input_polynomials': 1, 'degree_output_polynomials': 2, 'functions': ['cos'], 'function_names': ['cos'], 'width': 1, 'degree_input_denominator': 1, 'degree_output_denominator': 0, 'degree_output_polynomials_specific': [1], 'degree_output_polynomials_denominator_specific': [1], 'enforce_function': True, 'maximal_potence': 3}\n",
      "INFO:root:Number parameters: 15\n",
      "INFO:root:Number parameters active: 15\n"
     ]
    },
    {
     "name": "stdout",
     "output_type": "stream",
     "text": [
      "Training time: 2.473794937133789\n",
      "Target expression: None\n",
      "Relative l_2-distance train: 1.0769516462322162\n",
      "Relative l_2-distance validation: 0.9515727929877971\n",
      "##### Training #####\n",
      "Number parameters: 15\n",
      "Number parameters active: 15\n"
     ]
    },
    {
     "name": "stderr",
     "output_type": "stream",
     "text": [
      "INFO:root:Number of evaluations: 3466\n",
      "INFO:root:Relative l2 distance train: 0.06346121448458387\n",
      "INFO:root:Relative l2 distance validation: 0.06897710826678646\n",
      "INFO:root:Training time: 2.649559736251831\n",
      "INFO:root:Cumulative training time: 112.00470757484436\n",
      "INFO:root:Cumulative number of evaluations: 180425\n",
      "INFO:root:Model parameters: {'degree_input_polynomials': 1, 'degree_output_polynomials': 2, 'functions': ['exp'], 'function_names': ['exp'], 'width': 1, 'degree_input_denominator': 1, 'degree_output_denominator': 0, 'degree_output_polynomials_specific': [1], 'degree_output_polynomials_denominator_specific': [1], 'enforce_function': False, 'maximal_potence': 3}\n",
      "INFO:root:Number parameters: 30\n",
      "INFO:root:Number parameters active: 30\n"
     ]
    },
    {
     "name": "stdout",
     "output_type": "stream",
     "text": [
      "Training time: 2.649559736251831\n",
      "Target expression: None\n",
      "Relative l_2-distance train: 0.06346121448458387\n",
      "Relative l_2-distance validation: 0.06897710826678646\n",
      "##### Training #####\n",
      "Number parameters: 30\n",
      "Number parameters active: 30\n"
     ]
    },
    {
     "name": "stderr",
     "output_type": "stream",
     "text": [
      "INFO:root:Number of evaluations: 2171\n",
      "INFO:root:Relative l2 distance train: 0.022168033168754663\n",
      "INFO:root:Relative l2 distance validation: 0.029990820933276964\n",
      "INFO:root:Training time: 2.1890625953674316\n",
      "INFO:root:Cumulative training time: 114.19611096382141\n",
      "INFO:root:Cumulative number of evaluations: 182596\n",
      "INFO:root:Model parameters: {'degree_input_polynomials': 1, 'degree_output_polynomials': 2, 'functions': ['exp'], 'function_names': ['exp'], 'width': 1, 'degree_input_denominator': 1, 'degree_output_denominator': 0, 'degree_output_polynomials_specific': [1], 'degree_output_polynomials_denominator_specific': [1], 'enforce_function': True, 'maximal_potence': 3}\n",
      "INFO:root:Number parameters: 15\n",
      "INFO:root:Number parameters active: 15\n",
      "INFO:root:Number of evaluations: 235\n",
      "INFO:root:Relative l2 distance train: 2.718413210786912\n",
      "INFO:root:Relative l2 distance validation: 2.668404704789718\n",
      "INFO:root:Training time: 0.16082477569580078\n",
      "INFO:root:Cumulative training time: 114.35874032974243\n",
      "INFO:root:Cumulative number of evaluations: 182831\n",
      "INFO:root:Model parameters: {'degree_input_polynomials': 2, 'degree_output_polynomials': 2, 'functions': ['sqrt'], 'function_names': ['sqrt'], 'width': 1, 'degree_input_denominator': 1, 'degree_output_denominator': 0, 'degree_output_polynomials_specific': [1], 'degree_output_polynomials_denominator_specific': [1], 'enforce_function': False, 'maximal_potence': 3}\n",
      "INFO:root:Number parameters: 40\n",
      "INFO:root:Number parameters active: 40\n"
     ]
    },
    {
     "name": "stdout",
     "output_type": "stream",
     "text": [
      "Training time: 2.1890625953674316\n",
      "Target expression: None\n",
      "Relative l_2-distance train: 0.022168033168754663\n",
      "Relative l_2-distance validation: 0.029990820933276964\n",
      "##### Training #####\n",
      "Number parameters: 15\n",
      "Number parameters active: 15\n",
      "Training time: 0.16082477569580078\n",
      "Target expression: None\n",
      "Relative l_2-distance train: 2.718413210786912\n",
      "Relative l_2-distance validation: 2.668404704789718\n",
      "##### Training #####\n",
      "Number parameters: 40\n",
      "Number parameters active: 40\n"
     ]
    },
    {
     "name": "stderr",
     "output_type": "stream",
     "text": [
      "INFO:root:Number of evaluations: 3529\n",
      "INFO:root:Relative l2 distance train: 0.010588458114233576\n",
      "INFO:root:Relative l2 distance validation: 0.014034182508375214\n",
      "INFO:root:Training time: 3.4553463459014893\n",
      "INFO:root:Cumulative training time: 117.81655740737915\n",
      "INFO:root:Cumulative number of evaluations: 186360\n",
      "INFO:root:Model parameters: {'degree_input_polynomials': 2, 'degree_output_polynomials': 2, 'functions': ['sqrt'], 'function_names': ['sqrt'], 'width': 1, 'degree_input_denominator': 1, 'degree_output_denominator': 0, 'degree_output_polynomials_specific': [1], 'degree_output_polynomials_denominator_specific': [1], 'enforce_function': True, 'maximal_potence': 3}\n",
      "INFO:root:Number parameters: 25\n",
      "INFO:root:Number parameters active: 25\n"
     ]
    },
    {
     "name": "stdout",
     "output_type": "stream",
     "text": [
      "Training time: 3.4553463459014893\n",
      "Target expression: None\n",
      "Relative l_2-distance train: 0.010588458114233576\n",
      "Relative l_2-distance validation: 0.014034182508375214\n",
      "##### Training #####\n",
      "Number parameters: 25\n",
      "Number parameters active: 25\n"
     ]
    },
    {
     "name": "stderr",
     "output_type": "stream",
     "text": [
      "INFO:root:Number of evaluations: 5009\n",
      "INFO:root:Relative l2 distance train: 0.000586761016411332\n",
      "INFO:root:Relative l2 distance validation: 0.0007609241340693437\n",
      "INFO:root:Training time: 3.932101249694824\n",
      "INFO:root:Cumulative training time: 121.75081491470337\n",
      "INFO:root:Cumulative number of evaluations: 191369\n",
      "INFO:root:New best relative l2 distance validation: 0.0007609241340693437\n",
      "INFO:root:Terminate proccess, wanted accuracy 0.001 and number of active parameters 5 / 10 was reached\n",
      "INFO:root:Time for multiprocessing in total: 121.83526086807251\n",
      "INFO:root:Finetuning with this cut off would not change anything.\n",
      "INFO:root:Finetuning with this cut off would not change anything.\n"
     ]
    },
    {
     "name": "stdout",
     "output_type": "stream",
     "text": [
      "Training time: 3.932101249694824\n",
      "Target expression: None\n",
      "Relative l_2-distance train: 0.000586761016411332\n",
      "Relative l_2-distance validation: 0.0007609241340693437\n",
      "Terminate proccess, wanted accuracy 0.001 and number of active parameters 5 / 10 was reached\n"
     ]
    },
    {
     "name": "stderr",
     "output_type": "stream",
     "text": [
      "INFO:root:Best distance (train, val, test): (tensor(0.0006, dtype=torch.float64), tensor(0.0008, dtype=torch.float64), tensor(0.0006, dtype=torch.float64))\n",
      "INFO:root:Best formula: 0.832*x0*sqrt(Abs((0.002*x0**2 + 0.006*x0*x1 + 0.006*x0*x3 + 1.425*x1**2 - 0.014*x1*x3 + 0.003*x1 + 1.434*x2**2 - 0.001*x2 + 1.428*x3**2)/(0.001*x0 - 0.002*x1 - 0.002*x3 + 1.0))) - 0.001*x1*sqrt(Abs((0.002*x0**2 + 0.006*x0*x1 + 0.006*x0*x3 + 1.425*x1**2 - 0.014*x1*x3 + 0.003*x1 + 1.434*x2**2 - 0.001*x2 + 1.428*x3**2)/(0.001*x0 - 0.002*x1 - 0.002*x3 + 1.0))) - 0.001*x2*sqrt(Abs((0.002*x0**2 + 0.006*x0*x1 + 0.006*x0*x3 + 1.425*x1**2 - 0.014*x1*x3 + 0.003*x1 + 1.434*x2**2 - 0.001*x2 + 1.428*x3**2)/(0.001*x0 - 0.002*x1 - 0.002*x3 + 1.0))) - 0.001*x3*sqrt(Abs((0.002*x0**2 + 0.006*x0*x1 + 0.006*x0*x3 + 1.425*x1**2 - 0.014*x1*x3 + 0.003*x1 + 1.434*x2**2 - 0.001*x2 + 1.428*x3**2)/(0.001*x0 - 0.002*x1 - 0.002*x3 + 1.0))) + 0.009*sqrt(Abs((0.002*x0**2 + 0.006*x0*x1 + 0.006*x0*x3 + 1.425*x1**2 - 0.014*x1*x3 + 0.003*x1 + 1.434*x2**2 - 0.001*x2 + 1.428*x3**2)/(0.001*x0 - 0.002*x1 - 0.002*x3 + 1.0))) best training time: 3.932101249694824\n"
     ]
    }
   ],
   "source": [
    "# If one has more time, one can also simply use the 'big' configuration (config_files/wrapper/big.ini) in the following way\n",
    "parfam = ParFamWrapper(iterate=True, config_name='big')\n",
    "parfam.fit(x, y, seed=1234, time_limit=500)"
   ]
  },
  {
   "cell_type": "code",
   "execution_count": 22,
   "metadata": {},
   "outputs": [
    {
     "name": "stdout",
     "output_type": "stream",
     "text": [
      "Target formula: mom*(x**2 + y**2 + z**2)**0.5\n",
      "Computed formula: 0.999360987831724*x0*sqrt(Abs(x1**2 + x2**2 + x3**2))\n"
     ]
    }
   ],
   "source": [
    "print(f'Target formula: {target_expr}')\n",
    "print(f'Computed formula: {parfam.formula_reduced.simplify()}')"
   ]
  },
  {
   "cell_type": "code",
   "execution_count": 23,
   "metadata": {},
   "outputs": [
    {
     "name": "stdout",
     "output_type": "stream",
     "text": [
      "Relative l2 distance: 3.171047026947043e-08\n"
     ]
    }
   ],
   "source": [
    "y_pred = parfam.predict(x).cpu().detach().numpy()\n",
    "print(f'Relative l2 distance: {np.linalg.norm(y - y_pred, ord=2) / np.linalg.norm(y, ord=2)}')"
   ]
  },
  {
   "cell_type": "markdown",
   "metadata": {},
   "source": [
    "# Custom loss\n",
    "\n",
    "Try the custom_loss from parfam_wrapper:\n",
    "\n",
    "Instead of fitting f(x) to y (||f(x)-y||), fit f(x) to y^2 (||f(x)-y^2||). In this case, the same could be achieved with by simply recasting $\\tilde y= y^2$, but this custom_loss can be modified to arbitrary settings, that might be not possible otherwise."
   ]
  },
  {
   "cell_type": "code",
   "execution_count": 24,
   "metadata": {},
   "outputs": [
    {
     "name": "stderr",
     "output_type": "stream",
     "text": [
      "/home/math/scholl/projects/physicalLawLearning/parfam/train.py:1632: UserWarning: To copy construct from a tensor, it is recommended to use sourceTensor.clone().detach() or sourceTensor.clone().detach().requires_grad_(True), rather than torch.tensor(sourceTensor).\n",
      "  x, y = torch.tensor(x, device=training_parameters['device']), torch.tensor(y, device=training_parameters['device'])\n",
      "INFO:root:Sequential computation\n",
      "INFO:root:Model parameters: {'degree_input_polynomials': 2, 'degree_output_polynomials': 4, 'degree_input_denominator': 0, 'degree_output_denominator': 0, 'degree_output_polynomials_specific': [], 'degree_output_polynomials_denominator_specific': [], 'width': 1, 'function_names': [], 'enforce_function': False, 'maximal_potence': 4, 'functions': []}\n",
      "INFO:root:Number parameters: 5\n",
      "INFO:root:Number parameters active: 5\n"
     ]
    },
    {
     "name": "stdout",
     "output_type": "stream",
     "text": [
      "Training parameters: {'normalization': False, 'time_limit': 100, 'evaluations_limit': 1000000, 'max_dataset_length': 500, 'model': 'ParFamTorch', 'target_noise': 0.0, 'feature_noise': 0.0, 'seed': 1234, 'accuracy': 0.0001, 'maxiter1': 100, 'maxiter2': 0, 'optimizer': 'basinhopping', 'pruning_iterations': 1, 'pruning_cut_off': 0.01, 'classifier': None, 'local_minimizer': 'BFGS', 'maxiter_per_dim_local_minimizer': 100, 'lambda_1': 0.001, 'repetitions': 1, 'parallel': False, 'n_processes': 4, 'lambda_1_cut': 0, 'lambda_1_piecewise': 0, 'device': 'cpu', 'iterative_finetuning': True, 'max_n_active_parameters': 10, 'lambda_1_finetuning': 1e-05, 'path_pretrained': 'Flexible dimension/full_19_big_training_sets/20240427_070711_5M/Datetime_20240427_070717_Loss_training_set_size_797545_batch_size_341_hidden_dim_256.pt', 'topk_predictions': 10, 'enforce_function_iterate': 'False'}\n",
      "Sequential computation\n",
      "##### Training #####\n",
      "Number parameters: 5\n",
      "Number parameters active: 5\n"
     ]
    },
    {
     "name": "stderr",
     "output_type": "stream",
     "text": [
      "INFO:root:Number of evaluations: 0\n",
      "INFO:root:Custom loss train: 2.2422072318067243e-07\n",
      "INFO:root:Custom loss val: 2.6112640888481205e-07\n",
      "INFO:root:Training time: 0.7008481025695801\n",
      "INFO:root:Cumulative training time: 0.703052282333374\n",
      "INFO:root:Cumulative number of evaluations: 0\n",
      "INFO:root:New best custom loss validation: 2.6112640888481205e-07\n",
      "INFO:root:Terminate proccess, wanted accuracy 0.001 and number of active parameters 2 / 10 was reached\n",
      "INFO:root:Time for multiprocessing in total: 0.7048442363739014\n",
      "INFO:root:Finetuning with this cut off would not change anything.\n",
      "INFO:root:Finetuning with this cut off would not change anything.\n",
      "INFO:root:Finetuning with this cut off would not change anything.\n",
      "INFO:root:Finetuning with this cut off would not change anything.\n",
      "INFO:root:Finetuning with this cut off would not change anything.\n",
      "INFO:root:Finetuning with this cut off would not change anything.\n",
      "INFO:root:Finetuning with this cut off would not change anything.\n",
      "INFO:root:Best distance (train, val, test): (tensor(2.2422e-07, dtype=torch.float64), tensor(2.6113e-07, dtype=torch.float64), tensor(2.4205e-07, dtype=torch.float64))\n",
      "INFO:root:Best formula: 1.0*x0**2 + 1.0*x0 best training time: 0.7008481025695801\n"
     ]
    },
    {
     "name": "stdout",
     "output_type": "stream",
     "text": [
      "Training time: 0.7008481025695801\n",
      "Target expression: None\n",
      "Custom loss train: 2.2422072318067243e-07\n",
      "Custom loss val: 2.6112640888481205e-07\n",
      "Terminate proccess, wanted accuracy 0.001 and number of active parameters 2 / 10 was reached\n"
     ]
    },
    {
     "data": {
      "text/plain": [
       "<matplotlib.legend.Legend at 0x7f2d8a2abe90>"
      ]
     },
     "execution_count": 24,
     "metadata": {},
     "output_type": "execute_result"
    },
    {
     "data": {
      "image/png": "[encoded data removed]",
      "text/plain": [
       "<Figure size 640x480 with 1 Axes>"
      ]
     },
     "metadata": {},
     "output_type": "display_data"
    }
   ],
   "source": [
    "functions = []\n",
    "function_names = []\n",
    "\n",
    "n_data_points = 500 \n",
    "\n",
    "x = np.linspace(0, 5, n_data_points).reshape(n_data_points,1)\n",
    "y = ((x**2 + x)**(1/2)).flatten()\n",
    "\n",
    "\n",
    "# The loss function needs to include 3 parameters:\n",
    "# - y_pred: the prediction of the model\n",
    "# - y: The \"target\" in general; This is the only parameter that is directly chosen as an input by the user, as part of the function .fit(x, y).\n",
    "# - coefficients: the coefficients of ParFam. Usually this is interesting for regularization. Note, that it is only used during training and not testing,\n",
    "#                 therefore, it is important to include the case that coefficients=None.\n",
    "def custom_loss(y_pred, y, coefficients):\n",
    "    if coefficients is None:\n",
    "        reg = 0\n",
    "    else: \n",
    "        reg = torch.norm(coefficients, p=1)\n",
    "    return torch.norm(y_pred - y**2, p=2) / torch.norm(y, p=2) + 0.001 * reg\n",
    "\n",
    "parfam = ParFamWrapper(config_name='small', iterate=False, degree_input_denominator=0, degree_output_denominator=0, function_names=function_names, functions=functions, \n",
    "                        degree_output_numerator=4, maximal_potence=4)\n",
    "parfam.fit(x=x, y=y, custom_loss=custom_loss)\n",
    "\n",
    "y_pred = parfam.predict(x)\n",
    "\n",
    "plt.plot(x, y**2, '+', label='Samples squared')\n",
    "plt.plot(x, y_pred, label='Prediction')\n",
    "plt.legend()"
   ]
  },
  {
   "cell_type": "code",
   "execution_count": 25,
   "metadata": {},
   "outputs": [
    {
     "data": {
      "text/latex": [
       "$\\displaystyle 1.0 x^{2} + 1.0 x$"
      ],
      "text/plain": [
       "1.0*x**2 + 1.0*x"
      ]
     },
     "execution_count": 25,
     "metadata": {},
     "output_type": "execute_result"
    }
   ],
   "source": [
    "parfam.get_formula(['x'])"
   ]
  },
  {
   "cell_type": "markdown",
   "metadata": {},
   "source": []
  }
 ],
 "metadata": {
  "kernelspec": {
   "display_name": "parfam",
   "language": "python",
   "name": "python3"
  },
  "language_info": {
   "codemirror_mode": {
    "name": "ipython",
    "version": 3
   },
   "file_extension": ".py",
   "mimetype": "text/x-python",
   "name": "python",
   "nbconvert_exporter": "python",
   "pygments_lexer": "ipython3",
   "version": "3.12.2"
  }
 },
 "nbformat": 4,
 "nbformat_minor": 2
}
