{
 "cells": [
  {
   "cell_type": "code",
   "execution_count": 4,
   "metadata": {},
   "outputs": [],
   "source": [
    "from parfamwarpper import ParFamWrapper\n",
    "\n",
    "import sympy\n",
    "import torch\n",
    "import numpy as np\n",
    "import matplotlib.pyplot as plt"
   ]
  },
  {
   "cell_type": "code",
   "execution_count": 5,
   "metadata": {},
   "outputs": [],
   "source": [
    "# Collection of function for ParFam to use, can be readily extended\n",
    "\n",
    "function_dict = {'sqrt': lambda x: torch.sqrt(torch.abs(x)),\n",
    "                 'exp': lambda x: torch.minimum(torch.exp(x), np.exp(10) + torch.abs(x)),\n",
    "                 'log': lambda x: torch.log(torch.abs(x) + 0.000001),\n",
    "                 'cos': torch.cos, 'sin': torch.sin}\n",
    "function_name_dict = {'sqrt': lambda x: sympy.sqrt(sympy.Abs(x)), 'exp': sympy.exp, 'cos': sympy.cos, 'sin': sympy.sin,\n",
    "                      'log': lambda x: sympy.log(sympy.Abs(x) + 0.000001)}\n",
    "\n",
    "standard_function_names_str = ['sin', 'sqrt', 'exp', 'sqrt'] \n",
    "standard_functions = [function_dict[key] for key in standard_function_names_str]\n",
    "standard_function_names = [function_name_dict[key] for key in standard_function_names_str]"
   ]
  },
  {
   "cell_type": "markdown",
   "metadata": {},
   "source": [
    "# Basic functionality"
   ]
  },
  {
   "cell_type": "markdown",
   "metadata": {},
   "source": [
    "## One dimensional problem"
   ]
  },
  {
   "cell_type": "code",
   "execution_count": 15,
   "metadata": {},
   "outputs": [
    {
     "name": "stdout",
     "output_type": "stream",
     "text": [
      "(20, 1)\n",
      "Target formula: 0.2*sin(2.96786332130432*x)/x\n"
     ]
    }
   ],
   "source": [
    "device = 'cpu'\n",
    "\n",
    "a = 2 * torch.randn(1)\n",
    "\n",
    "x = np.arange(1, 5, 0.2)  # 1 dimensional \n",
    "x = x.reshape(len(x), 1)  # 1 dimensional \n",
    "print(x.shape) \n",
    "x = torch.tensor(x, device=device)\n",
    "\n",
    "def func(a, x, module):\n",
    "    # return module.sin((a[0] * x + 1) / (0.1 * x + 2))\n",
    "    # return module.sin((a[0] * x + 1) / (0.1 * x)) \n",
    "    # return module.sin((a[0] * x)) \n",
    "    # return a[0] * x / (1+x)\n",
    "    return 0.2 * module.sin(a[0] * x) / x\n",
    "    # return 0.5 * x / (x + 1)\n",
    "    # return module.log(x + 1.4) + module.log(x ** 2 + 1.3)\n",
    "    # return module.sin(x ** 2) * module.cos(x) - 1\n",
    "\n",
    "y = func(a, x, np).squeeze(1)\n",
    "x_sym = sympy.symbols('x')\n",
    "\n",
    "target_expr = func(a, x_sym, sympy)\n",
    "print(f'Target formula: {target_expr}')"
   ]
  },
  {
   "cell_type": "code",
   "execution_count": 16,
   "metadata": {},
   "outputs": [],
   "source": [
    "# Assuming we already know that only the sin function is necessary:\n",
    "functions = [torch.sin]\n",
    "function_names = [sympy.sin]"
   ]
  },
  {
   "cell_type": "code",
   "execution_count": 25,
   "metadata": {},
   "outputs": [
    {
     "name": "stderr",
     "output_type": "stream",
     "text": [
      "/home/philipp/projects/phyiscalLawLearning/parfam/train.py:879: UserWarning: To copy construct from a tensor, it is recommended to use sourceTensor.clone().detach() or sourceTensor.clone().detach().requires_grad_(True), rather than torch.tensor(sourceTensor).\n",
      "  x, y = torch.tensor(x, device=training_parameters['device']), torch.tensor(y, device=training_parameters['device'])\n",
      "INFO:root:Sequential computation\n",
      "INFO:root:Number parameters: 6\n",
      "INFO:root:Number parameters active: 6\n",
      "INFO:root:Number of evaluations: 197\n",
      "INFO:root:Training parameters: {'model': 'ParFamTorch', 'repetitions': 1, 'parallel': False, 'seed': 45747, 'device': 'cpu', 'target_noise': 0, 'feature_noise': 0, 'time_limit': 100, 'evaluations_limit': 1000000, 'max_n_active_parameters': 10, 'maxiter1': 100, 'maxiter2': 0, 'optimizer': 'basinhopping', 'maxiter_per_dim_local_minimizer': 100, 'lambda_1': 0.0001, 'lambda_1_piecewise': 0.0, 'lambda_1_cut': 0.0, 'max_dataset_length': 100, 'classifier': None, 'local_minimizer': 'bfgs', 'lambda_1_finetuning': 0.01, 'iterative_finetuning': True, 'pruning_iterations': 1}\n",
      "INFO:root:Model parameters: {'degree_input_polynomials': 0, 'degree_output_polynomials': 2, 'functions': [], 'function_names': [], 'width': 1, 'degree_input_denominator': 0, 'degree_output_denominator': 0, 'degree_output_polynomials_specific': None, 'degree_output_polynomials_denominator_specific': None, 'enforce_function': False, 'maximal_potence': 3}\n",
      "INFO:root:Relative l2 distance train: 0.660615137530831\n",
      "INFO:root:Relative l2 distance validation: 0.6050379265655508\n",
      "INFO:root:Training time: 0.08990097045898438\n",
      "INFO:root:Cumulative training time: 0.09157991409301758\n",
      "INFO:root:Cumulative number of evaluations: 197\n",
      "INFO:root:New best relative l2 distance validation: 0.6050379265655508\n",
      "INFO:root:Number parameters: 6\n",
      "INFO:root:Number parameters active: 6\n"
     ]
    },
    {
     "name": "stdout",
     "output_type": "stream",
     "text": [
      "Sequential computation\n",
      "##### Training #####\n",
      "Number parameters: 6\n",
      "Number parameters active: 6\n",
      "Training time: 0.08990097045898438\n",
      "Target expression: None\n",
      "Relative l_2-distance train: 0.660615137530831\n",
      "Relative l_2-distance validation: 0.6050379265655508\n",
      "##### Training #####\n",
      "Number parameters: 6\n",
      "Number parameters active: 6\n"
     ]
    },
    {
     "name": "stderr",
     "output_type": "stream",
     "text": [
      "INFO:root:Number of evaluations: 2167\n",
      "INFO:root:Training parameters: {'model': 'ParFamTorch', 'repetitions': 1, 'parallel': False, 'seed': 45747, 'device': 'cpu', 'target_noise': 0, 'feature_noise': 0, 'time_limit': 100, 'evaluations_limit': 1000000, 'max_n_active_parameters': 10, 'maxiter1': 100, 'maxiter2': 0, 'optimizer': 'basinhopping', 'maxiter_per_dim_local_minimizer': 100, 'lambda_1': 0.0001, 'lambda_1_piecewise': 0.0, 'lambda_1_cut': 0.0, 'max_dataset_length': 100, 'classifier': None, 'local_minimizer': 'bfgs', 'lambda_1_finetuning': 0.01, 'iterative_finetuning': True, 'pruning_iterations': 1}\n",
      "INFO:root:Model parameters: {'degree_input_polynomials': 0, 'degree_output_polynomials': 1, 'functions': [], 'function_names': [], 'width': 1, 'degree_input_denominator': 0, 'degree_output_denominator': 1, 'degree_output_polynomials_specific': None, 'degree_output_polynomials_denominator_specific': None, 'enforce_function': False, 'maximal_potence': 3}\n",
      "INFO:root:Relative l2 distance train: 0.734507690548686\n",
      "INFO:root:Relative l2 distance validation: 0.6673092518953816\n",
      "INFO:root:Training time: 1.0112788677215576\n",
      "INFO:root:Cumulative training time: 1.1047329902648926\n",
      "INFO:root:Cumulative number of evaluations: 2364\n",
      "INFO:root:Number parameters: 9\n",
      "INFO:root:Number parameters active: 9\n"
     ]
    },
    {
     "name": "stdout",
     "output_type": "stream",
     "text": [
      "Training time: 1.0112788677215576\n",
      "Target expression: None\n",
      "Relative l_2-distance train: 0.734507690548686\n",
      "Relative l_2-distance validation: 0.6673092518953816\n",
      "##### Training #####\n",
      "Number parameters: 9\n",
      "Number parameters active: 9\n"
     ]
    },
    {
     "name": "stderr",
     "output_type": "stream",
     "text": [
      "INFO:root:Number of evaluations: 2426\n",
      "INFO:root:Training parameters: {'model': 'ParFamTorch', 'repetitions': 1, 'parallel': False, 'seed': 45747, 'device': 'cpu', 'target_noise': 0, 'feature_noise': 0, 'time_limit': 100, 'evaluations_limit': 1000000, 'max_n_active_parameters': 10, 'maxiter1': 100, 'maxiter2': 0, 'optimizer': 'basinhopping', 'maxiter_per_dim_local_minimizer': 100, 'lambda_1': 0.0001, 'lambda_1_piecewise': 0.0, 'lambda_1_cut': 0.0, 'max_dataset_length': 100, 'classifier': None, 'local_minimizer': 'bfgs', 'lambda_1_finetuning': 0.01, 'iterative_finetuning': True, 'pruning_iterations': 1}\n",
      "INFO:root:Model parameters: {'degree_input_polynomials': 0, 'degree_output_polynomials': 2, 'functions': [], 'function_names': [], 'width': 1, 'degree_input_denominator': 0, 'degree_output_denominator': 1, 'degree_output_polynomials_specific': None, 'degree_output_polynomials_denominator_specific': None, 'enforce_function': False, 'maximal_potence': 3}\n",
      "INFO:root:Relative l2 distance train: 0.6779014308901505\n",
      "INFO:root:Relative l2 distance validation: 0.7596150098398503\n",
      "INFO:root:Training time: 1.1613569259643555\n",
      "INFO:root:Cumulative training time: 2.26773738861084\n",
      "INFO:root:Cumulative number of evaluations: 4790\n",
      "INFO:root:Number parameters: 9\n",
      "INFO:root:Number parameters active: 9\n"
     ]
    },
    {
     "name": "stdout",
     "output_type": "stream",
     "text": [
      "Training time: 1.1613569259643555\n",
      "Target expression: None\n",
      "Relative l_2-distance train: 0.6779014308901505\n",
      "Relative l_2-distance validation: 0.7596150098398503\n",
      "##### Training #####\n",
      "Number parameters: 9\n",
      "Number parameters active: 9\n"
     ]
    },
    {
     "name": "stderr",
     "output_type": "stream",
     "text": [
      "INFO:root:Number of evaluations: 2833\n",
      "INFO:root:Training parameters: {'model': 'ParFamTorch', 'repetitions': 1, 'parallel': False, 'seed': 45747, 'device': 'cpu', 'target_noise': 0, 'feature_noise': 0, 'time_limit': 100, 'evaluations_limit': 1000000, 'max_n_active_parameters': 10, 'maxiter1': 100, 'maxiter2': 0, 'optimizer': 'basinhopping', 'maxiter_per_dim_local_minimizer': 100, 'lambda_1': 0.0001, 'lambda_1_piecewise': 0.0, 'lambda_1_cut': 0.0, 'max_dataset_length': 100, 'classifier': None, 'local_minimizer': 'bfgs', 'lambda_1_finetuning': 0.01, 'iterative_finetuning': True, 'pruning_iterations': 1}\n",
      "INFO:root:Model parameters: {'degree_input_polynomials': 0, 'degree_output_polynomials': 1, 'functions': [], 'function_names': [], 'width': 1, 'degree_input_denominator': 0, 'degree_output_denominator': 2, 'degree_output_polynomials_specific': None, 'degree_output_polynomials_denominator_specific': None, 'enforce_function': False, 'maximal_potence': 3}\n",
      "INFO:root:Relative l2 distance train: 0.6618696554980668\n",
      "INFO:root:Relative l2 distance validation: 0.8033896620518162\n",
      "INFO:root:Training time: 1.5073013305664062\n",
      "INFO:root:Cumulative training time: 3.777028799057007\n",
      "INFO:root:Cumulative number of evaluations: 7623\n",
      "INFO:root:Number parameters: 12\n",
      "INFO:root:Number parameters active: 12\n"
     ]
    },
    {
     "name": "stdout",
     "output_type": "stream",
     "text": [
      "Training time: 1.5073013305664062\n",
      "Target expression: None\n",
      "Relative l_2-distance train: 0.6618696554980668\n",
      "Relative l_2-distance validation: 0.8033896620518162\n",
      "##### Training #####\n",
      "Number parameters: 12\n",
      "Number parameters active: 12\n"
     ]
    },
    {
     "name": "stderr",
     "output_type": "stream",
     "text": [
      "INFO:root:Number of evaluations: 2984\n",
      "INFO:root:Training parameters: {'model': 'ParFamTorch', 'repetitions': 1, 'parallel': False, 'seed': 45747, 'device': 'cpu', 'target_noise': 0, 'feature_noise': 0, 'time_limit': 100, 'evaluations_limit': 1000000, 'max_n_active_parameters': 10, 'maxiter1': 100, 'maxiter2': 0, 'optimizer': 'basinhopping', 'maxiter_per_dim_local_minimizer': 100, 'lambda_1': 0.0001, 'lambda_1_piecewise': 0.0, 'lambda_1_cut': 0.0, 'max_dataset_length': 100, 'classifier': None, 'local_minimizer': 'bfgs', 'lambda_1_finetuning': 0.01, 'iterative_finetuning': True, 'pruning_iterations': 1}\n",
      "INFO:root:Model parameters: {'degree_input_polynomials': 0, 'degree_output_polynomials': 2, 'functions': [], 'function_names': [], 'width': 1, 'degree_input_denominator': 0, 'degree_output_denominator': 2, 'degree_output_polynomials_specific': None, 'degree_output_polynomials_denominator_specific': None, 'enforce_function': False, 'maximal_potence': 3}\n",
      "INFO:root:Relative l2 distance train: 0.25685691423384893\n",
      "INFO:root:Relative l2 distance validation: 0.32986704952195156\n",
      "INFO:root:Training time: 1.5540597438812256\n",
      "INFO:root:Cumulative training time: 5.332886457443237\n",
      "INFO:root:Cumulative number of evaluations: 10607\n",
      "INFO:root:New best relative l2 distance validation: 0.32986704952195156\n",
      "INFO:root:Number parameters: 7\n",
      "INFO:root:Number parameters active: 7\n",
      "INFO:root:Number of evaluations: 211\n",
      "INFO:root:Training parameters: {'model': 'ParFamTorch', 'repetitions': 1, 'parallel': False, 'seed': 45747, 'device': 'cpu', 'target_noise': 0, 'feature_noise': 0, 'time_limit': 100, 'evaluations_limit': 1000000, 'max_n_active_parameters': 10, 'maxiter1': 100, 'maxiter2': 0, 'optimizer': 'basinhopping', 'maxiter_per_dim_local_minimizer': 100, 'lambda_1': 0.0001, 'lambda_1_piecewise': 0.0, 'lambda_1_cut': 0.0, 'max_dataset_length': 100, 'classifier': None, 'local_minimizer': 'bfgs', 'lambda_1_finetuning': 0.01, 'iterative_finetuning': True, 'pruning_iterations': 1}\n",
      "INFO:root:Model parameters: {'degree_input_polynomials': 1, 'degree_output_polynomials': 1, 'functions': ['function_0'], 'function_names': ['function_0'], 'width': 1, 'degree_input_denominator': 0, 'degree_output_denominator': 0, 'degree_output_polynomials_specific': [1], 'degree_output_polynomials_denominator_specific': [1], 'enforce_function': False, 'maximal_potence': 3}\n",
      "INFO:root:Relative l2 distance train: 0.6291047704561842\n",
      "INFO:root:Relative l2 distance validation: 0.6552854170796261\n",
      "INFO:root:Training time: 0.12193703651428223\n",
      "INFO:root:Cumulative training time: 5.45649528503418\n",
      "INFO:root:Cumulative number of evaluations: 10818\n",
      "INFO:root:Number parameters: 4\n",
      "INFO:root:Number parameters active: 4\n"
     ]
    },
    {
     "name": "stdout",
     "output_type": "stream",
     "text": [
      "Training time: 1.5540597438812256\n",
      "Target expression: None\n",
      "Relative l_2-distance train: 0.25685691423384893\n",
      "Relative l_2-distance validation: 0.32986704952195156\n",
      "##### Training #####\n",
      "Number parameters: 7\n",
      "Number parameters active: 7\n",
      "Training time: 0.12193703651428223\n",
      "Target expression: None\n",
      "Relative l_2-distance train: 0.6291047704561842\n",
      "Relative l_2-distance validation: 0.6552854170796261\n",
      "##### Training #####\n",
      "Number parameters: 4\n",
      "Number parameters active: 4\n"
     ]
    },
    {
     "name": "stderr",
     "output_type": "stream",
     "text": [
      "INFO:root:Number of evaluations: 350\n",
      "INFO:root:Training parameters: {'model': 'ParFamTorch', 'repetitions': 1, 'parallel': False, 'seed': 45747, 'device': 'cpu', 'target_noise': 0, 'feature_noise': 0, 'time_limit': 100, 'evaluations_limit': 1000000, 'max_n_active_parameters': 10, 'maxiter1': 100, 'maxiter2': 0, 'optimizer': 'basinhopping', 'maxiter_per_dim_local_minimizer': 100, 'lambda_1': 0.0001, 'lambda_1_piecewise': 0.0, 'lambda_1_cut': 0.0, 'max_dataset_length': 100, 'classifier': None, 'local_minimizer': 'bfgs', 'lambda_1_finetuning': 0.01, 'iterative_finetuning': True, 'pruning_iterations': 1}\n",
      "INFO:root:Model parameters: {'degree_input_polynomials': 1, 'degree_output_polynomials': 1, 'functions': ['function_0'], 'function_names': ['function_0'], 'width': 1, 'degree_input_denominator': 0, 'degree_output_denominator': 0, 'degree_output_polynomials_specific': [1], 'degree_output_polynomials_denominator_specific': [1], 'enforce_function': True, 'maximal_potence': 3}\n",
      "INFO:root:Relative l2 distance train: 0.6248913570433395\n",
      "INFO:root:Relative l2 distance validation: 0.8466103486950478\n",
      "INFO:root:Training time: 0.18212676048278809\n",
      "INFO:root:Cumulative training time: 5.640110969543457\n",
      "INFO:root:Cumulative number of evaluations: 11168\n",
      "INFO:root:Number parameters: 10\n",
      "INFO:root:Number parameters active: 10\n"
     ]
    },
    {
     "name": "stdout",
     "output_type": "stream",
     "text": [
      "Training time: 0.18212676048278809\n",
      "Target expression: None\n",
      "Relative l_2-distance train: 0.6248913570433395\n",
      "Relative l_2-distance validation: 0.8466103486950478\n",
      "##### Training #####\n",
      "Number parameters: 10\n",
      "Number parameters active: 10\n"
     ]
    },
    {
     "name": "stderr",
     "output_type": "stream",
     "text": [
      "INFO:root:Number of evaluations: 648\n",
      "INFO:root:Training parameters: {'model': 'ParFamTorch', 'repetitions': 1, 'parallel': False, 'seed': 45747, 'device': 'cpu', 'target_noise': 0, 'feature_noise': 0, 'time_limit': 100, 'evaluations_limit': 1000000, 'max_n_active_parameters': 10, 'maxiter1': 100, 'maxiter2': 0, 'optimizer': 'basinhopping', 'maxiter_per_dim_local_minimizer': 100, 'lambda_1': 0.0001, 'lambda_1_piecewise': 0.0, 'lambda_1_cut': 0.0, 'max_dataset_length': 100, 'classifier': None, 'local_minimizer': 'bfgs', 'lambda_1_finetuning': 0.01, 'iterative_finetuning': True, 'pruning_iterations': 1}\n",
      "INFO:root:Model parameters: {'degree_input_polynomials': 2, 'degree_output_polynomials': 1, 'functions': ['function_0'], 'function_names': ['function_0'], 'width': 1, 'degree_input_denominator': 0, 'degree_output_denominator': 0, 'degree_output_polynomials_specific': [1], 'degree_output_polynomials_denominator_specific': [1], 'enforce_function': False, 'maximal_potence': 3}\n",
      "INFO:root:Relative l2 distance train: 0.8286034072313887\n",
      "INFO:root:Relative l2 distance validation: 1.4006088660904923\n",
      "INFO:root:Training time: 0.35663414001464844\n",
      "INFO:root:Cumulative training time: 5.99847674369812\n",
      "INFO:root:Cumulative number of evaluations: 11816\n",
      "INFO:root:Number parameters: 7\n",
      "INFO:root:Number parameters active: 7\n"
     ]
    },
    {
     "name": "stdout",
     "output_type": "stream",
     "text": [
      "Training time: 0.35663414001464844\n",
      "Target expression: None\n",
      "Relative l_2-distance train: 0.8286034072313887\n",
      "Relative l_2-distance validation: 1.4006088660904923\n",
      "##### Training #####\n",
      "Number parameters: 7\n",
      "Number parameters active: 7\n"
     ]
    },
    {
     "name": "stderr",
     "output_type": "stream",
     "text": [
      "INFO:root:Number of evaluations: 517\n",
      "INFO:root:Training parameters: {'model': 'ParFamTorch', 'repetitions': 1, 'parallel': False, 'seed': 45747, 'device': 'cpu', 'target_noise': 0, 'feature_noise': 0, 'time_limit': 100, 'evaluations_limit': 1000000, 'max_n_active_parameters': 10, 'maxiter1': 100, 'maxiter2': 0, 'optimizer': 'basinhopping', 'maxiter_per_dim_local_minimizer': 100, 'lambda_1': 0.0001, 'lambda_1_piecewise': 0.0, 'lambda_1_cut': 0.0, 'max_dataset_length': 100, 'classifier': None, 'local_minimizer': 'bfgs', 'lambda_1_finetuning': 0.01, 'iterative_finetuning': True, 'pruning_iterations': 1}\n",
      "INFO:root:Model parameters: {'degree_input_polynomials': 2, 'degree_output_polynomials': 1, 'functions': ['function_0'], 'function_names': ['function_0'], 'width': 1, 'degree_input_denominator': 0, 'degree_output_denominator': 0, 'degree_output_polynomials_specific': [1], 'degree_output_polynomials_denominator_specific': [1], 'enforce_function': True, 'maximal_potence': 3}\n",
      "INFO:root:Relative l2 distance train: 0.8224138411874445\n",
      "INFO:root:Relative l2 distance validation: 1.155660117320551\n",
      "INFO:root:Training time: 0.27766966819763184\n",
      "INFO:root:Cumulative training time: 6.2783732414245605\n",
      "INFO:root:Cumulative number of evaluations: 12333\n",
      "INFO:root:Number parameters: 10\n",
      "INFO:root:Number parameters active: 10\n"
     ]
    },
    {
     "name": "stdout",
     "output_type": "stream",
     "text": [
      "Training time: 0.27766966819763184\n",
      "Target expression: None\n",
      "Relative l_2-distance train: 0.8224138411874445\n",
      "Relative l_2-distance validation: 1.155660117320551\n",
      "##### Training #####\n",
      "Number parameters: 10\n",
      "Number parameters active: 10\n"
     ]
    },
    {
     "name": "stderr",
     "output_type": "stream",
     "text": [
      "INFO:root:Number of evaluations: 1908\n",
      "INFO:root:Training parameters: {'model': 'ParFamTorch', 'repetitions': 1, 'parallel': False, 'seed': 45747, 'device': 'cpu', 'target_noise': 0, 'feature_noise': 0, 'time_limit': 100, 'evaluations_limit': 1000000, 'max_n_active_parameters': 10, 'maxiter1': 100, 'maxiter2': 0, 'optimizer': 'basinhopping', 'maxiter_per_dim_local_minimizer': 100, 'lambda_1': 0.0001, 'lambda_1_piecewise': 0.0, 'lambda_1_cut': 0.0, 'max_dataset_length': 100, 'classifier': None, 'local_minimizer': 'bfgs', 'lambda_1_finetuning': 0.01, 'iterative_finetuning': True, 'pruning_iterations': 1}\n",
      "INFO:root:Model parameters: {'degree_input_polynomials': 1, 'degree_output_polynomials': 1, 'functions': ['function_0'], 'function_names': ['function_0'], 'width': 1, 'degree_input_denominator': 1, 'degree_output_denominator': 0, 'degree_output_polynomials_specific': [1], 'degree_output_polynomials_denominator_specific': [1], 'enforce_function': False, 'maximal_potence': 3}\n",
      "INFO:root:Relative l2 distance train: 0.41390027408595187\n",
      "INFO:root:Relative l2 distance validation: 1.1285029028016824\n",
      "INFO:root:Training time: 1.2446260452270508\n",
      "INFO:root:Cumulative training time: 7.524730682373047\n",
      "INFO:root:Cumulative number of evaluations: 14241\n",
      "INFO:root:Number parameters: 7\n",
      "INFO:root:Number parameters active: 7\n"
     ]
    },
    {
     "name": "stdout",
     "output_type": "stream",
     "text": [
      "Training time: 1.2446260452270508\n",
      "Target expression: None\n",
      "Relative l_2-distance train: 0.41390027408595187\n",
      "Relative l_2-distance validation: 1.1285029028016824\n",
      "##### Training #####\n",
      "Number parameters: 7\n",
      "Number parameters active: 7\n"
     ]
    },
    {
     "name": "stderr",
     "output_type": "stream",
     "text": [
      "INFO:root:Number of evaluations: 1857\n",
      "INFO:root:Training parameters: {'model': 'ParFamTorch', 'repetitions': 1, 'parallel': False, 'seed': 45747, 'device': 'cpu', 'target_noise': 0, 'feature_noise': 0, 'time_limit': 100, 'evaluations_limit': 1000000, 'max_n_active_parameters': 10, 'maxiter1': 100, 'maxiter2': 0, 'optimizer': 'basinhopping', 'maxiter_per_dim_local_minimizer': 100, 'lambda_1': 0.0001, 'lambda_1_piecewise': 0.0, 'lambda_1_cut': 0.0, 'max_dataset_length': 100, 'classifier': None, 'local_minimizer': 'bfgs', 'lambda_1_finetuning': 0.01, 'iterative_finetuning': True, 'pruning_iterations': 1}\n",
      "INFO:root:Model parameters: {'degree_input_polynomials': 1, 'degree_output_polynomials': 1, 'functions': ['function_0'], 'function_names': ['function_0'], 'width': 1, 'degree_input_denominator': 1, 'degree_output_denominator': 0, 'degree_output_polynomials_specific': [1], 'degree_output_polynomials_denominator_specific': [1], 'enforce_function': True, 'maximal_potence': 3}\n",
      "INFO:root:Relative l2 distance train: 0.4909861397308923\n",
      "INFO:root:Relative l2 distance validation: 0.9397072722798032\n",
      "INFO:root:Training time: 1.1888372898101807\n",
      "INFO:root:Cumulative training time: 8.71496868133545\n",
      "INFO:root:Cumulative number of evaluations: 16098\n",
      "INFO:root:Number parameters: 13\n",
      "INFO:root:Number parameters active: 13\n"
     ]
    },
    {
     "name": "stdout",
     "output_type": "stream",
     "text": [
      "Training time: 1.1888372898101807\n",
      "Target expression: None\n",
      "Relative l_2-distance train: 0.4909861397308923\n",
      "Relative l_2-distance validation: 0.9397072722798032\n",
      "##### Training #####\n",
      "Number parameters: 13\n",
      "Number parameters active: 13\n"
     ]
    },
    {
     "name": "stderr",
     "output_type": "stream",
     "text": [
      "INFO:root:Number of evaluations: 2124\n",
      "INFO:root:Training parameters: {'model': 'ParFamTorch', 'repetitions': 1, 'parallel': False, 'seed': 45747, 'device': 'cpu', 'target_noise': 0, 'feature_noise': 0, 'time_limit': 100, 'evaluations_limit': 1000000, 'max_n_active_parameters': 10, 'maxiter1': 100, 'maxiter2': 0, 'optimizer': 'basinhopping', 'maxiter_per_dim_local_minimizer': 100, 'lambda_1': 0.0001, 'lambda_1_piecewise': 0.0, 'lambda_1_cut': 0.0, 'max_dataset_length': 100, 'classifier': None, 'local_minimizer': 'bfgs', 'lambda_1_finetuning': 0.01, 'iterative_finetuning': True, 'pruning_iterations': 1}\n",
      "INFO:root:Model parameters: {'degree_input_polynomials': 2, 'degree_output_polynomials': 1, 'functions': ['function_0'], 'function_names': ['function_0'], 'width': 1, 'degree_input_denominator': 1, 'degree_output_denominator': 0, 'degree_output_polynomials_specific': [1], 'degree_output_polynomials_denominator_specific': [1], 'enforce_function': False, 'maximal_potence': 3}\n",
      "INFO:root:Relative l2 distance train: 0.7387896539234013\n",
      "INFO:root:Relative l2 distance validation: 1.9613608083293637\n",
      "INFO:root:Training time: 1.3732662200927734\n",
      "INFO:root:Cumulative training time: 10.089747667312622\n",
      "INFO:root:Cumulative number of evaluations: 18222\n",
      "INFO:root:Number parameters: 10\n",
      "INFO:root:Number parameters active: 10\n"
     ]
    },
    {
     "name": "stdout",
     "output_type": "stream",
     "text": [
      "Training time: 1.3732662200927734\n",
      "Target expression: None\n",
      "Relative l_2-distance train: 0.7387896539234013\n",
      "Relative l_2-distance validation: 1.9613608083293637\n",
      "##### Training #####\n",
      "Number parameters: 10\n",
      "Number parameters active: 10\n"
     ]
    },
    {
     "name": "stderr",
     "output_type": "stream",
     "text": [
      "INFO:root:Number of evaluations: 2163\n",
      "INFO:root:Training parameters: {'model': 'ParFamTorch', 'repetitions': 1, 'parallel': False, 'seed': 45747, 'device': 'cpu', 'target_noise': 0, 'feature_noise': 0, 'time_limit': 100, 'evaluations_limit': 1000000, 'max_n_active_parameters': 10, 'maxiter1': 100, 'maxiter2': 0, 'optimizer': 'basinhopping', 'maxiter_per_dim_local_minimizer': 100, 'lambda_1': 0.0001, 'lambda_1_piecewise': 0.0, 'lambda_1_cut': 0.0, 'max_dataset_length': 100, 'classifier': None, 'local_minimizer': 'bfgs', 'lambda_1_finetuning': 0.01, 'iterative_finetuning': True, 'pruning_iterations': 1}\n",
      "INFO:root:Model parameters: {'degree_input_polynomials': 2, 'degree_output_polynomials': 1, 'functions': ['function_0'], 'function_names': ['function_0'], 'width': 1, 'degree_input_denominator': 1, 'degree_output_denominator': 0, 'degree_output_polynomials_specific': [1], 'degree_output_polynomials_denominator_specific': [1], 'enforce_function': True, 'maximal_potence': 3}\n",
      "INFO:root:Relative l2 distance train: 0.8358026875796366\n",
      "INFO:root:Relative l2 distance validation: 1.2409224826025755\n",
      "INFO:root:Training time: 1.3910377025604248\n",
      "INFO:root:Cumulative training time: 11.482949018478394\n",
      "INFO:root:Cumulative number of evaluations: 20385\n",
      "INFO:root:Number parameters: 13\n",
      "INFO:root:Number parameters active: 13\n"
     ]
    },
    {
     "name": "stdout",
     "output_type": "stream",
     "text": [
      "Training time: 1.3910377025604248\n",
      "Target expression: None\n",
      "Relative l_2-distance train: 0.8358026875796366\n",
      "Relative l_2-distance validation: 1.2409224826025755\n",
      "##### Training #####\n",
      "Number parameters: 13\n",
      "Number parameters active: 13\n"
     ]
    },
    {
     "name": "stderr",
     "output_type": "stream",
     "text": [
      "INFO:root:Number of evaluations: 1779\n",
      "INFO:root:Training parameters: {'model': 'ParFamTorch', 'repetitions': 1, 'parallel': False, 'seed': 45747, 'device': 'cpu', 'target_noise': 0, 'feature_noise': 0, 'time_limit': 100, 'evaluations_limit': 1000000, 'max_n_active_parameters': 10, 'maxiter1': 100, 'maxiter2': 0, 'optimizer': 'basinhopping', 'maxiter_per_dim_local_minimizer': 100, 'lambda_1': 0.0001, 'lambda_1_piecewise': 0.0, 'lambda_1_cut': 0.0, 'max_dataset_length': 100, 'classifier': None, 'local_minimizer': 'bfgs', 'lambda_1_finetuning': 0.01, 'iterative_finetuning': True, 'pruning_iterations': 1}\n",
      "INFO:root:Model parameters: {'degree_input_polynomials': 1, 'degree_output_polynomials': 1, 'functions': ['function_0'], 'function_names': ['function_0'], 'width': 1, 'degree_input_denominator': 2, 'degree_output_denominator': 0, 'degree_output_polynomials_specific': [1], 'degree_output_polynomials_denominator_specific': [1], 'enforce_function': False, 'maximal_potence': 3}\n",
      "INFO:root:Relative l2 distance train: 0.6718846986338475\n",
      "INFO:root:Relative l2 distance validation: 1.2229927924964987\n",
      "INFO:root:Training time: 1.1771693229675293\n",
      "INFO:root:Cumulative training time: 12.661918878555298\n",
      "INFO:root:Cumulative number of evaluations: 22164\n",
      "INFO:root:Number parameters: 10\n",
      "INFO:root:Number parameters active: 10\n"
     ]
    },
    {
     "name": "stdout",
     "output_type": "stream",
     "text": [
      "Training time: 1.1771693229675293\n",
      "Target expression: None\n",
      "Relative l_2-distance train: 0.6718846986338475\n",
      "Relative l_2-distance validation: 1.2229927924964987\n",
      "##### Training #####\n",
      "Number parameters: 10\n",
      "Number parameters active: 10\n"
     ]
    },
    {
     "name": "stderr",
     "output_type": "stream",
     "text": [
      "INFO:root:Number of evaluations: 1946\n",
      "INFO:root:Training parameters: {'model': 'ParFamTorch', 'repetitions': 1, 'parallel': False, 'seed': 45747, 'device': 'cpu', 'target_noise': 0, 'feature_noise': 0, 'time_limit': 100, 'evaluations_limit': 1000000, 'max_n_active_parameters': 10, 'maxiter1': 100, 'maxiter2': 0, 'optimizer': 'basinhopping', 'maxiter_per_dim_local_minimizer': 100, 'lambda_1': 0.0001, 'lambda_1_piecewise': 0.0, 'lambda_1_cut': 0.0, 'max_dataset_length': 100, 'classifier': None, 'local_minimizer': 'bfgs', 'lambda_1_finetuning': 0.01, 'iterative_finetuning': True, 'pruning_iterations': 1}\n",
      "INFO:root:Model parameters: {'degree_input_polynomials': 1, 'degree_output_polynomials': 1, 'functions': ['function_0'], 'function_names': ['function_0'], 'width': 1, 'degree_input_denominator': 2, 'degree_output_denominator': 0, 'degree_output_polynomials_specific': [1], 'degree_output_polynomials_denominator_specific': [1], 'enforce_function': True, 'maximal_potence': 3}\n",
      "INFO:root:Relative l2 distance train: 0.5265161735068175\n",
      "INFO:root:Relative l2 distance validation: 0.7939329725449387\n",
      "INFO:root:Training time: 1.2591979503631592\n",
      "INFO:root:Cumulative training time: 13.924164533615112\n",
      "INFO:root:Cumulative number of evaluations: 24110\n",
      "INFO:root:Number parameters: 16\n",
      "INFO:root:Number parameters active: 16\n"
     ]
    },
    {
     "name": "stdout",
     "output_type": "stream",
     "text": [
      "Training time: 1.2591979503631592\n",
      "Target expression: None\n",
      "Relative l_2-distance train: 0.5265161735068175\n",
      "Relative l_2-distance validation: 0.7939329725449387\n",
      "##### Training #####\n",
      "Number parameters: 16\n",
      "Number parameters active: 16\n"
     ]
    },
    {
     "name": "stderr",
     "output_type": "stream",
     "text": [
      "INFO:root:Number of evaluations: 2518\n",
      "INFO:root:Training parameters: {'model': 'ParFamTorch', 'repetitions': 1, 'parallel': False, 'seed': 45747, 'device': 'cpu', 'target_noise': 0, 'feature_noise': 0, 'time_limit': 100, 'evaluations_limit': 1000000, 'max_n_active_parameters': 10, 'maxiter1': 100, 'maxiter2': 0, 'optimizer': 'basinhopping', 'maxiter_per_dim_local_minimizer': 100, 'lambda_1': 0.0001, 'lambda_1_piecewise': 0.0, 'lambda_1_cut': 0.0, 'max_dataset_length': 100, 'classifier': None, 'local_minimizer': 'bfgs', 'lambda_1_finetuning': 0.01, 'iterative_finetuning': True, 'pruning_iterations': 1}\n",
      "INFO:root:Model parameters: {'degree_input_polynomials': 2, 'degree_output_polynomials': 1, 'functions': ['function_0'], 'function_names': ['function_0'], 'width': 1, 'degree_input_denominator': 2, 'degree_output_denominator': 0, 'degree_output_polynomials_specific': [1], 'degree_output_polynomials_denominator_specific': [1], 'enforce_function': False, 'maximal_potence': 3}\n",
      "INFO:root:Relative l2 distance train: 0.49686907554027254\n",
      "INFO:root:Relative l2 distance validation: 0.7665863998683837\n",
      "INFO:root:Training time: 1.8579480648040771\n",
      "INFO:root:Cumulative training time: 15.784067630767822\n",
      "INFO:root:Cumulative number of evaluations: 26628\n",
      "INFO:root:Number parameters: 13\n",
      "INFO:root:Number parameters active: 13\n"
     ]
    },
    {
     "name": "stdout",
     "output_type": "stream",
     "text": [
      "Training time: 1.8579480648040771\n",
      "Target expression: None\n",
      "Relative l_2-distance train: 0.49686907554027254\n",
      "Relative l_2-distance validation: 0.7665863998683837\n",
      "##### Training #####\n",
      "Number parameters: 13\n",
      "Number parameters active: 13\n"
     ]
    },
    {
     "name": "stderr",
     "output_type": "stream",
     "text": [
      "INFO:root:Number of evaluations: 2275\n",
      "INFO:root:Training parameters: {'model': 'ParFamTorch', 'repetitions': 1, 'parallel': False, 'seed': 45747, 'device': 'cpu', 'target_noise': 0, 'feature_noise': 0, 'time_limit': 100, 'evaluations_limit': 1000000, 'max_n_active_parameters': 10, 'maxiter1': 100, 'maxiter2': 0, 'optimizer': 'basinhopping', 'maxiter_per_dim_local_minimizer': 100, 'lambda_1': 0.0001, 'lambda_1_piecewise': 0.0, 'lambda_1_cut': 0.0, 'max_dataset_length': 100, 'classifier': None, 'local_minimizer': 'bfgs', 'lambda_1_finetuning': 0.01, 'iterative_finetuning': True, 'pruning_iterations': 1}\n",
      "INFO:root:Model parameters: {'degree_input_polynomials': 2, 'degree_output_polynomials': 1, 'functions': ['function_0'], 'function_names': ['function_0'], 'width': 1, 'degree_input_denominator': 2, 'degree_output_denominator': 0, 'degree_output_polynomials_specific': [1], 'degree_output_polynomials_denominator_specific': [1], 'enforce_function': True, 'maximal_potence': 3}\n",
      "INFO:root:Relative l2 distance train: 0.6743609144737954\n",
      "INFO:root:Relative l2 distance validation: 1.034246449184903\n",
      "INFO:root:Training time: 1.4807484149932861\n",
      "INFO:root:Cumulative training time: 17.26713252067566\n",
      "INFO:root:Cumulative number of evaluations: 28903\n",
      "INFO:root:Number parameters: 12\n",
      "INFO:root:Number parameters active: 12\n"
     ]
    },
    {
     "name": "stdout",
     "output_type": "stream",
     "text": [
      "Training time: 1.4807484149932861\n",
      "Target expression: None\n",
      "Relative l_2-distance train: 0.6743609144737954\n",
      "Relative l_2-distance validation: 1.034246449184903\n",
      "##### Training #####\n",
      "Number parameters: 12\n",
      "Number parameters active: 12\n"
     ]
    },
    {
     "name": "stderr",
     "output_type": "stream",
     "text": [
      "INFO:root:Number of evaluations: 555\n",
      "INFO:root:Training parameters: {'model': 'ParFamTorch', 'repetitions': 1, 'parallel': False, 'seed': 45747, 'device': 'cpu', 'target_noise': 0, 'feature_noise': 0, 'time_limit': 100, 'evaluations_limit': 1000000, 'max_n_active_parameters': 10, 'maxiter1': 100, 'maxiter2': 0, 'optimizer': 'basinhopping', 'maxiter_per_dim_local_minimizer': 100, 'lambda_1': 0.0001, 'lambda_1_piecewise': 0.0, 'lambda_1_cut': 0.0, 'max_dataset_length': 100, 'classifier': None, 'local_minimizer': 'bfgs', 'lambda_1_finetuning': 0.01, 'iterative_finetuning': True, 'pruning_iterations': 1}\n",
      "INFO:root:Model parameters: {'degree_input_polynomials': 1, 'degree_output_polynomials': 2, 'functions': ['function_0'], 'function_names': ['function_0'], 'width': 1, 'degree_input_denominator': 0, 'degree_output_denominator': 0, 'degree_output_polynomials_specific': [1], 'degree_output_polynomials_denominator_specific': [1], 'enforce_function': False, 'maximal_potence': 3}\n",
      "INFO:root:Relative l2 distance train: 0.4549975331427666\n",
      "INFO:root:Relative l2 distance validation: 0.8961691505207992\n",
      "INFO:root:Training time: 0.4310576915740967\n",
      "INFO:root:Cumulative training time: 17.700203895568848\n",
      "INFO:root:Cumulative number of evaluations: 29458\n",
      "INFO:root:Number parameters: 6\n",
      "INFO:root:Number parameters active: 6\n"
     ]
    },
    {
     "name": "stdout",
     "output_type": "stream",
     "text": [
      "Training time: 0.4310576915740967\n",
      "Target expression: None\n",
      "Relative l_2-distance train: 0.4549975331427666\n",
      "Relative l_2-distance validation: 0.8961691505207992\n",
      "##### Training #####\n",
      "Number parameters: 6\n",
      "Number parameters active: 6\n"
     ]
    },
    {
     "name": "stderr",
     "output_type": "stream",
     "text": [
      "INFO:root:Number of evaluations: 1499\n",
      "INFO:root:Training parameters: {'model': 'ParFamTorch', 'repetitions': 1, 'parallel': False, 'seed': 45747, 'device': 'cpu', 'target_noise': 0, 'feature_noise': 0, 'time_limit': 100, 'evaluations_limit': 1000000, 'max_n_active_parameters': 10, 'maxiter1': 100, 'maxiter2': 0, 'optimizer': 'basinhopping', 'maxiter_per_dim_local_minimizer': 100, 'lambda_1': 0.0001, 'lambda_1_piecewise': 0.0, 'lambda_1_cut': 0.0, 'max_dataset_length': 100, 'classifier': None, 'local_minimizer': 'bfgs', 'lambda_1_finetuning': 0.01, 'iterative_finetuning': True, 'pruning_iterations': 1}\n",
      "INFO:root:Model parameters: {'degree_input_polynomials': 1, 'degree_output_polynomials': 2, 'functions': ['function_0'], 'function_names': ['function_0'], 'width': 1, 'degree_input_denominator': 0, 'degree_output_denominator': 0, 'degree_output_polynomials_specific': [1], 'degree_output_polynomials_denominator_specific': [1], 'enforce_function': True, 'maximal_potence': 3}\n",
      "INFO:root:Relative l2 distance train: 3.257863811344688e-08\n",
      "INFO:root:Relative l2 distance validation: 2.614154564562487e-08\n",
      "INFO:root:Training time: 1.0262172222137451\n",
      "INFO:root:Cumulative training time: 18.727906703948975\n",
      "INFO:root:Cumulative number of evaluations: 30957\n",
      "INFO:root:New best relative l2 distance validation: 2.614154564562487e-08\n",
      "INFO:root:Terminate proccess, wanted accuracy 0.001 and number of active parameters 3 / 10 was reached\n",
      "INFO:root:Time for multiprocessing in total: 18.78204870223999\n",
      "INFO:root:Best distance (train, val, test): (tensor(3.2579e-08, dtype=torch.float64), tensor(2.6142e-08, dtype=torch.float64), tensor(3.3437e-08, dtype=torch.float64))\n",
      "INFO:root:Best formula: -1.0*x1*sin(1.0*x0 - 3.142) best training time: 1.0262172222137451\n"
     ]
    },
    {
     "name": "stdout",
     "output_type": "stream",
     "text": [
      "Training time: 1.0262172222137451\n",
      "Target expression: None\n",
      "Relative l_2-distance train: 3.257863811344688e-08\n",
      "Relative l_2-distance validation: 2.614154564562487e-08\n",
      "Terminate proccess, wanted accuracy 0.001 and number of active parameters 3 / 10 was reached\n"
     ]
    }
   ],
   "source": [
    "parfam = ParFamWrapper(iterate=True, functions=functions, function_names=function_names)\n",
    "parfam.fit(x, y, time_limit=100)  # time_limit is in seconds, might have to be higher for higher dimensions and more complicated parametric families"
   ]
  },
  {
   "cell_type": "code",
   "execution_count": 18,
   "metadata": {},
   "outputs": [
    {
     "name": "stdout",
     "output_type": "stream",
     "text": [
      "Target formula: 0.2*sin(2.96786332130432*x)/x\n",
      "Computed formula: -0.2*sin(2.968*x0 - 3.142)/x0\n"
     ]
    }
   ],
   "source": [
    "print(f'Target formula: {target_expr}')\n",
    "print(f'Computed formula: {parfam.formula_reduced.simplify()}')"
   ]
  },
  {
   "cell_type": "code",
   "execution_count": 19,
   "metadata": {},
   "outputs": [
    {
     "data": {
      "image/png": "[encoded data removed]",
      "text/plain": [
       "<Figure size 640x480 with 1 Axes>"
      ]
     },
     "metadata": {},
     "output_type": "display_data"
    },
    {
     "name": "stdout",
     "output_type": "stream",
     "text": [
      "Relative l2 distance: 3.0435891305079156e-08\n"
     ]
    }
   ],
   "source": [
    "y_pred = parfam.predict(x).cpu().detach().numpy()\n",
    "plt.plot(x, y, '+', label='Samples')\n",
    "plt.plot(x, y_pred, label='Prediction')\n",
    "plt.legend()\n",
    "plt.show()\n",
    "\n",
    "print(f'Relative l2 distance: {np.linalg.norm(y - y_pred, ord=2) / np.linalg.norm(y, ord=2)}')\n"
   ]
  },
  {
   "cell_type": "markdown",
   "metadata": {},
   "source": [
    "## 2 dimensional problem"
   ]
  },
  {
   "cell_type": "code",
   "execution_count": 22,
   "metadata": {},
   "outputs": [
    {
     "name": "stdout",
     "output_type": "stream",
     "text": [
      "(100, 2)\n",
      "Target formula: x1*sin(x0)\n"
     ]
    }
   ],
   "source": [
    "a = 2 * torch.randn(1)\n",
    "x = np.sort(np.random.uniform(-1.2, 5, 100))\n",
    "x = np.random.uniform(-3, 3, 200).reshape(100, 2)\n",
    "print(x.shape)\n",
    "x = torch.tensor(x, device=device)\n",
    "\n",
    "def func(a, x, module):\n",
    "    return module.sin(x[0]) * x[1]\n",
    "\n",
    "\n",
    "y = func(a, x.T, np)\n",
    "x_sym = []\n",
    "for i in range(x.shape[1]):\n",
    "    x_sym.append(sympy.symbols(f'x{i}'))\n",
    "target_expr = func(a, x_sym, sympy)\n",
    "print(f'Target formula: {target_expr}')"
   ]
  },
  {
   "cell_type": "code",
   "execution_count": 23,
   "metadata": {},
   "outputs": [],
   "source": [
    "# Assuming we already know that only the sin function is necessary:\n",
    "functions = [torch.sin]\n",
    "function_names = [sympy.sin]"
   ]
  },
  {
   "cell_type": "code",
   "execution_count": 24,
   "metadata": {},
   "outputs": [
    {
     "name": "stderr",
     "output_type": "stream",
     "text": [
      "/home/philipp/projects/phyiscalLawLearning/parfam/train.py:879: UserWarning: To copy construct from a tensor, it is recommended to use sourceTensor.clone().detach() or sourceTensor.clone().detach().requires_grad_(True), rather than torch.tensor(sourceTensor).\n",
      "  x, y = torch.tensor(x, device=training_parameters['device']), torch.tensor(y, device=training_parameters['device'])\n",
      "INFO:root:Sequential computation\n",
      "INFO:root:Number parameters: 6\n",
      "INFO:root:Number parameters active: 6\n",
      "INFO:root:Number of evaluations: 202\n",
      "INFO:root:Training parameters: {'model': 'ParFamTorch', 'repetitions': 1, 'parallel': False, 'seed': 89017, 'device': 'cpu', 'target_noise': 0, 'feature_noise': 0, 'time_limit': 100, 'evaluations_limit': 1000000, 'max_n_active_parameters': 10, 'maxiter1': 100, 'maxiter2': 0, 'optimizer': 'basinhopping', 'maxiter_per_dim_local_minimizer': 100, 'lambda_1': 0.0001, 'lambda_1_piecewise': 0.0, 'lambda_1_cut': 0.0, 'max_dataset_length': 100, 'classifier': None, 'local_minimizer': 'bfgs', 'lambda_1_finetuning': 0.01, 'iterative_finetuning': True, 'pruning_iterations': 1}\n",
      "INFO:root:Model parameters: {'degree_input_polynomials': 0, 'degree_output_polynomials': 2, 'functions': [], 'function_names': [], 'width': 1, 'degree_input_denominator': 0, 'degree_output_denominator': 0, 'degree_output_polynomials_specific': None, 'degree_output_polynomials_denominator_specific': None, 'enforce_function': False, 'maximal_potence': 3}\n",
      "INFO:root:Relative l2 distance train: 0.6390798757103919\n",
      "INFO:root:Relative l2 distance validation: 0.527948835035183\n",
      "INFO:root:Training time: 0.08716201782226562\n",
      "INFO:root:Cumulative training time: 0.08904290199279785\n",
      "INFO:root:Cumulative number of evaluations: 202\n",
      "INFO:root:New best relative l2 distance validation: 0.527948835035183\n",
      "INFO:root:Number parameters: 6\n",
      "INFO:root:Number parameters active: 6\n"
     ]
    },
    {
     "name": "stdout",
     "output_type": "stream",
     "text": [
      "Sequential computation\n",
      "##### Training #####\n",
      "Number parameters: 6\n",
      "Number parameters active: 6\n",
      "Training time: 0.08716201782226562\n",
      "Target expression: None\n",
      "Relative l_2-distance train: 0.6390798757103919\n",
      "Relative l_2-distance validation: 0.527948835035183\n",
      "##### Training #####\n",
      "Number parameters: 6\n",
      "Number parameters active: 6\n"
     ]
    },
    {
     "name": "stderr",
     "output_type": "stream",
     "text": [
      "INFO:root:Number of evaluations: 2094\n",
      "INFO:root:Training parameters: {'model': 'ParFamTorch', 'repetitions': 1, 'parallel': False, 'seed': 89017, 'device': 'cpu', 'target_noise': 0, 'feature_noise': 0, 'time_limit': 100, 'evaluations_limit': 1000000, 'max_n_active_parameters': 10, 'maxiter1': 100, 'maxiter2': 0, 'optimizer': 'basinhopping', 'maxiter_per_dim_local_minimizer': 100, 'lambda_1': 0.0001, 'lambda_1_piecewise': 0.0, 'lambda_1_cut': 0.0, 'max_dataset_length': 100, 'classifier': None, 'local_minimizer': 'bfgs', 'lambda_1_finetuning': 0.01, 'iterative_finetuning': True, 'pruning_iterations': 1}\n",
      "INFO:root:Model parameters: {'degree_input_polynomials': 0, 'degree_output_polynomials': 1, 'functions': [], 'function_names': [], 'width': 1, 'degree_input_denominator': 0, 'degree_output_denominator': 1, 'degree_output_polynomials_specific': None, 'degree_output_polynomials_denominator_specific': None, 'enforce_function': False, 'maximal_potence': 3}\n",
      "INFO:root:Relative l2 distance train: 0.7678710873017409\n",
      "INFO:root:Relative l2 distance validation: 1.6161482714026507\n",
      "INFO:root:Training time: 0.9850146770477295\n",
      "INFO:root:Cumulative training time: 1.0755820274353027\n",
      "INFO:root:Cumulative number of evaluations: 2296\n",
      "INFO:root:Number parameters: 9\n",
      "INFO:root:Number parameters active: 9\n"
     ]
    },
    {
     "name": "stdout",
     "output_type": "stream",
     "text": [
      "Training time: 0.9850146770477295\n",
      "Target expression: None\n",
      "Relative l_2-distance train: 0.7678710873017409\n",
      "Relative l_2-distance validation: 1.6161482714026507\n",
      "##### Training #####\n",
      "Number parameters: 9\n",
      "Number parameters active: 9\n"
     ]
    },
    {
     "name": "stderr",
     "output_type": "stream",
     "text": [
      "INFO:root:Number of evaluations: 2675\n",
      "INFO:root:Training parameters: {'model': 'ParFamTorch', 'repetitions': 1, 'parallel': False, 'seed': 89017, 'device': 'cpu', 'target_noise': 0, 'feature_noise': 0, 'time_limit': 100, 'evaluations_limit': 1000000, 'max_n_active_parameters': 10, 'maxiter1': 100, 'maxiter2': 0, 'optimizer': 'basinhopping', 'maxiter_per_dim_local_minimizer': 100, 'lambda_1': 0.0001, 'lambda_1_piecewise': 0.0, 'lambda_1_cut': 0.0, 'max_dataset_length': 100, 'classifier': None, 'local_minimizer': 'bfgs', 'lambda_1_finetuning': 0.01, 'iterative_finetuning': True, 'pruning_iterations': 1}\n",
      "INFO:root:Model parameters: {'degree_input_polynomials': 0, 'degree_output_polynomials': 2, 'functions': [], 'function_names': [], 'width': 1, 'degree_input_denominator': 0, 'degree_output_denominator': 1, 'degree_output_polynomials_specific': None, 'degree_output_polynomials_denominator_specific': None, 'enforce_function': False, 'maximal_potence': 3}\n",
      "INFO:root:Relative l2 distance train: 0.6317466253690057\n",
      "INFO:root:Relative l2 distance validation: 0.561495534666246\n",
      "INFO:root:Training time: 1.352752447128296\n",
      "INFO:root:Cumulative training time: 2.4312353134155273\n",
      "INFO:root:Cumulative number of evaluations: 4971\n",
      "INFO:root:Number parameters: 9\n",
      "INFO:root:Number parameters active: 9\n"
     ]
    },
    {
     "name": "stdout",
     "output_type": "stream",
     "text": [
      "Training time: 1.352752447128296\n",
      "Target expression: None\n",
      "Relative l_2-distance train: 0.6317466253690057\n",
      "Relative l_2-distance validation: 0.561495534666246\n",
      "##### Training #####\n",
      "Number parameters: 9\n",
      "Number parameters active: 9\n"
     ]
    },
    {
     "name": "stderr",
     "output_type": "stream",
     "text": [
      "INFO:root:Number of evaluations: 2937\n",
      "INFO:root:Training parameters: {'model': 'ParFamTorch', 'repetitions': 1, 'parallel': False, 'seed': 89017, 'device': 'cpu', 'target_noise': 0, 'feature_noise': 0, 'time_limit': 100, 'evaluations_limit': 1000000, 'max_n_active_parameters': 10, 'maxiter1': 100, 'maxiter2': 0, 'optimizer': 'basinhopping', 'maxiter_per_dim_local_minimizer': 100, 'lambda_1': 0.0001, 'lambda_1_piecewise': 0.0, 'lambda_1_cut': 0.0, 'max_dataset_length': 100, 'classifier': None, 'local_minimizer': 'bfgs', 'lambda_1_finetuning': 0.01, 'iterative_finetuning': True, 'pruning_iterations': 1}\n",
      "INFO:root:Model parameters: {'degree_input_polynomials': 0, 'degree_output_polynomials': 1, 'functions': [], 'function_names': [], 'width': 1, 'degree_input_denominator': 0, 'degree_output_denominator': 2, 'degree_output_polynomials_specific': None, 'degree_output_polynomials_denominator_specific': None, 'enforce_function': False, 'maximal_potence': 3}\n",
      "INFO:root:Relative l2 distance train: 0.6746052790374443\n",
      "INFO:root:Relative l2 distance validation: 0.8495787976312675\n",
      "INFO:root:Training time: 1.5001003742218018\n",
      "INFO:root:Cumulative training time: 3.9333043098449707\n",
      "INFO:root:Cumulative number of evaluations: 7908\n",
      "INFO:root:Number parameters: 12\n",
      "INFO:root:Number parameters active: 12\n"
     ]
    },
    {
     "name": "stdout",
     "output_type": "stream",
     "text": [
      "Training time: 1.5001003742218018\n",
      "Target expression: None\n",
      "Relative l_2-distance train: 0.6746052790374443\n",
      "Relative l_2-distance validation: 0.8495787976312675\n",
      "##### Training #####\n",
      "Number parameters: 12\n",
      "Number parameters active: 12\n"
     ]
    },
    {
     "name": "stderr",
     "output_type": "stream",
     "text": [
      "INFO:root:Number of evaluations: 2809\n",
      "INFO:root:Training parameters: {'model': 'ParFamTorch', 'repetitions': 1, 'parallel': False, 'seed': 89017, 'device': 'cpu', 'target_noise': 0, 'feature_noise': 0, 'time_limit': 100, 'evaluations_limit': 1000000, 'max_n_active_parameters': 10, 'maxiter1': 100, 'maxiter2': 0, 'optimizer': 'basinhopping', 'maxiter_per_dim_local_minimizer': 100, 'lambda_1': 0.0001, 'lambda_1_piecewise': 0.0, 'lambda_1_cut': 0.0, 'max_dataset_length': 100, 'classifier': None, 'local_minimizer': 'bfgs', 'lambda_1_finetuning': 0.01, 'iterative_finetuning': True, 'pruning_iterations': 1}\n",
      "INFO:root:Model parameters: {'degree_input_polynomials': 0, 'degree_output_polynomials': 2, 'functions': [], 'function_names': [], 'width': 1, 'degree_input_denominator': 0, 'degree_output_denominator': 2, 'degree_output_polynomials_specific': None, 'degree_output_polynomials_denominator_specific': None, 'enforce_function': False, 'maximal_potence': 3}\n",
      "INFO:root:Relative l2 distance train: 0.2638030256029681\n",
      "INFO:root:Relative l2 distance validation: 0.5964304019403803\n",
      "INFO:root:Training time: 1.4702353477478027\n",
      "INFO:root:Cumulative training time: 5.40548849105835\n",
      "INFO:root:Cumulative number of evaluations: 10717\n",
      "INFO:root:Number parameters: 7\n",
      "INFO:root:Number parameters active: 7\n"
     ]
    },
    {
     "name": "stdout",
     "output_type": "stream",
     "text": [
      "Training time: 1.4702353477478027\n",
      "Target expression: None\n",
      "Relative l_2-distance train: 0.2638030256029681\n",
      "Relative l_2-distance validation: 0.5964304019403803\n",
      "##### Training #####\n",
      "Number parameters: 7\n",
      "Number parameters active: 7\n"
     ]
    },
    {
     "name": "stderr",
     "output_type": "stream",
     "text": [
      "INFO:root:Number of evaluations: 331\n",
      "INFO:root:Training parameters: {'model': 'ParFamTorch', 'repetitions': 1, 'parallel': False, 'seed': 89017, 'device': 'cpu', 'target_noise': 0, 'feature_noise': 0, 'time_limit': 100, 'evaluations_limit': 1000000, 'max_n_active_parameters': 10, 'maxiter1': 100, 'maxiter2': 0, 'optimizer': 'basinhopping', 'maxiter_per_dim_local_minimizer': 100, 'lambda_1': 0.0001, 'lambda_1_piecewise': 0.0, 'lambda_1_cut': 0.0, 'max_dataset_length': 100, 'classifier': None, 'local_minimizer': 'bfgs', 'lambda_1_finetuning': 0.01, 'iterative_finetuning': True, 'pruning_iterations': 1}\n",
      "INFO:root:Model parameters: {'degree_input_polynomials': 1, 'degree_output_polynomials': 1, 'functions': ['function_0'], 'function_names': ['function_0'], 'width': 1, 'degree_input_denominator': 0, 'degree_output_denominator': 0, 'degree_output_polynomials_specific': [1], 'degree_output_polynomials_denominator_specific': [1], 'enforce_function': False, 'maximal_potence': 3}\n",
      "INFO:root:Relative l2 distance train: 0.5648421665973048\n",
      "INFO:root:Relative l2 distance validation: 0.7360849365193505\n",
      "INFO:root:Training time: 0.23120856285095215\n",
      "INFO:root:Cumulative training time: 5.639526844024658\n",
      "INFO:root:Cumulative number of evaluations: 11048\n",
      "INFO:root:Number parameters: 4\n",
      "INFO:root:Number parameters active: 4\n"
     ]
    },
    {
     "name": "stdout",
     "output_type": "stream",
     "text": [
      "Training time: 0.23120856285095215\n",
      "Target expression: None\n",
      "Relative l_2-distance train: 0.5648421665973048\n",
      "Relative l_2-distance validation: 0.7360849365193505\n",
      "##### Training #####\n",
      "Number parameters: 4\n",
      "Number parameters active: 4\n"
     ]
    },
    {
     "name": "stderr",
     "output_type": "stream",
     "text": [
      "INFO:root:Number of evaluations: 311\n",
      "INFO:root:Training parameters: {'model': 'ParFamTorch', 'repetitions': 1, 'parallel': False, 'seed': 89017, 'device': 'cpu', 'target_noise': 0, 'feature_noise': 0, 'time_limit': 100, 'evaluations_limit': 1000000, 'max_n_active_parameters': 10, 'maxiter1': 100, 'maxiter2': 0, 'optimizer': 'basinhopping', 'maxiter_per_dim_local_minimizer': 100, 'lambda_1': 0.0001, 'lambda_1_piecewise': 0.0, 'lambda_1_cut': 0.0, 'max_dataset_length': 100, 'classifier': None, 'local_minimizer': 'bfgs', 'lambda_1_finetuning': 0.01, 'iterative_finetuning': True, 'pruning_iterations': 1}\n",
      "INFO:root:Model parameters: {'degree_input_polynomials': 1, 'degree_output_polynomials': 1, 'functions': ['function_0'], 'function_names': ['function_0'], 'width': 1, 'degree_input_denominator': 0, 'degree_output_denominator': 0, 'degree_output_polynomials_specific': [1], 'degree_output_polynomials_denominator_specific': [1], 'enforce_function': True, 'maximal_potence': 3}\n",
      "INFO:root:Relative l2 distance train: 0.9284466535099818\n",
      "INFO:root:Relative l2 distance validation: 1.1279425135390821\n",
      "INFO:root:Training time: 0.2147374153137207\n",
      "INFO:root:Cumulative training time: 5.855858564376831\n",
      "INFO:root:Cumulative number of evaluations: 11359\n",
      "INFO:root:Number parameters: 10\n",
      "INFO:root:Number parameters active: 10\n"
     ]
    },
    {
     "name": "stdout",
     "output_type": "stream",
     "text": [
      "Training time: 0.2147374153137207\n",
      "Target expression: None\n",
      "Relative l_2-distance train: 0.9284466535099818\n",
      "Relative l_2-distance validation: 1.1279425135390821\n",
      "##### Training #####\n",
      "Number parameters: 10\n",
      "Number parameters active: 10\n"
     ]
    },
    {
     "name": "stderr",
     "output_type": "stream",
     "text": [
      "INFO:root:Number of evaluations: 472\n",
      "INFO:root:Training parameters: {'model': 'ParFamTorch', 'repetitions': 1, 'parallel': False, 'seed': 89017, 'device': 'cpu', 'target_noise': 0, 'feature_noise': 0, 'time_limit': 100, 'evaluations_limit': 1000000, 'max_n_active_parameters': 10, 'maxiter1': 100, 'maxiter2': 0, 'optimizer': 'basinhopping', 'maxiter_per_dim_local_minimizer': 100, 'lambda_1': 0.0001, 'lambda_1_piecewise': 0.0, 'lambda_1_cut': 0.0, 'max_dataset_length': 100, 'classifier': None, 'local_minimizer': 'bfgs', 'lambda_1_finetuning': 0.01, 'iterative_finetuning': True, 'pruning_iterations': 1}\n",
      "INFO:root:Model parameters: {'degree_input_polynomials': 2, 'degree_output_polynomials': 1, 'functions': ['function_0'], 'function_names': ['function_0'], 'width': 1, 'degree_input_denominator': 0, 'degree_output_denominator': 0, 'degree_output_polynomials_specific': [1], 'degree_output_polynomials_denominator_specific': [1], 'enforce_function': False, 'maximal_potence': 3}\n",
      "INFO:root:Relative l2 distance train: 0.7568270579542125\n",
      "INFO:root:Relative l2 distance validation: 1.2435305648355746\n",
      "INFO:root:Training time: 0.2741892337799072\n",
      "INFO:root:Cumulative training time: 6.131975412368774\n",
      "INFO:root:Cumulative number of evaluations: 11831\n",
      "INFO:root:Number parameters: 7\n",
      "INFO:root:Number parameters active: 7\n"
     ]
    },
    {
     "name": "stdout",
     "output_type": "stream",
     "text": [
      "Training time: 0.2741892337799072\n",
      "Target expression: None\n",
      "Relative l_2-distance train: 0.7568270579542125\n",
      "Relative l_2-distance validation: 1.2435305648355746\n",
      "##### Training #####\n",
      "Number parameters: 7\n",
      "Number parameters active: 7\n"
     ]
    },
    {
     "name": "stderr",
     "output_type": "stream",
     "text": [
      "INFO:root:Number of evaluations: 666\n",
      "INFO:root:Training parameters: {'model': 'ParFamTorch', 'repetitions': 1, 'parallel': False, 'seed': 89017, 'device': 'cpu', 'target_noise': 0, 'feature_noise': 0, 'time_limit': 100, 'evaluations_limit': 1000000, 'max_n_active_parameters': 10, 'maxiter1': 100, 'maxiter2': 0, 'optimizer': 'basinhopping', 'maxiter_per_dim_local_minimizer': 100, 'lambda_1': 0.0001, 'lambda_1_piecewise': 0.0, 'lambda_1_cut': 0.0, 'max_dataset_length': 100, 'classifier': None, 'local_minimizer': 'bfgs', 'lambda_1_finetuning': 0.01, 'iterative_finetuning': True, 'pruning_iterations': 1}\n",
      "INFO:root:Model parameters: {'degree_input_polynomials': 2, 'degree_output_polynomials': 1, 'functions': ['function_0'], 'function_names': ['function_0'], 'width': 1, 'degree_input_denominator': 0, 'degree_output_denominator': 0, 'degree_output_polynomials_specific': [1], 'degree_output_polynomials_denominator_specific': [1], 'enforce_function': True, 'maximal_potence': 3}\n",
      "INFO:root:Relative l2 distance train: 0.4225610296339812\n",
      "INFO:root:Relative l2 distance validation: 0.5767759244757098\n",
      "INFO:root:Training time: 0.3522014617919922\n",
      "INFO:root:Cumulative training time: 6.486045598983765\n",
      "INFO:root:Cumulative number of evaluations: 12497\n",
      "INFO:root:Number parameters: 10\n",
      "INFO:root:Number parameters active: 10\n"
     ]
    },
    {
     "name": "stdout",
     "output_type": "stream",
     "text": [
      "Training time: 0.3522014617919922\n",
      "Target expression: None\n",
      "Relative l_2-distance train: 0.4225610296339812\n",
      "Relative l_2-distance validation: 0.5767759244757098\n",
      "##### Training #####\n",
      "Number parameters: 10\n",
      "Number parameters active: 10\n"
     ]
    },
    {
     "name": "stderr",
     "output_type": "stream",
     "text": [
      "INFO:root:Number of evaluations: 2079\n",
      "INFO:root:Training parameters: {'model': 'ParFamTorch', 'repetitions': 1, 'parallel': False, 'seed': 89017, 'device': 'cpu', 'target_noise': 0, 'feature_noise': 0, 'time_limit': 100, 'evaluations_limit': 1000000, 'max_n_active_parameters': 10, 'maxiter1': 100, 'maxiter2': 0, 'optimizer': 'basinhopping', 'maxiter_per_dim_local_minimizer': 100, 'lambda_1': 0.0001, 'lambda_1_piecewise': 0.0, 'lambda_1_cut': 0.0, 'max_dataset_length': 100, 'classifier': None, 'local_minimizer': 'bfgs', 'lambda_1_finetuning': 0.01, 'iterative_finetuning': True, 'pruning_iterations': 1}\n",
      "INFO:root:Model parameters: {'degree_input_polynomials': 1, 'degree_output_polynomials': 1, 'functions': ['function_0'], 'function_names': ['function_0'], 'width': 1, 'degree_input_denominator': 1, 'degree_output_denominator': 0, 'degree_output_polynomials_specific': [1], 'degree_output_polynomials_denominator_specific': [1], 'enforce_function': False, 'maximal_potence': 3}\n",
      "INFO:root:Relative l2 distance train: 0.6220274627048391\n",
      "INFO:root:Relative l2 distance validation: 1.350555208811077\n",
      "INFO:root:Training time: 1.4696638584136963\n",
      "INFO:root:Cumulative training time: 7.957313776016235\n",
      "INFO:root:Cumulative number of evaluations: 14576\n",
      "INFO:root:Number parameters: 7\n",
      "INFO:root:Number parameters active: 7\n"
     ]
    },
    {
     "name": "stdout",
     "output_type": "stream",
     "text": [
      "Training time: 1.4696638584136963\n",
      "Target expression: None\n",
      "Relative l_2-distance train: 0.6220274627048391\n",
      "Relative l_2-distance validation: 1.350555208811077\n",
      "##### Training #####\n",
      "Number parameters: 7\n",
      "Number parameters active: 7\n"
     ]
    },
    {
     "name": "stderr",
     "output_type": "stream",
     "text": [
      "INFO:root:Number of evaluations: 1671\n",
      "INFO:root:Training parameters: {'model': 'ParFamTorch', 'repetitions': 1, 'parallel': False, 'seed': 89017, 'device': 'cpu', 'target_noise': 0, 'feature_noise': 0, 'time_limit': 100, 'evaluations_limit': 1000000, 'max_n_active_parameters': 10, 'maxiter1': 100, 'maxiter2': 0, 'optimizer': 'basinhopping', 'maxiter_per_dim_local_minimizer': 100, 'lambda_1': 0.0001, 'lambda_1_piecewise': 0.0, 'lambda_1_cut': 0.0, 'max_dataset_length': 100, 'classifier': None, 'local_minimizer': 'bfgs', 'lambda_1_finetuning': 0.01, 'iterative_finetuning': True, 'pruning_iterations': 1}\n",
      "INFO:root:Model parameters: {'degree_input_polynomials': 1, 'degree_output_polynomials': 1, 'functions': ['function_0'], 'function_names': ['function_0'], 'width': 1, 'degree_input_denominator': 1, 'degree_output_denominator': 0, 'degree_output_polynomials_specific': [1], 'degree_output_polynomials_denominator_specific': [1], 'enforce_function': True, 'maximal_potence': 3}\n",
      "INFO:root:Relative l2 distance train: 0.6587190565806093\n",
      "INFO:root:Relative l2 distance validation: 0.8603046545015597\n",
      "INFO:root:Training time: 1.0789434909820557\n",
      "INFO:root:Cumulative training time: 9.038511991500854\n",
      "INFO:root:Cumulative number of evaluations: 16247\n",
      "INFO:root:Number parameters: 13\n",
      "INFO:root:Number parameters active: 13\n"
     ]
    },
    {
     "name": "stdout",
     "output_type": "stream",
     "text": [
      "Training time: 1.0789434909820557\n",
      "Target expression: None\n",
      "Relative l_2-distance train: 0.6587190565806093\n",
      "Relative l_2-distance validation: 0.8603046545015597\n",
      "##### Training #####\n",
      "Number parameters: 13\n",
      "Number parameters active: 13\n"
     ]
    },
    {
     "name": "stderr",
     "output_type": "stream",
     "text": [
      "INFO:root:Number of evaluations: 2139\n",
      "INFO:root:Training parameters: {'model': 'ParFamTorch', 'repetitions': 1, 'parallel': False, 'seed': 89017, 'device': 'cpu', 'target_noise': 0, 'feature_noise': 0, 'time_limit': 100, 'evaluations_limit': 1000000, 'max_n_active_parameters': 10, 'maxiter1': 100, 'maxiter2': 0, 'optimizer': 'basinhopping', 'maxiter_per_dim_local_minimizer': 100, 'lambda_1': 0.0001, 'lambda_1_piecewise': 0.0, 'lambda_1_cut': 0.0, 'max_dataset_length': 100, 'classifier': None, 'local_minimizer': 'bfgs', 'lambda_1_finetuning': 0.01, 'iterative_finetuning': True, 'pruning_iterations': 1}\n",
      "INFO:root:Model parameters: {'degree_input_polynomials': 2, 'degree_output_polynomials': 1, 'functions': ['function_0'], 'function_names': ['function_0'], 'width': 1, 'degree_input_denominator': 1, 'degree_output_denominator': 0, 'degree_output_polynomials_specific': [1], 'degree_output_polynomials_denominator_specific': [1], 'enforce_function': False, 'maximal_potence': 3}\n",
      "INFO:root:Relative l2 distance train: 0.63963753415095\n",
      "INFO:root:Relative l2 distance validation: 0.9996635148915202\n",
      "INFO:root:Training time: 1.452894687652588\n",
      "INFO:root:Cumulative training time: 10.493670463562012\n",
      "INFO:root:Cumulative number of evaluations: 18386\n",
      "INFO:root:Number parameters: 10\n",
      "INFO:root:Number parameters active: 10\n"
     ]
    },
    {
     "name": "stdout",
     "output_type": "stream",
     "text": [
      "Training time: 1.452894687652588\n",
      "Target expression: None\n",
      "Relative l_2-distance train: 0.63963753415095\n",
      "Relative l_2-distance validation: 0.9996635148915202\n",
      "##### Training #####\n",
      "Number parameters: 10\n",
      "Number parameters active: 10\n"
     ]
    },
    {
     "name": "stderr",
     "output_type": "stream",
     "text": [
      "INFO:root:Number of evaluations: 2011\n",
      "INFO:root:Training parameters: {'model': 'ParFamTorch', 'repetitions': 1, 'parallel': False, 'seed': 89017, 'device': 'cpu', 'target_noise': 0, 'feature_noise': 0, 'time_limit': 100, 'evaluations_limit': 1000000, 'max_n_active_parameters': 10, 'maxiter1': 100, 'maxiter2': 0, 'optimizer': 'basinhopping', 'maxiter_per_dim_local_minimizer': 100, 'lambda_1': 0.0001, 'lambda_1_piecewise': 0.0, 'lambda_1_cut': 0.0, 'max_dataset_length': 100, 'classifier': None, 'local_minimizer': 'bfgs', 'lambda_1_finetuning': 0.01, 'iterative_finetuning': True, 'pruning_iterations': 1}\n",
      "INFO:root:Model parameters: {'degree_input_polynomials': 2, 'degree_output_polynomials': 1, 'functions': ['function_0'], 'function_names': ['function_0'], 'width': 1, 'degree_input_denominator': 1, 'degree_output_denominator': 0, 'degree_output_polynomials_specific': [1], 'degree_output_polynomials_denominator_specific': [1], 'enforce_function': True, 'maximal_potence': 3}\n",
      "INFO:root:Relative l2 distance train: 0.6272443798081365\n",
      "INFO:root:Relative l2 distance validation: 1.4379137435290765\n",
      "INFO:root:Training time: 1.2575712203979492\n",
      "INFO:root:Cumulative training time: 11.753019332885742\n",
      "INFO:root:Cumulative number of evaluations: 20397\n",
      "INFO:root:Number parameters: 13\n",
      "INFO:root:Number parameters active: 13\n"
     ]
    },
    {
     "name": "stdout",
     "output_type": "stream",
     "text": [
      "Training time: 1.2575712203979492\n",
      "Target expression: None\n",
      "Relative l_2-distance train: 0.6272443798081365\n",
      "Relative l_2-distance validation: 1.4379137435290765\n",
      "##### Training #####\n",
      "Number parameters: 13\n",
      "Number parameters active: 13\n"
     ]
    },
    {
     "name": "stderr",
     "output_type": "stream",
     "text": [
      "INFO:root:Number of evaluations: 1977\n",
      "INFO:root:Training parameters: {'model': 'ParFamTorch', 'repetitions': 1, 'parallel': False, 'seed': 89017, 'device': 'cpu', 'target_noise': 0, 'feature_noise': 0, 'time_limit': 100, 'evaluations_limit': 1000000, 'max_n_active_parameters': 10, 'maxiter1': 100, 'maxiter2': 0, 'optimizer': 'basinhopping', 'maxiter_per_dim_local_minimizer': 100, 'lambda_1': 0.0001, 'lambda_1_piecewise': 0.0, 'lambda_1_cut': 0.0, 'max_dataset_length': 100, 'classifier': None, 'local_minimizer': 'bfgs', 'lambda_1_finetuning': 0.01, 'iterative_finetuning': True, 'pruning_iterations': 1}\n",
      "INFO:root:Model parameters: {'degree_input_polynomials': 1, 'degree_output_polynomials': 1, 'functions': ['function_0'], 'function_names': ['function_0'], 'width': 1, 'degree_input_denominator': 2, 'degree_output_denominator': 0, 'degree_output_polynomials_specific': [1], 'degree_output_polynomials_denominator_specific': [1], 'enforce_function': False, 'maximal_potence': 3}\n",
      "INFO:root:Relative l2 distance train: 0.6023053201980322\n",
      "INFO:root:Relative l2 distance validation: 0.9373129138041573\n",
      "INFO:root:Training time: 1.2693769931793213\n",
      "INFO:root:Cumulative training time: 13.024533748626709\n",
      "INFO:root:Cumulative number of evaluations: 22374\n",
      "INFO:root:Number parameters: 10\n",
      "INFO:root:Number parameters active: 10\n"
     ]
    },
    {
     "name": "stdout",
     "output_type": "stream",
     "text": [
      "Training time: 1.2693769931793213\n",
      "Target expression: None\n",
      "Relative l_2-distance train: 0.6023053201980322\n",
      "Relative l_2-distance validation: 0.9373129138041573\n",
      "##### Training #####\n",
      "Number parameters: 10\n",
      "Number parameters active: 10\n"
     ]
    },
    {
     "name": "stderr",
     "output_type": "stream",
     "text": [
      "INFO:root:Number of evaluations: 3250\n",
      "INFO:root:Training parameters: {'model': 'ParFamTorch', 'repetitions': 1, 'parallel': False, 'seed': 89017, 'device': 'cpu', 'target_noise': 0, 'feature_noise': 0, 'time_limit': 100, 'evaluations_limit': 1000000, 'max_n_active_parameters': 10, 'maxiter1': 100, 'maxiter2': 0, 'optimizer': 'basinhopping', 'maxiter_per_dim_local_minimizer': 100, 'lambda_1': 0.0001, 'lambda_1_piecewise': 0.0, 'lambda_1_cut': 0.0, 'max_dataset_length': 100, 'classifier': None, 'local_minimizer': 'bfgs', 'lambda_1_finetuning': 0.01, 'iterative_finetuning': True, 'pruning_iterations': 1}\n",
      "INFO:root:Model parameters: {'degree_input_polynomials': 1, 'degree_output_polynomials': 1, 'functions': ['function_0'], 'function_names': ['function_0'], 'width': 1, 'degree_input_denominator': 2, 'degree_output_denominator': 0, 'degree_output_polynomials_specific': [1], 'degree_output_polynomials_denominator_specific': [1], 'enforce_function': True, 'maximal_potence': 3}\n",
      "INFO:root:Relative l2 distance train: 0.708594731124802\n",
      "INFO:root:Relative l2 distance validation: 0.7390636582048601\n",
      "INFO:root:Training time: 1.9921941757202148\n",
      "INFO:root:Cumulative training time: 15.018671989440918\n",
      "INFO:root:Cumulative number of evaluations: 25624\n",
      "INFO:root:Number parameters: 16\n",
      "INFO:root:Number parameters active: 16\n"
     ]
    },
    {
     "name": "stdout",
     "output_type": "stream",
     "text": [
      "Training time: 1.9921941757202148\n",
      "Target expression: None\n",
      "Relative l_2-distance train: 0.708594731124802\n",
      "Relative l_2-distance validation: 0.7390636582048601\n",
      "##### Training #####\n",
      "Number parameters: 16\n",
      "Number parameters active: 16\n"
     ]
    },
    {
     "name": "stderr",
     "output_type": "stream",
     "text": [
      "INFO:root:Number of evaluations: 1662\n",
      "INFO:root:Training parameters: {'model': 'ParFamTorch', 'repetitions': 1, 'parallel': False, 'seed': 89017, 'device': 'cpu', 'target_noise': 0, 'feature_noise': 0, 'time_limit': 100, 'evaluations_limit': 1000000, 'max_n_active_parameters': 10, 'maxiter1': 100, 'maxiter2': 0, 'optimizer': 'basinhopping', 'maxiter_per_dim_local_minimizer': 100, 'lambda_1': 0.0001, 'lambda_1_piecewise': 0.0, 'lambda_1_cut': 0.0, 'max_dataset_length': 100, 'classifier': None, 'local_minimizer': 'bfgs', 'lambda_1_finetuning': 0.01, 'iterative_finetuning': True, 'pruning_iterations': 1}\n",
      "INFO:root:Model parameters: {'degree_input_polynomials': 2, 'degree_output_polynomials': 1, 'functions': ['function_0'], 'function_names': ['function_0'], 'width': 1, 'degree_input_denominator': 2, 'degree_output_denominator': 0, 'degree_output_polynomials_specific': [1], 'degree_output_polynomials_denominator_specific': [1], 'enforce_function': False, 'maximal_potence': 3}\n",
      "INFO:root:Relative l2 distance train: 0.491555336855121\n",
      "INFO:root:Relative l2 distance validation: 1.183580698203161\n",
      "INFO:root:Training time: 1.0596230030059814\n",
      "INFO:root:Cumulative training time: 16.080442905426025\n",
      "INFO:root:Cumulative number of evaluations: 27286\n",
      "INFO:root:Number parameters: 13\n",
      "INFO:root:Number parameters active: 13\n"
     ]
    },
    {
     "name": "stdout",
     "output_type": "stream",
     "text": [
      "Training time: 1.0596230030059814\n",
      "Target expression: None\n",
      "Relative l_2-distance train: 0.491555336855121\n",
      "Relative l_2-distance validation: 1.183580698203161\n",
      "##### Training #####\n",
      "Number parameters: 13\n",
      "Number parameters active: 13\n"
     ]
    },
    {
     "name": "stderr",
     "output_type": "stream",
     "text": [
      "INFO:root:Number of evaluations: 2218\n",
      "INFO:root:Training parameters: {'model': 'ParFamTorch', 'repetitions': 1, 'parallel': False, 'seed': 89017, 'device': 'cpu', 'target_noise': 0, 'feature_noise': 0, 'time_limit': 100, 'evaluations_limit': 1000000, 'max_n_active_parameters': 10, 'maxiter1': 100, 'maxiter2': 0, 'optimizer': 'basinhopping', 'maxiter_per_dim_local_minimizer': 100, 'lambda_1': 0.0001, 'lambda_1_piecewise': 0.0, 'lambda_1_cut': 0.0, 'max_dataset_length': 100, 'classifier': None, 'local_minimizer': 'bfgs', 'lambda_1_finetuning': 0.01, 'iterative_finetuning': True, 'pruning_iterations': 1}\n",
      "INFO:root:Model parameters: {'degree_input_polynomials': 2, 'degree_output_polynomials': 1, 'functions': ['function_0'], 'function_names': ['function_0'], 'width': 1, 'degree_input_denominator': 2, 'degree_output_denominator': 0, 'degree_output_polynomials_specific': [1], 'degree_output_polynomials_denominator_specific': [1], 'enforce_function': True, 'maximal_potence': 3}\n",
      "INFO:root:Relative l2 distance train: 0.41239509432135113\n",
      "INFO:root:Relative l2 distance validation: 0.7005211639826711\n",
      "INFO:root:Training time: 1.4305682182312012\n",
      "INFO:root:Cumulative training time: 17.512745141983032\n",
      "INFO:root:Cumulative number of evaluations: 29504\n",
      "INFO:root:Number parameters: 12\n",
      "INFO:root:Number parameters active: 12\n"
     ]
    },
    {
     "name": "stdout",
     "output_type": "stream",
     "text": [
      "Training time: 1.4305682182312012\n",
      "Target expression: None\n",
      "Relative l_2-distance train: 0.41239509432135113\n",
      "Relative l_2-distance validation: 0.7005211639826711\n",
      "##### Training #####\n",
      "Number parameters: 12\n",
      "Number parameters active: 12\n"
     ]
    },
    {
     "name": "stderr",
     "output_type": "stream",
     "text": [
      "INFO:root:Number of evaluations: 892\n",
      "INFO:root:Training parameters: {'model': 'ParFamTorch', 'repetitions': 1, 'parallel': False, 'seed': 89017, 'device': 'cpu', 'target_noise': 0, 'feature_noise': 0, 'time_limit': 100, 'evaluations_limit': 1000000, 'max_n_active_parameters': 10, 'maxiter1': 100, 'maxiter2': 0, 'optimizer': 'basinhopping', 'maxiter_per_dim_local_minimizer': 100, 'lambda_1': 0.0001, 'lambda_1_piecewise': 0.0, 'lambda_1_cut': 0.0, 'max_dataset_length': 100, 'classifier': None, 'local_minimizer': 'bfgs', 'lambda_1_finetuning': 0.01, 'iterative_finetuning': True, 'pruning_iterations': 1}\n",
      "INFO:root:Model parameters: {'degree_input_polynomials': 1, 'degree_output_polynomials': 2, 'functions': ['function_0'], 'function_names': ['function_0'], 'width': 1, 'degree_input_denominator': 0, 'degree_output_denominator': 0, 'degree_output_polynomials_specific': [1], 'degree_output_polynomials_denominator_specific': [1], 'enforce_function': False, 'maximal_potence': 3}\n",
      "INFO:root:Relative l2 distance train: 0.33854388480153497\n",
      "INFO:root:Relative l2 distance validation: 0.4230692910967303\n",
      "INFO:root:Training time: 0.7307045459747314\n",
      "INFO:root:Cumulative training time: 18.2452175617218\n",
      "INFO:root:Cumulative number of evaluations: 30396\n",
      "INFO:root:New best relative l2 distance validation: 0.4230692910967303\n",
      "INFO:root:Number parameters: 6\n",
      "INFO:root:Number parameters active: 6\n"
     ]
    },
    {
     "name": "stdout",
     "output_type": "stream",
     "text": [
      "Training time: 0.7307045459747314\n",
      "Target expression: None\n",
      "Relative l_2-distance train: 0.33854388480153497\n",
      "Relative l_2-distance validation: 0.4230692910967303\n",
      "##### Training #####\n",
      "Number parameters: 6\n",
      "Number parameters active: 6\n"
     ]
    },
    {
     "name": "stderr",
     "output_type": "stream",
     "text": [
      "INFO:root:Number of evaluations: 1571\n",
      "INFO:root:Training parameters: {'model': 'ParFamTorch', 'repetitions': 1, 'parallel': False, 'seed': 89017, 'device': 'cpu', 'target_noise': 0, 'feature_noise': 0, 'time_limit': 100, 'evaluations_limit': 1000000, 'max_n_active_parameters': 10, 'maxiter1': 100, 'maxiter2': 0, 'optimizer': 'basinhopping', 'maxiter_per_dim_local_minimizer': 100, 'lambda_1': 0.0001, 'lambda_1_piecewise': 0.0, 'lambda_1_cut': 0.0, 'max_dataset_length': 100, 'classifier': None, 'local_minimizer': 'bfgs', 'lambda_1_finetuning': 0.01, 'iterative_finetuning': True, 'pruning_iterations': 1}\n",
      "INFO:root:Model parameters: {'degree_input_polynomials': 1, 'degree_output_polynomials': 2, 'functions': ['function_0'], 'function_names': ['function_0'], 'width': 1, 'degree_input_denominator': 0, 'degree_output_denominator': 0, 'degree_output_polynomials_specific': [1], 'degree_output_polynomials_denominator_specific': [1], 'enforce_function': True, 'maximal_potence': 3}\n",
      "INFO:root:Relative l2 distance train: 3.42689503548114e-08\n",
      "INFO:root:Relative l2 distance validation: 2.993669949976051e-08\n",
      "INFO:root:Training time: 1.0955731868743896\n",
      "INFO:root:Cumulative training time: 19.342276096343994\n",
      "INFO:root:Cumulative number of evaluations: 31967\n",
      "INFO:root:New best relative l2 distance validation: 2.993669949976051e-08\n",
      "INFO:root:Terminate proccess, wanted accuracy 0.001 and number of active parameters 3 / 10 was reached\n",
      "INFO:root:Time for multiprocessing in total: 19.402242183685303\n"
     ]
    },
    {
     "name": "stdout",
     "output_type": "stream",
     "text": [
      "Training time: 1.0955731868743896\n",
      "Target expression: None\n",
      "Relative l_2-distance train: 3.42689503548114e-08\n",
      "Relative l_2-distance validation: 2.993669949976051e-08\n",
      "Terminate proccess, wanted accuracy 0.001 and number of active parameters 3 / 10 was reached\n"
     ]
    },
    {
     "name": "stderr",
     "output_type": "stream",
     "text": [
      "INFO:root:Best distance (train, val, test): (tensor(3.4269e-08, dtype=torch.float64), tensor(2.9937e-08, dtype=torch.float64), tensor(3.1340e-08, dtype=torch.float64))\n",
      "INFO:root:Best formula: -1.0*x1*sin(1.0*x0 - 3.142) best training time: 1.0955731868743896\n"
     ]
    }
   ],
   "source": [
    "parfam = ParFamWrapper(iterate=True, functions=functions, function_names=function_names)\n",
    "parfam.fit(x, y, time_limit=100)"
   ]
  },
  {
   "cell_type": "code",
   "execution_count": 26,
   "metadata": {},
   "outputs": [
    {
     "name": "stdout",
     "output_type": "stream",
     "text": [
      "Target formula: x1*sin(x0)\n",
      "Computed formula: -1.0*x1*sin(1.0*x0 - 3.142)\n"
     ]
    }
   ],
   "source": [
    "print(f'Target formula: {target_expr}')\n",
    "print(f'Computed formula: {parfam.formula_reduced.simplify()}')\n"
   ]
  },
  {
   "cell_type": "code",
   "execution_count": 27,
   "metadata": {},
   "outputs": [
    {
     "name": "stdout",
     "output_type": "stream",
     "text": [
      "Relative l2 distance: 3.153275800413454e-08\n"
     ]
    }
   ],
   "source": [
    "y_pred = parfam.predict(x).cpu().detach().numpy()\n",
    "print(f'Relative l2 distance: {np.linalg.norm(y - y_pred, ord=2) / np.linalg.norm(y, ord=2)}')"
   ]
  },
  {
   "cell_type": "markdown",
   "metadata": {},
   "source": [
    "# More complicated functions"
   ]
  },
  {
   "cell_type": "markdown",
   "metadata": {},
   "source": [
    "Test now the feynman formula III 10 19:\n",
    "$$mom\\sqrt{Bx^2+By^2+Bz^2}$$"
   ]
  },
  {
   "cell_type": "code",
   "execution_count": 33,
   "metadata": {},
   "outputs": [
    {
     "name": "stdout",
     "output_type": "stream",
     "text": [
      "(200, 5)\n",
      "Target formula: mom*(B*(x**2 + y**2 + z**2))**0.5\n"
     ]
    }
   ],
   "source": [
    "x = np.random.uniform(1, 5, 1000).reshape(200, 5)\n",
    "print(x.shape)\n",
    "x = torch.tensor(x, device=device)\n",
    "\n",
    "def func(x, module):\n",
    "    return x[0] * (x[1]*(x[2]**2 + x[3]**2 + x[4]**2))**(1/2)\n",
    "\n",
    "\n",
    "y = func(x.T, np)\n",
    "x_sym = [sympy.symbols(symbol) for symbol in ['mom', 'B', 'x', 'y', 'z']]\n",
    "# for i in range(x.shape[1]):\n",
    "#     x_sym.append(sympy.symbols(f'x{i}'))\n",
    "target_expr = func(x_sym, sympy)\n",
    "print(f'Target formula: {target_expr}')"
   ]
  },
  {
   "cell_type": "code",
   "execution_count": 34,
   "metadata": {},
   "outputs": [],
   "source": [
    "# Assuming we already know that only the sqrt function is necessary.\n",
    "# If we do not assume this knowledge, we could also just use the variable standard_functions and standard_function_names instead, it just takes more time.\n",
    "# Do not define the sqrt here yourself by just defining it as torch.sqrt, since it is not defined on all reals, which is a problem for the optimizer. Thus, see how it was defined in the function_dict.  \n",
    "functions = [function_dict['sqrt']]\n",
    "function_names = [function_name_dict['sqrt']]"
   ]
  },
  {
   "cell_type": "code",
   "execution_count": 42,
   "metadata": {},
   "outputs": [
    {
     "name": "stderr",
     "output_type": "stream",
     "text": [
      "/home/philipp/projects/phyiscalLawLearning/parfam/train.py:879: UserWarning: To copy construct from a tensor, it is recommended to use sourceTensor.clone().detach() or sourceTensor.clone().detach().requires_grad_(True), rather than torch.tensor(sourceTensor).\n",
      "  x, y = torch.tensor(x, device=training_parameters['device']), torch.tensor(y, device=training_parameters['device'])\n",
      "INFO:root:Sequential computation\n",
      "INFO:root:Number parameters: 56\n",
      "INFO:root:Number parameters active: 56\n"
     ]
    },
    {
     "name": "stdout",
     "output_type": "stream",
     "text": [
      "Sequential computation\n",
      "##### Training #####\n",
      "Number parameters: 56\n",
      "Number parameters active: 56\n"
     ]
    },
    {
     "name": "stderr",
     "output_type": "stream",
     "text": [
      "INFO:root:Number of evaluations: 2385\n",
      "INFO:root:Training parameters: {'model': 'ParFamTorch', 'repetitions': 1, 'parallel': False, 'seed': 21098, 'device': 'cpu', 'target_noise': 0, 'feature_noise': 0, 'time_limit': 100, 'evaluations_limit': 1000000, 'max_n_active_parameters': 10, 'maxiter1': 100, 'maxiter2': 0, 'optimizer': 'basinhopping', 'maxiter_per_dim_local_minimizer': 100, 'lambda_1': 0.0001, 'lambda_1_piecewise': 0.0, 'lambda_1_cut': 0.0, 'max_dataset_length': 200, 'classifier': None, 'local_minimizer': 'bfgs', 'lambda_1_finetuning': 0.01, 'iterative_finetuning': True, 'pruning_iterations': 1}\n",
      "INFO:root:Model parameters: {'degree_input_polynomials': 0, 'degree_output_polynomials': 3, 'functions': [], 'function_names': [], 'width': 1, 'degree_input_denominator': 0, 'degree_output_denominator': 0, 'degree_output_polynomials_specific': None, 'degree_output_polynomials_denominator_specific': None, 'enforce_function': False, 'maximal_potence': 3}\n",
      "INFO:root:Relative l2 distance train: 0.007152102024665862\n",
      "INFO:root:Relative l2 distance validation: 0.013922500591667672\n",
      "INFO:root:Training time: 1.910660982131958\n",
      "INFO:root:Cumulative training time: 1.9194245338439941\n",
      "INFO:root:Cumulative number of evaluations: 2385\n",
      "INFO:root:New best relative l2 distance validation: 0.013922500591667672\n",
      "INFO:root:Number parameters: 13\n",
      "INFO:root:Number parameters active: 13\n"
     ]
    },
    {
     "name": "stdout",
     "output_type": "stream",
     "text": [
      "Training time: 1.910660982131958\n",
      "Target expression: None\n",
      "Relative l_2-distance train: 0.007152102024665862\n",
      "Relative l_2-distance validation: 0.013922500591667672\n",
      "##### Training #####\n",
      "Number parameters: 13\n",
      "Number parameters active: 13\n"
     ]
    },
    {
     "name": "stderr",
     "output_type": "stream",
     "text": [
      "INFO:root:Number of evaluations: 1471\n",
      "INFO:root:Training parameters: {'model': 'ParFamTorch', 'repetitions': 1, 'parallel': False, 'seed': 21098, 'device': 'cpu', 'target_noise': 0, 'feature_noise': 0, 'time_limit': 100, 'evaluations_limit': 1000000, 'max_n_active_parameters': 10, 'maxiter1': 100, 'maxiter2': 0, 'optimizer': 'basinhopping', 'maxiter_per_dim_local_minimizer': 100, 'lambda_1': 0.0001, 'lambda_1_piecewise': 0.0, 'lambda_1_cut': 0.0, 'max_dataset_length': 200, 'classifier': None, 'local_minimizer': 'bfgs', 'lambda_1_finetuning': 0.01, 'iterative_finetuning': True, 'pruning_iterations': 1}\n",
      "INFO:root:Model parameters: {'degree_input_polynomials': 1, 'degree_output_polynomials': 1, 'functions': ['function_0'], 'function_names': ['function_0'], 'width': 1, 'degree_input_denominator': 0, 'degree_output_denominator': 0, 'degree_output_polynomials_specific': [1], 'degree_output_polynomials_denominator_specific': [1], 'enforce_function': False, 'maximal_potence': 3}\n",
      "INFO:root:Relative l2 distance train: 0.18006878217956968\n",
      "INFO:root:Relative l2 distance validation: 0.15125850767564913\n",
      "INFO:root:Training time: 0.991570234298706\n",
      "INFO:root:Cumulative training time: 2.913882255554199\n",
      "INFO:root:Cumulative number of evaluations: 3856\n",
      "INFO:root:Number parameters: 7\n",
      "INFO:root:Number parameters active: 7\n"
     ]
    },
    {
     "name": "stdout",
     "output_type": "stream",
     "text": [
      "Training time: 0.991570234298706\n",
      "Target expression: None\n",
      "Relative l_2-distance train: 0.18006878217956968\n",
      "Relative l_2-distance validation: 0.15125850767564913\n",
      "##### Training #####\n",
      "Number parameters: 7\n",
      "Number parameters active: 7\n"
     ]
    },
    {
     "name": "stderr",
     "output_type": "stream",
     "text": [
      "INFO:root:Number of evaluations: 747\n",
      "INFO:root:Training parameters: {'model': 'ParFamTorch', 'repetitions': 1, 'parallel': False, 'seed': 21098, 'device': 'cpu', 'target_noise': 0, 'feature_noise': 0, 'time_limit': 100, 'evaluations_limit': 1000000, 'max_n_active_parameters': 10, 'maxiter1': 100, 'maxiter2': 0, 'optimizer': 'basinhopping', 'maxiter_per_dim_local_minimizer': 100, 'lambda_1': 0.0001, 'lambda_1_piecewise': 0.0, 'lambda_1_cut': 0.0, 'max_dataset_length': 200, 'classifier': None, 'local_minimizer': 'bfgs', 'lambda_1_finetuning': 0.01, 'iterative_finetuning': True, 'pruning_iterations': 1}\n",
      "INFO:root:Model parameters: {'degree_input_polynomials': 1, 'degree_output_polynomials': 1, 'functions': ['function_0'], 'function_names': ['function_0'], 'width': 1, 'degree_input_denominator': 0, 'degree_output_denominator': 0, 'degree_output_polynomials_specific': [1], 'degree_output_polynomials_denominator_specific': [1], 'enforce_function': True, 'maximal_potence': 3}\n",
      "INFO:root:Relative l2 distance train: 0.3939618335933649\n",
      "INFO:root:Relative l2 distance validation: 0.46435160997563657\n",
      "INFO:root:Training time: 0.4009227752685547\n",
      "INFO:root:Cumulative training time: 3.317045211791992\n",
      "INFO:root:Cumulative number of evaluations: 4603\n",
      "INFO:root:Number parameters: 28\n",
      "INFO:root:Number parameters active: 28\n"
     ]
    },
    {
     "name": "stdout",
     "output_type": "stream",
     "text": [
      "Training time: 0.4009227752685547\n",
      "Target expression: None\n",
      "Relative l_2-distance train: 0.3939618335933649\n",
      "Relative l_2-distance validation: 0.46435160997563657\n",
      "##### Training #####\n",
      "Number parameters: 28\n",
      "Number parameters active: 28\n"
     ]
    },
    {
     "name": "stderr",
     "output_type": "stream",
     "text": [
      "INFO:root:Number of evaluations: 2322\n",
      "INFO:root:Training parameters: {'model': 'ParFamTorch', 'repetitions': 1, 'parallel': False, 'seed': 21098, 'device': 'cpu', 'target_noise': 0, 'feature_noise': 0, 'time_limit': 100, 'evaluations_limit': 1000000, 'max_n_active_parameters': 10, 'maxiter1': 100, 'maxiter2': 0, 'optimizer': 'basinhopping', 'maxiter_per_dim_local_minimizer': 100, 'lambda_1': 0.0001, 'lambda_1_piecewise': 0.0, 'lambda_1_cut': 0.0, 'max_dataset_length': 200, 'classifier': None, 'local_minimizer': 'bfgs', 'lambda_1_finetuning': 0.01, 'iterative_finetuning': True, 'pruning_iterations': 1}\n",
      "INFO:root:Model parameters: {'degree_input_polynomials': 2, 'degree_output_polynomials': 1, 'functions': ['function_0'], 'function_names': ['function_0'], 'width': 1, 'degree_input_denominator': 0, 'degree_output_denominator': 0, 'degree_output_polynomials_specific': [1], 'degree_output_polynomials_denominator_specific': [1], 'enforce_function': False, 'maximal_potence': 3}\n",
      "INFO:root:Relative l2 distance train: 0.03803435072375598\n",
      "INFO:root:Relative l2 distance validation: 0.10524694980415795\n",
      "INFO:root:Training time: 1.5642611980438232\n",
      "INFO:root:Cumulative training time: 4.884423017501831\n",
      "INFO:root:Cumulative number of evaluations: 6925\n",
      "INFO:root:Number parameters: 22\n",
      "INFO:root:Number parameters active: 22\n"
     ]
    },
    {
     "name": "stdout",
     "output_type": "stream",
     "text": [
      "Training time: 1.5642611980438232\n",
      "Target expression: None\n",
      "Relative l_2-distance train: 0.03803435072375598\n",
      "Relative l_2-distance validation: 0.10524694980415795\n",
      "##### Training #####\n",
      "Number parameters: 22\n",
      "Number parameters active: 22\n"
     ]
    },
    {
     "name": "stderr",
     "output_type": "stream",
     "text": [
      "INFO:root:Number of evaluations: 2194\n",
      "INFO:root:Training parameters: {'model': 'ParFamTorch', 'repetitions': 1, 'parallel': False, 'seed': 21098, 'device': 'cpu', 'target_noise': 0, 'feature_noise': 0, 'time_limit': 100, 'evaluations_limit': 1000000, 'max_n_active_parameters': 10, 'maxiter1': 100, 'maxiter2': 0, 'optimizer': 'basinhopping', 'maxiter_per_dim_local_minimizer': 100, 'lambda_1': 0.0001, 'lambda_1_piecewise': 0.0, 'lambda_1_cut': 0.0, 'max_dataset_length': 200, 'classifier': None, 'local_minimizer': 'bfgs', 'lambda_1_finetuning': 0.01, 'iterative_finetuning': True, 'pruning_iterations': 1}\n",
      "INFO:root:Model parameters: {'degree_input_polynomials': 2, 'degree_output_polynomials': 1, 'functions': ['function_0'], 'function_names': ['function_0'], 'width': 1, 'degree_input_denominator': 0, 'degree_output_denominator': 0, 'degree_output_polynomials_specific': [1], 'degree_output_polynomials_denominator_specific': [1], 'enforce_function': True, 'maximal_potence': 3}\n",
      "INFO:root:Relative l2 distance train: 0.18734859758844805\n",
      "INFO:root:Relative l2 distance validation: 0.22815361716702784\n",
      "INFO:root:Training time: 1.2524845600128174\n",
      "INFO:root:Cumulative training time: 6.141122102737427\n",
      "INFO:root:Cumulative number of evaluations: 9119\n",
      "INFO:root:Number parameters: 63\n",
      "INFO:root:Number parameters active: 63\n"
     ]
    },
    {
     "name": "stdout",
     "output_type": "stream",
     "text": [
      "Training time: 1.2524845600128174\n",
      "Target expression: None\n",
      "Relative l_2-distance train: 0.18734859758844805\n",
      "Relative l_2-distance validation: 0.22815361716702784\n",
      "##### Training #####\n",
      "Number parameters: 63\n",
      "Number parameters active: 63\n"
     ]
    },
    {
     "name": "stderr",
     "output_type": "stream",
     "text": [
      "INFO:root:Number of evaluations: 2011\n",
      "INFO:root:Training parameters: {'model': 'ParFamTorch', 'repetitions': 1, 'parallel': False, 'seed': 21098, 'device': 'cpu', 'target_noise': 0, 'feature_noise': 0, 'time_limit': 100, 'evaluations_limit': 1000000, 'max_n_active_parameters': 10, 'maxiter1': 100, 'maxiter2': 0, 'optimizer': 'basinhopping', 'maxiter_per_dim_local_minimizer': 100, 'lambda_1': 0.0001, 'lambda_1_piecewise': 0.0, 'lambda_1_cut': 0.0, 'max_dataset_length': 200, 'classifier': None, 'local_minimizer': 'bfgs', 'lambda_1_finetuning': 0.01, 'iterative_finetuning': True, 'pruning_iterations': 1}\n",
      "INFO:root:Model parameters: {'degree_input_polynomials': 3, 'degree_output_polynomials': 1, 'functions': ['function_0'], 'function_names': ['function_0'], 'width': 1, 'degree_input_denominator': 0, 'degree_output_denominator': 0, 'degree_output_polynomials_specific': [1], 'degree_output_polynomials_denominator_specific': [1], 'enforce_function': False, 'maximal_potence': 3}\n",
      "INFO:root:Relative l2 distance train: 0.021086857054629163\n",
      "INFO:root:Relative l2 distance validation: 0.06532216178652182\n",
      "INFO:root:Training time: 1.7403860092163086\n",
      "INFO:root:Cumulative training time: 7.888630628585815\n",
      "INFO:root:Cumulative number of evaluations: 11130\n",
      "INFO:root:Number parameters: 57\n",
      "INFO:root:Number parameters active: 57\n"
     ]
    },
    {
     "name": "stdout",
     "output_type": "stream",
     "text": [
      "Training time: 1.7403860092163086\n",
      "Target expression: None\n",
      "Relative l_2-distance train: 0.021086857054629163\n",
      "Relative l_2-distance validation: 0.06532216178652182\n",
      "##### Training #####\n",
      "Number parameters: 57\n",
      "Number parameters active: 57\n"
     ]
    },
    {
     "name": "stderr",
     "output_type": "stream",
     "text": [
      "INFO:root:Number of evaluations: 3819\n",
      "INFO:root:Training parameters: {'model': 'ParFamTorch', 'repetitions': 1, 'parallel': False, 'seed': 21098, 'device': 'cpu', 'target_noise': 0, 'feature_noise': 0, 'time_limit': 100, 'evaluations_limit': 1000000, 'max_n_active_parameters': 10, 'maxiter1': 100, 'maxiter2': 0, 'optimizer': 'basinhopping', 'maxiter_per_dim_local_minimizer': 100, 'lambda_1': 0.0001, 'lambda_1_piecewise': 0.0, 'lambda_1_cut': 0.0, 'max_dataset_length': 200, 'classifier': None, 'local_minimizer': 'bfgs', 'lambda_1_finetuning': 0.01, 'iterative_finetuning': True, 'pruning_iterations': 1}\n",
      "INFO:root:Model parameters: {'degree_input_polynomials': 3, 'degree_output_polynomials': 1, 'functions': ['function_0'], 'function_names': ['function_0'], 'width': 1, 'degree_input_denominator': 0, 'degree_output_denominator': 0, 'degree_output_polynomials_specific': [1], 'degree_output_polynomials_denominator_specific': [1], 'enforce_function': True, 'maximal_potence': 3}\n",
      "INFO:root:Relative l2 distance train: 0.3004267802809783\n",
      "INFO:root:Relative l2 distance validation: 0.5613885925155011\n",
      "INFO:root:Training time: 2.456397294998169\n",
      "INFO:root:Cumulative training time: 10.351011037826538\n",
      "INFO:root:Cumulative number of evaluations: 14949\n",
      "INFO:root:Number parameters: 33\n",
      "INFO:root:Number parameters active: 33\n"
     ]
    },
    {
     "name": "stdout",
     "output_type": "stream",
     "text": [
      "Training time: 2.456397294998169\n",
      "Target expression: None\n",
      "Relative l_2-distance train: 0.3004267802809783\n",
      "Relative l_2-distance validation: 0.5613885925155011\n",
      "##### Training #####\n",
      "Number parameters: 33\n",
      "Number parameters active: 33\n"
     ]
    },
    {
     "name": "stderr",
     "output_type": "stream",
     "text": [
      "INFO:root:Number of evaluations: 2022\n",
      "INFO:root:Training parameters: {'model': 'ParFamTorch', 'repetitions': 1, 'parallel': False, 'seed': 21098, 'device': 'cpu', 'target_noise': 0, 'feature_noise': 0, 'time_limit': 100, 'evaluations_limit': 1000000, 'max_n_active_parameters': 10, 'maxiter1': 100, 'maxiter2': 0, 'optimizer': 'basinhopping', 'maxiter_per_dim_local_minimizer': 100, 'lambda_1': 0.0001, 'lambda_1_piecewise': 0.0, 'lambda_1_cut': 0.0, 'max_dataset_length': 200, 'classifier': None, 'local_minimizer': 'bfgs', 'lambda_1_finetuning': 0.01, 'iterative_finetuning': True, 'pruning_iterations': 1}\n",
      "INFO:root:Model parameters: {'degree_input_polynomials': 1, 'degree_output_polynomials': 2, 'functions': ['function_0'], 'function_names': ['function_0'], 'width': 1, 'degree_input_denominator': 0, 'degree_output_denominator': 0, 'degree_output_polynomials_specific': [1], 'degree_output_polynomials_denominator_specific': [1], 'enforce_function': False, 'maximal_potence': 3}\n",
      "INFO:root:Relative l2 distance train: 0.03250158844907296\n",
      "INFO:root:Relative l2 distance validation: 0.03693704278537946\n",
      "INFO:root:Training time: 2.8380074501037598\n",
      "INFO:root:Cumulative training time: 13.192639827728271\n",
      "INFO:root:Cumulative number of evaluations: 16971\n",
      "INFO:root:Number parameters: 12\n",
      "INFO:root:Number parameters active: 12\n"
     ]
    },
    {
     "name": "stdout",
     "output_type": "stream",
     "text": [
      "Training time: 2.8380074501037598\n",
      "Target expression: None\n",
      "Relative l_2-distance train: 0.03250158844907296\n",
      "Relative l_2-distance validation: 0.03693704278537946\n",
      "##### Training #####\n",
      "Number parameters: 12\n",
      "Number parameters active: 12\n"
     ]
    },
    {
     "name": "stderr",
     "output_type": "stream",
     "text": [
      "INFO:root:Number of evaluations: 1209\n",
      "INFO:root:Training parameters: {'model': 'ParFamTorch', 'repetitions': 1, 'parallel': False, 'seed': 21098, 'device': 'cpu', 'target_noise': 0, 'feature_noise': 0, 'time_limit': 100, 'evaluations_limit': 1000000, 'max_n_active_parameters': 10, 'maxiter1': 100, 'maxiter2': 0, 'optimizer': 'basinhopping', 'maxiter_per_dim_local_minimizer': 100, 'lambda_1': 0.0001, 'lambda_1_piecewise': 0.0, 'lambda_1_cut': 0.0, 'max_dataset_length': 200, 'classifier': None, 'local_minimizer': 'bfgs', 'lambda_1_finetuning': 0.01, 'iterative_finetuning': True, 'pruning_iterations': 1}\n",
      "INFO:root:Model parameters: {'degree_input_polynomials': 1, 'degree_output_polynomials': 2, 'functions': ['function_0'], 'function_names': ['function_0'], 'width': 1, 'degree_input_denominator': 0, 'degree_output_denominator': 0, 'degree_output_polynomials_specific': [1], 'degree_output_polynomials_denominator_specific': [1], 'enforce_function': True, 'maximal_potence': 3}\n",
      "INFO:root:Relative l2 distance train: 0.12756138146207208\n",
      "INFO:root:Relative l2 distance validation: 0.1750087878327756\n",
      "INFO:root:Training time: 1.3092896938323975\n",
      "INFO:root:Cumulative training time: 14.504511833190918\n",
      "INFO:root:Cumulative number of evaluations: 18180\n",
      "INFO:root:Number parameters: 48\n",
      "INFO:root:Number parameters active: 48\n"
     ]
    },
    {
     "name": "stdout",
     "output_type": "stream",
     "text": [
      "Training time: 1.3092896938323975\n",
      "Target expression: None\n",
      "Relative l_2-distance train: 0.12756138146207208\n",
      "Relative l_2-distance validation: 0.1750087878327756\n",
      "##### Training #####\n",
      "Number parameters: 48\n",
      "Number parameters active: 48\n"
     ]
    },
    {
     "name": "stderr",
     "output_type": "stream",
     "text": [
      "INFO:root:Number of evaluations: 2840\n",
      "INFO:root:Training parameters: {'model': 'ParFamTorch', 'repetitions': 1, 'parallel': False, 'seed': 21098, 'device': 'cpu', 'target_noise': 0, 'feature_noise': 0, 'time_limit': 100, 'evaluations_limit': 1000000, 'max_n_active_parameters': 10, 'maxiter1': 100, 'maxiter2': 0, 'optimizer': 'basinhopping', 'maxiter_per_dim_local_minimizer': 100, 'lambda_1': 0.0001, 'lambda_1_piecewise': 0.0, 'lambda_1_cut': 0.0, 'max_dataset_length': 200, 'classifier': None, 'local_minimizer': 'bfgs', 'lambda_1_finetuning': 0.01, 'iterative_finetuning': True, 'pruning_iterations': 1}\n",
      "INFO:root:Model parameters: {'degree_input_polynomials': 2, 'degree_output_polynomials': 2, 'functions': ['function_0'], 'function_names': ['function_0'], 'width': 1, 'degree_input_denominator': 0, 'degree_output_denominator': 0, 'degree_output_polynomials_specific': [1], 'degree_output_polynomials_denominator_specific': [1], 'enforce_function': False, 'maximal_potence': 3}\n",
      "INFO:root:Relative l2 distance train: 0.01487175051649039\n",
      "INFO:root:Relative l2 distance validation: 0.035073850303931974\n",
      "INFO:root:Training time: 4.530186176300049\n",
      "INFO:root:Cumulative training time: 19.04120111465454\n",
      "INFO:root:Cumulative number of evaluations: 21020\n",
      "INFO:root:Number parameters: 27\n",
      "INFO:root:Number parameters active: 27\n"
     ]
    },
    {
     "name": "stdout",
     "output_type": "stream",
     "text": [
      "Training time: 4.530186176300049\n",
      "Target expression: None\n",
      "Relative l_2-distance train: 0.01487175051649039\n",
      "Relative l_2-distance validation: 0.035073850303931974\n",
      "##### Training #####\n",
      "Number parameters: 27\n",
      "Number parameters active: 27\n"
     ]
    },
    {
     "name": "stderr",
     "output_type": "stream",
     "text": [
      "INFO:root:Number of evaluations: 2893\n",
      "INFO:root:Training parameters: {'model': 'ParFamTorch', 'repetitions': 1, 'parallel': False, 'seed': 21098, 'device': 'cpu', 'target_noise': 0, 'feature_noise': 0, 'time_limit': 100, 'evaluations_limit': 1000000, 'max_n_active_parameters': 10, 'maxiter1': 100, 'maxiter2': 0, 'optimizer': 'basinhopping', 'maxiter_per_dim_local_minimizer': 100, 'lambda_1': 0.0001, 'lambda_1_piecewise': 0.0, 'lambda_1_cut': 0.0, 'max_dataset_length': 200, 'classifier': None, 'local_minimizer': 'bfgs', 'lambda_1_finetuning': 0.01, 'iterative_finetuning': True, 'pruning_iterations': 1}\n",
      "INFO:root:Model parameters: {'degree_input_polynomials': 2, 'degree_output_polynomials': 2, 'functions': ['function_0'], 'function_names': ['function_0'], 'width': 1, 'degree_input_denominator': 0, 'degree_output_denominator': 0, 'degree_output_polynomials_specific': [1], 'degree_output_polynomials_denominator_specific': [1], 'enforce_function': True, 'maximal_potence': 3}\n",
      "INFO:root:Relative l2 distance train: 0.02095731330190692\n",
      "INFO:root:Relative l2 distance validation: 0.03360830942893274\n",
      "INFO:root:Training time: 3.113976001739502\n",
      "INFO:root:Cumulative training time: 22.15820598602295\n",
      "INFO:root:Cumulative number of evaluations: 23913\n",
      "INFO:root:Number parameters: 83\n",
      "INFO:root:Number parameters active: 83\n"
     ]
    },
    {
     "name": "stdout",
     "output_type": "stream",
     "text": [
      "Training time: 3.113976001739502\n",
      "Target expression: None\n",
      "Relative l_2-distance train: 0.02095731330190692\n",
      "Relative l_2-distance validation: 0.03360830942893274\n",
      "##### Training #####\n",
      "Number parameters: 83\n",
      "Number parameters active: 83\n"
     ]
    },
    {
     "name": "stderr",
     "output_type": "stream",
     "text": [
      "INFO:root:Number of evaluations: 4663\n",
      "INFO:root:Training parameters: {'model': 'ParFamTorch', 'repetitions': 1, 'parallel': False, 'seed': 21098, 'device': 'cpu', 'target_noise': 0, 'feature_noise': 0, 'time_limit': 100, 'evaluations_limit': 1000000, 'max_n_active_parameters': 10, 'maxiter1': 100, 'maxiter2': 0, 'optimizer': 'basinhopping', 'maxiter_per_dim_local_minimizer': 100, 'lambda_1': 0.0001, 'lambda_1_piecewise': 0.0, 'lambda_1_cut': 0.0, 'max_dataset_length': 200, 'classifier': None, 'local_minimizer': 'bfgs', 'lambda_1_finetuning': 0.01, 'iterative_finetuning': True, 'pruning_iterations': 1}\n",
      "INFO:root:Model parameters: {'degree_input_polynomials': 3, 'degree_output_polynomials': 2, 'functions': ['function_0'], 'function_names': ['function_0'], 'width': 1, 'degree_input_denominator': 0, 'degree_output_denominator': 0, 'degree_output_polynomials_specific': [1], 'degree_output_polynomials_denominator_specific': [1], 'enforce_function': False, 'maximal_potence': 3}\n",
      "INFO:root:Relative l2 distance train: 1.1858948465586235e-07\n",
      "INFO:root:Relative l2 distance validation: 3.2551980710214445e-07\n",
      "INFO:root:Training time: 7.557249069213867\n",
      "INFO:root:Cumulative training time: 29.725382804870605\n",
      "INFO:root:Cumulative number of evaluations: 28576\n",
      "INFO:root:New best relative l2 distance validation: 3.2551980710214445e-07\n",
      "INFO:root:Terminate proccess, wanted accuracy 0.001 and number of active parameters 4 / 10 was reached\n",
      "INFO:root:Time for multiprocessing in total: 29.769551515579224\n"
     ]
    },
    {
     "name": "stdout",
     "output_type": "stream",
     "text": [
      "Training time: 7.557249069213867\n",
      "Target expression: None\n",
      "Relative l_2-distance train: 1.1858948465586235e-07\n",
      "Relative l_2-distance validation: 3.2551980710214445e-07\n",
      "Terminate proccess, wanted accuracy 0.001 and number of active parameters 4 / 10 was reached\n"
     ]
    },
    {
     "name": "stderr",
     "output_type": "stream",
     "text": [
      "INFO:root:Best distance (train, val, test): (tensor(1.1859e-07, dtype=torch.float64), tensor(3.2552e-07, dtype=torch.float64), tensor(2.6376e-07, dtype=torch.float64))\n",
      "INFO:root:Best formula: 0.714*x0*sqrt(Abs(1.962*x1*x2**2 + 1.962*x1*x3**2 + 1.962*x1*x4**2)) best training time: 7.557249069213867\n"
     ]
    }
   ],
   "source": [
    "# ParFamWrapper with its most important input parameters\n",
    "parfam = ParFamWrapper(iterate=True, # iterate through multiple different parametric families (costs more time, but is the better choice when one is not sure about the degrees and the functions of the target formula)\n",
    "                       functions=functions, function_names=function_names, # which functions to use \n",
    "                       degree_input_numerator=3, degree_output_numerator=3, degree_input_denominator=0, degree_output_denominator=0,  # the maximal degrees of the polynomials in the parametric family\n",
    "                       input_names=x_sym,  # the names of the input variables\n",
    "                       enforce_function=False,  # has only an effect, if iterate=False\n",
    "                       device='cpu', \n",
    "                       separate_test_set=True  # ParFam uses a smaller set for training, to use a part of it as a test set afterwards\n",
    "                       )\n",
    "parfam.fit(x, y, time_limit=100)  # If we cannot assume that degree_input_denominator=0 and degree_output_denominator=0 holds, we would have to increase the time limit"
   ]
  },
  {
   "cell_type": "code",
   "execution_count": 43,
   "metadata": {},
   "outputs": [
    {
     "name": "stdout",
     "output_type": "stream",
     "text": [
      "Target formula: mom*(B*(x**2 + y**2 + z**2))**0.5\n",
      "Computed formula: 1.0001098699643*x0*sqrt(Abs(x1*(x2**2 + x3**2 + x4**2)))\n"
     ]
    }
   ],
   "source": [
    "print(f'Target formula: {target_expr}')\n",
    "print(f'Computed formula: {parfam.formula_reduced.simplify()}')\n"
   ]
  },
  {
   "cell_type": "code",
   "execution_count": 44,
   "metadata": {},
   "outputs": [
    {
     "name": "stdout",
     "output_type": "stream",
     "text": [
      "Relative l2 distance: 8.363521855078646e-08\n"
     ]
    }
   ],
   "source": [
    "y_pred = parfam.predict(x).cpu().detach().numpy()\n",
    "print(f'Relative l2 distance: {np.linalg.norm(y - y_pred, ord=2) / np.linalg.norm(y, ord=2)}')"
   ]
  }
 ],
 "metadata": {
  "kernelspec": {
   "display_name": "srbench",
   "language": "python",
   "name": "python3"
  },
  "language_info": {
   "codemirror_mode": {
    "name": "ipython",
    "version": 3
   },
   "file_extension": ".py",
   "mimetype": "text/x-python",
   "name": "python",
   "nbconvert_exporter": "python",
   "pygments_lexer": "ipython3",
   "version": "3.10.8"
  }
 },
 "nbformat": 4,
 "nbformat_minor": 2
}
