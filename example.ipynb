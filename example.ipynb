{
 "cells": [
  {
   "cell_type": "code",
   "execution_count": 1,
   "metadata": {},
   "outputs": [
    {
     "name": "stdout",
     "output_type": "stream",
     "text": [
      "/home/math/scholl/projects/physicalLawLearning/parfam\n",
      "Using cpu.\n"
     ]
    }
   ],
   "source": [
    "from parfamwrapper import ParFamWrapper\n",
    "\n",
    "import sympy\n",
    "import torch\n",
    "import numpy as np\n",
    "import matplotlib.pyplot as plt"
   ]
  },
  {
   "cell_type": "code",
   "execution_count": 2,
   "metadata": {},
   "outputs": [],
   "source": [
    "# Collection of function for ParFam to use, can be readily extended\n",
    "\n",
    "function_dict = {'sqrt': lambda x: torch.sqrt(torch.abs(x)),\n",
    "                 'exp': lambda x: torch.minimum(torch.exp(x), np.exp(10) + torch.abs(x)),\n",
    "                 'log': lambda x: torch.log(torch.abs(x) + 0.000001),\n",
    "                 'cos': torch.cos, 'sin': torch.sin}\n",
    "function_name_dict = {'sqrt': lambda x: sympy.sqrt(sympy.Abs(x)), 'exp': sympy.exp, 'cos': sympy.cos, 'sin': sympy.sin,\n",
    "                      'log': lambda x: sympy.log(sympy.Abs(x) + 0.000001)}\n",
    "\n",
    "standard_function_names_str = ['sin', 'sqrt', 'exp', 'sqrt'] \n",
    "standard_functions = [function_dict[key] for key in standard_function_names_str]\n",
    "standard_function_names = [function_name_dict[key] for key in standard_function_names_str]"
   ]
  },
  {
   "cell_type": "markdown",
   "metadata": {},
   "source": [
    "# Basic functionality"
   ]
  },
  {
   "cell_type": "markdown",
   "metadata": {},
   "source": [
    "## One dimensional problem"
   ]
  },
  {
   "cell_type": "code",
   "execution_count": 3,
   "metadata": {},
   "outputs": [
    {
     "name": "stdout",
     "output_type": "stream",
     "text": [
      "(20, 1)\n",
      "Target formula: 0.2*sin(2.16219258308411*x)/x\n"
     ]
    }
   ],
   "source": [
    "device = 'cpu'\n",
    "\n",
    "a = 2 * torch.randn(1)\n",
    "\n",
    "x = np.arange(1, 5, 0.2)  # 1 dimensional \n",
    "x = x.reshape(len(x), 1)  # 1 dimensional \n",
    "print(x.shape) \n",
    "x = torch.tensor(x, device=device)\n",
    "\n",
    "def func(a, x, module):\n",
    "    # return module.sin((a[0] * x + 1) / (0.1 * x + 2))\n",
    "    # return module.sin((a[0] * x + 1) / (0.1 * x)) \n",
    "    # return module.sin((a[0] * x)) \n",
    "    # return a[0] * x / (1+x)\n",
    "    return 0.2 * module.sin(a[0] * x) / x\n",
    "    # return 0.5 * x / (x + 1)\n",
    "    # return module.log(x + 1.4) + module.log(x ** 2 + 1.3)\n",
    "    # return module.sin(x ** 2) * module.cos(x) - 1\n",
    "\n",
    "y = func(a, x, np).squeeze(1)\n",
    "x_sym = sympy.symbols('x')\n",
    "\n",
    "target_expr = func(a, x_sym, sympy)\n",
    "print(f'Target formula: {target_expr}')"
   ]
  },
  {
   "cell_type": "code",
   "execution_count": 4,
   "metadata": {},
   "outputs": [],
   "source": [
    "# Assuming we already know that only the sin function is necessary:\n",
    "functions = [torch.sin]\n",
    "function_names = [sympy.sin]"
   ]
  },
  {
   "cell_type": "code",
   "execution_count": 5,
   "metadata": {},
   "outputs": [
    {
     "name": "stderr",
     "output_type": "stream",
     "text": [
      "/home/math/scholl/projects/physicalLawLearning/parfam/train.py:1581: UserWarning: To copy construct from a tensor, it is recommended to use sourceTensor.clone().detach() or sourceTensor.clone().detach().requires_grad_(True), rather than torch.tensor(sourceTensor).\n",
      "  x, y = torch.tensor(x, device=training_parameters['device']), torch.tensor(y, device=training_parameters['device'])\n",
      "INFO:root:Sequential computation\n",
      "INFO:root:Model parameters: {'degree_input_polynomials': 0, 'degree_output_polynomials': 2, 'degree_output_denominator': 0, 'degree_input_denominator': 0, 'function_names': [], 'width': 1, 'functions': [], 'degree_output_polynomials_specific': None, 'degree_output_polynomials_denominator_specific': None, 'enforce_function': False, 'maximal_potence': 3}\n",
      "INFO:root:Number parameters: 3\n",
      "INFO:root:Number parameters active: 3\n"
     ]
    },
    {
     "name": "stderr",
     "output_type": "stream",
     "text": [
      "INFO:root:Number of evaluations: 211\n",
      "INFO:root:Relative l2 distance train: 0.8167133654726904\n",
      "INFO:root:Relative l2 distance validation: 3.4549897057145427\n",
      "INFO:root:Training time: 0.06208539009094238\n",
      "INFO:root:Cumulative training time: 0.06351041793823242\n",
      "INFO:root:Cumulative number of evaluations: 211\n",
      "INFO:root:New best relative l2 distance validation: 3.4549897057145427\n",
      "INFO:root:Model parameters: {'degree_input_polynomials': 0, 'degree_output_polynomials': 1, 'degree_output_denominator': 1, 'degree_input_denominator': 0, 'functions': [], 'function_names': [], 'width': 1, 'degree_output_polynomials_specific': None, 'degree_output_polynomials_denominator_specific': None, 'enforce_function': False, 'maximal_potence': 3}\n",
      "INFO:root:Number parameters: 4\n",
      "INFO:root:Number parameters active: 4\n"
     ]
    },
    {
     "name": "stdout",
     "output_type": "stream",
     "text": [
      "Training parameters: {'normalization': False, 'time_limit': 100, 'evaluations_limit': 1000000, 'max_dataset_length': 20, 'model': 'ParFamTorch', 'target_noise': 0.0, 'feature_noise': 0.0, 'seed': 1234, 'accuracy': 0.0001, 'maxiter1': 100, 'maxiter2': 0, 'optimizer': 'basinhopping', 'pruning_iterations': 1, 'pruning_cut_off': 0.01, 'classifier': None, 'local_minimizer': 'BFGS', 'maxiter_per_dim_local_minimizer': 100, 'lambda_1': 0.001, 'repetitions': 1, 'parallel': False, 'n_processes': 4, 'lambda_1_cut': 0, 'lambda_1_piecewise': 0, 'device': 'cpu', 'iterative_finetuning': True, 'max_n_active_parameters': 10, 'lambda_1_finetuning': 1e-05, 'path_pretrained': 'Flexible dimension/full_19_big_training_sets/20240427_070711_5M/Datetime_20240427_070717_Loss_training_set_size_797545_batch_size_341_hidden_dim_256.pt', 'topk_predictions': 10, 'enforce_function_iterate': 'False'}\n",
      "Sequential computation\n",
      "##### Training #####\n",
      "Number parameters: 3\n",
      "Number parameters active: 3\n",
      "Training time: 0.06208539009094238\n",
      "Target expression: None\n",
      "Relative l_2-distance train: 0.8167133654726904\n",
      "Relative l_2-distance validation: 3.4549897057145427\n",
      "##### Training #####\n",
      "Number parameters: 4\n",
      "Number parameters active: 4\n"
     ]
    },
    {
     "name": "stderr",
     "output_type": "stream",
     "text": [
      "INFO:root:Number of evaluations: 2473\n",
      "INFO:root:Relative l2 distance train: 0.6631350768359816\n",
      "INFO:root:Relative l2 distance validation: 2.786815314536115\n",
      "INFO:root:Training time: 0.7941360473632812\n",
      "INFO:root:Cumulative training time: 0.858673095703125\n",
      "INFO:root:Cumulative number of evaluations: 2684\n",
      "INFO:root:New best relative l2 distance validation: 2.786815314536115\n",
      "INFO:root:Model parameters: {'degree_input_polynomials': 0, 'degree_output_polynomials': 2, 'degree_output_denominator': 1, 'degree_input_denominator': 0, 'functions': [], 'function_names': [], 'width': 1, 'degree_output_polynomials_specific': None, 'degree_output_polynomials_denominator_specific': None, 'enforce_function': False, 'maximal_potence': 3}\n",
      "INFO:root:Number parameters: 5\n",
      "INFO:root:Number parameters active: 5\n"
     ]
    },
    {
     "name": "stdout",
     "output_type": "stream",
     "text": [
      "Training time: 0.7941360473632812\n",
      "Target expression: None\n",
      "Relative l_2-distance train: 0.6631350768359816\n",
      "Relative l_2-distance validation: 2.786815314536115\n",
      "##### Training #####\n",
      "Number parameters: 5\n",
      "Number parameters active: 5\n"
     ]
    },
    {
     "name": "stderr",
     "output_type": "stream",
     "text": [
      "INFO:root:Number of evaluations: 2911\n",
      "INFO:root:Relative l2 distance train: 0.5766080325721247\n",
      "INFO:root:Relative l2 distance validation: 2.415314124958995\n",
      "INFO:root:Training time: 0.9380829334259033\n",
      "INFO:root:Cumulative training time: 1.797896385192871\n",
      "INFO:root:Cumulative number of evaluations: 5595\n",
      "INFO:root:New best relative l2 distance validation: 2.415314124958995\n",
      "INFO:root:Model parameters: {'degree_input_polynomials': 1, 'degree_output_polynomials': 1, 'functions': ['function_0'], 'function_names': ['function_0'], 'width': 1, 'degree_input_denominator': 0, 'degree_output_denominator': 0, 'degree_output_polynomials_specific': [1], 'degree_output_polynomials_denominator_specific': [1], 'enforce_function': False, 'maximal_potence': 3}\n",
      "INFO:root:Number parameters: 5\n",
      "INFO:root:Number parameters active: 5\n"
     ]
    },
    {
     "name": "stdout",
     "output_type": "stream",
     "text": [
      "Training time: 0.9380829334259033\n",
      "Target expression: None\n",
      "Relative l_2-distance train: 0.5766080325721247\n",
      "Relative l_2-distance validation: 2.415314124958995\n",
      "##### Training #####\n",
      "Number parameters: 5\n",
      "Number parameters active: 5\n"
     ]
    },
    {
     "name": "stderr",
     "output_type": "stream",
     "text": [
      "INFO:root:Number of evaluations: 1233\n",
      "INFO:root:Relative l2 distance train: 0.9453814372008333\n",
      "INFO:root:Relative l2 distance validation: 3.5867244803552394\n",
      "INFO:root:Training time: 0.48924684524536133\n",
      "INFO:root:Cumulative training time: 2.288238286972046\n",
      "INFO:root:Cumulative number of evaluations: 6828\n",
      "INFO:root:Model parameters: {'degree_input_polynomials': 2, 'degree_output_polynomials': 1, 'functions': ['function_0'], 'function_names': ['function_0'], 'width': 1, 'degree_input_denominator': 0, 'degree_output_denominator': 0, 'degree_output_polynomials_specific': [1], 'degree_output_polynomials_denominator_specific': [1], 'enforce_function': False, 'maximal_potence': 3}\n",
      "INFO:root:Number parameters: 6\n",
      "INFO:root:Number parameters active: 6\n"
     ]
    },
    {
     "name": "stdout",
     "output_type": "stream",
     "text": [
      "Training time: 0.48924684524536133\n",
      "Target expression: None\n",
      "Relative l_2-distance train: 0.9453814372008333\n",
      "Relative l_2-distance validation: 3.5867244803552394\n",
      "##### Training #####\n",
      "Number parameters: 6\n",
      "Number parameters active: 6\n"
     ]
    },
    {
     "name": "stderr",
     "output_type": "stream",
     "text": [
      "INFO:root:Number of evaluations: 1116\n",
      "INFO:root:Relative l2 distance train: 0.7772979513117396\n",
      "INFO:root:Relative l2 distance validation: 4.446058339433003\n",
      "INFO:root:Training time: 0.43581581115722656\n",
      "INFO:root:Cumulative training time: 2.7251768112182617\n",
      "INFO:root:Cumulative number of evaluations: 7944\n",
      "INFO:root:Model parameters: {'degree_input_polynomials': 1, 'degree_output_polynomials': 1, 'functions': ['function_0'], 'function_names': ['function_0'], 'width': 1, 'degree_input_denominator': 1, 'degree_output_denominator': 0, 'degree_output_polynomials_specific': [1], 'degree_output_polynomials_denominator_specific': [1], 'enforce_function': False, 'maximal_potence': 3}\n",
      "INFO:root:Number parameters: 7\n",
      "INFO:root:Number parameters active: 7\n"
     ]
    },
    {
     "name": "stdout",
     "output_type": "stream",
     "text": [
      "Training time: 0.43581581115722656\n",
      "Target expression: None\n",
      "Relative l_2-distance train: 0.7772979513117396\n",
      "Relative l_2-distance validation: 4.446058339433003\n",
      "##### Training #####\n",
      "Number parameters: 7\n",
      "Number parameters active: 7\n"
     ]
    },
    {
     "name": "stderr",
     "output_type": "stream",
     "text": [
      "INFO:root:Number of evaluations: 2501\n",
      "INFO:root:Relative l2 distance train: 0.05728350193288411\n",
      "INFO:root:Relative l2 distance validation: 0.5562858104632279\n",
      "INFO:root:Training time: 1.162879467010498\n",
      "INFO:root:Cumulative training time: 3.889127016067505\n",
      "INFO:root:Cumulative number of evaluations: 10445\n",
      "INFO:root:New best relative l2 distance validation: 0.5562858104632279\n",
      "INFO:root:Model parameters: {'degree_input_polynomials': 2, 'degree_output_polynomials': 1, 'functions': ['function_0'], 'function_names': ['function_0'], 'width': 1, 'degree_input_denominator': 1, 'degree_output_denominator': 0, 'degree_output_polynomials_specific': [1], 'degree_output_polynomials_denominator_specific': [1], 'enforce_function': False, 'maximal_potence': 3}\n",
      "INFO:root:Number parameters: 8\n",
      "INFO:root:Number parameters active: 8\n"
     ]
    },
    {
     "name": "stdout",
     "output_type": "stream",
     "text": [
      "Training time: 1.162879467010498\n",
      "Target expression: None\n",
      "Relative l_2-distance train: 0.05728350193288411\n",
      "Relative l_2-distance validation: 0.5562858104632279\n",
      "##### Training #####\n",
      "Number parameters: 8\n",
      "Number parameters active: 8\n"
     ]
    },
    {
     "name": "stderr",
     "output_type": "stream",
     "text": [
      "INFO:root:Number of evaluations: 1816\n",
      "INFO:root:Relative l2 distance train: 0.006241747131538285\n",
      "INFO:root:Relative l2 distance validation: 0.1286666305240138\n",
      "INFO:root:Training time: 0.8837206363677979\n",
      "INFO:root:Cumulative training time: 4.77422308921814\n",
      "INFO:root:Cumulative number of evaluations: 12261\n",
      "INFO:root:New best relative l2 distance validation: 0.1286666305240138\n",
      "INFO:root:Model parameters: {'degree_input_polynomials': 1, 'degree_output_polynomials': 2, 'functions': ['function_0'], 'function_names': ['function_0'], 'width': 1, 'degree_input_denominator': 0, 'degree_output_denominator': 0, 'degree_output_polynomials_specific': [1], 'degree_output_polynomials_denominator_specific': [1], 'enforce_function': False, 'maximal_potence': 3}\n",
      "INFO:root:Number parameters: 7\n",
      "INFO:root:Number parameters active: 7\n"
     ]
    },
    {
     "name": "stdout",
     "output_type": "stream",
     "text": [
      "Training time: 0.8837206363677979\n",
      "Target expression: None\n",
      "Relative l_2-distance train: 0.006241747131538285\n",
      "Relative l_2-distance validation: 0.1286666305240138\n",
      "##### Training #####\n",
      "Number parameters: 7\n",
      "Number parameters active: 7\n"
     ]
    },
    {
     "name": "stderr",
     "output_type": "stream",
     "text": [
      "INFO:root:Number of evaluations: 1492\n",
      "INFO:root:Relative l2 distance train: 0.13486313574017264\n",
      "INFO:root:Relative l2 distance validation: 0.7298916002284754\n",
      "INFO:root:Training time: 0.7048125267028809\n",
      "INFO:root:Cumulative training time: 5.480204820632935\n",
      "INFO:root:Cumulative number of evaluations: 13753\n",
      "INFO:root:Model parameters: {'degree_input_polynomials': 2, 'degree_output_polynomials': 2, 'functions': ['function_0'], 'function_names': ['function_0'], 'width': 1, 'degree_input_denominator': 0, 'degree_output_denominator': 0, 'degree_output_polynomials_specific': [1], 'degree_output_polynomials_denominator_specific': [1], 'enforce_function': False, 'maximal_potence': 3}\n",
      "INFO:root:Number parameters: 8\n",
      "INFO:root:Number parameters active: 8\n"
     ]
    },
    {
     "name": "stdout",
     "output_type": "stream",
     "text": [
      "Training time: 0.7048125267028809\n",
      "Target expression: None\n",
      "Relative l_2-distance train: 0.13486313574017264\n",
      "Relative l_2-distance validation: 0.7298916002284754\n",
      "##### Training #####\n",
      "Number parameters: 8\n",
      "Number parameters active: 8\n"
     ]
    },
    {
     "name": "stderr",
     "output_type": "stream",
     "text": [
      "INFO:root:Number of evaluations: 1301\n",
      "INFO:root:Relative l2 distance train: 0.463943631803379\n",
      "INFO:root:Relative l2 distance validation: 5.527632551052343\n",
      "INFO:root:Training time: 0.5922994613647461\n",
      "INFO:root:Cumulative training time: 6.073997259140015\n",
      "INFO:root:Cumulative number of evaluations: 15054\n",
      "INFO:root:Model parameters: {'degree_input_polynomials': 1, 'degree_output_polynomials': 2, 'functions': ['function_0'], 'function_names': ['function_0'], 'width': 1, 'degree_input_denominator': 1, 'degree_output_denominator': 0, 'degree_output_polynomials_specific': [1], 'degree_output_polynomials_denominator_specific': [1], 'enforce_function': False, 'maximal_potence': 3}\n",
      "INFO:root:Number parameters: 9\n",
      "INFO:root:Number parameters active: 9\n"
     ]
    },
    {
     "name": "stdout",
     "output_type": "stream",
     "text": [
      "Training time: 0.5922994613647461\n",
      "Target expression: None\n",
      "Relative l_2-distance train: 0.463943631803379\n",
      "Relative l_2-distance validation: 5.527632551052343\n",
      "##### Training #####\n",
      "Number parameters: 9\n",
      "Number parameters active: 9\n"
     ]
    },
    {
     "name": "stderr",
     "output_type": "stream",
     "text": [
      "INFO:root:Number of evaluations: 1967\n",
      "INFO:root:Relative l2 distance train: 0.07761365695167359\n",
      "INFO:root:Relative l2 distance validation: 3.0174976920019705\n",
      "INFO:root:Training time: 1.097313404083252\n",
      "INFO:root:Cumulative training time: 7.172524690628052\n",
      "INFO:root:Cumulative number of evaluations: 17021\n",
      "INFO:root:Model parameters: {'degree_input_polynomials': 2, 'degree_output_polynomials': 2, 'functions': ['function_0'], 'function_names': ['function_0'], 'width': 1, 'degree_input_denominator': 1, 'degree_output_denominator': 0, 'degree_output_polynomials_specific': [1], 'degree_output_polynomials_denominator_specific': [1], 'enforce_function': False, 'maximal_potence': 3}\n",
      "INFO:root:Number parameters: 10\n",
      "INFO:root:Number parameters active: 10\n"
     ]
    },
    {
     "name": "stdout",
     "output_type": "stream",
     "text": [
      "Training time: 1.097313404083252\n",
      "Target expression: None\n",
      "Relative l_2-distance train: 0.07761365695167359\n",
      "Relative l_2-distance validation: 3.0174976920019705\n",
      "##### Training #####\n",
      "Number parameters: 10\n",
      "Number parameters active: 10\n"
     ]
    },
    {
     "name": "stderr",
     "output_type": "stream",
     "text": [
      "INFO:root:Number of evaluations: 1822\n",
      "INFO:root:Relative l2 distance train: 0.0850873955732156\n",
      "INFO:root:Relative l2 distance validation: 4.2034824358623135\n",
      "INFO:root:Training time: 1.0149407386779785\n",
      "INFO:root:Cumulative training time: 8.188863039016724\n",
      "INFO:root:Cumulative number of evaluations: 18843\n",
      "INFO:root:Model parameters: {'degree_input_polynomials': 1, 'degree_output_polynomials': 1, 'functions': ['function_0'], 'function_names': ['function_0'], 'width': 1, 'degree_input_denominator': 0, 'degree_output_denominator': 1, 'degree_output_polynomials_specific': [1], 'degree_output_polynomials_denominator_specific': [1], 'enforce_function': False, 'maximal_potence': 3}\n",
      "INFO:root:Number parameters: 8\n",
      "INFO:root:Number parameters active: 8\n"
     ]
    },
    {
     "name": "stdout",
     "output_type": "stream",
     "text": [
      "Training time: 1.0149407386779785\n",
      "Target expression: None\n",
      "Relative l_2-distance train: 0.0850873955732156\n",
      "Relative l_2-distance validation: 4.2034824358623135\n",
      "##### Training #####\n",
      "Number parameters: 8\n",
      "Number parameters active: 8\n"
     ]
    },
    {
     "name": "stderr",
     "output_type": "stream",
     "text": [
      "INFO:root:Number of evaluations: 1988\n",
      "INFO:root:Relative l2 distance train: 5.797452902863649e-08\n",
      "INFO:root:Relative l2 distance validation: 2.851068160787437e-07\n",
      "INFO:root:Training time: 1.0665926933288574\n",
      "INFO:root:Cumulative training time: 9.25675916671753\n",
      "INFO:root:Cumulative number of evaluations: 20831\n",
      "INFO:root:New best relative l2 distance validation: 2.851068160787437e-07\n",
      "INFO:root:Terminate proccess, wanted accuracy 0.001 and number of active parameters 3 / 10 was reached\n",
      "INFO:root:Time for multiprocessing in total: 9.275643348693848\n"
     ]
    },
    {
     "name": "stdout",
     "output_type": "stream",
     "text": [
      "Training time: 1.0665926933288574\n",
      "Target expression: None\n",
      "Relative l_2-distance train: 5.797452902863649e-08\n",
      "Relative l_2-distance validation: 2.851068160787437e-07\n",
      "Terminate proccess, wanted accuracy 0.001 and number of active parameters 3 / 10 was reached\n"
     ]
    },
    {
     "name": "stderr",
     "output_type": "stream",
     "text": [
      "INFO:root:Finetuning with this cut off would not change anything.\n",
      "INFO:root:Finetuning with this cut off would not change anything.\n",
      "INFO:root:Finetuning with this cut off would not change anything.\n",
      "INFO:root:Finetuning with this cut off would not change anything.\n",
      "INFO:root:Finetuning with this cut off would not change anything.\n",
      "INFO:root:Finetuning with this cut off would not change anything.\n",
      "INFO:root:Finetuning with this cut off would not change anything.\n",
      "INFO:root:Best distance (train, val, test): (tensor(5.7975e-08, dtype=torch.float64), tensor(2.8511e-07, dtype=torch.float64), tensor(7.6673e-08, dtype=torch.float64))\n",
      "INFO:root:Best formula: 0.2*sin(2.162*x0)/x0 best training time: 1.0665926933288574\n"
     ]
    }
   ],
   "source": [
    "# The config picks defines all the model and training parameter choices. See config_files/wrapper. 'small' is the default. For bigger experiments, for example those in SRBench, choose 'big'.\n",
    "# Every additional variable overwrites the settings in the config. E.g., we restrict the functions we use to being simply the sin function.\n",
    "parfam = ParFamWrapper(config_name='small', iterate=True, functions=functions, function_names=function_names)\n",
    "parfam.fit(x, y, time_limit=100)  # time_limit is in seconds, might have to be higher for higher dimensions and more complicated parametric families"
   ]
  },
  {
   "cell_type": "code",
   "execution_count": 6,
   "metadata": {},
   "outputs": [
    {
     "name": "stdout",
     "output_type": "stream",
     "text": [
      "Target formula: 0.2*sin(2.16219258308411*x)/x\n",
      "Computed formula: 0.2*sin(2.162*x0)/x0\n"
     ]
    }
   ],
   "source": [
    "print(f'Target formula: {target_expr}')\n",
    "print(f'Computed formula: {parfam.formula_reduced.simplify()}')"
   ]
  },
  {
   "cell_type": "code",
   "execution_count": 7,
   "metadata": {},
   "outputs": [
    {
     "data": {
      "image/png": "[encoded data removed]",
      "text/plain": [
       "<Figure size 640x480 with 1 Axes>"
      ]
     },
     "metadata": {},
     "output_type": "display_data"
    },
    {
     "name": "stdout",
     "output_type": "stream",
     "text": [
      "Relative l2 distance: 3.480427055697667e-08\n"
     ]
    }
   ],
   "source": [
    "y_pred = parfam.predict(x).cpu().detach().numpy()\n",
    "plt.plot(x, y, '+', label='Samples')\n",
    "plt.plot(x, y_pred, label='Prediction')\n",
    "plt.legend()\n",
    "plt.show()\n",
    "\n",
    "print(f'Relative l2 distance: {np.linalg.norm(y - y_pred, ord=2) / np.linalg.norm(y, ord=2)}')\n"
   ]
  },
  {
   "cell_type": "markdown",
   "metadata": {},
   "source": [
    "## 2 dimensional problem"
   ]
  },
  {
   "cell_type": "code",
   "execution_count": 8,
   "metadata": {},
   "outputs": [
    {
     "name": "stdout",
     "output_type": "stream",
     "text": [
      "(100, 2)\n",
      "Target formula: x1*sin(x0)\n"
     ]
    }
   ],
   "source": [
    "a = 2 * torch.randn(1)\n",
    "x = np.sort(np.random.uniform(-1.2, 5, 100))\n",
    "x = np.random.uniform(-3, 3, 200).reshape(100, 2)\n",
    "print(x.shape)\n",
    "x = torch.tensor(x, device=device)\n",
    "\n",
    "def func(a, x, module):\n",
    "    return module.sin(x[0]) * x[1]\n",
    "\n",
    "\n",
    "y = func(a, x.T, np)\n",
    "x_sym = []\n",
    "for i in range(x.shape[1]):\n",
    "    x_sym.append(sympy.symbols(f'x{i}'))\n",
    "target_expr = func(a, x_sym, sympy)\n",
    "print(f'Target formula: {target_expr}')"
   ]
  },
  {
   "cell_type": "code",
   "execution_count": 9,
   "metadata": {},
   "outputs": [],
   "source": [
    "# Assuming we already know that only the sin function is necessary:\n",
    "functions = [torch.sin]\n",
    "function_names = [sympy.sin]"
   ]
  },
  {
   "cell_type": "code",
   "execution_count": 10,
   "metadata": {},
   "outputs": [
    {
     "name": "stderr",
     "output_type": "stream",
     "text": [
      "/home/math/scholl/projects/physicalLawLearning/parfam/train.py:1581: UserWarning: To copy construct from a tensor, it is recommended to use sourceTensor.clone().detach() or sourceTensor.clone().detach().requires_grad_(True), rather than torch.tensor(sourceTensor).\n",
      "  x, y = torch.tensor(x, device=training_parameters['device']), torch.tensor(y, device=training_parameters['device'])\n",
      "INFO:root:Sequential computation\n",
      "INFO:root:Model parameters: {'degree_input_polynomials': 0, 'degree_output_polynomials': 2, 'degree_output_denominator': 0, 'degree_input_denominator': 0, 'function_names': [], 'width': 1, 'functions': [], 'degree_output_polynomials_specific': None, 'degree_output_polynomials_denominator_specific': None, 'enforce_function': False, 'maximal_potence': 3}\n",
      "INFO:root:Number parameters: 6\n",
      "INFO:root:Number parameters active: 6\n"
     ]
    },
    {
     "name": "stderr",
     "output_type": "stream",
     "text": [
      "INFO:root:Number of evaluations: 208\n",
      "INFO:root:Relative l2 distance train: 0.48243015419397106\n",
      "INFO:root:Relative l2 distance validation: 0.43107807011684174\n",
      "INFO:root:Training time: 0.07650613784790039\n",
      "INFO:root:Cumulative training time: 0.07892107963562012\n",
      "INFO:root:Cumulative number of evaluations: 208\n",
      "INFO:root:New best relative l2 distance validation: 0.43107807011684174\n",
      "INFO:root:Model parameters: {'degree_input_polynomials': 1, 'degree_output_polynomials': 1, 'functions': ['function_0'], 'function_names': ['function_0'], 'width': 1, 'degree_input_denominator': 0, 'degree_output_denominator': 0, 'degree_output_polynomials_specific': [1], 'degree_output_polynomials_denominator_specific': [1], 'enforce_function': False, 'maximal_potence': 3}\n",
      "INFO:root:Number parameters: 7\n",
      "INFO:root:Number parameters active: 7\n"
     ]
    },
    {
     "name": "stdout",
     "output_type": "stream",
     "text": [
      "Training parameters: {'normalization': False, 'time_limit': 100, 'evaluations_limit': 1000000, 'max_dataset_length': 100, 'model': 'ParFamTorch', 'target_noise': 0.0, 'feature_noise': 0.0, 'seed': 1234, 'accuracy': 0.0001, 'maxiter1': 100, 'maxiter2': 0, 'optimizer': 'basinhopping', 'pruning_iterations': 1, 'pruning_cut_off': 0.01, 'classifier': None, 'local_minimizer': 'BFGS', 'maxiter_per_dim_local_minimizer': 100, 'lambda_1': 0.001, 'repetitions': 1, 'parallel': False, 'n_processes': 4, 'lambda_1_cut': 0, 'lambda_1_piecewise': 0, 'device': 'cpu', 'iterative_finetuning': True, 'max_n_active_parameters': 10, 'lambda_1_finetuning': 1e-05, 'path_pretrained': 'Flexible dimension/full_19_big_training_sets/20240427_070711_5M/Datetime_20240427_070717_Loss_training_set_size_797545_batch_size_341_hidden_dim_256.pt', 'topk_predictions': 10, 'enforce_function_iterate': 'False'}\n",
      "Sequential computation\n",
      "##### Training #####\n",
      "Number parameters: 6\n",
      "Number parameters active: 6\n",
      "Training time: 0.07650613784790039\n",
      "Target expression: None\n",
      "Relative l_2-distance train: 0.48243015419397106\n",
      "Relative l_2-distance validation: 0.43107807011684174\n",
      "##### Training #####\n",
      "Number parameters: 7\n",
      "Number parameters active: 7\n"
     ]
    },
    {
     "name": "stderr",
     "output_type": "stream",
     "text": [
      "INFO:root:Number of evaluations: 322\n",
      "INFO:root:Relative l2 distance train: 0.9130825548294452\n",
      "INFO:root:Relative l2 distance validation: 0.9365055738262088\n",
      "INFO:root:Training time: 0.13647699356079102\n",
      "INFO:root:Cumulative training time: 0.2166271209716797\n",
      "INFO:root:Cumulative number of evaluations: 530\n",
      "INFO:root:Model parameters: {'degree_input_polynomials': 2, 'degree_output_polynomials': 1, 'functions': ['function_0'], 'function_names': ['function_0'], 'width': 1, 'degree_input_denominator': 0, 'degree_output_denominator': 0, 'degree_output_polynomials_specific': [1], 'degree_output_polynomials_denominator_specific': [1], 'enforce_function': False, 'maximal_potence': 3}\n",
      "INFO:root:Number parameters: 10\n",
      "INFO:root:Number parameters active: 10\n"
     ]
    },
    {
     "name": "stdout",
     "output_type": "stream",
     "text": [
      "Training time: 0.13647699356079102\n",
      "Target expression: None\n",
      "Relative l_2-distance train: 0.9130825548294452\n",
      "Relative l_2-distance validation: 0.9365055738262088\n",
      "##### Training #####\n",
      "Number parameters: 10\n",
      "Number parameters active: 10\n"
     ]
    },
    {
     "name": "stderr",
     "output_type": "stream",
     "text": [
      "INFO:root:Number of evaluations: 631\n",
      "INFO:root:Relative l2 distance train: 0.2783534748587178\n",
      "INFO:root:Relative l2 distance validation: 0.3433567922693776\n",
      "INFO:root:Training time: 0.2662343978881836\n",
      "INFO:root:Cumulative training time: 0.48416852951049805\n",
      "INFO:root:Cumulative number of evaluations: 1161\n",
      "INFO:root:New best relative l2 distance validation: 0.3433567922693776\n",
      "INFO:root:Model parameters: {'degree_input_polynomials': 1, 'degree_output_polynomials': 2, 'functions': ['function_0'], 'function_names': ['function_0'], 'width': 1, 'degree_input_denominator': 0, 'degree_output_denominator': 0, 'degree_output_polynomials_specific': [1], 'degree_output_polynomials_denominator_specific': [1], 'enforce_function': False, 'maximal_potence': 3}\n",
      "INFO:root:Number parameters: 12\n",
      "INFO:root:Number parameters active: 12\n"
     ]
    },
    {
     "name": "stdout",
     "output_type": "stream",
     "text": [
      "Training time: 0.2662343978881836\n",
      "Target expression: None\n",
      "Relative l_2-distance train: 0.2783534748587178\n",
      "Relative l_2-distance validation: 0.3433567922693776\n",
      "##### Training #####\n",
      "Number parameters: 12\n",
      "Number parameters active: 12\n"
     ]
    },
    {
     "name": "stderr",
     "output_type": "stream",
     "text": [
      "INFO:root:Number of evaluations: 1108\n",
      "INFO:root:Relative l2 distance train: 0.23916209214289127\n",
      "INFO:root:Relative l2 distance validation: 0.24955457001762366\n",
      "INFO:root:Training time: 0.6080341339111328\n",
      "INFO:root:Cumulative training time: 1.093571662902832\n",
      "INFO:root:Cumulative number of evaluations: 2269\n",
      "INFO:root:New best relative l2 distance validation: 0.24955457001762366\n",
      "INFO:root:Model parameters: {'degree_input_polynomials': 2, 'degree_output_polynomials': 2, 'functions': ['function_0'], 'function_names': ['function_0'], 'width': 1, 'degree_input_denominator': 0, 'degree_output_denominator': 0, 'degree_output_polynomials_specific': [1], 'degree_output_polynomials_denominator_specific': [1], 'enforce_function': False, 'maximal_potence': 3}\n",
      "INFO:root:Number parameters: 15\n",
      "INFO:root:Number parameters active: 15\n"
     ]
    },
    {
     "name": "stdout",
     "output_type": "stream",
     "text": [
      "Training time: 0.6080341339111328\n",
      "Target expression: None\n",
      "Relative l_2-distance train: 0.23916209214289127\n",
      "Relative l_2-distance validation: 0.24955457001762366\n",
      "##### Training #####\n",
      "Number parameters: 15\n",
      "Number parameters active: 15\n"
     ]
    },
    {
     "name": "stderr",
     "output_type": "stream",
     "text": [
      "INFO:root:Number of evaluations: 1059\n",
      "INFO:root:Relative l2 distance train: 0.15171978803774053\n",
      "INFO:root:Relative l2 distance validation: 0.3209283770934381\n",
      "INFO:root:Training time: 0.5919361114501953\n",
      "INFO:root:Cumulative training time: 1.6869585514068604\n",
      "INFO:root:Cumulative number of evaluations: 3328\n",
      "INFO:root:Time for multiprocessing in total: 1.694059133529663\n"
     ]
    },
    {
     "name": "stdout",
     "output_type": "stream",
     "text": [
      "Training time: 0.5919361114501953\n",
      "Target expression: None\n",
      "Relative l_2-distance train: 0.15171978803774053\n",
      "Relative l_2-distance validation: 0.3209283770934381\n"
     ]
    },
    {
     "name": "stderr",
     "output_type": "stream",
     "text": [
      "INFO:root:Best distance (train, val, test): (tensor(0.2392, dtype=torch.float64), tensor(0.2496, dtype=torch.float64), tensor(0.2601, dtype=torch.float64))\n",
      "INFO:root:Best formula: -0.283*x0**2 + 0.474*x0*x1 + 1.02*x0*sin(0.747*x0 + 0.555*x1 + 0.129) - 0.016*x0 + 0.219*x1**2 - 0.425*x1*sin(0.747*x0 + 0.555*x1 + 0.129) + 0.073*x1 - 0.402 best training time: 0.6080341339111328\n"
     ]
    }
   ],
   "source": [
    "parfam = ParFamWrapper(iterate=True, functions=functions, function_names=function_names, degree_input_denominator=0, degree_output_denominator=0)\n",
    "parfam.fit(x, y, time_limit=100)"
   ]
  },
  {
   "cell_type": "code",
   "execution_count": 11,
   "metadata": {},
   "outputs": [
    {
     "name": "stdout",
     "output_type": "stream",
     "text": [
      "Target formula: x1*sin(x0)\n",
      "Computed formula: -0.283*x0**2 + 0.474*x0*x1 + 1.02*x0*sin(0.747*x0 + 0.555*x1 + 0.129) - 0.016*x0 + 0.219*x1**2 - 0.425*x1*sin(0.747*x0 + 0.555*x1 + 0.129) + 0.073*x1 - 0.402\n"
     ]
    }
   ],
   "source": [
    "print(f'Target formula: {target_expr}')\n",
    "print(f'Computed formula: {parfam.formula_reduced.simplify()}')\n"
   ]
  },
  {
   "cell_type": "code",
   "execution_count": 12,
   "metadata": {},
   "outputs": [
    {
     "name": "stdout",
     "output_type": "stream",
     "text": [
      "Relative l2 distance: 0.24163395807860108\n"
     ]
    }
   ],
   "source": [
    "y_pred = parfam.predict(x).cpu().detach().numpy()\n",
    "print(f'Relative l2 distance: {np.linalg.norm(y - y_pred, ord=2) / np.linalg.norm(y, ord=2)}')"
   ]
  },
  {
   "cell_type": "markdown",
   "metadata": {},
   "source": [
    "# More complicated functions"
   ]
  },
  {
   "cell_type": "markdown",
   "metadata": {},
   "source": [
    "Test now the feynman formula III 10 19:\n",
    "$$mom\\sqrt{x^2+y^2+z^2}$$"
   ]
  },
  {
   "cell_type": "code",
   "execution_count": 13,
   "metadata": {},
   "outputs": [
    {
     "name": "stdout",
     "output_type": "stream",
     "text": [
      "(500, 4)\n",
      "Target formula: mom*(x**2 + y**2 + z**2)**0.5\n"
     ]
    }
   ],
   "source": [
    "n_datapoints = 500\n",
    "dim = 4\n",
    "x = np.random.uniform(1, dim, n_datapoints * dim).reshape(n_datapoints, dim)\n",
    "print(x.shape)\n",
    "x = torch.tensor(x, device=device)\n",
    "\n",
    "def func(x, module):\n",
    "    # return x[0] * (x[1]*(x[2]**2 + x[3]**2 + x[4]**2))**(1/2)\n",
    "    return x[0] * ((x[2]**2 + x[3]**2 + x[1]**2))**(1/2)\n",
    "\n",
    "\n",
    "y = func(x.T, np)\n",
    "# x_sym = [sympy.symbols(symbol) for symbol in ['mom', 'B', 'x', 'y', 'z']]\n",
    "x_sym = [sympy.symbols(symbol) for symbol in ['mom', 'x', 'y', 'z']]\n",
    "# for i in range(x.shape[1]):\n",
    "#     x_sym.append(sympy.symbols(f'x{i}'))\n",
    "target_expr = func(x_sym, sympy)\n",
    "print(f'Target formula: {target_expr}')"
   ]
  },
  {
   "cell_type": "code",
   "execution_count": 14,
   "metadata": {},
   "outputs": [],
   "source": [
    "# Assuming we already know that only the sqrt function is necessary.\n",
    "# If we do not assume this knowledge, we could also just use the variable standard_functions and standard_function_names instead, it just takes more time.\n",
    "# Do not define the sqrt here yourself by just defining it as torch.sqrt, since it is not defined on all reals, which is a problem for the optimizer. Thus, see how it was defined in the function_dict.  \n",
    "functions = [function_dict['sqrt']]\n",
    "function_names = [function_name_dict['sqrt']]"
   ]
  },
  {
   "cell_type": "code",
   "execution_count": 15,
   "metadata": {},
   "outputs": [
    {
     "name": "stderr",
     "output_type": "stream",
     "text": [
      "/home/math/scholl/projects/physicalLawLearning/parfam/train.py:1581: UserWarning: To copy construct from a tensor, it is recommended to use sourceTensor.clone().detach() or sourceTensor.clone().detach().requires_grad_(True), rather than torch.tensor(sourceTensor).\n",
      "  x, y = torch.tensor(x, device=training_parameters['device']), torch.tensor(y, device=training_parameters['device'])\n",
      "INFO:root:Sequential computation\n",
      "INFO:root:Model parameters: {'degree_input_polynomials': 0, 'degree_output_polynomials': 3, 'degree_output_denominator': 0, 'degree_input_denominator': 0, 'function_names': [], 'width': 1, 'functions': [], 'degree_output_polynomials_specific': None, 'degree_output_polynomials_denominator_specific': None, 'enforce_function': False, 'maximal_potence': 3}\n",
      "INFO:root:Number parameters: 35\n",
      "INFO:root:Number parameters active: 35\n"
     ]
    },
    {
     "name": "stdout",
     "output_type": "stream",
     "text": [
      "Training parameters: {'normalization': False, 'time_limit': 100, 'evaluations_limit': 1000000, 'max_dataset_length': 500, 'model': 'ParFamTorch', 'target_noise': 0.0, 'feature_noise': 0.0, 'seed': 1234, 'accuracy': 0.0001, 'maxiter1': 100, 'maxiter2': 0, 'optimizer': 'basinhopping', 'pruning_iterations': 1, 'pruning_cut_off': 0.01, 'classifier': None, 'local_minimizer': 'BFGS', 'maxiter_per_dim_local_minimizer': 100, 'lambda_1': 0.001, 'repetitions': 1, 'parallel': False, 'n_processes': 4, 'lambda_1_cut': 0, 'lambda_1_piecewise': 0, 'device': 'cpu', 'iterative_finetuning': True, 'max_n_active_parameters': 10, 'lambda_1_finetuning': 1e-05, 'path_pretrained': 'Flexible dimension/full_19_big_training_sets/20240427_070711_5M/Datetime_20240427_070717_Loss_training_set_size_797545_batch_size_341_hidden_dim_256.pt', 'topk_predictions': 10, 'enforce_function_iterate': 'False'}\n",
      "Sequential computation\n",
      "##### Training #####\n",
      "Number parameters: 35\n",
      "Number parameters active: 35\n"
     ]
    },
    {
     "name": "stderr",
     "output_type": "stream",
     "text": [
      "INFO:root:Number of evaluations: 2110\n",
      "INFO:root:Relative l2 distance train: 0.004852963370269322\n",
      "INFO:root:Relative l2 distance validation: 0.006087892812096801\n",
      "INFO:root:Training time: 0.9048330783843994\n",
      "INFO:root:Cumulative training time: 0.9081437587738037\n",
      "INFO:root:Cumulative number of evaluations: 2110\n",
      "INFO:root:New best relative l2 distance validation: 0.006087892812096801\n",
      "INFO:root:Model parameters: {'degree_input_polynomials': 1, 'degree_output_polynomials': 1, 'functions': ['function_0'], 'function_names': ['function_0'], 'width': 1, 'degree_input_denominator': 0, 'degree_output_denominator': 0, 'degree_output_polynomials_specific': [1], 'degree_output_polynomials_denominator_specific': [1], 'enforce_function': False, 'maximal_potence': 3}\n",
      "INFO:root:Number parameters: 11\n",
      "INFO:root:Number parameters active: 11\n"
     ]
    },
    {
     "name": "stdout",
     "output_type": "stream",
     "text": [
      "Training time: 0.9048330783843994\n",
      "Target expression: None\n",
      "Relative l_2-distance train: 0.004852963370269322\n",
      "Relative l_2-distance validation: 0.006087892812096801\n",
      "##### Training #####\n",
      "Number parameters: 11\n",
      "Number parameters active: 11\n"
     ]
    },
    {
     "name": "stderr",
     "output_type": "stream",
     "text": [
      "INFO:root:Number of evaluations: 1200\n",
      "INFO:root:Relative l2 distance train: 0.13312445273737974\n",
      "INFO:root:Relative l2 distance validation: 0.10351078922403623\n",
      "INFO:root:Training time: 0.5662174224853516\n",
      "INFO:root:Cumulative training time: 1.4758455753326416\n",
      "INFO:root:Cumulative number of evaluations: 3310\n",
      "INFO:root:Model parameters: {'degree_input_polynomials': 2, 'degree_output_polynomials': 1, 'functions': ['function_0'], 'function_names': ['function_0'], 'width': 1, 'degree_input_denominator': 0, 'degree_output_denominator': 0, 'degree_output_polynomials_specific': [1], 'degree_output_polynomials_denominator_specific': [1], 'enforce_function': False, 'maximal_potence': 3}\n",
      "INFO:root:Number parameters: 21\n",
      "INFO:root:Number parameters active: 21\n"
     ]
    },
    {
     "name": "stdout",
     "output_type": "stream",
     "text": [
      "Training time: 0.5662174224853516\n",
      "Target expression: None\n",
      "Relative l_2-distance train: 0.13312445273737974\n",
      "Relative l_2-distance validation: 0.10351078922403623\n",
      "##### Training #####\n",
      "Number parameters: 21\n",
      "Number parameters active: 21\n"
     ]
    },
    {
     "name": "stderr",
     "output_type": "stream",
     "text": [
      "INFO:root:Number of evaluations: 2061\n",
      "INFO:root:Relative l2 distance train: 0.09910290090575284\n",
      "INFO:root:Relative l2 distance validation: 0.10834654290855726\n",
      "INFO:root:Training time: 1.0041370391845703\n",
      "INFO:root:Cumulative training time: 2.481829881668091\n",
      "INFO:root:Cumulative number of evaluations: 5371\n",
      "INFO:root:Model parameters: {'degree_input_polynomials': 1, 'degree_output_polynomials': 2, 'functions': ['function_0'], 'function_names': ['function_0'], 'width': 1, 'degree_input_denominator': 0, 'degree_output_denominator': 0, 'degree_output_polynomials_specific': [1], 'degree_output_polynomials_denominator_specific': [1], 'enforce_function': False, 'maximal_potence': 3}\n",
      "INFO:root:Number parameters: 25\n",
      "INFO:root:Number parameters active: 25\n"
     ]
    },
    {
     "name": "stdout",
     "output_type": "stream",
     "text": [
      "Training time: 1.0041370391845703\n",
      "Target expression: None\n",
      "Relative l_2-distance train: 0.09910290090575284\n",
      "Relative l_2-distance validation: 0.10834654290855726\n",
      "##### Training #####\n",
      "Number parameters: 25\n",
      "Number parameters active: 25\n"
     ]
    },
    {
     "name": "stderr",
     "output_type": "stream",
     "text": [
      "INFO:root:Number of evaluations: 1867\n",
      "INFO:root:Relative l2 distance train: 0.021225963392843238\n",
      "INFO:root:Relative l2 distance validation: 0.02267919090976496\n",
      "INFO:root:Training time: 1.638770580291748\n",
      "INFO:root:Cumulative training time: 4.122671127319336\n",
      "INFO:root:Cumulative number of evaluations: 7238\n",
      "INFO:root:Model parameters: {'degree_input_polynomials': 2, 'degree_output_polynomials': 2, 'functions': ['function_0'], 'function_names': ['function_0'], 'width': 1, 'degree_input_denominator': 0, 'degree_output_denominator': 0, 'degree_output_polynomials_specific': [1], 'degree_output_polynomials_denominator_specific': [1], 'enforce_function': False, 'maximal_potence': 3}\n",
      "INFO:root:Number parameters: 35\n",
      "INFO:root:Number parameters active: 35\n"
     ]
    },
    {
     "name": "stdout",
     "output_type": "stream",
     "text": [
      "Training time: 1.638770580291748\n",
      "Target expression: None\n",
      "Relative l_2-distance train: 0.021225963392843238\n",
      "Relative l_2-distance validation: 0.02267919090976496\n",
      "##### Training #####\n",
      "Number parameters: 35\n",
      "Number parameters active: 35\n"
     ]
    },
    {
     "name": "stderr",
     "output_type": "stream",
     "text": [
      "INFO:root:Number of evaluations: 3841\n",
      "INFO:root:Relative l2 distance train: 1.2871244444645057e-07\n",
      "INFO:root:Relative l2 distance validation: 1.4906590102158942e-07\n",
      "INFO:root:Training time: 3.496603012084961\n",
      "INFO:root:Cumulative training time: 7.621902704238892\n",
      "INFO:root:Cumulative number of evaluations: 11079\n",
      "INFO:root:New best relative l2 distance validation: 1.4906590102158942e-07\n",
      "INFO:root:Terminate proccess, wanted accuracy 0.001 and number of active parameters 4 / 10 was reached\n",
      "INFO:root:Time for multiprocessing in total: 7.628336668014526\n",
      "INFO:root:Finetuning with this cut off would not change anything.\n",
      "INFO:root:Finetuning with this cut off would not change anything.\n",
      "INFO:root:Finetuning with this cut off would not change anything.\n",
      "INFO:root:Finetuning with this cut off would not change anything.\n",
      "INFO:root:Finetuning with this cut off would not change anything.\n",
      "INFO:root:Finetuning with this cut off would not change anything.\n",
      "INFO:root:Finetuning with this cut off would not change anything.\n",
      "INFO:root:Best distance (train, val, test): (tensor(1.2871e-07, dtype=torch.float64), tensor(1.4907e-07, dtype=torch.float64), tensor(1.4346e-07, dtype=torch.float64))\n",
      "INFO:root:Best formula: 0.999*x0*sqrt(Abs(1.003*x1**2 + 1.003*x2**2 + 1.003*x3**2)) best training time: 3.496603012084961\n"
     ]
    },
    {
     "name": "stdout",
     "output_type": "stream",
     "text": [
      "Training time: 3.496603012084961\n",
      "Target expression: None\n",
      "Relative l_2-distance train: 1.2871244444645057e-07\n",
      "Relative l_2-distance validation: 1.4906590102158942e-07\n",
      "Terminate proccess, wanted accuracy 0.001 and number of active parameters 4 / 10 was reached\n"
     ]
    }
   ],
   "source": [
    "# ParFamWrapper with its most important input parameters\n",
    "parfam = ParFamWrapper(iterate=True, # iterate through multiple different parametric families (costs more time, but is the better choice when one is not sure about the degrees and the functions of the target formula)\n",
    "                       functions=functions, function_names=function_names, # which functions to use \n",
    "                       degree_input_numerator=2, degree_output_numerator=3, degree_input_denominator=0, degree_output_denominator=0,  # the maximal degrees of the polynomials in the parametric family\n",
    "                       input_names=x_sym,  # the names of the input variables\n",
    "                       enforce_function=False,  # has only an effect, if iterate=False\n",
    "                       device='cpu', \n",
    "                       separate_test_set=True  # ParFam uses a smaller set for training, to use a part of it as a test set afterwards\n",
    "                       )\n",
    "parfam.fit(x, y, time_limit=100, seed=1234)  # If we cannot assume that degree_input_denominator=0 and degree_output_denominator=0 holds, we would have to increase the time limit"
   ]
  },
  {
   "cell_type": "code",
   "execution_count": 16,
   "metadata": {},
   "outputs": [
    {
     "name": "stdout",
     "output_type": "stream",
     "text": [
      "Target formula: mom*(x**2 + y**2 + z**2)**0.5\n",
      "Computed formula: 1.00049737780766*x0*sqrt(Abs(x1**2 + x2**2 + x3**2))\n"
     ]
    }
   ],
   "source": [
    "print(f'Target formula: {target_expr}')\n",
    "print(f'Computed formula: {parfam.formula_reduced.simplify()}')"
   ]
  },
  {
   "cell_type": "code",
   "execution_count": 17,
   "metadata": {},
   "outputs": [
    {
     "name": "stdout",
     "output_type": "stream",
     "text": [
      "Relative l2 distance: 3.650236287367951e-08\n"
     ]
    }
   ],
   "source": [
    "y_pred = parfam.predict(x).cpu().detach().numpy()\n",
    "print(f'Relative l2 distance: {np.linalg.norm(y - y_pred, ord=2) / np.linalg.norm(y, ord=2)}')"
   ]
  },
  {
   "cell_type": "code",
   "execution_count": 19,
   "metadata": {},
   "outputs": [
    {
     "name": "stderr",
     "output_type": "stream",
     "text": [
      "/home/math/scholl/projects/physicalLawLearning/parfam/train.py:1581: UserWarning: To copy construct from a tensor, it is recommended to use sourceTensor.clone().detach() or sourceTensor.clone().detach().requires_grad_(True), rather than torch.tensor(sourceTensor).\n",
      "  x, y = torch.tensor(x, device=training_parameters['device']), torch.tensor(y, device=training_parameters['device'])\n",
      "INFO:root:Sequential computation\n",
      "INFO:root:Model parameters: {'degree_input_polynomials': 0, 'degree_output_polynomials': 4, 'degree_output_denominator': 0, 'degree_input_denominator': 0, 'function_names': [], 'width': 1, 'functions': [], 'degree_output_polynomials_specific': None, 'degree_output_polynomials_denominator_specific': None, 'enforce_function': False, 'maximal_potence': 3}\n"
     ]
    },
    {
     "name": "stderr",
     "output_type": "stream",
     "text": [
      "INFO:root:Number parameters: 66\n",
      "INFO:root:Number parameters active: 66\n"
     ]
    },
    {
     "name": "stdout",
     "output_type": "stream",
     "text": [
      "Training parameters: {'normalization': False, 'time_limit': 500, 'evaluations_limit': 1000000, 'max_dataset_length': 500, 'model': 'ParFamTorch', 'target_noise': 0.0, 'feature_noise': 0.0, 'seed': 1234, 'accuracy': 0.0001, 'maxiter1': 100, 'maxiter2': 0, 'optimizer': 'basinhopping', 'pruning_iterations': 1, 'pruning_cut_off': 0.01, 'classifier': None, 'local_minimizer': 'BFGS', 'maxiter_per_dim_local_minimizer': 100, 'lambda_1': 0.001, 'repetitions': 1, 'parallel': False, 'n_processes': 4, 'lambda_1_cut': 0, 'lambda_1_piecewise': 0.0, 'device': 'cpu', 'iterative_finetuning': True, 'max_n_active_parameters': 10, 'lambda_1_finetuning': 1e-05, 'path_pretrained': 'Flexible dimension/full_19_big_training_sets/20240427_070711_5M/Datetime_20240427_070717_Loss_training_set_size_797545_batch_size_341_hidden_dim_256.pt', 'topk_predictions': 3, 'enforce_function_iterate': 'Both'}\n",
      "Sequential computation\n",
      "##### Training #####\n",
      "Number parameters: 66\n",
      "Number parameters active: 66\n"
     ]
    },
    {
     "name": "stderr",
     "output_type": "stream",
     "text": [
      "INFO:root:Number of evaluations: 3534\n",
      "INFO:root:Relative l2 distance train: 0.002649219332609953\n",
      "INFO:root:Relative l2 distance validation: 0.0029717487501623578\n",
      "INFO:root:Training time: 2.255725622177124\n",
      "INFO:root:Cumulative training time: 2.2711024284362793\n",
      "INFO:root:Cumulative number of evaluations: 3534\n",
      "INFO:root:New best relative l2 distance validation: 0.0029717487501623578\n",
      "INFO:root:Model parameters: {'degree_input_polynomials': 0, 'degree_output_polynomials': 1, 'degree_output_denominator': 1, 'degree_input_denominator': 0, 'functions': [], 'function_names': [], 'width': 1, 'degree_output_polynomials_specific': None, 'degree_output_polynomials_denominator_specific': None, 'enforce_function': False, 'maximal_potence': 3}\n",
      "INFO:root:Number parameters: 10\n",
      "INFO:root:Number parameters active: 10\n"
     ]
    },
    {
     "name": "stdout",
     "output_type": "stream",
     "text": [
      "Training time: 2.255725622177124\n",
      "Target expression: None\n",
      "Relative l_2-distance train: 0.002649219332609953\n",
      "Relative l_2-distance validation: 0.0029717487501623578\n",
      "##### Training #####\n",
      "Number parameters: 10\n",
      "Number parameters active: 10\n"
     ]
    },
    {
     "name": "stderr",
     "output_type": "stream",
     "text": [
      "INFO:root:Number of evaluations: 4480\n",
      "INFO:root:Relative l2 distance train: 0.13909446416690732\n",
      "INFO:root:Relative l2 distance validation: 0.12273609961672621\n",
      "INFO:root:Training time: 1.6887145042419434\n",
      "INFO:root:Cumulative training time: 3.96172833442688\n",
      "INFO:root:Cumulative number of evaluations: 8014\n",
      "INFO:root:Model parameters: {'degree_input_polynomials': 0, 'degree_output_polynomials': 2, 'degree_output_denominator': 1, 'degree_input_denominator': 0, 'functions': [], 'function_names': [], 'width': 1, 'degree_output_polynomials_specific': None, 'degree_output_polynomials_denominator_specific': None, 'enforce_function': False, 'maximal_potence': 3}\n",
      "INFO:root:Number parameters: 20\n",
      "INFO:root:Number parameters active: 20\n"
     ]
    },
    {
     "name": "stdout",
     "output_type": "stream",
     "text": [
      "Training time: 1.6887145042419434\n",
      "Target expression: None\n",
      "Relative l_2-distance train: 0.13909446416690732\n",
      "Relative l_2-distance validation: 0.12273609961672621\n",
      "##### Training #####\n",
      "Number parameters: 20\n",
      "Number parameters active: 20\n"
     ]
    },
    {
     "name": "stderr",
     "output_type": "stream",
     "text": [
      "INFO:root:Number of evaluations: 2872\n",
      "INFO:root:Relative l2 distance train: 0.022271135240979786\n",
      "INFO:root:Relative l2 distance validation: 0.02310070459007912\n",
      "INFO:root:Training time: 1.1840927600860596\n",
      "INFO:root:Cumulative training time: 5.147795677185059\n",
      "INFO:root:Cumulative number of evaluations: 10886\n",
      "INFO:root:Model parameters: {'degree_input_polynomials': 0, 'degree_output_polynomials': 3, 'degree_output_denominator': 1, 'degree_input_denominator': 0, 'functions': [], 'function_names': [], 'width': 1, 'degree_output_polynomials_specific': None, 'degree_output_polynomials_denominator_specific': None, 'enforce_function': False, 'maximal_potence': 3}\n",
      "INFO:root:Number parameters: 40\n",
      "INFO:root:Number parameters active: 40\n"
     ]
    },
    {
     "name": "stdout",
     "output_type": "stream",
     "text": [
      "Training time: 1.1840927600860596\n",
      "Target expression: None\n",
      "Relative l_2-distance train: 0.022271135240979786\n",
      "Relative l_2-distance validation: 0.02310070459007912\n",
      "##### Training #####\n",
      "Number parameters: 40\n",
      "Number parameters active: 40\n"
     ]
    },
    {
     "name": "stderr",
     "output_type": "stream",
     "text": [
      "INFO:root:Number of evaluations: 3932\n",
      "INFO:root:Relative l2 distance train: 0.00937179149041912\n",
      "INFO:root:Relative l2 distance validation: 0.01089829477176194\n",
      "INFO:root:Training time: 2.143308401107788\n",
      "INFO:root:Cumulative training time: 7.29413366317749\n",
      "INFO:root:Cumulative number of evaluations: 14818\n",
      "INFO:root:Model parameters: {'degree_input_polynomials': 0, 'degree_output_polynomials': 4, 'degree_output_denominator': 1, 'degree_input_denominator': 0, 'functions': [], 'function_names': [], 'width': 1, 'degree_output_polynomials_specific': None, 'degree_output_polynomials_denominator_specific': None, 'enforce_function': False, 'maximal_potence': 3}\n",
      "INFO:root:Number parameters: 71\n",
      "INFO:root:Number parameters active: 71\n"
     ]
    },
    {
     "name": "stdout",
     "output_type": "stream",
     "text": [
      "Training time: 2.143308401107788\n",
      "Target expression: None\n",
      "Relative l_2-distance train: 0.00937179149041912\n",
      "Relative l_2-distance validation: 0.01089829477176194\n",
      "##### Training #####\n",
      "Number parameters: 71\n",
      "Number parameters active: 71\n"
     ]
    },
    {
     "name": "stderr",
     "output_type": "stream",
     "text": [
      "INFO:root:Number of evaluations: 4159\n",
      "INFO:root:Relative l2 distance train: 0.0014949643709420378\n",
      "INFO:root:Relative l2 distance validation: 0.002821844529561299\n",
      "INFO:root:Training time: 3.1645727157592773\n",
      "INFO:root:Cumulative training time: 10.463565826416016\n",
      "INFO:root:Cumulative number of evaluations: 18977\n",
      "INFO:root:New best relative l2 distance validation: 0.002821844529561299\n",
      "INFO:root:Model parameters: {'degree_input_polynomials': 0, 'degree_output_polynomials': 1, 'degree_output_denominator': 2, 'degree_input_denominator': 0, 'functions': [], 'function_names': [], 'width': 1, 'degree_output_polynomials_specific': None, 'degree_output_polynomials_denominator_specific': None, 'enforce_function': False, 'maximal_potence': 3}\n",
      "INFO:root:Number parameters: 20\n",
      "INFO:root:Number parameters active: 20\n"
     ]
    },
    {
     "name": "stdout",
     "output_type": "stream",
     "text": [
      "Training time: 3.1645727157592773\n",
      "Target expression: None\n",
      "Relative l_2-distance train: 0.0014949643709420378\n",
      "Relative l_2-distance validation: 0.002821844529561299\n",
      "##### Training #####\n",
      "Number parameters: 20\n",
      "Number parameters active: 20\n"
     ]
    },
    {
     "name": "stderr",
     "output_type": "stream",
     "text": [
      "INFO:root:Number of evaluations: 4531\n",
      "INFO:root:Relative l2 distance train: 0.055571229157699915\n",
      "INFO:root:Relative l2 distance validation: 0.052855604558449246\n",
      "INFO:root:Training time: 1.888108253479004\n",
      "INFO:root:Cumulative training time: 12.35355544090271\n",
      "INFO:root:Cumulative number of evaluations: 23508\n",
      "INFO:root:Model parameters: {'degree_input_polynomials': 0, 'degree_output_polynomials': 2, 'degree_output_denominator': 2, 'degree_input_denominator': 0, 'functions': [], 'function_names': [], 'width': 1, 'degree_output_polynomials_specific': None, 'degree_output_polynomials_denominator_specific': None, 'enforce_function': False, 'maximal_potence': 3}\n",
      "INFO:root:Number parameters: 30\n",
      "INFO:root:Number parameters active: 30\n"
     ]
    },
    {
     "name": "stdout",
     "output_type": "stream",
     "text": [
      "Training time: 1.888108253479004\n",
      "Target expression: None\n",
      "Relative l_2-distance train: 0.055571229157699915\n",
      "Relative l_2-distance validation: 0.052855604558449246\n",
      "##### Training #####\n",
      "Number parameters: 30\n",
      "Number parameters active: 30\n"
     ]
    },
    {
     "name": "stderr",
     "output_type": "stream",
     "text": [
      "INFO:root:Number of evaluations: 3998\n",
      "INFO:root:Relative l2 distance train: 0.016964628312630015\n",
      "INFO:root:Relative l2 distance validation: 0.01795901247099571\n",
      "INFO:root:Training time: 1.7909150123596191\n",
      "INFO:root:Cumulative training time: 14.146747827529907\n",
      "INFO:root:Cumulative number of evaluations: 27506\n",
      "INFO:root:Model parameters: {'degree_input_polynomials': 0, 'degree_output_polynomials': 3, 'degree_output_denominator': 2, 'degree_input_denominator': 0, 'functions': [], 'function_names': [], 'width': 1, 'degree_output_polynomials_specific': None, 'degree_output_polynomials_denominator_specific': None, 'enforce_function': False, 'maximal_potence': 3}\n",
      "INFO:root:Number parameters: 50\n",
      "INFO:root:Number parameters active: 50\n"
     ]
    },
    {
     "name": "stdout",
     "output_type": "stream",
     "text": [
      "Training time: 1.7909150123596191\n",
      "Target expression: None\n",
      "Relative l_2-distance train: 0.016964628312630015\n",
      "Relative l_2-distance validation: 0.01795901247099571\n",
      "##### Training #####\n",
      "Number parameters: 50\n",
      "Number parameters active: 50\n"
     ]
    },
    {
     "name": "stderr",
     "output_type": "stream",
     "text": [
      "INFO:root:Number of evaluations: 4426\n",
      "INFO:root:Relative l2 distance train: 0.0030946418680602022\n",
      "INFO:root:Relative l2 distance validation: 0.005039512663853945\n",
      "INFO:root:Training time: 2.9454658031463623\n",
      "INFO:root:Cumulative training time: 17.095618963241577\n",
      "INFO:root:Cumulative number of evaluations: 31932\n",
      "INFO:root:Model parameters: {'degree_input_polynomials': 0, 'degree_output_polynomials': 4, 'degree_output_denominator': 2, 'degree_input_denominator': 0, 'functions': [], 'function_names': [], 'width': 1, 'degree_output_polynomials_specific': None, 'degree_output_polynomials_denominator_specific': None, 'enforce_function': False, 'maximal_potence': 3}\n",
      "INFO:root:Number parameters: 81\n",
      "INFO:root:Number parameters active: 81\n"
     ]
    },
    {
     "name": "stdout",
     "output_type": "stream",
     "text": [
      "Training time: 2.9454658031463623\n",
      "Target expression: None\n",
      "Relative l_2-distance train: 0.0030946418680602022\n",
      "Relative l_2-distance validation: 0.005039512663853945\n",
      "##### Training #####\n",
      "Number parameters: 81\n",
      "Number parameters active: 81\n"
     ]
    },
    {
     "name": "stderr",
     "output_type": "stream",
     "text": [
      "INFO:root:Number of evaluations: 4286\n",
      "INFO:root:Relative l2 distance train: 0.004407325891034844\n",
      "INFO:root:Relative l2 distance validation: 0.01842472666638459\n",
      "INFO:root:Training time: 3.6724538803100586\n",
      "INFO:root:Cumulative training time: 20.773215293884277\n",
      "INFO:root:Cumulative number of evaluations: 36218\n",
      "INFO:root:Model parameters: {'degree_input_polynomials': 0, 'degree_output_polynomials': 1, 'degree_output_denominator': 3, 'degree_input_denominator': 0, 'functions': [], 'function_names': [], 'width': 1, 'degree_output_polynomials_specific': None, 'degree_output_polynomials_denominator_specific': None, 'enforce_function': False, 'maximal_potence': 3}\n",
      "INFO:root:Number parameters: 40\n",
      "INFO:root:Number parameters active: 40\n"
     ]
    },
    {
     "name": "stdout",
     "output_type": "stream",
     "text": [
      "Training time: 3.6724538803100586\n",
      "Target expression: None\n",
      "Relative l_2-distance train: 0.004407325891034844\n",
      "Relative l_2-distance validation: 0.01842472666638459\n",
      "##### Training #####\n",
      "Number parameters: 40\n",
      "Number parameters active: 40\n"
     ]
    },
    {
     "name": "stderr",
     "output_type": "stream",
     "text": [
      "INFO:root:Number of evaluations: 5255\n",
      "INFO:root:Relative l2 distance train: 0.08231378060510092\n",
      "INFO:root:Relative l2 distance validation: 0.2727775416316353\n",
      "INFO:root:Training time: 2.8937509059906006\n",
      "INFO:root:Cumulative training time: 23.669849634170532\n",
      "INFO:root:Cumulative number of evaluations: 41473\n",
      "INFO:root:Model parameters: {'degree_input_polynomials': 0, 'degree_output_polynomials': 2, 'degree_output_denominator': 3, 'degree_input_denominator': 0, 'functions': [], 'function_names': [], 'width': 1, 'degree_output_polynomials_specific': None, 'degree_output_polynomials_denominator_specific': None, 'enforce_function': False, 'maximal_potence': 3}\n",
      "INFO:root:Number parameters: 50\n",
      "INFO:root:Number parameters active: 50\n"
     ]
    },
    {
     "name": "stdout",
     "output_type": "stream",
     "text": [
      "Training time: 2.8937509059906006\n",
      "Target expression: None\n",
      "Relative l_2-distance train: 0.08231378060510092\n",
      "Relative l_2-distance validation: 0.2727775416316353\n",
      "##### Training #####\n",
      "Number parameters: 50\n",
      "Number parameters active: 50\n"
     ]
    },
    {
     "name": "stderr",
     "output_type": "stream",
     "text": [
      "INFO:root:Number of evaluations: 5094\n",
      "INFO:root:Relative l2 distance train: 0.03891131324960259\n",
      "INFO:root:Relative l2 distance validation: 0.17120852251286772\n",
      "INFO:root:Training time: 3.660076856613159\n",
      "INFO:root:Cumulative training time: 27.333292961120605\n",
      "INFO:root:Cumulative number of evaluations: 46567\n",
      "INFO:root:Model parameters: {'degree_input_polynomials': 0, 'degree_output_polynomials': 3, 'degree_output_denominator': 3, 'degree_input_denominator': 0, 'functions': [], 'function_names': [], 'width': 1, 'degree_output_polynomials_specific': None, 'degree_output_polynomials_denominator_specific': None, 'enforce_function': False, 'maximal_potence': 3}\n",
      "INFO:root:Number parameters: 70\n",
      "INFO:root:Number parameters active: 70\n"
     ]
    },
    {
     "name": "stdout",
     "output_type": "stream",
     "text": [
      "Training time: 3.660076856613159\n",
      "Target expression: None\n",
      "Relative l_2-distance train: 0.03891131324960259\n",
      "Relative l_2-distance validation: 0.17120852251286772\n",
      "##### Training #####\n",
      "Number parameters: 70\n",
      "Number parameters active: 70\n"
     ]
    },
    {
     "name": "stderr",
     "output_type": "stream",
     "text": [
      "INFO:root:Number of evaluations: 5108\n",
      "INFO:root:Relative l2 distance train: 0.022461869100168008\n",
      "INFO:root:Relative l2 distance validation: 0.03255393537415464\n",
      "INFO:root:Training time: 4.210792779922485\n",
      "INFO:root:Cumulative training time: 31.54833960533142\n",
      "INFO:root:Cumulative number of evaluations: 51675\n",
      "INFO:root:Model parameters: {'degree_input_polynomials': 0, 'degree_output_polynomials': 4, 'degree_output_denominator': 3, 'degree_input_denominator': 0, 'functions': [], 'function_names': [], 'width': 1, 'degree_output_polynomials_specific': None, 'degree_output_polynomials_denominator_specific': None, 'enforce_function': False, 'maximal_potence': 3}\n",
      "INFO:root:Number parameters: 101\n",
      "INFO:root:Number parameters active: 101\n"
     ]
    },
    {
     "name": "stdout",
     "output_type": "stream",
     "text": [
      "Training time: 4.210792779922485\n",
      "Target expression: None\n",
      "Relative l_2-distance train: 0.022461869100168008\n",
      "Relative l_2-distance validation: 0.03255393537415464\n",
      "##### Training #####\n",
      "Number parameters: 101\n",
      "Number parameters active: 101\n"
     ]
    },
    {
     "name": "stderr",
     "output_type": "stream",
     "text": [
      "INFO:root:Number of evaluations: 4739\n",
      "INFO:root:Relative l2 distance train: 0.001495305131702687\n",
      "INFO:root:Relative l2 distance validation: 0.0022583414890591127\n",
      "INFO:root:Training time: 4.627608299255371\n",
      "INFO:root:Cumulative training time: 36.18215823173523\n",
      "INFO:root:Cumulative number of evaluations: 56414\n",
      "INFO:root:New best relative l2 distance validation: 0.0022583414890591127\n",
      "INFO:root:Model parameters: {'degree_input_polynomials': 1, 'degree_output_polynomials': 1, 'functions': ['sqrt'], 'function_names': ['sqrt'], 'width': 1, 'degree_input_denominator': 0, 'degree_output_denominator': 0, 'degree_output_polynomials_specific': [1], 'degree_output_polynomials_denominator_specific': [1], 'enforce_function': False, 'maximal_potence': 3}\n",
      "INFO:root:Number parameters: 11\n",
      "INFO:root:Number parameters active: 11\n"
     ]
    },
    {
     "name": "stdout",
     "output_type": "stream",
     "text": [
      "Training time: 4.627608299255371\n",
      "Target expression: None\n",
      "Relative l_2-distance train: 0.001495305131702687\n",
      "Relative l_2-distance validation: 0.0022583414890591127\n",
      "##### Training #####\n",
      "Number parameters: 11\n",
      "Number parameters active: 11\n"
     ]
    },
    {
     "name": "stderr",
     "output_type": "stream",
     "text": [
      "INFO:root:Number of evaluations: 1232\n",
      "INFO:root:Relative l2 distance train: 0.17500446121820853\n",
      "INFO:root:Relative l2 distance validation: 0.1652432434640407\n",
      "INFO:root:Training time: 0.5799524784088135\n",
      "INFO:root:Cumulative training time: 36.76374053955078\n",
      "INFO:root:Cumulative number of evaluations: 57646\n",
      "INFO:root:Model parameters: {'degree_input_polynomials': 1, 'degree_output_polynomials': 1, 'functions': ['sqrt'], 'function_names': ['sqrt'], 'width': 1, 'degree_input_denominator': 0, 'degree_output_denominator': 0, 'degree_output_polynomials_specific': [1], 'degree_output_polynomials_denominator_specific': [1], 'enforce_function': True, 'maximal_potence': 3}\n",
      "INFO:root:Number parameters: 6\n",
      "INFO:root:Number parameters active: 6\n"
     ]
    },
    {
     "name": "stdout",
     "output_type": "stream",
     "text": [
      "Training time: 0.5799524784088135\n",
      "Target expression: None\n",
      "Relative l_2-distance train: 0.17500446121820853\n",
      "Relative l_2-distance validation: 0.1652432434640407\n",
      "##### Training #####\n",
      "Number parameters: 6\n",
      "Number parameters active: 6\n"
     ]
    },
    {
     "name": "stderr",
     "output_type": "stream",
     "text": [
      "INFO:root:Number of evaluations: 1002\n",
      "INFO:root:Relative l2 distance train: 0.3392887576359784\n",
      "INFO:root:Relative l2 distance validation: 0.35252390268263006\n",
      "INFO:root:Training time: 0.4235038757324219\n",
      "INFO:root:Cumulative training time: 37.18880581855774\n",
      "INFO:root:Cumulative number of evaluations: 58648\n",
      "INFO:root:Model parameters: {'degree_input_polynomials': 1, 'degree_output_polynomials': 1, 'functions': ['cos'], 'function_names': ['cos'], 'width': 1, 'degree_input_denominator': 0, 'degree_output_denominator': 0, 'degree_output_polynomials_specific': [1], 'degree_output_polynomials_denominator_specific': [1], 'enforce_function': False, 'maximal_potence': 3}\n",
      "INFO:root:Number parameters: 11\n",
      "INFO:root:Number parameters active: 11\n"
     ]
    },
    {
     "name": "stdout",
     "output_type": "stream",
     "text": [
      "Training time: 0.4235038757324219\n",
      "Target expression: None\n",
      "Relative l_2-distance train: 0.3392887576359784\n",
      "Relative l_2-distance validation: 0.35252390268263006\n",
      "##### Training #####\n",
      "Number parameters: 11\n",
      "Number parameters active: 11\n"
     ]
    },
    {
     "name": "stderr",
     "output_type": "stream",
     "text": [
      "INFO:root:Number of evaluations: 1260\n",
      "INFO:root:Relative l2 distance train: 0.14311937772781627\n",
      "INFO:root:Relative l2 distance validation: 0.13051602580693394\n",
      "INFO:root:Training time: 0.5834658145904541\n",
      "INFO:root:Cumulative training time: 37.774004220962524\n",
      "INFO:root:Cumulative number of evaluations: 59908\n",
      "INFO:root:Model parameters: {'degree_input_polynomials': 1, 'degree_output_polynomials': 1, 'functions': ['cos'], 'function_names': ['cos'], 'width': 1, 'degree_input_denominator': 0, 'degree_output_denominator': 0, 'degree_output_polynomials_specific': [1], 'degree_output_polynomials_denominator_specific': [1], 'enforce_function': True, 'maximal_potence': 3}\n",
      "INFO:root:Number parameters: 6\n",
      "INFO:root:Number parameters active: 6\n"
     ]
    },
    {
     "name": "stdout",
     "output_type": "stream",
     "text": [
      "Training time: 0.5834658145904541\n",
      "Target expression: None\n",
      "Relative l_2-distance train: 0.14311937772781627\n",
      "Relative l_2-distance validation: 0.13051602580693394\n",
      "##### Training #####\n",
      "Number parameters: 6\n",
      "Number parameters active: 6\n"
     ]
    },
    {
     "name": "stderr",
     "output_type": "stream",
     "text": [
      "INFO:root:Number of evaluations: 716\n",
      "INFO:root:Relative l2 distance train: 2.7606375257548526\n",
      "INFO:root:Relative l2 distance validation: 2.6923892106690634\n",
      "INFO:root:Training time: 0.3025243282318115\n",
      "INFO:root:Cumulative training time: 38.078083515167236\n",
      "INFO:root:Cumulative number of evaluations: 60624\n",
      "INFO:root:Model parameters: {'degree_input_polynomials': 1, 'degree_output_polynomials': 1, 'functions': ['exp'], 'function_names': ['exp'], 'width': 1, 'degree_input_denominator': 0, 'degree_output_denominator': 0, 'degree_output_polynomials_specific': [1], 'degree_output_polynomials_denominator_specific': [1], 'enforce_function': False, 'maximal_potence': 3}\n",
      "INFO:root:Number parameters: 11\n",
      "INFO:root:Number parameters active: 11\n"
     ]
    },
    {
     "name": "stdout",
     "output_type": "stream",
     "text": [
      "Training time: 0.3025243282318115\n",
      "Target expression: None\n",
      "Relative l_2-distance train: 2.7606375257548526\n",
      "Relative l_2-distance validation: 2.6923892106690634\n",
      "##### Training #####\n",
      "Number parameters: 11\n",
      "Number parameters active: 11\n"
     ]
    },
    {
     "name": "stderr",
     "output_type": "stream",
     "text": [
      "INFO:root:Number of evaluations: 1245\n",
      "INFO:root:Relative l2 distance train: 0.14468964074456217\n",
      "INFO:root:Relative l2 distance validation: 0.12531563141426094\n",
      "INFO:root:Training time: 0.6385219097137451\n",
      "INFO:root:Cumulative training time: 38.71805715560913\n",
      "INFO:root:Cumulative number of evaluations: 61869\n",
      "INFO:root:Model parameters: {'degree_input_polynomials': 1, 'degree_output_polynomials': 1, 'functions': ['exp'], 'function_names': ['exp'], 'width': 1, 'degree_input_denominator': 0, 'degree_output_denominator': 0, 'degree_output_polynomials_specific': [1], 'degree_output_polynomials_denominator_specific': [1], 'enforce_function': True, 'maximal_potence': 3}\n",
      "INFO:root:Number parameters: 6\n",
      "INFO:root:Number parameters active: 6\n"
     ]
    },
    {
     "name": "stdout",
     "output_type": "stream",
     "text": [
      "Training time: 0.6385219097137451\n",
      "Target expression: None\n",
      "Relative l_2-distance train: 0.14468964074456217\n",
      "Relative l_2-distance validation: 0.12531563141426094\n",
      "##### Training #####\n",
      "Number parameters: 6\n",
      "Number parameters active: 6\n"
     ]
    },
    {
     "name": "stderr",
     "output_type": "stream",
     "text": [
      "INFO:root:Number of evaluations: 988\n",
      "INFO:root:Relative l2 distance train: 0.1734012904685096\n",
      "INFO:root:Relative l2 distance validation: 0.15055360914975927\n",
      "INFO:root:Training time: 0.450763463973999\n",
      "INFO:root:Cumulative training time: 39.17037010192871\n",
      "INFO:root:Cumulative number of evaluations: 62857\n",
      "INFO:root:Model parameters: {'degree_input_polynomials': 2, 'degree_output_polynomials': 1, 'functions': ['sqrt'], 'function_names': ['sqrt'], 'width': 1, 'degree_input_denominator': 0, 'degree_output_denominator': 0, 'degree_output_polynomials_specific': [1], 'degree_output_polynomials_denominator_specific': [1], 'enforce_function': False, 'maximal_potence': 3}\n",
      "INFO:root:Number parameters: 21\n",
      "INFO:root:Number parameters active: 21\n"
     ]
    },
    {
     "name": "stdout",
     "output_type": "stream",
     "text": [
      "Training time: 0.450763463973999\n",
      "Target expression: None\n",
      "Relative l_2-distance train: 0.1734012904685096\n",
      "Relative l_2-distance validation: 0.15055360914975927\n",
      "##### Training #####\n",
      "Number parameters: 21\n",
      "Number parameters active: 21\n"
     ]
    },
    {
     "name": "stderr",
     "output_type": "stream",
     "text": [
      "INFO:root:Number of evaluations: 2241\n",
      "INFO:root:Relative l2 distance train: 0.046567999645406456\n",
      "INFO:root:Relative l2 distance validation: 0.053232226247535\n",
      "INFO:root:Training time: 1.093198537826538\n",
      "INFO:root:Cumulative training time: 40.265602111816406\n",
      "INFO:root:Cumulative number of evaluations: 65098\n",
      "INFO:root:Model parameters: {'degree_input_polynomials': 2, 'degree_output_polynomials': 1, 'functions': ['sqrt'], 'function_names': ['sqrt'], 'width': 1, 'degree_input_denominator': 0, 'degree_output_denominator': 0, 'degree_output_polynomials_specific': [1], 'degree_output_polynomials_denominator_specific': [1], 'enforce_function': True, 'maximal_potence': 3}\n",
      "INFO:root:Number parameters: 16\n",
      "INFO:root:Number parameters active: 16\n"
     ]
    },
    {
     "name": "stdout",
     "output_type": "stream",
     "text": [
      "Training time: 1.093198537826538\n",
      "Target expression: None\n",
      "Relative l_2-distance train: 0.046567999645406456\n",
      "Relative l_2-distance validation: 0.053232226247535\n",
      "##### Training #####\n",
      "Number parameters: 16\n",
      "Number parameters active: 16\n"
     ]
    },
    {
     "name": "stderr",
     "output_type": "stream",
     "text": [
      "INFO:root:Number of evaluations: 2163\n",
      "INFO:root:Relative l2 distance train: 0.1408765653665603\n",
      "INFO:root:Relative l2 distance validation: 0.18108611701455513\n",
      "INFO:root:Training time: 0.9072167873382568\n",
      "INFO:root:Cumulative training time: 41.174686908721924\n",
      "INFO:root:Cumulative number of evaluations: 67261\n",
      "INFO:root:Model parameters: {'degree_input_polynomials': 2, 'degree_output_polynomials': 1, 'functions': ['cos'], 'function_names': ['cos'], 'width': 1, 'degree_input_denominator': 0, 'degree_output_denominator': 0, 'degree_output_polynomials_specific': [1], 'degree_output_polynomials_denominator_specific': [1], 'enforce_function': False, 'maximal_potence': 3}\n",
      "INFO:root:Number parameters: 21\n",
      "INFO:root:Number parameters active: 21\n"
     ]
    },
    {
     "name": "stdout",
     "output_type": "stream",
     "text": [
      "Training time: 0.9072167873382568\n",
      "Target expression: None\n",
      "Relative l_2-distance train: 0.1408765653665603\n",
      "Relative l_2-distance validation: 0.18108611701455513\n",
      "##### Training #####\n",
      "Number parameters: 21\n",
      "Number parameters active: 21\n"
     ]
    },
    {
     "name": "stderr",
     "output_type": "stream",
     "text": [
      "INFO:root:Number of evaluations: 2054\n",
      "INFO:root:Relative l2 distance train: 0.18112700713906021\n",
      "INFO:root:Relative l2 distance validation: 0.17502421258550632\n",
      "INFO:root:Training time: 0.9813973903656006\n",
      "INFO:root:Cumulative training time: 42.15808844566345\n",
      "INFO:root:Cumulative number of evaluations: 69315\n",
      "INFO:root:Model parameters: {'degree_input_polynomials': 2, 'degree_output_polynomials': 1, 'functions': ['cos'], 'function_names': ['cos'], 'width': 1, 'degree_input_denominator': 0, 'degree_output_denominator': 0, 'degree_output_polynomials_specific': [1], 'degree_output_polynomials_denominator_specific': [1], 'enforce_function': True, 'maximal_potence': 3}\n",
      "INFO:root:Number parameters: 16\n",
      "INFO:root:Number parameters active: 16\n"
     ]
    },
    {
     "name": "stdout",
     "output_type": "stream",
     "text": [
      "Training time: 0.9813973903656006\n",
      "Target expression: None\n",
      "Relative l_2-distance train: 0.18112700713906021\n",
      "Relative l_2-distance validation: 0.17502421258550632\n",
      "##### Training #####\n",
      "Number parameters: 16\n",
      "Number parameters active: 16\n"
     ]
    },
    {
     "name": "stderr",
     "output_type": "stream",
     "text": [
      "INFO:root:Number of evaluations: 1807\n",
      "INFO:root:Relative l2 distance train: 2.619838881769492\n",
      "INFO:root:Relative l2 distance validation: 2.680333920730007\n",
      "INFO:root:Training time: 0.7559881210327148\n",
      "INFO:root:Cumulative training time: 42.9159779548645\n",
      "INFO:root:Cumulative number of evaluations: 71122\n",
      "INFO:root:Model parameters: {'degree_input_polynomials': 2, 'degree_output_polynomials': 1, 'functions': ['exp'], 'function_names': ['exp'], 'width': 1, 'degree_input_denominator': 0, 'degree_output_denominator': 0, 'degree_output_polynomials_specific': [1], 'degree_output_polynomials_denominator_specific': [1], 'enforce_function': False, 'maximal_potence': 3}\n",
      "INFO:root:Number parameters: 21\n",
      "INFO:root:Number parameters active: 21\n"
     ]
    },
    {
     "name": "stdout",
     "output_type": "stream",
     "text": [
      "Training time: 0.7559881210327148\n",
      "Target expression: None\n",
      "Relative l_2-distance train: 2.619838881769492\n",
      "Relative l_2-distance validation: 2.680333920730007\n",
      "##### Training #####\n",
      "Number parameters: 21\n",
      "Number parameters active: 21\n"
     ]
    },
    {
     "name": "stderr",
     "output_type": "stream",
     "text": [
      "INFO:root:Number of evaluations: 2492\n",
      "INFO:root:Relative l2 distance train: 0.1827910815811785\n",
      "INFO:root:Relative l2 distance validation: 0.1754486308259725\n",
      "INFO:root:Training time: 1.3188457489013672\n",
      "INFO:root:Cumulative training time: 44.23676824569702\n",
      "INFO:root:Cumulative number of evaluations: 73614\n",
      "INFO:root:Model parameters: {'degree_input_polynomials': 2, 'degree_output_polynomials': 1, 'functions': ['exp'], 'function_names': ['exp'], 'width': 1, 'degree_input_denominator': 0, 'degree_output_denominator': 0, 'degree_output_polynomials_specific': [1], 'degree_output_polynomials_denominator_specific': [1], 'enforce_function': True, 'maximal_potence': 3}\n",
      "INFO:root:Number parameters: 16\n",
      "INFO:root:Number parameters active: 16\n"
     ]
    },
    {
     "name": "stdout",
     "output_type": "stream",
     "text": [
      "Training time: 1.3188457489013672\n",
      "Target expression: None\n",
      "Relative l_2-distance train: 0.1827910815811785\n",
      "Relative l_2-distance validation: 0.1754486308259725\n",
      "##### Training #####\n",
      "Number parameters: 16\n",
      "Number parameters active: 16\n"
     ]
    },
    {
     "name": "stderr",
     "output_type": "stream",
     "text": [
      "INFO:root:Number of evaluations: 2026\n",
      "INFO:root:Relative l2 distance train: 0.041111072067966374\n",
      "INFO:root:Relative l2 distance validation: 0.03982159664063033\n",
      "INFO:root:Training time: 0.9443159103393555\n",
      "INFO:root:Cumulative training time: 45.18305420875549\n",
      "INFO:root:Cumulative number of evaluations: 75640\n",
      "INFO:root:Model parameters: {'degree_input_polynomials': 1, 'degree_output_polynomials': 1, 'functions': ['sqrt'], 'function_names': ['sqrt'], 'width': 1, 'degree_input_denominator': 1, 'degree_output_denominator': 0, 'degree_output_polynomials_specific': [1], 'degree_output_polynomials_denominator_specific': [1], 'enforce_function': False, 'maximal_potence': 3}\n",
      "INFO:root:Number parameters: 16\n",
      "INFO:root:Number parameters active: 16\n"
     ]
    },
    {
     "name": "stdout",
     "output_type": "stream",
     "text": [
      "Training time: 0.9443159103393555\n",
      "Target expression: None\n",
      "Relative l_2-distance train: 0.041111072067966374\n",
      "Relative l_2-distance validation: 0.03982159664063033\n",
      "##### Training #####\n",
      "Number parameters: 16\n",
      "Number parameters active: 16\n"
     ]
    },
    {
     "name": "stderr",
     "output_type": "stream",
     "text": [
      "INFO:root:Number of evaluations: 2741\n",
      "INFO:root:Relative l2 distance train: 0.09058738874325475\n",
      "INFO:root:Relative l2 distance validation: 0.09688020442951956\n",
      "INFO:root:Training time: 1.5817835330963135\n",
      "INFO:root:Cumulative training time: 46.76668882369995\n",
      "INFO:root:Cumulative number of evaluations: 78381\n",
      "INFO:root:Model parameters: {'degree_input_polynomials': 1, 'degree_output_polynomials': 1, 'functions': ['sqrt'], 'function_names': ['sqrt'], 'width': 1, 'degree_input_denominator': 1, 'degree_output_denominator': 0, 'degree_output_polynomials_specific': [1], 'degree_output_polynomials_denominator_specific': [1], 'enforce_function': True, 'maximal_potence': 3}\n",
      "INFO:root:Number parameters: 11\n",
      "INFO:root:Number parameters active: 11\n"
     ]
    },
    {
     "name": "stdout",
     "output_type": "stream",
     "text": [
      "Training time: 1.5817835330963135\n",
      "Target expression: None\n",
      "Relative l_2-distance train: 0.09058738874325475\n",
      "Relative l_2-distance validation: 0.09688020442951956\n",
      "##### Training #####\n",
      "Number parameters: 11\n",
      "Number parameters active: 11\n"
     ]
    },
    {
     "name": "stderr",
     "output_type": "stream",
     "text": [
      "INFO:root:Number of evaluations: 3934\n",
      "INFO:root:Relative l2 distance train: 0.15793362973689043\n",
      "INFO:root:Relative l2 distance validation: 0.13514706052250905\n",
      "INFO:root:Training time: 1.997920274734497\n",
      "INFO:root:Cumulative training time: 48.766382932662964\n",
      "INFO:root:Cumulative number of evaluations: 82315\n",
      "INFO:root:Model parameters: {'degree_input_polynomials': 1, 'degree_output_polynomials': 1, 'functions': ['cos'], 'function_names': ['cos'], 'width': 1, 'degree_input_denominator': 1, 'degree_output_denominator': 0, 'degree_output_polynomials_specific': [1], 'degree_output_polynomials_denominator_specific': [1], 'enforce_function': False, 'maximal_potence': 3}\n",
      "INFO:root:Number parameters: 16\n",
      "INFO:root:Number parameters active: 16\n"
     ]
    },
    {
     "name": "stdout",
     "output_type": "stream",
     "text": [
      "Training time: 1.997920274734497\n",
      "Target expression: None\n",
      "Relative l_2-distance train: 0.15793362973689043\n",
      "Relative l_2-distance validation: 0.13514706052250905\n",
      "##### Training #####\n",
      "Number parameters: 16\n",
      "Number parameters active: 16\n"
     ]
    },
    {
     "name": "stderr",
     "output_type": "stream",
     "text": [
      "INFO:root:Number of evaluations: 2858\n",
      "INFO:root:Relative l2 distance train: 0.09203654623936382\n",
      "INFO:root:Relative l2 distance validation: 0.1103735979094763\n",
      "INFO:root:Training time: 1.645829439163208\n",
      "INFO:root:Cumulative training time: 50.4142005443573\n",
      "INFO:root:Cumulative number of evaluations: 85173\n",
      "INFO:root:Model parameters: {'degree_input_polynomials': 1, 'degree_output_polynomials': 1, 'functions': ['cos'], 'function_names': ['cos'], 'width': 1, 'degree_input_denominator': 1, 'degree_output_denominator': 0, 'degree_output_polynomials_specific': [1], 'degree_output_polynomials_denominator_specific': [1], 'enforce_function': True, 'maximal_potence': 3}\n",
      "INFO:root:Number parameters: 11\n",
      "INFO:root:Number parameters active: 11\n"
     ]
    },
    {
     "name": "stdout",
     "output_type": "stream",
     "text": [
      "Training time: 1.645829439163208\n",
      "Target expression: None\n",
      "Relative l_2-distance train: 0.09203654623936382\n",
      "Relative l_2-distance validation: 0.1103735979094763\n",
      "##### Training #####\n",
      "Number parameters: 11\n",
      "Number parameters active: 11\n"
     ]
    },
    {
     "name": "stderr",
     "output_type": "stream",
     "text": [
      "INFO:root:Number of evaluations: 2677\n",
      "INFO:root:Relative l2 distance train: 1.380238519582754\n",
      "INFO:root:Relative l2 distance validation: 1.5207550739119384\n",
      "INFO:root:Training time: 1.353189468383789\n",
      "INFO:root:Cumulative training time: 51.76928997039795\n",
      "INFO:root:Cumulative number of evaluations: 87850\n",
      "INFO:root:Model parameters: {'degree_input_polynomials': 1, 'degree_output_polynomials': 1, 'functions': ['exp'], 'function_names': ['exp'], 'width': 1, 'degree_input_denominator': 1, 'degree_output_denominator': 0, 'degree_output_polynomials_specific': [1], 'degree_output_polynomials_denominator_specific': [1], 'enforce_function': False, 'maximal_potence': 3}\n",
      "INFO:root:Number parameters: 16\n",
      "INFO:root:Number parameters active: 16\n"
     ]
    },
    {
     "name": "stdout",
     "output_type": "stream",
     "text": [
      "Training time: 1.353189468383789\n",
      "Target expression: None\n",
      "Relative l_2-distance train: 1.380238519582754\n",
      "Relative l_2-distance validation: 1.5207550739119384\n",
      "##### Training #####\n",
      "Number parameters: 16\n",
      "Number parameters active: 16\n"
     ]
    },
    {
     "name": "stderr",
     "output_type": "stream",
     "text": [
      "INFO:root:Number of evaluations: 2413\n",
      "INFO:root:Relative l2 distance train: 0.07569868023240849\n",
      "INFO:root:Relative l2 distance validation: 0.08406052004637231\n",
      "INFO:root:Training time: 1.4738202095031738\n",
      "INFO:root:Cumulative training time: 53.2449951171875\n",
      "INFO:root:Cumulative number of evaluations: 90263\n",
      "INFO:root:Model parameters: {'degree_input_polynomials': 1, 'degree_output_polynomials': 1, 'functions': ['exp'], 'function_names': ['exp'], 'width': 1, 'degree_input_denominator': 1, 'degree_output_denominator': 0, 'degree_output_polynomials_specific': [1], 'degree_output_polynomials_denominator_specific': [1], 'enforce_function': True, 'maximal_potence': 3}\n",
      "INFO:root:Number parameters: 11\n",
      "INFO:root:Number parameters active: 11\n"
     ]
    },
    {
     "name": "stdout",
     "output_type": "stream",
     "text": [
      "Training time: 1.4738202095031738\n",
      "Target expression: None\n",
      "Relative l_2-distance train: 0.07569868023240849\n",
      "Relative l_2-distance validation: 0.08406052004637231\n",
      "##### Training #####\n",
      "Number parameters: 11\n",
      "Number parameters active: 11\n"
     ]
    },
    {
     "name": "stderr",
     "output_type": "stream",
     "text": [
      "INFO:root:Number of evaluations: 1909\n",
      "INFO:root:Relative l2 distance train: 0.1391071014697656\n",
      "INFO:root:Relative l2 distance validation: 0.12435098597039909\n",
      "INFO:root:Training time: 1.0613269805908203\n",
      "INFO:root:Cumulative training time: 54.30817461013794\n",
      "INFO:root:Cumulative number of evaluations: 92172\n",
      "INFO:root:Model parameters: {'degree_input_polynomials': 2, 'degree_output_polynomials': 1, 'functions': ['sqrt'], 'function_names': ['sqrt'], 'width': 1, 'degree_input_denominator': 1, 'degree_output_denominator': 0, 'degree_output_polynomials_specific': [1], 'degree_output_polynomials_denominator_specific': [1], 'enforce_function': False, 'maximal_potence': 3}\n",
      "INFO:root:Number parameters: 26\n",
      "INFO:root:Number parameters active: 26\n"
     ]
    },
    {
     "name": "stdout",
     "output_type": "stream",
     "text": [
      "Training time: 1.0613269805908203\n",
      "Target expression: None\n",
      "Relative l_2-distance train: 0.1391071014697656\n",
      "Relative l_2-distance validation: 0.12435098597039909\n",
      "##### Training #####\n",
      "Number parameters: 26\n",
      "Number parameters active: 26\n"
     ]
    },
    {
     "name": "stderr",
     "output_type": "stream",
     "text": [
      "INFO:root:Number of evaluations: 2569\n",
      "INFO:root:Relative l2 distance train: 0.1568614786088103\n",
      "INFO:root:Relative l2 distance validation: 0.16835490956744187\n",
      "INFO:root:Training time: 1.4937770366668701\n",
      "INFO:root:Cumulative training time: 55.80400061607361\n",
      "INFO:root:Cumulative number of evaluations: 94741\n",
      "INFO:root:Model parameters: {'degree_input_polynomials': 2, 'degree_output_polynomials': 1, 'functions': ['sqrt'], 'function_names': ['sqrt'], 'width': 1, 'degree_input_denominator': 1, 'degree_output_denominator': 0, 'degree_output_polynomials_specific': [1], 'degree_output_polynomials_denominator_specific': [1], 'enforce_function': True, 'maximal_potence': 3}\n",
      "INFO:root:Number parameters: 21\n",
      "INFO:root:Number parameters active: 21\n"
     ]
    },
    {
     "name": "stdout",
     "output_type": "stream",
     "text": [
      "Training time: 1.4937770366668701\n",
      "Target expression: None\n",
      "Relative l_2-distance train: 0.1568614786088103\n",
      "Relative l_2-distance validation: 0.16835490956744187\n",
      "##### Training #####\n",
      "Number parameters: 21\n",
      "Number parameters active: 21\n"
     ]
    },
    {
     "name": "stderr",
     "output_type": "stream",
     "text": [
      "INFO:root:Number of evaluations: 3272\n",
      "INFO:root:Relative l2 distance train: 0.13791368562262774\n",
      "INFO:root:Relative l2 distance validation: 0.18030521221399975\n",
      "INFO:root:Training time: 1.708895206451416\n",
      "INFO:root:Cumulative training time: 57.51519775390625\n",
      "INFO:root:Cumulative number of evaluations: 98013\n",
      "INFO:root:Model parameters: {'degree_input_polynomials': 2, 'degree_output_polynomials': 1, 'functions': ['cos'], 'function_names': ['cos'], 'width': 1, 'degree_input_denominator': 1, 'degree_output_denominator': 0, 'degree_output_polynomials_specific': [1], 'degree_output_polynomials_denominator_specific': [1], 'enforce_function': False, 'maximal_potence': 3}\n",
      "INFO:root:Number parameters: 26\n",
      "INFO:root:Number parameters active: 26\n"
     ]
    },
    {
     "name": "stdout",
     "output_type": "stream",
     "text": [
      "Training time: 1.708895206451416\n",
      "Target expression: None\n",
      "Relative l_2-distance train: 0.13791368562262774\n",
      "Relative l_2-distance validation: 0.18030521221399975\n",
      "##### Training #####\n",
      "Number parameters: 26\n",
      "Number parameters active: 26\n"
     ]
    },
    {
     "name": "stderr",
     "output_type": "stream",
     "text": [
      "INFO:root:Number of evaluations: 2155\n",
      "INFO:root:Relative l2 distance train: 0.265092404180135\n",
      "INFO:root:Relative l2 distance validation: 0.2876214055004252\n",
      "INFO:root:Training time: 1.2257647514343262\n",
      "INFO:root:Cumulative training time: 58.743080139160156\n",
      "INFO:root:Cumulative number of evaluations: 100168\n",
      "INFO:root:Model parameters: {'degree_input_polynomials': 2, 'degree_output_polynomials': 1, 'functions': ['cos'], 'function_names': ['cos'], 'width': 1, 'degree_input_denominator': 1, 'degree_output_denominator': 0, 'degree_output_polynomials_specific': [1], 'degree_output_polynomials_denominator_specific': [1], 'enforce_function': True, 'maximal_potence': 3}\n",
      "INFO:root:Number parameters: 21\n",
      "INFO:root:Number parameters active: 21\n"
     ]
    },
    {
     "name": "stdout",
     "output_type": "stream",
     "text": [
      "Training time: 1.2257647514343262\n",
      "Target expression: None\n",
      "Relative l_2-distance train: 0.265092404180135\n",
      "Relative l_2-distance validation: 0.2876214055004252\n",
      "##### Training #####\n",
      "Number parameters: 21\n",
      "Number parameters active: 21\n"
     ]
    },
    {
     "name": "stderr",
     "output_type": "stream",
     "text": [
      "INFO:root:Number of evaluations: 2605\n",
      "INFO:root:Relative l2 distance train: 2.7234345892949374\n",
      "INFO:root:Relative l2 distance validation: 2.871033273903371\n",
      "INFO:root:Training time: 1.3309211730957031\n",
      "INFO:root:Cumulative training time: 60.07597470283508\n",
      "INFO:root:Cumulative number of evaluations: 102773\n",
      "INFO:root:Model parameters: {'degree_input_polynomials': 2, 'degree_output_polynomials': 1, 'functions': ['exp'], 'function_names': ['exp'], 'width': 1, 'degree_input_denominator': 1, 'degree_output_denominator': 0, 'degree_output_polynomials_specific': [1], 'degree_output_polynomials_denominator_specific': [1], 'enforce_function': False, 'maximal_potence': 3}\n",
      "INFO:root:Number parameters: 26\n",
      "INFO:root:Number parameters active: 26\n"
     ]
    },
    {
     "name": "stdout",
     "output_type": "stream",
     "text": [
      "Training time: 1.3309211730957031\n",
      "Target expression: None\n",
      "Relative l_2-distance train: 2.7234345892949374\n",
      "Relative l_2-distance validation: 2.871033273903371\n",
      "##### Training #####\n",
      "Number parameters: 26\n",
      "Number parameters active: 26\n"
     ]
    },
    {
     "name": "stderr",
     "output_type": "stream",
     "text": [
      "INFO:root:Number of evaluations: 908\n",
      "INFO:root:Relative l2 distance train: 0.18181747970445722\n",
      "INFO:root:Relative l2 distance validation: 0.1747793538052086\n",
      "INFO:root:Training time: 0.5523545742034912\n",
      "INFO:root:Cumulative training time: 60.630419969558716\n",
      "INFO:root:Cumulative number of evaluations: 103681\n",
      "INFO:root:Model parameters: {'degree_input_polynomials': 2, 'degree_output_polynomials': 1, 'functions': ['exp'], 'function_names': ['exp'], 'width': 1, 'degree_input_denominator': 1, 'degree_output_denominator': 0, 'degree_output_polynomials_specific': [1], 'degree_output_polynomials_denominator_specific': [1], 'enforce_function': True, 'maximal_potence': 3}\n",
      "INFO:root:Number parameters: 21\n",
      "INFO:root:Number parameters active: 21\n",
      "INFO:root:Number of evaluations: 47\n",
      "INFO:root:Relative l2 distance train: 128.93436698917904\n",
      "INFO:root:Relative l2 distance validation: 106.81550848714404\n",
      "INFO:root:Training time: 0.0210726261138916\n",
      "INFO:root:Cumulative training time: 60.653599977493286\n",
      "INFO:root:Cumulative number of evaluations: 103728\n",
      "INFO:root:Model parameters: {'degree_input_polynomials': 1, 'degree_output_polynomials': 1, 'functions': ['sqrt'], 'function_names': ['sqrt'], 'width': 1, 'degree_input_denominator': 2, 'degree_output_denominator': 0, 'degree_output_polynomials_specific': [1], 'degree_output_polynomials_denominator_specific': [1], 'enforce_function': False, 'maximal_potence': 3}\n",
      "INFO:root:Number parameters: 26\n",
      "INFO:root:Number parameters active: 26\n"
     ]
    },
    {
     "name": "stdout",
     "output_type": "stream",
     "text": [
      "Training time: 0.5523545742034912\n",
      "Target expression: None\n",
      "Relative l_2-distance train: 0.18181747970445722\n",
      "Relative l_2-distance validation: 0.1747793538052086\n",
      "##### Training #####\n",
      "Number parameters: 21\n",
      "Number parameters active: 21\n",
      "Training time: 0.0210726261138916\n",
      "Target expression: None\n",
      "Relative l_2-distance train: 128.93436698917904\n",
      "Relative l_2-distance validation: 106.81550848714404\n",
      "##### Training #####\n",
      "Number parameters: 26\n",
      "Number parameters active: 26\n"
     ]
    },
    {
     "name": "stderr",
     "output_type": "stream",
     "text": [
      "INFO:root:Number of evaluations: 3779\n",
      "INFO:root:Relative l2 distance train: 0.02723379414444421\n",
      "INFO:root:Relative l2 distance validation: 0.030622951513354972\n",
      "INFO:root:Training time: 2.221947193145752\n",
      "INFO:root:Cumulative training time: 62.8779501914978\n",
      "INFO:root:Cumulative number of evaluations: 107507\n",
      "INFO:root:Model parameters: {'degree_input_polynomials': 1, 'degree_output_polynomials': 1, 'functions': ['sqrt'], 'function_names': ['sqrt'], 'width': 1, 'degree_input_denominator': 2, 'degree_output_denominator': 0, 'degree_output_polynomials_specific': [1], 'degree_output_polynomials_denominator_specific': [1], 'enforce_function': True, 'maximal_potence': 3}\n",
      "INFO:root:Number parameters: 21\n",
      "INFO:root:Number parameters active: 21\n"
     ]
    },
    {
     "name": "stdout",
     "output_type": "stream",
     "text": [
      "Training time: 2.221947193145752\n",
      "Target expression: None\n",
      "Relative l_2-distance train: 0.02723379414444421\n",
      "Relative l_2-distance validation: 0.030622951513354972\n",
      "##### Training #####\n",
      "Number parameters: 21\n",
      "Number parameters active: 21\n"
     ]
    },
    {
     "name": "stderr",
     "output_type": "stream",
     "text": [
      "INFO:root:Number of evaluations: 4079\n",
      "INFO:root:Relative l2 distance train: 0.746996493253091\n",
      "INFO:root:Relative l2 distance validation: 1.3408442335496236\n",
      "INFO:root:Training time: 2.127295732498169\n",
      "INFO:root:Cumulative training time: 65.00751519203186\n",
      "INFO:root:Cumulative number of evaluations: 111586\n",
      "INFO:root:Model parameters: {'degree_input_polynomials': 1, 'degree_output_polynomials': 1, 'functions': ['cos'], 'function_names': ['cos'], 'width': 1, 'degree_input_denominator': 2, 'degree_output_denominator': 0, 'degree_output_polynomials_specific': [1], 'degree_output_polynomials_denominator_specific': [1], 'enforce_function': False, 'maximal_potence': 3}\n",
      "INFO:root:Number parameters: 26\n",
      "INFO:root:Number parameters active: 26\n"
     ]
    },
    {
     "name": "stdout",
     "output_type": "stream",
     "text": [
      "Training time: 2.127295732498169\n",
      "Target expression: None\n",
      "Relative l_2-distance train: 0.746996493253091\n",
      "Relative l_2-distance validation: 1.3408442335496236\n",
      "##### Training #####\n",
      "Number parameters: 26\n",
      "Number parameters active: 26\n"
     ]
    },
    {
     "name": "stderr",
     "output_type": "stream",
     "text": [
      "INFO:root:Number of evaluations: 4174\n",
      "INFO:root:Relative l2 distance train: 0.04844385306619434\n",
      "INFO:root:Relative l2 distance validation: 0.19264931350903075\n",
      "INFO:root:Training time: 2.432591199874878\n",
      "INFO:root:Cumulative training time: 67.44229173660278\n",
      "INFO:root:Cumulative number of evaluations: 115760\n",
      "INFO:root:Model parameters: {'degree_input_polynomials': 1, 'degree_output_polynomials': 1, 'functions': ['cos'], 'function_names': ['cos'], 'width': 1, 'degree_input_denominator': 2, 'degree_output_denominator': 0, 'degree_output_polynomials_specific': [1], 'degree_output_polynomials_denominator_specific': [1], 'enforce_function': True, 'maximal_potence': 3}\n",
      "INFO:root:Number parameters: 21\n",
      "INFO:root:Number parameters active: 21\n"
     ]
    },
    {
     "name": "stdout",
     "output_type": "stream",
     "text": [
      "Training time: 2.432591199874878\n",
      "Target expression: None\n",
      "Relative l_2-distance train: 0.04844385306619434\n",
      "Relative l_2-distance validation: 0.19264931350903075\n",
      "##### Training #####\n",
      "Number parameters: 21\n",
      "Number parameters active: 21\n"
     ]
    },
    {
     "name": "stderr",
     "output_type": "stream",
     "text": [
      "INFO:root:Number of evaluations: 3335\n",
      "INFO:root:Relative l2 distance train: 0.9546978640715017\n",
      "INFO:root:Relative l2 distance validation: 1.3821408827612718\n",
      "INFO:root:Training time: 1.7205862998962402\n",
      "INFO:root:Cumulative training time: 69.16506600379944\n",
      "INFO:root:Cumulative number of evaluations: 119095\n",
      "INFO:root:Model parameters: {'degree_input_polynomials': 1, 'degree_output_polynomials': 1, 'functions': ['exp'], 'function_names': ['exp'], 'width': 1, 'degree_input_denominator': 2, 'degree_output_denominator': 0, 'degree_output_polynomials_specific': [1], 'degree_output_polynomials_denominator_specific': [1], 'enforce_function': False, 'maximal_potence': 3}\n",
      "INFO:root:Number parameters: 26\n",
      "INFO:root:Number parameters active: 26\n"
     ]
    },
    {
     "name": "stdout",
     "output_type": "stream",
     "text": [
      "Training time: 1.7205862998962402\n",
      "Target expression: None\n",
      "Relative l_2-distance train: 0.9546978640715017\n",
      "Relative l_2-distance validation: 1.3821408827612718\n",
      "##### Training #####\n",
      "Number parameters: 26\n",
      "Number parameters active: 26\n"
     ]
    },
    {
     "name": "stderr",
     "output_type": "stream",
     "text": [
      "INFO:root:Number of evaluations: 3191\n",
      "INFO:root:Relative l2 distance train: 0.7307338045115238\n",
      "INFO:root:Relative l2 distance validation: 0.7024169098247253\n",
      "INFO:root:Training time: 2.0286874771118164\n",
      "INFO:root:Cumulative training time: 71.19575786590576\n",
      "INFO:root:Cumulative number of evaluations: 122286\n",
      "INFO:root:Model parameters: {'degree_input_polynomials': 1, 'degree_output_polynomials': 1, 'functions': ['exp'], 'function_names': ['exp'], 'width': 1, 'degree_input_denominator': 2, 'degree_output_denominator': 0, 'degree_output_polynomials_specific': [1], 'degree_output_polynomials_denominator_specific': [1], 'enforce_function': True, 'maximal_potence': 3}\n",
      "INFO:root:Number parameters: 21\n",
      "INFO:root:Number parameters active: 21\n"
     ]
    },
    {
     "name": "stdout",
     "output_type": "stream",
     "text": [
      "Training time: 2.0286874771118164\n",
      "Target expression: None\n",
      "Relative l_2-distance train: 0.7307338045115238\n",
      "Relative l_2-distance validation: 0.7024169098247253\n",
      "##### Training #####\n",
      "Number parameters: 21\n",
      "Number parameters active: 21\n"
     ]
    },
    {
     "name": "stderr",
     "output_type": "stream",
     "text": [
      "INFO:root:Number of evaluations: 3596\n",
      "INFO:root:Relative l2 distance train: 2.777982910302428\n",
      "INFO:root:Relative l2 distance validation: 2.6948262334269937\n",
      "INFO:root:Training time: 2.0585508346557617\n",
      "INFO:root:Cumulative training time: 73.25646996498108\n",
      "INFO:root:Cumulative number of evaluations: 125882\n",
      "INFO:root:Model parameters: {'degree_input_polynomials': 2, 'degree_output_polynomials': 1, 'functions': ['sqrt'], 'function_names': ['sqrt'], 'width': 1, 'degree_input_denominator': 2, 'degree_output_denominator': 0, 'degree_output_polynomials_specific': [1], 'degree_output_polynomials_denominator_specific': [1], 'enforce_function': False, 'maximal_potence': 3}\n",
      "INFO:root:Number parameters: 36\n",
      "INFO:root:Number parameters active: 36\n"
     ]
    },
    {
     "name": "stdout",
     "output_type": "stream",
     "text": [
      "Training time: 2.0585508346557617\n",
      "Target expression: None\n",
      "Relative l_2-distance train: 2.777982910302428\n",
      "Relative l_2-distance validation: 2.6948262334269937\n",
      "##### Training #####\n",
      "Number parameters: 36\n",
      "Number parameters active: 36\n"
     ]
    },
    {
     "name": "stderr",
     "output_type": "stream",
     "text": [
      "INFO:root:Number of evaluations: 4630\n",
      "INFO:root:Relative l2 distance train: 0.025091384806009313\n",
      "INFO:root:Relative l2 distance validation: 0.024427643622541725\n",
      "INFO:root:Training time: 2.7720251083374023\n",
      "INFO:root:Cumulative training time: 76.0308883190155\n",
      "INFO:root:Cumulative number of evaluations: 130512\n",
      "INFO:root:Model parameters: {'degree_input_polynomials': 2, 'degree_output_polynomials': 1, 'functions': ['sqrt'], 'function_names': ['sqrt'], 'width': 1, 'degree_input_denominator': 2, 'degree_output_denominator': 0, 'degree_output_polynomials_specific': [1], 'degree_output_polynomials_denominator_specific': [1], 'enforce_function': True, 'maximal_potence': 3}\n",
      "INFO:root:Number parameters: 31\n",
      "INFO:root:Number parameters active: 31\n"
     ]
    },
    {
     "name": "stdout",
     "output_type": "stream",
     "text": [
      "Training time: 2.7720251083374023\n",
      "Target expression: None\n",
      "Relative l_2-distance train: 0.025091384806009313\n",
      "Relative l_2-distance validation: 0.024427643622541725\n",
      "##### Training #####\n",
      "Number parameters: 31\n",
      "Number parameters active: 31\n"
     ]
    },
    {
     "name": "stderr",
     "output_type": "stream",
     "text": [
      "INFO:root:Number of evaluations: 5287\n",
      "INFO:root:Relative l2 distance train: 0.5865125425608894\n",
      "INFO:root:Relative l2 distance validation: 0.4152942192447311\n",
      "INFO:root:Training time: 2.839946746826172\n",
      "INFO:root:Cumulative training time: 78.8730731010437\n",
      "INFO:root:Cumulative number of evaluations: 135799\n",
      "INFO:root:Model parameters: {'degree_input_polynomials': 2, 'degree_output_polynomials': 1, 'functions': ['cos'], 'function_names': ['cos'], 'width': 1, 'degree_input_denominator': 2, 'degree_output_denominator': 0, 'degree_output_polynomials_specific': [1], 'degree_output_polynomials_denominator_specific': [1], 'enforce_function': False, 'maximal_potence': 3}\n",
      "INFO:root:Number parameters: 36\n",
      "INFO:root:Number parameters active: 36\n"
     ]
    },
    {
     "name": "stdout",
     "output_type": "stream",
     "text": [
      "Training time: 2.839946746826172\n",
      "Target expression: None\n",
      "Relative l_2-distance train: 0.5865125425608894\n",
      "Relative l_2-distance validation: 0.4152942192447311\n",
      "##### Training #####\n",
      "Number parameters: 36\n",
      "Number parameters active: 36\n"
     ]
    },
    {
     "name": "stderr",
     "output_type": "stream",
     "text": [
      "INFO:root:Number of evaluations: 4208\n",
      "INFO:root:Relative l2 distance train: 0.028524428503353284\n",
      "INFO:root:Relative l2 distance validation: 0.03177562590551201\n",
      "INFO:root:Training time: 2.4884653091430664\n",
      "INFO:root:Cumulative training time: 81.36393928527832\n",
      "INFO:root:Cumulative number of evaluations: 140007\n",
      "INFO:root:Model parameters: {'degree_input_polynomials': 2, 'degree_output_polynomials': 1, 'functions': ['cos'], 'function_names': ['cos'], 'width': 1, 'degree_input_denominator': 2, 'degree_output_denominator': 0, 'degree_output_polynomials_specific': [1], 'degree_output_polynomials_denominator_specific': [1], 'enforce_function': True, 'maximal_potence': 3}\n",
      "INFO:root:Number parameters: 31\n",
      "INFO:root:Number parameters active: 31\n"
     ]
    },
    {
     "name": "stdout",
     "output_type": "stream",
     "text": [
      "Training time: 2.4884653091430664\n",
      "Target expression: None\n",
      "Relative l_2-distance train: 0.028524428503353284\n",
      "Relative l_2-distance validation: 0.03177562590551201\n",
      "##### Training #####\n",
      "Number parameters: 31\n",
      "Number parameters active: 31\n"
     ]
    },
    {
     "name": "stderr",
     "output_type": "stream",
     "text": [
      "INFO:root:Number of evaluations: 4146\n",
      "INFO:root:Relative l2 distance train: 2.702660595823449\n",
      "INFO:root:Relative l2 distance validation: 2.7073709065421583\n",
      "INFO:root:Training time: 2.1971662044525146\n",
      "INFO:root:Cumulative training time: 83.56333494186401\n",
      "INFO:root:Cumulative number of evaluations: 144153\n",
      "INFO:root:Model parameters: {'degree_input_polynomials': 2, 'degree_output_polynomials': 1, 'functions': ['exp'], 'function_names': ['exp'], 'width': 1, 'degree_input_denominator': 2, 'degree_output_denominator': 0, 'degree_output_polynomials_specific': [1], 'degree_output_polynomials_denominator_specific': [1], 'enforce_function': False, 'maximal_potence': 3}\n",
      "INFO:root:Number parameters: 36\n",
      "INFO:root:Number parameters active: 36\n"
     ]
    },
    {
     "name": "stdout",
     "output_type": "stream",
     "text": [
      "Training time: 2.1971662044525146\n",
      "Target expression: None\n",
      "Relative l_2-distance train: 2.702660595823449\n",
      "Relative l_2-distance validation: 2.7073709065421583\n",
      "##### Training #####\n",
      "Number parameters: 36\n",
      "Number parameters active: 36\n"
     ]
    },
    {
     "name": "stderr",
     "output_type": "stream",
     "text": [
      "INFO:root:Number of evaluations: 1259\n",
      "INFO:root:Relative l2 distance train: 1921.2119911331245\n",
      "INFO:root:Relative l2 distance validation: 1484.4719518660727\n",
      "INFO:root:Training time: 0.8043212890625\n",
      "INFO:root:Cumulative training time: 84.37007141113281\n",
      "INFO:root:Cumulative number of evaluations: 145412\n",
      "INFO:root:Model parameters: {'degree_input_polynomials': 2, 'degree_output_polynomials': 1, 'functions': ['exp'], 'function_names': ['exp'], 'width': 1, 'degree_input_denominator': 2, 'degree_output_denominator': 0, 'degree_output_polynomials_specific': [1], 'degree_output_polynomials_denominator_specific': [1], 'enforce_function': True, 'maximal_potence': 3}\n",
      "INFO:root:Number parameters: 31\n",
      "INFO:root:Number parameters active: 31\n"
     ]
    },
    {
     "name": "stdout",
     "output_type": "stream",
     "text": [
      "Training time: 0.8043212890625\n",
      "Target expression: None\n",
      "Relative l_2-distance train: 1921.2119911331245\n",
      "Relative l_2-distance validation: 1484.4719518660727\n",
      "##### Training #####\n",
      "Number parameters: 31\n",
      "Number parameters active: 31\n"
     ]
    },
    {
     "name": "stderr",
     "output_type": "stream",
     "text": [
      "INFO:root:Number of evaluations: 3322\n",
      "INFO:root:Relative l2 distance train: 0.01685649871377114\n",
      "INFO:root:Relative l2 distance validation: 0.01578434387046828\n",
      "INFO:root:Training time: 1.9217779636383057\n",
      "INFO:root:Cumulative training time: 86.29415583610535\n",
      "INFO:root:Cumulative number of evaluations: 148734\n",
      "INFO:root:Model parameters: {'degree_input_polynomials': 1, 'degree_output_polynomials': 2, 'functions': ['sqrt'], 'function_names': ['sqrt'], 'width': 1, 'degree_input_denominator': 0, 'degree_output_denominator': 0, 'degree_output_polynomials_specific': [1], 'degree_output_polynomials_denominator_specific': [1], 'enforce_function': False, 'maximal_potence': 3}\n",
      "INFO:root:Number parameters: 25\n",
      "INFO:root:Number parameters active: 25\n"
     ]
    },
    {
     "name": "stdout",
     "output_type": "stream",
     "text": [
      "Training time: 1.9217779636383057\n",
      "Target expression: None\n",
      "Relative l_2-distance train: 0.01685649871377114\n",
      "Relative l_2-distance validation: 0.01578434387046828\n",
      "##### Training #####\n",
      "Number parameters: 25\n",
      "Number parameters active: 25\n"
     ]
    },
    {
     "name": "stderr",
     "output_type": "stream",
     "text": [
      "INFO:root:Number of evaluations: 1638\n",
      "INFO:root:Relative l2 distance train: 0.023094336102675007\n",
      "INFO:root:Relative l2 distance validation: 0.023368240903921287\n",
      "INFO:root:Training time: 1.4210994243621826\n",
      "INFO:root:Cumulative training time: 87.7174904346466\n",
      "INFO:root:Cumulative number of evaluations: 150372\n",
      "INFO:root:Model parameters: {'degree_input_polynomials': 1, 'degree_output_polynomials': 2, 'functions': ['sqrt'], 'function_names': ['sqrt'], 'width': 1, 'degree_input_denominator': 0, 'degree_output_denominator': 0, 'degree_output_polynomials_specific': [1], 'degree_output_polynomials_denominator_specific': [1], 'enforce_function': True, 'maximal_potence': 3}\n",
      "INFO:root:Number parameters: 10\n",
      "INFO:root:Number parameters active: 10\n"
     ]
    },
    {
     "name": "stdout",
     "output_type": "stream",
     "text": [
      "Training time: 1.4210994243621826\n",
      "Target expression: None\n",
      "Relative l_2-distance train: 0.023094336102675007\n",
      "Relative l_2-distance validation: 0.023368240903921287\n",
      "##### Training #####\n",
      "Number parameters: 10\n",
      "Number parameters active: 10\n"
     ]
    },
    {
     "name": "stderr",
     "output_type": "stream",
     "text": [
      "INFO:root:Number of evaluations: 1345\n",
      "INFO:root:Relative l2 distance train: 0.07074495348783953\n",
      "INFO:root:Relative l2 distance validation: 0.07545048232695059\n",
      "INFO:root:Training time: 0.8931407928466797\n",
      "INFO:root:Cumulative training time: 88.6125762462616\n",
      "INFO:root:Cumulative number of evaluations: 151717\n",
      "INFO:root:Model parameters: {'degree_input_polynomials': 1, 'degree_output_polynomials': 2, 'functions': ['cos'], 'function_names': ['cos'], 'width': 1, 'degree_input_denominator': 0, 'degree_output_denominator': 0, 'degree_output_polynomials_specific': [1], 'degree_output_polynomials_denominator_specific': [1], 'enforce_function': False, 'maximal_potence': 3}\n",
      "INFO:root:Number parameters: 25\n",
      "INFO:root:Number parameters active: 25\n"
     ]
    },
    {
     "name": "stdout",
     "output_type": "stream",
     "text": [
      "Training time: 0.8931407928466797\n",
      "Target expression: None\n",
      "Relative l_2-distance train: 0.07074495348783953\n",
      "Relative l_2-distance validation: 0.07545048232695059\n",
      "##### Training #####\n",
      "Number parameters: 25\n",
      "Number parameters active: 25\n"
     ]
    },
    {
     "name": "stderr",
     "output_type": "stream",
     "text": [
      "INFO:root:Number of evaluations: 1843\n",
      "INFO:root:Relative l2 distance train: 0.01961996083352315\n",
      "INFO:root:Relative l2 distance validation: 0.020048714526652953\n",
      "INFO:root:Training time: 1.6061954498291016\n",
      "INFO:root:Cumulative training time: 90.22143530845642\n",
      "INFO:root:Cumulative number of evaluations: 153560\n",
      "INFO:root:Model parameters: {'degree_input_polynomials': 1, 'degree_output_polynomials': 2, 'functions': ['cos'], 'function_names': ['cos'], 'width': 1, 'degree_input_denominator': 0, 'degree_output_denominator': 0, 'degree_output_polynomials_specific': [1], 'degree_output_polynomials_denominator_specific': [1], 'enforce_function': True, 'maximal_potence': 3}\n",
      "INFO:root:Number parameters: 10\n",
      "INFO:root:Number parameters active: 10\n"
     ]
    },
    {
     "name": "stdout",
     "output_type": "stream",
     "text": [
      "Training time: 1.6061954498291016\n",
      "Target expression: None\n",
      "Relative l_2-distance train: 0.01961996083352315\n",
      "Relative l_2-distance validation: 0.020048714526652953\n",
      "##### Training #####\n",
      "Number parameters: 10\n",
      "Number parameters active: 10\n"
     ]
    },
    {
     "name": "stderr",
     "output_type": "stream",
     "text": [
      "INFO:root:Number of evaluations: 1505\n",
      "INFO:root:Relative l2 distance train: 0.07449497672403774\n",
      "INFO:root:Relative l2 distance validation: 0.07217949785265211\n",
      "INFO:root:Training time: 0.9947843551635742\n",
      "INFO:root:Cumulative training time: 91.21801328659058\n",
      "INFO:root:Cumulative number of evaluations: 155065\n",
      "INFO:root:Model parameters: {'degree_input_polynomials': 1, 'degree_output_polynomials': 2, 'functions': ['exp'], 'function_names': ['exp'], 'width': 1, 'degree_input_denominator': 0, 'degree_output_denominator': 0, 'degree_output_polynomials_specific': [1], 'degree_output_polynomials_denominator_specific': [1], 'enforce_function': False, 'maximal_potence': 3}\n",
      "INFO:root:Number parameters: 25\n",
      "INFO:root:Number parameters active: 25\n"
     ]
    },
    {
     "name": "stdout",
     "output_type": "stream",
     "text": [
      "Training time: 0.9947843551635742\n",
      "Target expression: None\n",
      "Relative l_2-distance train: 0.07449497672403774\n",
      "Relative l_2-distance validation: 0.07217949785265211\n",
      "##### Training #####\n",
      "Number parameters: 25\n",
      "Number parameters active: 25\n"
     ]
    },
    {
     "name": "stderr",
     "output_type": "stream",
     "text": [
      "INFO:root:Number of evaluations: 1910\n",
      "INFO:root:Relative l2 distance train: 0.023182569087206378\n",
      "INFO:root:Relative l2 distance validation: 0.02366105303802664\n",
      "INFO:root:Training time: 1.7623205184936523\n",
      "INFO:root:Cumulative training time: 92.98273229598999\n",
      "INFO:root:Cumulative number of evaluations: 156975\n",
      "INFO:root:Model parameters: {'degree_input_polynomials': 1, 'degree_output_polynomials': 2, 'functions': ['exp'], 'function_names': ['exp'], 'width': 1, 'degree_input_denominator': 0, 'degree_output_denominator': 0, 'degree_output_polynomials_specific': [1], 'degree_output_polynomials_denominator_specific': [1], 'enforce_function': True, 'maximal_potence': 3}\n",
      "INFO:root:Number parameters: 10\n",
      "INFO:root:Number parameters active: 10\n"
     ]
    },
    {
     "name": "stdout",
     "output_type": "stream",
     "text": [
      "Training time: 1.7623205184936523\n",
      "Target expression: None\n",
      "Relative l_2-distance train: 0.023182569087206378\n",
      "Relative l_2-distance validation: 0.02366105303802664\n",
      "##### Training #####\n",
      "Number parameters: 10\n",
      "Number parameters active: 10\n"
     ]
    },
    {
     "name": "stderr",
     "output_type": "stream",
     "text": [
      "INFO:root:Number of evaluations: 1524\n",
      "INFO:root:Relative l2 distance train: 0.14601914640181246\n",
      "INFO:root:Relative l2 distance validation: 0.13643488602978696\n",
      "INFO:root:Training time: 1.0824525356292725\n",
      "INFO:root:Cumulative training time: 94.0669493675232\n",
      "INFO:root:Cumulative number of evaluations: 158499\n",
      "INFO:root:Model parameters: {'degree_input_polynomials': 2, 'degree_output_polynomials': 2, 'functions': ['sqrt'], 'function_names': ['sqrt'], 'width': 1, 'degree_input_denominator': 0, 'degree_output_denominator': 0, 'degree_output_polynomials_specific': [1], 'degree_output_polynomials_denominator_specific': [1], 'enforce_function': False, 'maximal_potence': 3}\n",
      "INFO:root:Number parameters: 35\n",
      "INFO:root:Number parameters active: 35\n"
     ]
    },
    {
     "name": "stdout",
     "output_type": "stream",
     "text": [
      "Training time: 1.0824525356292725\n",
      "Target expression: None\n",
      "Relative l_2-distance train: 0.14601914640181246\n",
      "Relative l_2-distance validation: 0.13643488602978696\n",
      "##### Training #####\n",
      "Number parameters: 35\n",
      "Number parameters active: 35\n"
     ]
    },
    {
     "name": "stderr",
     "output_type": "stream",
     "text": [
      "INFO:root:Number of evaluations: 4027\n",
      "INFO:root:Relative l2 distance train: 0.00032481008631229984\n",
      "INFO:root:Relative l2 distance validation: 0.00032817492889557887\n",
      "INFO:root:Training time: 3.661041498184204\n",
      "INFO:root:Cumulative training time: 97.73071527481079\n",
      "INFO:root:Cumulative number of evaluations: 162526\n",
      "INFO:root:New best relative l2 distance validation: 0.00032817492889557887\n",
      "INFO:root:Model parameters: {'degree_input_polynomials': 2, 'degree_output_polynomials': 2, 'functions': ['sqrt'], 'function_names': ['sqrt'], 'width': 1, 'degree_input_denominator': 0, 'degree_output_denominator': 0, 'degree_output_polynomials_specific': [1], 'degree_output_polynomials_denominator_specific': [1], 'enforce_function': True, 'maximal_potence': 3}\n",
      "INFO:root:Number parameters: 20\n",
      "INFO:root:Number parameters active: 20\n"
     ]
    },
    {
     "name": "stdout",
     "output_type": "stream",
     "text": [
      "Training time: 3.661041498184204\n",
      "Target expression: None\n",
      "Relative l_2-distance train: 0.00032481008631229984\n",
      "Relative l_2-distance validation: 0.00032817492889557887\n",
      "##### Training #####\n",
      "Number parameters: 20\n",
      "Number parameters active: 20\n"
     ]
    },
    {
     "name": "stderr",
     "output_type": "stream",
     "text": [
      "INFO:root:Number of evaluations: 4726\n",
      "INFO:root:Relative l2 distance train: 7.53151849457589e-06\n",
      "INFO:root:Relative l2 distance validation: 8.180310709956026e-06\n",
      "INFO:root:Training time: 3.314145803451538\n",
      "INFO:root:Cumulative training time: 101.04685568809509\n",
      "INFO:root:Cumulative number of evaluations: 167252\n",
      "INFO:root:New best relative l2 distance validation: 8.180310709956026e-06\n",
      "INFO:root:Terminate proccess, wanted accuracy 0.001 and number of active parameters 4 / 10 was reached\n",
      "INFO:root:Time for multiprocessing in total: 101.1157615184784\n",
      "INFO:root:Finetuning with this cut off would not change anything.\n",
      "INFO:root:Finetuning with this cut off would not change anything.\n"
     ]
    },
    {
     "name": "stdout",
     "output_type": "stream",
     "text": [
      "Training time: 3.314145803451538\n",
      "Target expression: None\n",
      "Relative l_2-distance train: 7.53151849457589e-06\n",
      "Relative l_2-distance validation: 8.180310709956026e-06\n",
      "Terminate proccess, wanted accuracy 0.001 and number of active parameters 4 / 10 was reached\n"
     ]
    },
    {
     "name": "stderr",
     "output_type": "stream",
     "text": [
      "INFO:root:Finetuning with this cut off would not change anything.\n",
      "INFO:root:Finetuning with this cut off would not change anything.\n",
      "INFO:root:Finetuning with this cut off would not change anything.\n",
      "INFO:root:Best distance (train, val, test): (tensor(7.5315e-06, dtype=torch.float64), tensor(8.1803e-06, dtype=torch.float64), tensor(7.8988e-06, dtype=torch.float64))\n",
      "INFO:root:Best formula: 1.133*x0*sqrt(Abs(0.779*x1**2 + 0.779*x2**2 + 0.779*x3**2)) best training time: 3.314145803451538\n"
     ]
    }
   ],
   "source": [
    "# If one has more time, one can also simply use the 'big' configuration (config_files/wrapper/big.ini) in the following way\n",
    "parfam = ParFamWrapper(iterate=True, config_name='big')\n",
    "parfam.fit(x, y, seed=1234, time_limit=500)"
   ]
  },
  {
   "cell_type": "code",
   "execution_count": 20,
   "metadata": {},
   "outputs": [
    {
     "name": "stdout",
     "output_type": "stream",
     "text": [
      "Target formula: mom*(x**2 + y**2 + z**2)**0.5\n",
      "Computed formula: 0.999996865495087*x0*sqrt(Abs(x1**2 + x2**2 + x3**2))\n"
     ]
    }
   ],
   "source": [
    "print(f'Target formula: {target_expr}')\n",
    "print(f'Computed formula: {parfam.formula_reduced.simplify()}')"
   ]
  },
  {
   "cell_type": "code",
   "execution_count": 21,
   "metadata": {},
   "outputs": [
    {
     "name": "stdout",
     "output_type": "stream",
     "text": [
      "Relative l2 distance: 3.357728362046558e-08\n"
     ]
    }
   ],
   "source": [
    "y_pred = parfam.predict(x).cpu().detach().numpy()\n",
    "print(f'Relative l2 distance: {np.linalg.norm(y - y_pred, ord=2) / np.linalg.norm(y, ord=2)}')"
   ]
  }
 ],
 "metadata": {
  "kernelspec": {
   "display_name": "parfam",
   "language": "python",
   "name": "python3"
  },
  "language_info": {
   "codemirror_mode": {
    "name": "ipython",
    "version": 3
   },
   "file_extension": ".py",
   "mimetype": "text/x-python",
   "name": "python",
   "nbconvert_exporter": "python",
   "pygments_lexer": "ipython3",
   "version": "3.12.2"
  }
 },
 "nbformat": 4,
 "nbformat_minor": 2
}
