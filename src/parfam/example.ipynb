{
 "cells": [
  {
   "cell_type": "code",
   "execution_count": 1,
   "metadata": {},
   "outputs": [
    {
     "name": "stdout",
     "output_type": "stream",
     "text": [
      "/home/math/scholl/projects/physicalLawLearning/parfam\n",
      "Using cpu.\n"
     ]
    }
   ],
   "source": [
    "from parfamwrapper import ParFamWrapper\n",
    "\n",
    "import sympy\n",
    "import torch\n",
    "import numpy as np\n",
    "import matplotlib.pyplot as plt"
   ]
  },
  {
   "cell_type": "code",
   "execution_count": 2,
   "metadata": {},
   "outputs": [],
   "source": [
    "# Collection of function for ParFam to use, can be readily extended\n",
    "\n",
    "function_dict = {'sqrt': lambda x: torch.sqrt(torch.abs(x)),\n",
    "                 'exp': lambda x: torch.minimum(torch.exp(x), np.exp(10) + torch.abs(x)),\n",
    "                 'log': lambda x: torch.log(torch.abs(x) + 0.000001),\n",
    "                 'cos': torch.cos, 'sin': torch.sin}\n",
    "function_name_dict = {'sqrt': lambda x: sympy.sqrt(sympy.Abs(x)), 'exp': sympy.exp, 'cos': sympy.cos, 'sin': sympy.sin,\n",
    "                      'log': lambda x: sympy.log(sympy.Abs(x) + 0.000001)}\n",
    "\n",
    "standard_function_names_str = ['sin', 'sqrt', 'exp', 'sqrt'] \n",
    "standard_functions = [function_dict[key] for key in standard_function_names_str]\n",
    "standard_function_names = [function_name_dict[key] for key in standard_function_names_str]"
   ]
  },
  {
   "cell_type": "markdown",
   "metadata": {},
   "source": [
    "# Basic functionality"
   ]
  },
  {
   "cell_type": "markdown",
   "metadata": {},
   "source": [
    "## One dimensional problem"
   ]
  },
  {
   "cell_type": "code",
   "execution_count": 3,
   "metadata": {},
   "outputs": [
    {
     "name": "stdout",
     "output_type": "stream",
     "text": [
      "(20, 1)\n",
      "Target formula: -0.2*sin(1.15494120121002*x)/x\n"
     ]
    }
   ],
   "source": [
    "device = 'cpu'\n",
    "\n",
    "a = 2 * torch.randn(1)\n",
    "\n",
    "x = np.arange(1, 5, 0.2)  # 1 dimensional \n",
    "x = x.reshape(len(x), 1)  # 1 dimensional \n",
    "print(x.shape) \n",
    "x = torch.tensor(x, device=device)\n",
    "\n",
    "def func(a, x, module):\n",
    "    # return module.sin((a[0] * x + 1) / (0.1 * x + 2))\n",
    "    # return module.sin((a[0] * x + 1) / (0.1 * x)) \n",
    "    # return module.sin((a[0] * x)) \n",
    "    # return a[0] * x / (1+x)\n",
    "    return 0.2 * module.sin(a[0] * x) / x\n",
    "    # return 0.5 * x / (x + 1)\n",
    "    # return module.log(x + 1.4) + module.log(x ** 2 + 1.3)\n",
    "    # return module.sin(x ** 2) * module.cos(x) - 1\n",
    "\n",
    "y = func(a, x, np).squeeze(1)\n",
    "x_sym = sympy.symbols('x')\n",
    "\n",
    "target_expr = func(a, x_sym, sympy)\n",
    "print(f'Target formula: {target_expr}')"
   ]
  },
  {
   "cell_type": "code",
   "execution_count": 4,
   "metadata": {},
   "outputs": [],
   "source": [
    "# Assuming we already know that only the sin function is necessary:\n",
    "functions = [torch.sin]\n",
    "function_names = [sympy.sin]"
   ]
  },
  {
   "cell_type": "code",
   "execution_count": 5,
   "metadata": {},
   "outputs": [
    {
     "name": "stderr",
     "output_type": "stream",
     "text": [
      "/home/math/scholl/projects/physicalLawLearning/parfam/train.py:1632: UserWarning: To copy construct from a tensor, it is recommended to use sourceTensor.clone().detach() or sourceTensor.clone().detach().requires_grad_(True), rather than torch.tensor(sourceTensor).\n",
      "  x, y = torch.tensor(x, device=training_parameters['device']), torch.tensor(y, device=training_parameters['device'])\n",
      "INFO:root:Sequential computation\n",
      "INFO:root:Model parameters: {'degree_input_polynomials': 0, 'degree_output_polynomials': 2, 'degree_output_denominator': 0, 'degree_input_denominator': 0, 'function_names': [], 'width': 1, 'functions': [], 'degree_output_polynomials_specific': None, 'degree_output_polynomials_denominator_specific': None, 'enforce_function': False, 'maximal_potence': 3}\n",
      "INFO:root:Number parameters: 3\n",
      "INFO:root:Number parameters active: 3\n"
     ]
    },
    {
     "name": "stdout",
     "output_type": "stream",
     "text": [
      "Training parameters: {'normalization': False, 'time_limit': 100, 'evaluations_limit': 1000000, 'max_dataset_length': 20, 'model': 'ParFamTorch', 'target_noise': 0.0, 'feature_noise': 0.0, 'seed': 1234, 'accuracy': 0.0001, 'maxiter1': 100, 'maxiter2': 0, 'optimizer': 'basinhopping', 'pruning_iterations': 1, 'pruning_cut_off': 0.01, 'classifier': None, 'local_minimizer': 'BFGS', 'maxiter_per_dim_local_minimizer': 100, 'lambda_1': 0.001, 'repetitions': 1, 'parallel': False, 'n_processes': 4, 'lambda_1_cut': 0, 'lambda_1_piecewise': 0, 'device': 'cpu', 'iterative_finetuning': True, 'max_n_active_parameters': 10, 'lambda_1_finetuning': 1e-05, 'path_pretrained': 'Flexible dimension/full_19_big_training_sets/20240427_070711_5M/Datetime_20240427_070717_Loss_training_set_size_797545_batch_size_341_hidden_dim_256.pt', 'topk_predictions': 10, 'enforce_function_iterate': 'False'}\n",
      "Sequential computation\n",
      "##### Training #####\n",
      "Number parameters: 3\n",
      "Number parameters active: 3\n"
     ]
    },
    {
     "name": "stderr",
     "output_type": "stream",
     "text": [
      "INFO:root:Number of evaluations: 289\n",
      "INFO:root:Relative l2 distance train: 0.07445628079529869\n",
      "INFO:root:Relative l2 distance validation: 0.21059638530122587\n",
      "INFO:root:Training time: 0.8051085472106934\n",
      "INFO:root:Cumulative training time: 0.812990665435791\n",
      "INFO:root:Cumulative number of evaluations: 289\n",
      "INFO:root:New best relative l2 distance validation: 0.21059638530122587\n",
      "INFO:root:Model parameters: {'degree_input_polynomials': 0, 'degree_output_polynomials': 1, 'degree_output_denominator': 1, 'degree_input_denominator': 0, 'functions': [], 'function_names': [], 'width': 1, 'degree_output_polynomials_specific': None, 'degree_output_polynomials_denominator_specific': None, 'enforce_function': False, 'maximal_potence': 3}\n",
      "INFO:root:Number parameters: 4\n",
      "INFO:root:Number parameters active: 4\n"
     ]
    },
    {
     "name": "stdout",
     "output_type": "stream",
     "text": [
      "Training time: 0.8051085472106934\n",
      "Target expression: None\n",
      "Relative l_2-distance train: 0.07445628079529869\n",
      "Relative l_2-distance validation: 0.21059638530122587\n",
      "##### Training #####\n",
      "Number parameters: 4\n",
      "Number parameters active: 4\n"
     ]
    },
    {
     "name": "stderr",
     "output_type": "stream",
     "text": [
      "INFO:root:Number of evaluations: 2934\n",
      "INFO:root:Relative l2 distance train: 0.1758308050508022\n",
      "INFO:root:Relative l2 distance validation: 0.5539497009323481\n",
      "INFO:root:Training time: 0.946796178817749\n",
      "INFO:root:Cumulative training time: 1.7609152793884277\n",
      "INFO:root:Cumulative number of evaluations: 3223\n",
      "INFO:root:Model parameters: {'degree_input_polynomials': 0, 'degree_output_polynomials': 2, 'degree_output_denominator': 1, 'degree_input_denominator': 0, 'functions': [], 'function_names': [], 'width': 1, 'degree_output_polynomials_specific': None, 'degree_output_polynomials_denominator_specific': None, 'enforce_function': False, 'maximal_potence': 3}\n",
      "INFO:root:Number parameters: 5\n",
      "INFO:root:Number parameters active: 5\n"
     ]
    },
    {
     "name": "stdout",
     "output_type": "stream",
     "text": [
      "Training time: 0.946796178817749\n",
      "Target expression: None\n",
      "Relative l_2-distance train: 0.1758308050508022\n",
      "Relative l_2-distance validation: 0.5539497009323481\n",
      "##### Training #####\n",
      "Number parameters: 5\n",
      "Number parameters active: 5\n"
     ]
    },
    {
     "name": "stderr",
     "output_type": "stream",
     "text": [
      "INFO:root:Number of evaluations: 2851\n",
      "INFO:root:Relative l2 distance train: 0.03940303876067012\n",
      "INFO:root:Relative l2 distance validation: 0.1792029425611781\n",
      "INFO:root:Training time: 0.9296715259552002\n",
      "INFO:root:Cumulative training time: 2.691781520843506\n",
      "INFO:root:Cumulative number of evaluations: 6074\n",
      "INFO:root:New best relative l2 distance validation: 0.1792029425611781\n",
      "INFO:root:Model parameters: {'degree_input_polynomials': 1, 'degree_output_polynomials': 1, 'functions': ['function_0'], 'function_names': ['function_0'], 'width': 1, 'degree_input_denominator': 0, 'degree_output_denominator': 0, 'degree_output_polynomials_specific': [1], 'degree_output_polynomials_denominator_specific': [1], 'enforce_function': False, 'maximal_potence': 3}\n",
      "INFO:root:Number parameters: 5\n",
      "INFO:root:Number parameters active: 5\n"
     ]
    },
    {
     "name": "stdout",
     "output_type": "stream",
     "text": [
      "Training time: 0.9296715259552002\n",
      "Target expression: None\n",
      "Relative l_2-distance train: 0.03940303876067012\n",
      "Relative l_2-distance validation: 0.1792029425611781\n",
      "##### Training #####\n",
      "Number parameters: 5\n",
      "Number parameters active: 5\n"
     ]
    },
    {
     "name": "stderr",
     "output_type": "stream",
     "text": [
      "INFO:root:Number of evaluations: 1443\n",
      "INFO:root:Relative l2 distance train: 0.023129640668343235\n",
      "INFO:root:Relative l2 distance validation: 0.1151416085531793\n",
      "INFO:root:Training time: 0.9138591289520264\n",
      "INFO:root:Cumulative training time: 3.6071650981903076\n",
      "INFO:root:Cumulative number of evaluations: 7517\n",
      "INFO:root:New best relative l2 distance validation: 0.1151416085531793\n",
      "INFO:root:Model parameters: {'degree_input_polynomials': 2, 'degree_output_polynomials': 1, 'functions': ['function_0'], 'function_names': ['function_0'], 'width': 1, 'degree_input_denominator': 0, 'degree_output_denominator': 0, 'degree_output_polynomials_specific': [1], 'degree_output_polynomials_denominator_specific': [1], 'enforce_function': False, 'maximal_potence': 3}\n",
      "INFO:root:Number parameters: 6\n",
      "INFO:root:Number parameters active: 6\n"
     ]
    },
    {
     "name": "stdout",
     "output_type": "stream",
     "text": [
      "Training time: 0.9138591289520264\n",
      "Target expression: None\n",
      "Relative l_2-distance train: 0.023129640668343235\n",
      "Relative l_2-distance validation: 0.1151416085531793\n",
      "##### Training #####\n",
      "Number parameters: 6\n",
      "Number parameters active: 6\n"
     ]
    },
    {
     "name": "stderr",
     "output_type": "stream",
     "text": [
      "INFO:root:Number of evaluations: 1462\n",
      "INFO:root:Relative l2 distance train: 0.000671510526053095\n",
      "INFO:root:Relative l2 distance validation: 0.00410675272436794\n",
      "INFO:root:Training time: 0.5809619426727295\n",
      "INFO:root:Cumulative training time: 4.189242124557495\n",
      "INFO:root:Cumulative number of evaluations: 8979\n",
      "INFO:root:New best relative l2 distance validation: 0.00410675272436794\n",
      "INFO:root:Model parameters: {'degree_input_polynomials': 1, 'degree_output_polynomials': 1, 'functions': ['function_0'], 'function_names': ['function_0'], 'width': 1, 'degree_input_denominator': 1, 'degree_output_denominator': 0, 'degree_output_polynomials_specific': [1], 'degree_output_polynomials_denominator_specific': [1], 'enforce_function': False, 'maximal_potence': 3}\n",
      "INFO:root:Number parameters: 7\n",
      "INFO:root:Number parameters active: 7\n"
     ]
    },
    {
     "name": "stdout",
     "output_type": "stream",
     "text": [
      "Training time: 0.5809619426727295\n",
      "Target expression: None\n",
      "Relative l_2-distance train: 0.000671510526053095\n",
      "Relative l_2-distance validation: 0.00410675272436794\n",
      "##### Training #####\n",
      "Number parameters: 7\n",
      "Number parameters active: 7\n"
     ]
    },
    {
     "name": "stderr",
     "output_type": "stream",
     "text": [
      "INFO:root:Number of evaluations: 2135\n",
      "INFO:root:Relative l2 distance train: 0.010434115620719685\n",
      "INFO:root:Relative l2 distance validation: 0.030518638050996947\n",
      "INFO:root:Training time: 1.0108497142791748\n",
      "INFO:root:Cumulative training time: 5.201282739639282\n",
      "INFO:root:Cumulative number of evaluations: 11114\n",
      "INFO:root:Model parameters: {'degree_input_polynomials': 2, 'degree_output_polynomials': 1, 'functions': ['function_0'], 'function_names': ['function_0'], 'width': 1, 'degree_input_denominator': 1, 'degree_output_denominator': 0, 'degree_output_polynomials_specific': [1], 'degree_output_polynomials_denominator_specific': [1], 'enforce_function': False, 'maximal_potence': 3}\n",
      "INFO:root:Number parameters: 8\n",
      "INFO:root:Number parameters active: 8\n"
     ]
    },
    {
     "name": "stdout",
     "output_type": "stream",
     "text": [
      "Training time: 1.0108497142791748\n",
      "Target expression: None\n",
      "Relative l_2-distance train: 0.010434115620719685\n",
      "Relative l_2-distance validation: 0.030518638050996947\n",
      "##### Training #####\n",
      "Number parameters: 8\n",
      "Number parameters active: 8\n"
     ]
    },
    {
     "name": "stderr",
     "output_type": "stream",
     "text": [
      "INFO:root:Number of evaluations: 1828\n",
      "INFO:root:Relative l2 distance train: 0.00022758437554445412\n",
      "INFO:root:Relative l2 distance validation: 0.0033992486077562846\n",
      "INFO:root:Training time: 0.8811366558074951\n",
      "INFO:root:Cumulative training time: 6.08389687538147\n",
      "INFO:root:Cumulative number of evaluations: 12942\n",
      "INFO:root:New best relative l2 distance validation: 0.0033992486077562846\n",
      "INFO:root:Model parameters: {'degree_input_polynomials': 1, 'degree_output_polynomials': 2, 'functions': ['function_0'], 'function_names': ['function_0'], 'width': 1, 'degree_input_denominator': 0, 'degree_output_denominator': 0, 'degree_output_polynomials_specific': [1], 'degree_output_polynomials_denominator_specific': [1], 'enforce_function': False, 'maximal_potence': 3}\n",
      "INFO:root:Number parameters: 7\n",
      "INFO:root:Number parameters active: 7\n"
     ]
    },
    {
     "name": "stdout",
     "output_type": "stream",
     "text": [
      "Training time: 0.8811366558074951\n",
      "Target expression: None\n",
      "Relative l_2-distance train: 0.00022758437554445412\n",
      "Relative l_2-distance validation: 0.0033992486077562846\n",
      "##### Training #####\n",
      "Number parameters: 7\n",
      "Number parameters active: 7\n"
     ]
    },
    {
     "name": "stderr",
     "output_type": "stream",
     "text": [
      "INFO:root:Number of evaluations: 1496\n",
      "INFO:root:Relative l2 distance train: 0.02725756604307378\n",
      "INFO:root:Relative l2 distance validation: 0.1397665603933638\n",
      "INFO:root:Training time: 0.7169973850250244\n",
      "INFO:root:Cumulative training time: 6.802123069763184\n",
      "INFO:root:Cumulative number of evaluations: 14438\n",
      "INFO:root:Model parameters: {'degree_input_polynomials': 2, 'degree_output_polynomials': 2, 'functions': ['function_0'], 'function_names': ['function_0'], 'width': 1, 'degree_input_denominator': 0, 'degree_output_denominator': 0, 'degree_output_polynomials_specific': [1], 'degree_output_polynomials_denominator_specific': [1], 'enforce_function': False, 'maximal_potence': 3}\n",
      "INFO:root:Number parameters: 8\n",
      "INFO:root:Number parameters active: 8\n"
     ]
    },
    {
     "name": "stdout",
     "output_type": "stream",
     "text": [
      "Training time: 0.7169973850250244\n",
      "Target expression: None\n",
      "Relative l_2-distance train: 0.02725756604307378\n",
      "Relative l_2-distance validation: 0.1397665603933638\n",
      "##### Training #####\n",
      "Number parameters: 8\n",
      "Number parameters active: 8\n"
     ]
    },
    {
     "name": "stderr",
     "output_type": "stream",
     "text": [
      "INFO:root:Number of evaluations: 1358\n",
      "INFO:root:Relative l2 distance train: 0.00692951255691158\n",
      "INFO:root:Relative l2 distance validation: 0.13332954008537454\n",
      "INFO:root:Training time: 0.6422224044799805\n",
      "INFO:root:Cumulative training time: 7.4455718994140625\n",
      "INFO:root:Cumulative number of evaluations: 15796\n",
      "INFO:root:Model parameters: {'degree_input_polynomials': 1, 'degree_output_polynomials': 2, 'functions': ['function_0'], 'function_names': ['function_0'], 'width': 1, 'degree_input_denominator': 1, 'degree_output_denominator': 0, 'degree_output_polynomials_specific': [1], 'degree_output_polynomials_denominator_specific': [1], 'enforce_function': False, 'maximal_potence': 3}\n",
      "INFO:root:Number parameters: 9\n",
      "INFO:root:Number parameters active: 9\n"
     ]
    },
    {
     "name": "stdout",
     "output_type": "stream",
     "text": [
      "Training time: 0.6422224044799805\n",
      "Target expression: None\n",
      "Relative l_2-distance train: 0.00692951255691158\n",
      "Relative l_2-distance validation: 0.13332954008537454\n",
      "##### Training #####\n",
      "Number parameters: 9\n",
      "Number parameters active: 9\n"
     ]
    },
    {
     "name": "stderr",
     "output_type": "stream",
     "text": [
      "INFO:root:Number of evaluations: 1632\n",
      "INFO:root:Relative l2 distance train: 0.007310927017525457\n",
      "INFO:root:Relative l2 distance validation: 0.292805252480073\n",
      "INFO:root:Training time: 0.9170286655426025\n",
      "INFO:root:Cumulative training time: 8.36379599571228\n",
      "INFO:root:Cumulative number of evaluations: 17428\n",
      "INFO:root:Model parameters: {'degree_input_polynomials': 2, 'degree_output_polynomials': 2, 'functions': ['function_0'], 'function_names': ['function_0'], 'width': 1, 'degree_input_denominator': 1, 'degree_output_denominator': 0, 'degree_output_polynomials_specific': [1], 'degree_output_polynomials_denominator_specific': [1], 'enforce_function': False, 'maximal_potence': 3}\n",
      "INFO:root:Number parameters: 10\n",
      "INFO:root:Number parameters active: 10\n"
     ]
    },
    {
     "name": "stdout",
     "output_type": "stream",
     "text": [
      "Training time: 0.9170286655426025\n",
      "Target expression: None\n",
      "Relative l_2-distance train: 0.007310927017525457\n",
      "Relative l_2-distance validation: 0.292805252480073\n",
      "##### Training #####\n",
      "Number parameters: 10\n",
      "Number parameters active: 10\n"
     ]
    },
    {
     "name": "stderr",
     "output_type": "stream",
     "text": [
      "INFO:root:Number of evaluations: 1759\n",
      "INFO:root:Relative l2 distance train: 0.009860342296144613\n",
      "INFO:root:Relative l2 distance validation: 0.34835597167728216\n",
      "INFO:root:Training time: 0.9839749336242676\n",
      "INFO:root:Cumulative training time: 9.3490469455719\n",
      "INFO:root:Cumulative number of evaluations: 19187\n",
      "INFO:root:Model parameters: {'degree_input_polynomials': 1, 'degree_output_polynomials': 1, 'functions': ['function_0'], 'function_names': ['function_0'], 'width': 1, 'degree_input_denominator': 0, 'degree_output_denominator': 1, 'degree_output_polynomials_specific': [1], 'degree_output_polynomials_denominator_specific': [1], 'enforce_function': False, 'maximal_potence': 3}\n",
      "INFO:root:Number parameters: 8\n",
      "INFO:root:Number parameters active: 8\n"
     ]
    },
    {
     "name": "stdout",
     "output_type": "stream",
     "text": [
      "Training time: 0.9839749336242676\n",
      "Target expression: None\n",
      "Relative l_2-distance train: 0.009860342296144613\n",
      "Relative l_2-distance validation: 0.34835597167728216\n",
      "##### Training #####\n",
      "Number parameters: 8\n",
      "Number parameters active: 8\n"
     ]
    },
    {
     "name": "stderr",
     "output_type": "stream",
     "text": [
      "INFO:root:Number of evaluations: 1545\n",
      "INFO:root:Relative l2 distance train: 0.0001616620865956463\n",
      "INFO:root:Relative l2 distance validation: 0.0007771674057123306\n",
      "INFO:root:Training time: 0.8482217788696289\n",
      "INFO:root:Cumulative training time: 10.198663473129272\n",
      "INFO:root:Cumulative number of evaluations: 20732\n",
      "INFO:root:New best relative l2 distance validation: 0.0007771674057123306\n",
      "INFO:root:Terminate proccess, wanted accuracy 0.001 and number of active parameters 7 / 10 was reached\n",
      "INFO:root:Time for multiprocessing in total: 10.214088439941406\n"
     ]
    },
    {
     "name": "stdout",
     "output_type": "stream",
     "text": [
      "Training time: 0.8482217788696289\n",
      "Target expression: None\n",
      "Relative l_2-distance train: 0.0001616620865956463\n",
      "Relative l_2-distance validation: 0.0007771674057123306\n",
      "Terminate proccess, wanted accuracy 0.001 and number of active parameters 7 / 10 was reached\n"
     ]
    },
    {
     "name": "stderr",
     "output_type": "stream",
     "text": [
      "INFO:root:Finetuning with this cut off would not change anything.\n",
      "INFO:root:Finetuning with this cut off would not change anything.\n",
      "INFO:root:Finetuning with this cut off would not change anything.\n",
      "INFO:root:Finetuning with this cut off would not change anything.\n",
      "INFO:root:Finetuning with this cut off would not change anything.\n",
      "INFO:root:Finetuning with this cut off would not change anything.\n",
      "INFO:root:Best distance (train, val, test): (tensor(0.0002, dtype=torch.float64), tensor(0.0008, dtype=torch.float64), tensor(0.0002, dtype=torch.float64))\n",
      "INFO:root:Best formula: (-0.007*x0 + 0.17*sin(1.185*x0 + 2.965) + 0.036)/(0.952*x0 + 0.02*sin(1.185*x0 + 2.965) - 0.306) best training time: 0.8482217788696289\n"
     ]
    }
   ],
   "source": [
    "# The config picks defines all the model and training parameter choices. See config_files/wrapper. 'small' is the default. For bigger experiments, for example those in SRBench, choose 'big'.\n",
    "# Every additional variable overwrites the settings in the config. E.g., we restrict the functions we use to being simply the sin function.\n",
    "parfam = ParFamWrapper(config_name='small', iterate=True, functions=functions, function_names=function_names)\n",
    "parfam.fit(x, y, time_limit=100)  # time_limit is in seconds, might have to be higher for higher dimensions and more complicated parametric families"
   ]
  },
  {
   "cell_type": "code",
   "execution_count": 6,
   "metadata": {},
   "outputs": [
    {
     "name": "stdout",
     "output_type": "stream",
     "text": [
      "Target formula: -0.2*sin(1.15494120121002*x)/x\n",
      "Computed formula: (-0.007*x0 + 0.17*sin(1.185*x0 + 2.965) + 0.036)/(0.952*x0 + 0.02*sin(1.185*x0 + 2.965) - 0.306)\n"
     ]
    }
   ],
   "source": [
    "print(f'Target formula: {target_expr}')\n",
    "print(f'Computed formula: {parfam.formula_reduced.simplify()}')"
   ]
  },
  {
   "cell_type": "code",
   "execution_count": 7,
   "metadata": {},
   "outputs": [
    {
     "data": {
      "image/png": "[encoded data removed]",
      "text/plain": [
       "<Figure size 640x480 with 1 Axes>"
      ]
     },
     "metadata": {},
     "output_type": "display_data"
    },
    {
     "name": "stdout",
     "output_type": "stream",
     "text": [
      "Relative l2 distance: 0.00022161944890740083\n"
     ]
    }
   ],
   "source": [
    "y_pred = parfam.predict(x).cpu().detach().numpy()\n",
    "plt.plot(x, y, '+', label='Samples')\n",
    "plt.plot(x, y_pred, label='Prediction')\n",
    "plt.legend()\n",
    "plt.show()\n",
    "\n",
    "print(f'Relative l2 distance: {np.linalg.norm(y - y_pred, ord=2) / np.linalg.norm(y, ord=2)}')\n"
   ]
  },
  {
   "cell_type": "markdown",
   "metadata": {},
   "source": [
    "## 2 dimensional problem"
   ]
  },
  {
   "cell_type": "code",
   "execution_count": 8,
   "metadata": {},
   "outputs": [
    {
     "name": "stdout",
     "output_type": "stream",
     "text": [
      "(100, 2)\n",
      "Target formula: x1*sin(x0)\n"
     ]
    }
   ],
   "source": [
    "a = 2 * torch.randn(1)\n",
    "x = np.sort(np.random.uniform(-1.2, 5, 100))\n",
    "x = np.random.uniform(-3, 3, 200).reshape(100, 2)\n",
    "print(x.shape)\n",
    "x = torch.tensor(x, device=device)\n",
    "\n",
    "def func(a, x, module):\n",
    "    return module.sin(x[0]) * x[1]\n",
    "\n",
    "\n",
    "y = func(a, x.T, np)\n",
    "x_sym = []\n",
    "for i in range(x.shape[1]):\n",
    "    x_sym.append(sympy.symbols(f'x{i}'))\n",
    "target_expr = func(a, x_sym, sympy)\n",
    "print(f'Target formula: {target_expr}')"
   ]
  },
  {
   "cell_type": "code",
   "execution_count": 9,
   "metadata": {},
   "outputs": [],
   "source": [
    "# Assuming we already know that only the sin function is necessary:\n",
    "functions = [torch.sin]\n",
    "function_names = [sympy.sin]"
   ]
  },
  {
   "cell_type": "code",
   "execution_count": 10,
   "metadata": {},
   "outputs": [
    {
     "name": "stderr",
     "output_type": "stream",
     "text": [
      "/home/math/scholl/projects/physicalLawLearning/parfam/train.py:1632: UserWarning: To copy construct from a tensor, it is recommended to use sourceTensor.clone().detach() or sourceTensor.clone().detach().requires_grad_(True), rather than torch.tensor(sourceTensor).\n",
      "  x, y = torch.tensor(x, device=training_parameters['device']), torch.tensor(y, device=training_parameters['device'])\n",
      "INFO:root:Sequential computation\n",
      "INFO:root:Model parameters: {'degree_input_polynomials': 0, 'degree_output_polynomials': 2, 'degree_output_denominator': 0, 'degree_input_denominator': 0, 'function_names': [], 'width': 1, 'functions': [], 'degree_output_polynomials_specific': None, 'degree_output_polynomials_denominator_specific': None, 'enforce_function': False, 'maximal_potence': 3}\n",
      "INFO:root:Number parameters: 6\n",
      "INFO:root:Number parameters active: 6\n",
      "INFO:root:Number of evaluations: 208\n",
      "INFO:root:Relative l2 distance train: 0.48243015419397106\n",
      "INFO:root:Relative l2 distance validation: 0.43107807011684174\n",
      "INFO:root:Training time: 0.06168937683105469\n",
      "INFO:root:Cumulative training time: 0.06288433074951172\n",
      "INFO:root:Cumulative number of evaluations: 208\n",
      "INFO:root:New best relative l2 distance validation: 0.43107807011684174\n",
      "INFO:root:Model parameters: {'degree_input_polynomials': 1, 'degree_output_polynomials': 1, 'functions': ['function_0'], 'function_names': ['function_0'], 'width': 1, 'degree_input_denominator': 0, 'degree_output_denominator': 0, 'degree_output_polynomials_specific': [1], 'degree_output_polynomials_denominator_specific': [1], 'enforce_function': False, 'maximal_potence': 3}\n",
      "INFO:root:Number parameters: 7\n",
      "INFO:root:Number parameters active: 7\n"
     ]
    },
    {
     "name": "stdout",
     "output_type": "stream",
     "text": [
      "Training parameters: {'normalization': False, 'time_limit': 100, 'evaluations_limit': 1000000, 'max_dataset_length': 100, 'model': 'ParFamTorch', 'target_noise': 0.0, 'feature_noise': 0.0, 'seed': 1234, 'accuracy': 0.0001, 'maxiter1': 100, 'maxiter2': 0, 'optimizer': 'basinhopping', 'pruning_iterations': 1, 'pruning_cut_off': 0.01, 'classifier': None, 'local_minimizer': 'BFGS', 'maxiter_per_dim_local_minimizer': 100, 'lambda_1': 0.001, 'repetitions': 1, 'parallel': False, 'n_processes': 4, 'lambda_1_cut': 0, 'lambda_1_piecewise': 0, 'device': 'cpu', 'iterative_finetuning': True, 'max_n_active_parameters': 10, 'lambda_1_finetuning': 1e-05, 'path_pretrained': 'Flexible dimension/full_19_big_training_sets/20240427_070711_5M/Datetime_20240427_070717_Loss_training_set_size_797545_batch_size_341_hidden_dim_256.pt', 'topk_predictions': 10, 'enforce_function_iterate': 'False'}\n",
      "Sequential computation\n",
      "##### Training #####\n",
      "Number parameters: 6\n",
      "Number parameters active: 6\n",
      "Training time: 0.06168937683105469\n",
      "Target expression: None\n",
      "Relative l_2-distance train: 0.48243015419397106\n",
      "Relative l_2-distance validation: 0.43107807011684174\n",
      "##### Training #####\n",
      "Number parameters: 7\n",
      "Number parameters active: 7\n"
     ]
    },
    {
     "name": "stderr",
     "output_type": "stream",
     "text": [
      "INFO:root:Number of evaluations: 322\n",
      "INFO:root:Relative l2 distance train: 0.9130825548294452\n",
      "INFO:root:Relative l2 distance validation: 0.9365055738262088\n",
      "INFO:root:Training time: 0.13737797737121582\n",
      "INFO:root:Cumulative training time: 0.20189285278320312\n",
      "INFO:root:Cumulative number of evaluations: 530\n",
      "INFO:root:Model parameters: {'degree_input_polynomials': 2, 'degree_output_polynomials': 1, 'functions': ['function_0'], 'function_names': ['function_0'], 'width': 1, 'degree_input_denominator': 0, 'degree_output_denominator': 0, 'degree_output_polynomials_specific': [1], 'degree_output_polynomials_denominator_specific': [1], 'enforce_function': False, 'maximal_potence': 3}\n",
      "INFO:root:Number parameters: 10\n",
      "INFO:root:Number parameters active: 10\n"
     ]
    },
    {
     "name": "stdout",
     "output_type": "stream",
     "text": [
      "Training time: 0.13737797737121582\n",
      "Target expression: None\n",
      "Relative l_2-distance train: 0.9130825548294452\n",
      "Relative l_2-distance validation: 0.9365055738262088\n",
      "##### Training #####\n",
      "Number parameters: 10\n",
      "Number parameters active: 10\n"
     ]
    },
    {
     "name": "stderr",
     "output_type": "stream",
     "text": [
      "INFO:root:Number of evaluations: 631\n",
      "INFO:root:Relative l2 distance train: 0.2783534748587178\n",
      "INFO:root:Relative l2 distance validation: 0.3433567922693776\n",
      "INFO:root:Training time: 0.26761341094970703\n",
      "INFO:root:Cumulative training time: 0.47103118896484375\n",
      "INFO:root:Cumulative number of evaluations: 1161\n",
      "INFO:root:New best relative l2 distance validation: 0.3433567922693776\n",
      "INFO:root:Model parameters: {'degree_input_polynomials': 1, 'degree_output_polynomials': 2, 'functions': ['function_0'], 'function_names': ['function_0'], 'width': 1, 'degree_input_denominator': 0, 'degree_output_denominator': 0, 'degree_output_polynomials_specific': [1], 'degree_output_polynomials_denominator_specific': [1], 'enforce_function': False, 'maximal_potence': 3}\n",
      "INFO:root:Number parameters: 12\n",
      "INFO:root:Number parameters active: 12\n"
     ]
    },
    {
     "name": "stdout",
     "output_type": "stream",
     "text": [
      "Training time: 0.26761341094970703\n",
      "Target expression: None\n",
      "Relative l_2-distance train: 0.2783534748587178\n",
      "Relative l_2-distance validation: 0.3433567922693776\n",
      "##### Training #####\n",
      "Number parameters: 12\n",
      "Number parameters active: 12\n"
     ]
    },
    {
     "name": "stderr",
     "output_type": "stream",
     "text": [
      "INFO:root:Number of evaluations: 1108\n",
      "INFO:root:Relative l2 distance train: 0.23916209214289127\n",
      "INFO:root:Relative l2 distance validation: 0.24955457001762366\n",
      "INFO:root:Training time: 0.6094515323638916\n",
      "INFO:root:Cumulative training time: 1.0819621086120605\n",
      "INFO:root:Cumulative number of evaluations: 2269\n",
      "INFO:root:New best relative l2 distance validation: 0.24955457001762366\n",
      "INFO:root:Model parameters: {'degree_input_polynomials': 2, 'degree_output_polynomials': 2, 'functions': ['function_0'], 'function_names': ['function_0'], 'width': 1, 'degree_input_denominator': 0, 'degree_output_denominator': 0, 'degree_output_polynomials_specific': [1], 'degree_output_polynomials_denominator_specific': [1], 'enforce_function': False, 'maximal_potence': 3}\n",
      "INFO:root:Number parameters: 15\n",
      "INFO:root:Number parameters active: 15\n"
     ]
    },
    {
     "name": "stdout",
     "output_type": "stream",
     "text": [
      "Training time: 0.6094515323638916\n",
      "Target expression: None\n",
      "Relative l_2-distance train: 0.23916209214289127\n",
      "Relative l_2-distance validation: 0.24955457001762366\n",
      "##### Training #####\n",
      "Number parameters: 15\n",
      "Number parameters active: 15\n"
     ]
    },
    {
     "name": "stderr",
     "output_type": "stream",
     "text": [
      "INFO:root:Number of evaluations: 1059\n",
      "INFO:root:Relative l2 distance train: 0.15171978803774053\n",
      "INFO:root:Relative l2 distance validation: 0.3209283770934381\n",
      "INFO:root:Training time: 0.6097464561462402\n",
      "INFO:root:Cumulative training time: 1.6935420036315918\n",
      "INFO:root:Cumulative number of evaluations: 3328\n",
      "INFO:root:Time for multiprocessing in total: 1.7030441761016846\n"
     ]
    },
    {
     "name": "stdout",
     "output_type": "stream",
     "text": [
      "Training time: 0.6097464561462402\n",
      "Target expression: None\n",
      "Relative l_2-distance train: 0.15171978803774053\n",
      "Relative l_2-distance validation: 0.3209283770934381\n"
     ]
    },
    {
     "name": "stderr",
     "output_type": "stream",
     "text": [
      "INFO:root:Best distance (train, val, test): (tensor(0.2392, dtype=torch.float64), tensor(0.2496, dtype=torch.float64), tensor(0.2601, dtype=torch.float64))\n",
      "INFO:root:Best formula: -0.283*x0**2 + 0.474*x0*x1 + 1.02*x0*sin(0.747*x0 + 0.555*x1 + 0.129) - 0.016*x0 + 0.219*x1**2 - 0.425*x1*sin(0.747*x0 + 0.555*x1 + 0.129) + 0.073*x1 - 0.402 best training time: 0.6094515323638916\n"
     ]
    }
   ],
   "source": [
    "parfam = ParFamWrapper(iterate=True, functions=functions, function_names=function_names, degree_input_denominator=0, degree_output_denominator=0)\n",
    "parfam.fit(x, y, time_limit=100)"
   ]
  },
  {
   "cell_type": "code",
   "execution_count": 11,
   "metadata": {},
   "outputs": [
    {
     "name": "stdout",
     "output_type": "stream",
     "text": [
      "Target formula: x1*sin(x0)\n",
      "Computed formula: -0.283*x0**2 + 0.474*x0*x1 + 1.02*x0*sin(0.747*x0 + 0.555*x1 + 0.129) - 0.016*x0 + 0.219*x1**2 - 0.425*x1*sin(0.747*x0 + 0.555*x1 + 0.129) + 0.073*x1 - 0.402\n"
     ]
    }
   ],
   "source": [
    "print(f'Target formula: {target_expr}')\n",
    "print(f'Computed formula: {parfam.formula_reduced.simplify()}')\n"
   ]
  },
  {
   "cell_type": "code",
   "execution_count": 12,
   "metadata": {},
   "outputs": [
    {
     "name": "stdout",
     "output_type": "stream",
     "text": [
      "Relative l2 distance: 0.24163395807860108\n"
     ]
    }
   ],
   "source": [
    "y_pred = parfam.predict(x).cpu().detach().numpy()\n",
    "print(f'Relative l2 distance: {np.linalg.norm(y - y_pred, ord=2) / np.linalg.norm(y, ord=2)}')"
   ]
  },
  {
   "cell_type": "markdown",
   "metadata": {},
   "source": [
    "# More complicated functions"
   ]
  },
  {
   "cell_type": "markdown",
   "metadata": {},
   "source": [
    "Test now the feynman formula III 10 19:\n",
    "$$mom\\sqrt{x^2+y^2+z^2}$$"
   ]
  },
  {
   "cell_type": "code",
   "execution_count": 13,
   "metadata": {},
   "outputs": [
    {
     "name": "stdout",
     "output_type": "stream",
     "text": [
      "(500, 4)\n",
      "Target formula: mom*(x**2 + y**2 + z**2)**0.5\n"
     ]
    }
   ],
   "source": [
    "n_datapoints = 500\n",
    "dim = 4\n",
    "x = np.random.uniform(1, dim, n_datapoints * dim).reshape(n_datapoints, dim)\n",
    "print(x.shape)\n",
    "x = torch.tensor(x, device=device)\n",
    "\n",
    "def func(x, module):\n",
    "    # return x[0] * (x[1]*(x[2]**2 + x[3]**2 + x[4]**2))**(1/2)\n",
    "    return x[0] * ((x[2]**2 + x[3]**2 + x[1]**2))**(1/2)\n",
    "\n",
    "\n",
    "y = func(x.T, np)\n",
    "# x_sym = [sympy.symbols(symbol) for symbol in ['mom', 'B', 'x', 'y', 'z']]\n",
    "x_sym = [sympy.symbols(symbol) for symbol in ['mom', 'x', 'y', 'z']]\n",
    "# for i in range(x.shape[1]):\n",
    "#     x_sym.append(sympy.symbols(f'x{i}'))\n",
    "target_expr = func(x_sym, sympy)\n",
    "print(f'Target formula: {target_expr}')"
   ]
  },
  {
   "cell_type": "code",
   "execution_count": 14,
   "metadata": {},
   "outputs": [],
   "source": [
    "# Assuming we already know that only the sqrt function is necessary.\n",
    "# If we do not assume this knowledge, we could also just use the variable standard_functions and standard_function_names instead, it just takes more time.\n",
    "# Do not define the sqrt here yourself by just defining it as torch.sqrt, since it is not defined on all reals, which is a problem for the optimizer. Thus, see how it was defined in the function_dict.  \n",
    "functions = [function_dict['sqrt']]\n",
    "function_names = [function_name_dict['sqrt']]"
   ]
  },
  {
   "cell_type": "code",
   "execution_count": 15,
   "metadata": {},
   "outputs": [
    {
     "name": "stderr",
     "output_type": "stream",
     "text": [
      "/home/math/scholl/projects/physicalLawLearning/parfam/train.py:1632: UserWarning: To copy construct from a tensor, it is recommended to use sourceTensor.clone().detach() or sourceTensor.clone().detach().requires_grad_(True), rather than torch.tensor(sourceTensor).\n",
      "  x, y = torch.tensor(x, device=training_parameters['device']), torch.tensor(y, device=training_parameters['device'])\n",
      "INFO:root:Sequential computation\n",
      "INFO:root:Model parameters: {'degree_input_polynomials': 0, 'degree_output_polynomials': 3, 'degree_output_denominator': 0, 'degree_input_denominator': 0, 'function_names': [], 'width': 1, 'functions': [], 'degree_output_polynomials_specific': None, 'degree_output_polynomials_denominator_specific': None, 'enforce_function': False, 'maximal_potence': 3}\n",
      "INFO:root:Number parameters: 35\n",
      "INFO:root:Number parameters active: 35\n"
     ]
    },
    {
     "name": "stdout",
     "output_type": "stream",
     "text": [
      "Training parameters: {'normalization': False, 'time_limit': 100, 'evaluations_limit': 1000000, 'max_dataset_length': 500, 'model': 'ParFamTorch', 'target_noise': 0.0, 'feature_noise': 0.0, 'seed': 1234, 'accuracy': 0.0001, 'maxiter1': 100, 'maxiter2': 0, 'optimizer': 'basinhopping', 'pruning_iterations': 1, 'pruning_cut_off': 0.01, 'classifier': None, 'local_minimizer': 'BFGS', 'maxiter_per_dim_local_minimizer': 100, 'lambda_1': 0.001, 'repetitions': 1, 'parallel': False, 'n_processes': 4, 'lambda_1_cut': 0, 'lambda_1_piecewise': 0, 'device': 'cpu', 'iterative_finetuning': True, 'max_n_active_parameters': 10, 'lambda_1_finetuning': 1e-05, 'path_pretrained': 'Flexible dimension/full_19_big_training_sets/20240427_070711_5M/Datetime_20240427_070717_Loss_training_set_size_797545_batch_size_341_hidden_dim_256.pt', 'topk_predictions': 10, 'enforce_function_iterate': 'False'}\n",
      "Sequential computation\n",
      "##### Training #####\n",
      "Number parameters: 35\n",
      "Number parameters active: 35\n"
     ]
    },
    {
     "name": "stderr",
     "output_type": "stream",
     "text": [
      "INFO:root:Number of evaluations: 2110\n",
      "INFO:root:Relative l2 distance train: 0.004852963370269322\n",
      "INFO:root:Relative l2 distance validation: 0.006087892812096801\n",
      "INFO:root:Training time: 0.9345018863677979\n",
      "INFO:root:Cumulative training time: 0.937488317489624\n",
      "INFO:root:Cumulative number of evaluations: 2110\n",
      "INFO:root:New best relative l2 distance validation: 0.006087892812096801\n",
      "INFO:root:Model parameters: {'degree_input_polynomials': 1, 'degree_output_polynomials': 1, 'functions': ['function_0'], 'function_names': ['function_0'], 'width': 1, 'degree_input_denominator': 0, 'degree_output_denominator': 0, 'degree_output_polynomials_specific': [1], 'degree_output_polynomials_denominator_specific': [1], 'enforce_function': False, 'maximal_potence': 3}\n",
      "INFO:root:Number parameters: 11\n",
      "INFO:root:Number parameters active: 11\n"
     ]
    },
    {
     "name": "stdout",
     "output_type": "stream",
     "text": [
      "Training time: 0.9345018863677979\n",
      "Target expression: None\n",
      "Relative l_2-distance train: 0.004852963370269322\n",
      "Relative l_2-distance validation: 0.006087892812096801\n",
      "##### Training #####\n",
      "Number parameters: 11\n",
      "Number parameters active: 11\n"
     ]
    },
    {
     "name": "stderr",
     "output_type": "stream",
     "text": [
      "INFO:root:Number of evaluations: 1200\n",
      "INFO:root:Relative l2 distance train: 0.13312445273737974\n",
      "INFO:root:Relative l2 distance validation: 0.10351078922403623\n",
      "INFO:root:Training time: 0.5637304782867432\n",
      "INFO:root:Cumulative training time: 1.5028581619262695\n",
      "INFO:root:Cumulative number of evaluations: 3310\n",
      "INFO:root:Model parameters: {'degree_input_polynomials': 2, 'degree_output_polynomials': 1, 'functions': ['function_0'], 'function_names': ['function_0'], 'width': 1, 'degree_input_denominator': 0, 'degree_output_denominator': 0, 'degree_output_polynomials_specific': [1], 'degree_output_polynomials_denominator_specific': [1], 'enforce_function': False, 'maximal_potence': 3}\n",
      "INFO:root:Number parameters: 21\n",
      "INFO:root:Number parameters active: 21\n"
     ]
    },
    {
     "name": "stdout",
     "output_type": "stream",
     "text": [
      "Training time: 0.5637304782867432\n",
      "Target expression: None\n",
      "Relative l_2-distance train: 0.13312445273737974\n",
      "Relative l_2-distance validation: 0.10351078922403623\n",
      "##### Training #####\n",
      "Number parameters: 21\n",
      "Number parameters active: 21\n"
     ]
    },
    {
     "name": "stderr",
     "output_type": "stream",
     "text": [
      "INFO:root:Number of evaluations: 2061\n",
      "INFO:root:Relative l2 distance train: 0.09910290090575284\n",
      "INFO:root:Relative l2 distance validation: 0.10834654290855726\n",
      "INFO:root:Training time: 0.9985480308532715\n",
      "INFO:root:Cumulative training time: 2.5034983158111572\n",
      "INFO:root:Cumulative number of evaluations: 5371\n",
      "INFO:root:Model parameters: {'degree_input_polynomials': 1, 'degree_output_polynomials': 2, 'functions': ['function_0'], 'function_names': ['function_0'], 'width': 1, 'degree_input_denominator': 0, 'degree_output_denominator': 0, 'degree_output_polynomials_specific': [1], 'degree_output_polynomials_denominator_specific': [1], 'enforce_function': False, 'maximal_potence': 3}\n",
      "INFO:root:Number parameters: 25\n",
      "INFO:root:Number parameters active: 25\n"
     ]
    },
    {
     "name": "stdout",
     "output_type": "stream",
     "text": [
      "Training time: 0.9985480308532715\n",
      "Target expression: None\n",
      "Relative l_2-distance train: 0.09910290090575284\n",
      "Relative l_2-distance validation: 0.10834654290855726\n",
      "##### Training #####\n",
      "Number parameters: 25\n",
      "Number parameters active: 25\n"
     ]
    },
    {
     "name": "stderr",
     "output_type": "stream",
     "text": [
      "INFO:root:Number of evaluations: 1867\n",
      "INFO:root:Relative l2 distance train: 0.021225963392843238\n",
      "INFO:root:Relative l2 distance validation: 0.02267919090976496\n",
      "INFO:root:Training time: 1.6284279823303223\n",
      "INFO:root:Cumulative training time: 4.134258031845093\n",
      "INFO:root:Cumulative number of evaluations: 7238\n",
      "INFO:root:Model parameters: {'degree_input_polynomials': 2, 'degree_output_polynomials': 2, 'functions': ['function_0'], 'function_names': ['function_0'], 'width': 1, 'degree_input_denominator': 0, 'degree_output_denominator': 0, 'degree_output_polynomials_specific': [1], 'degree_output_polynomials_denominator_specific': [1], 'enforce_function': False, 'maximal_potence': 3}\n",
      "INFO:root:Number parameters: 35\n",
      "INFO:root:Number parameters active: 35\n"
     ]
    },
    {
     "name": "stdout",
     "output_type": "stream",
     "text": [
      "Training time: 1.6284279823303223\n",
      "Target expression: None\n",
      "Relative l_2-distance train: 0.021225963392843238\n",
      "Relative l_2-distance validation: 0.02267919090976496\n",
      "##### Training #####\n",
      "Number parameters: 35\n",
      "Number parameters active: 35\n"
     ]
    },
    {
     "name": "stderr",
     "output_type": "stream",
     "text": [
      "INFO:root:Number of evaluations: 3841\n",
      "INFO:root:Relative l2 distance train: 1.2871244444645057e-07\n",
      "INFO:root:Relative l2 distance validation: 1.4906590102158942e-07\n",
      "INFO:root:Training time: 3.478419065475464\n",
      "INFO:root:Cumulative training time: 7.6151463985443115\n",
      "INFO:root:Cumulative number of evaluations: 11079\n",
      "INFO:root:New best relative l2 distance validation: 1.4906590102158942e-07\n",
      "INFO:root:Terminate proccess, wanted accuracy 0.001 and number of active parameters 4 / 10 was reached\n",
      "INFO:root:Time for multiprocessing in total: 7.622427701950073\n",
      "INFO:root:Finetuning with this cut off would not change anything.\n",
      "INFO:root:Finetuning with this cut off would not change anything.\n",
      "INFO:root:Finetuning with this cut off would not change anything.\n",
      "INFO:root:Finetuning with this cut off would not change anything.\n",
      "INFO:root:Finetuning with this cut off would not change anything.\n",
      "INFO:root:Finetuning with this cut off would not change anything.\n",
      "INFO:root:Finetuning with this cut off would not change anything.\n",
      "INFO:root:Best distance (train, val, test): (tensor(1.2871e-07, dtype=torch.float64), tensor(1.4907e-07, dtype=torch.float64), tensor(1.4346e-07, dtype=torch.float64))\n",
      "INFO:root:Best formula: 0.999*x0*sqrt(Abs(1.003*x1**2 + 1.003*x2**2 + 1.003*x3**2)) best training time: 3.478419065475464\n"
     ]
    },
    {
     "name": "stdout",
     "output_type": "stream",
     "text": [
      "Training time: 3.478419065475464\n",
      "Target expression: None\n",
      "Relative l_2-distance train: 1.2871244444645057e-07\n",
      "Relative l_2-distance validation: 1.4906590102158942e-07\n",
      "Terminate proccess, wanted accuracy 0.001 and number of active parameters 4 / 10 was reached\n"
     ]
    }
   ],
   "source": [
    "# ParFamWrapper with its most important input parameters\n",
    "parfam = ParFamWrapper(iterate=True, # iterate through multiple different parametric families (costs more time, but is the better choice when one is not sure about the degrees and the functions of the target formula)\n",
    "                       functions=functions, function_names=function_names, # which functions to use \n",
    "                       degree_input_numerator=2, degree_output_numerator=3, degree_input_denominator=0, degree_output_denominator=0,  # the maximal degrees of the polynomials in the parametric family\n",
    "                       input_names=x_sym,  # the names of the input variables\n",
    "                       enforce_function=False,  # has only an effect, if iterate=False\n",
    "                       device='cpu', \n",
    "                       separate_test_set=True  # ParFam uses a smaller set for training, to use a part of it as a test set afterwards\n",
    "                       )\n",
    "parfam.fit(x, y, time_limit=100, seed=1234)  # If we cannot assume that degree_input_denominator=0 and degree_output_denominator=0 holds, we would have to increase the time limit"
   ]
  },
  {
   "cell_type": "code",
   "execution_count": 16,
   "metadata": {},
   "outputs": [
    {
     "name": "stdout",
     "output_type": "stream",
     "text": [
      "Target formula: mom*(x**2 + y**2 + z**2)**0.5\n",
      "Computed formula: 1.00049737780766*x0*sqrt(Abs(x1**2 + x2**2 + x3**2))\n"
     ]
    }
   ],
   "source": [
    "print(f'Target formula: {target_expr}')\n",
    "print(f'Computed formula: {parfam.formula_reduced.simplify()}')"
   ]
  },
  {
   "cell_type": "code",
   "execution_count": 17,
   "metadata": {},
   "outputs": [
    {
     "name": "stdout",
     "output_type": "stream",
     "text": [
      "Relative l2 distance: 3.650236287367951e-08\n"
     ]
    }
   ],
   "source": [
    "y_pred = parfam.predict(x).cpu().detach().numpy()\n",
    "print(f'Relative l2 distance: {np.linalg.norm(y - y_pred, ord=2) / np.linalg.norm(y, ord=2)}')"
   ]
  },
  {
   "cell_type": "code",
   "execution_count": 18,
   "metadata": {},
   "outputs": [
    {
     "name": "stderr",
     "output_type": "stream",
     "text": [
      "/home/math/scholl/projects/physicalLawLearning/parfam/train.py:1632: UserWarning: To copy construct from a tensor, it is recommended to use sourceTensor.clone().detach() or sourceTensor.clone().detach().requires_grad_(True), rather than torch.tensor(sourceTensor).\n",
      "  x, y = torch.tensor(x, device=training_parameters['device']), torch.tensor(y, device=training_parameters['device'])\n",
      "INFO:root:Sequential computation\n",
      "INFO:root:Model parameters: {'degree_input_polynomials': 0, 'degree_output_polynomials': 4, 'degree_output_denominator': 0, 'degree_input_denominator': 0, 'function_names': [], 'width': 1, 'functions': [], 'degree_output_polynomials_specific': None, 'degree_output_polynomials_denominator_specific': None, 'enforce_function': False, 'maximal_potence': 3}\n",
      "INFO:root:Number parameters: 66\n",
      "INFO:root:Number parameters active: 66\n"
     ]
    },
    {
     "name": "stdout",
     "output_type": "stream",
     "text": [
      "Training parameters: {'normalization': False, 'time_limit': 500, 'evaluations_limit': 1000000, 'max_dataset_length': 500, 'model': 'ParFamTorch', 'target_noise': 0.0, 'feature_noise': 0.0, 'seed': 1234, 'accuracy': 0.0001, 'maxiter1': 100, 'maxiter2': 0, 'optimizer': 'basinhopping', 'pruning_iterations': 1, 'pruning_cut_off': 0.01, 'classifier': None, 'local_minimizer': 'BFGS', 'maxiter_per_dim_local_minimizer': 100, 'lambda_1': 0.001, 'repetitions': 1, 'parallel': False, 'n_processes': 4, 'lambda_1_cut': 0, 'lambda_1_piecewise': 0.0, 'device': 'cpu', 'iterative_finetuning': True, 'max_n_active_parameters': 10, 'lambda_1_finetuning': 1e-05, 'path_pretrained': 'Flexible dimension/full_19_big_training_sets/20240427_070711_5M/Datetime_20240427_070717_Loss_training_set_size_797545_batch_size_341_hidden_dim_256.pt', 'topk_predictions': 3, 'enforce_function_iterate': 'Both'}\n",
      "Sequential computation\n",
      "##### Training #####\n",
      "Number parameters: 66\n",
      "Number parameters active: 66\n"
     ]
    },
    {
     "name": "stderr",
     "output_type": "stream",
     "text": [
      "INFO:root:Number of evaluations: 3534\n",
      "INFO:root:Relative l2 distance train: 0.002649219332609953\n",
      "INFO:root:Relative l2 distance validation: 0.0029717487501623578\n",
      "INFO:root:Training time: 2.2230474948883057\n",
      "INFO:root:Cumulative training time: 2.2276833057403564\n",
      "INFO:root:Cumulative number of evaluations: 3534\n",
      "INFO:root:New best relative l2 distance validation: 0.0029717487501623578\n",
      "INFO:root:Model parameters: {'degree_input_polynomials': 0, 'degree_output_polynomials': 1, 'degree_output_denominator': 1, 'degree_input_denominator': 0, 'functions': [], 'function_names': [], 'width': 1, 'degree_output_polynomials_specific': None, 'degree_output_polynomials_denominator_specific': None, 'enforce_function': False, 'maximal_potence': 3}\n",
      "INFO:root:Number parameters: 10\n",
      "INFO:root:Number parameters active: 10\n"
     ]
    },
    {
     "name": "stdout",
     "output_type": "stream",
     "text": [
      "Training time: 2.2230474948883057\n",
      "Target expression: None\n",
      "Relative l_2-distance train: 0.002649219332609953\n",
      "Relative l_2-distance validation: 0.0029717487501623578\n",
      "##### Training #####\n",
      "Number parameters: 10\n",
      "Number parameters active: 10\n"
     ]
    },
    {
     "name": "stderr",
     "output_type": "stream",
     "text": [
      "INFO:root:Number of evaluations: 4480\n",
      "INFO:root:Relative l2 distance train: 0.13909446416690732\n",
      "INFO:root:Relative l2 distance validation: 0.12273609961672621\n",
      "INFO:root:Training time: 1.693350076675415\n",
      "INFO:root:Cumulative training time: 3.922576665878296\n",
      "INFO:root:Cumulative number of evaluations: 8014\n",
      "INFO:root:Model parameters: {'degree_input_polynomials': 0, 'degree_output_polynomials': 2, 'degree_output_denominator': 1, 'degree_input_denominator': 0, 'functions': [], 'function_names': [], 'width': 1, 'degree_output_polynomials_specific': None, 'degree_output_polynomials_denominator_specific': None, 'enforce_function': False, 'maximal_potence': 3}\n",
      "INFO:root:Number parameters: 20\n",
      "INFO:root:Number parameters active: 20\n"
     ]
    },
    {
     "name": "stdout",
     "output_type": "stream",
     "text": [
      "Training time: 1.693350076675415\n",
      "Target expression: None\n",
      "Relative l_2-distance train: 0.13909446416690732\n",
      "Relative l_2-distance validation: 0.12273609961672621\n",
      "##### Training #####\n",
      "Number parameters: 20\n",
      "Number parameters active: 20\n"
     ]
    },
    {
     "name": "stderr",
     "output_type": "stream",
     "text": [
      "INFO:root:Number of evaluations: 2872\n",
      "INFO:root:Relative l2 distance train: 0.022271135240979786\n",
      "INFO:root:Relative l2 distance validation: 0.02310070459007912\n",
      "INFO:root:Training time: 1.180112600326538\n",
      "INFO:root:Cumulative training time: 5.104598045349121\n",
      "INFO:root:Cumulative number of evaluations: 10886\n",
      "INFO:root:Model parameters: {'degree_input_polynomials': 0, 'degree_output_polynomials': 3, 'degree_output_denominator': 1, 'degree_input_denominator': 0, 'functions': [], 'function_names': [], 'width': 1, 'degree_output_polynomials_specific': None, 'degree_output_polynomials_denominator_specific': None, 'enforce_function': False, 'maximal_potence': 3}\n",
      "INFO:root:Number parameters: 40\n",
      "INFO:root:Number parameters active: 40\n"
     ]
    },
    {
     "name": "stdout",
     "output_type": "stream",
     "text": [
      "Training time: 1.180112600326538\n",
      "Target expression: None\n",
      "Relative l_2-distance train: 0.022271135240979786\n",
      "Relative l_2-distance validation: 0.02310070459007912\n",
      "##### Training #####\n",
      "Number parameters: 40\n",
      "Number parameters active: 40\n"
     ]
    },
    {
     "name": "stderr",
     "output_type": "stream",
     "text": [
      "INFO:root:Number of evaluations: 3932\n",
      "INFO:root:Relative l2 distance train: 0.00937179149041912\n",
      "INFO:root:Relative l2 distance validation: 0.01089829477176194\n",
      "INFO:root:Training time: 2.1326041221618652\n",
      "INFO:root:Cumulative training time: 7.240247488021851\n",
      "INFO:root:Cumulative number of evaluations: 14818\n",
      "INFO:root:Model parameters: {'degree_input_polynomials': 0, 'degree_output_polynomials': 4, 'degree_output_denominator': 1, 'degree_input_denominator': 0, 'functions': [], 'function_names': [], 'width': 1, 'degree_output_polynomials_specific': None, 'degree_output_polynomials_denominator_specific': None, 'enforce_function': False, 'maximal_potence': 3}\n",
      "INFO:root:Number parameters: 71\n",
      "INFO:root:Number parameters active: 71\n"
     ]
    },
    {
     "name": "stdout",
     "output_type": "stream",
     "text": [
      "Training time: 2.1326041221618652\n",
      "Target expression: None\n",
      "Relative l_2-distance train: 0.00937179149041912\n",
      "Relative l_2-distance validation: 0.01089829477176194\n",
      "##### Training #####\n",
      "Number parameters: 71\n",
      "Number parameters active: 71\n"
     ]
    },
    {
     "name": "stderr",
     "output_type": "stream",
     "text": [
      "INFO:root:Number of evaluations: 4159\n",
      "INFO:root:Relative l2 distance train: 0.0014949643709420378\n",
      "INFO:root:Relative l2 distance validation: 0.002821844529561299\n",
      "INFO:root:Training time: 3.1075408458709717\n",
      "INFO:root:Cumulative training time: 10.352620363235474\n",
      "INFO:root:Cumulative number of evaluations: 18977\n",
      "INFO:root:New best relative l2 distance validation: 0.002821844529561299\n",
      "INFO:root:Model parameters: {'degree_input_polynomials': 0, 'degree_output_polynomials': 1, 'degree_output_denominator': 2, 'degree_input_denominator': 0, 'functions': [], 'function_names': [], 'width': 1, 'degree_output_polynomials_specific': None, 'degree_output_polynomials_denominator_specific': None, 'enforce_function': False, 'maximal_potence': 3}\n",
      "INFO:root:Number parameters: 20\n",
      "INFO:root:Number parameters active: 20\n"
     ]
    },
    {
     "name": "stdout",
     "output_type": "stream",
     "text": [
      "Training time: 3.1075408458709717\n",
      "Target expression: None\n",
      "Relative l_2-distance train: 0.0014949643709420378\n",
      "Relative l_2-distance validation: 0.002821844529561299\n",
      "##### Training #####\n",
      "Number parameters: 20\n",
      "Number parameters active: 20\n"
     ]
    },
    {
     "name": "stderr",
     "output_type": "stream",
     "text": [
      "INFO:root:Number of evaluations: 4531\n",
      "INFO:root:Relative l2 distance train: 0.055571229157699915\n",
      "INFO:root:Relative l2 distance validation: 0.052855604558449246\n",
      "INFO:root:Training time: 1.8862581253051758\n",
      "INFO:root:Cumulative training time: 12.240943431854248\n",
      "INFO:root:Cumulative number of evaluations: 23508\n",
      "INFO:root:Model parameters: {'degree_input_polynomials': 0, 'degree_output_polynomials': 2, 'degree_output_denominator': 2, 'degree_input_denominator': 0, 'functions': [], 'function_names': [], 'width': 1, 'degree_output_polynomials_specific': None, 'degree_output_polynomials_denominator_specific': None, 'enforce_function': False, 'maximal_potence': 3}\n",
      "INFO:root:Number parameters: 30\n",
      "INFO:root:Number parameters active: 30\n"
     ]
    },
    {
     "name": "stdout",
     "output_type": "stream",
     "text": [
      "Training time: 1.8862581253051758\n",
      "Target expression: None\n",
      "Relative l_2-distance train: 0.055571229157699915\n",
      "Relative l_2-distance validation: 0.052855604558449246\n",
      "##### Training #####\n",
      "Number parameters: 30\n",
      "Number parameters active: 30\n"
     ]
    },
    {
     "name": "stderr",
     "output_type": "stream",
     "text": [
      "INFO:root:Number of evaluations: 3998\n",
      "INFO:root:Relative l2 distance train: 0.016964628312630015\n",
      "INFO:root:Relative l2 distance validation: 0.01795901247099571\n",
      "INFO:root:Training time: 1.8086931705474854\n",
      "INFO:root:Cumulative training time: 14.0520339012146\n",
      "INFO:root:Cumulative number of evaluations: 27506\n",
      "INFO:root:Model parameters: {'degree_input_polynomials': 0, 'degree_output_polynomials': 3, 'degree_output_denominator': 2, 'degree_input_denominator': 0, 'functions': [], 'function_names': [], 'width': 1, 'degree_output_polynomials_specific': None, 'degree_output_polynomials_denominator_specific': None, 'enforce_function': False, 'maximal_potence': 3}\n",
      "INFO:root:Number parameters: 50\n",
      "INFO:root:Number parameters active: 50\n"
     ]
    },
    {
     "name": "stdout",
     "output_type": "stream",
     "text": [
      "Training time: 1.8086931705474854\n",
      "Target expression: None\n",
      "Relative l_2-distance train: 0.016964628312630015\n",
      "Relative l_2-distance validation: 0.01795901247099571\n",
      "##### Training #####\n",
      "Number parameters: 50\n",
      "Number parameters active: 50\n"
     ]
    },
    {
     "name": "stderr",
     "output_type": "stream",
     "text": [
      "INFO:root:Number of evaluations: 4426\n",
      "INFO:root:Relative l2 distance train: 0.0030946418680602022\n",
      "INFO:root:Relative l2 distance validation: 0.005039512663853945\n",
      "INFO:root:Training time: 3.499253273010254\n",
      "INFO:root:Cumulative training time: 17.554868459701538\n",
      "INFO:root:Cumulative number of evaluations: 31932\n",
      "INFO:root:Model parameters: {'degree_input_polynomials': 0, 'degree_output_polynomials': 4, 'degree_output_denominator': 2, 'degree_input_denominator': 0, 'functions': [], 'function_names': [], 'width': 1, 'degree_output_polynomials_specific': None, 'degree_output_polynomials_denominator_specific': None, 'enforce_function': False, 'maximal_potence': 3}\n",
      "INFO:root:Number parameters: 81\n",
      "INFO:root:Number parameters active: 81\n"
     ]
    },
    {
     "name": "stdout",
     "output_type": "stream",
     "text": [
      "Training time: 3.499253273010254\n",
      "Target expression: None\n",
      "Relative l_2-distance train: 0.0030946418680602022\n",
      "Relative l_2-distance validation: 0.005039512663853945\n",
      "##### Training #####\n",
      "Number parameters: 81\n",
      "Number parameters active: 81\n"
     ]
    },
    {
     "name": "stderr",
     "output_type": "stream",
     "text": [
      "INFO:root:Number of evaluations: 4286\n",
      "INFO:root:Relative l2 distance train: 0.004407325891034844\n",
      "INFO:root:Relative l2 distance validation: 0.01842472666638459\n",
      "INFO:root:Training time: 3.785881757736206\n",
      "INFO:root:Cumulative training time: 21.346141576766968\n",
      "INFO:root:Cumulative number of evaluations: 36218\n",
      "INFO:root:Model parameters: {'degree_input_polynomials': 0, 'degree_output_polynomials': 1, 'degree_output_denominator': 3, 'degree_input_denominator': 0, 'functions': [], 'function_names': [], 'width': 1, 'degree_output_polynomials_specific': None, 'degree_output_polynomials_denominator_specific': None, 'enforce_function': False, 'maximal_potence': 3}\n",
      "INFO:root:Number parameters: 40\n",
      "INFO:root:Number parameters active: 40\n"
     ]
    },
    {
     "name": "stdout",
     "output_type": "stream",
     "text": [
      "Training time: 3.785881757736206\n",
      "Target expression: None\n",
      "Relative l_2-distance train: 0.004407325891034844\n",
      "Relative l_2-distance validation: 0.01842472666638459\n",
      "##### Training #####\n",
      "Number parameters: 40\n",
      "Number parameters active: 40\n"
     ]
    },
    {
     "name": "stderr",
     "output_type": "stream",
     "text": [
      "INFO:root:Number of evaluations: 5255\n",
      "INFO:root:Relative l2 distance train: 0.08231378060510092\n",
      "INFO:root:Relative l2 distance validation: 0.2727775416316353\n",
      "INFO:root:Training time: 2.8978054523468018\n",
      "INFO:root:Cumulative training time: 24.246991395950317\n",
      "INFO:root:Cumulative number of evaluations: 41473\n",
      "INFO:root:Model parameters: {'degree_input_polynomials': 0, 'degree_output_polynomials': 2, 'degree_output_denominator': 3, 'degree_input_denominator': 0, 'functions': [], 'function_names': [], 'width': 1, 'degree_output_polynomials_specific': None, 'degree_output_polynomials_denominator_specific': None, 'enforce_function': False, 'maximal_potence': 3}\n",
      "INFO:root:Number parameters: 50\n",
      "INFO:root:Number parameters active: 50\n"
     ]
    },
    {
     "name": "stdout",
     "output_type": "stream",
     "text": [
      "Training time: 2.8978054523468018\n",
      "Target expression: None\n",
      "Relative l_2-distance train: 0.08231378060510092\n",
      "Relative l_2-distance validation: 0.2727775416316353\n",
      "##### Training #####\n",
      "Number parameters: 50\n",
      "Number parameters active: 50\n"
     ]
    },
    {
     "name": "stderr",
     "output_type": "stream",
     "text": [
      "INFO:root:Number of evaluations: 5094\n",
      "INFO:root:Relative l2 distance train: 0.03891131324960259\n",
      "INFO:root:Relative l2 distance validation: 0.17120852251286772\n",
      "INFO:root:Training time: 3.61338472366333\n",
      "INFO:root:Cumulative training time: 27.863627195358276\n",
      "INFO:root:Cumulative number of evaluations: 46567\n",
      "INFO:root:Model parameters: {'degree_input_polynomials': 0, 'degree_output_polynomials': 3, 'degree_output_denominator': 3, 'degree_input_denominator': 0, 'functions': [], 'function_names': [], 'width': 1, 'degree_output_polynomials_specific': None, 'degree_output_polynomials_denominator_specific': None, 'enforce_function': False, 'maximal_potence': 3}\n",
      "INFO:root:Number parameters: 70\n",
      "INFO:root:Number parameters active: 70\n"
     ]
    },
    {
     "name": "stdout",
     "output_type": "stream",
     "text": [
      "Training time: 3.61338472366333\n",
      "Target expression: None\n",
      "Relative l_2-distance train: 0.03891131324960259\n",
      "Relative l_2-distance validation: 0.17120852251286772\n",
      "##### Training #####\n",
      "Number parameters: 70\n",
      "Number parameters active: 70\n"
     ]
    },
    {
     "name": "stderr",
     "output_type": "stream",
     "text": [
      "INFO:root:Number of evaluations: 5108\n",
      "INFO:root:Relative l2 distance train: 0.022461869100168008\n",
      "INFO:root:Relative l2 distance validation: 0.03255393537415464\n",
      "INFO:root:Training time: 4.99424409866333\n",
      "INFO:root:Cumulative training time: 32.86225152015686\n",
      "INFO:root:Cumulative number of evaluations: 51675\n",
      "INFO:root:Model parameters: {'degree_input_polynomials': 0, 'degree_output_polynomials': 4, 'degree_output_denominator': 3, 'degree_input_denominator': 0, 'functions': [], 'function_names': [], 'width': 1, 'degree_output_polynomials_specific': None, 'degree_output_polynomials_denominator_specific': None, 'enforce_function': False, 'maximal_potence': 3}\n",
      "INFO:root:Number parameters: 101\n",
      "INFO:root:Number parameters active: 101\n"
     ]
    },
    {
     "name": "stdout",
     "output_type": "stream",
     "text": [
      "Training time: 4.99424409866333\n",
      "Target expression: None\n",
      "Relative l_2-distance train: 0.022461869100168008\n",
      "Relative l_2-distance validation: 0.03255393537415464\n",
      "##### Training #####\n",
      "Number parameters: 101\n",
      "Number parameters active: 101\n"
     ]
    },
    {
     "name": "stderr",
     "output_type": "stream",
     "text": [
      "INFO:root:Number of evaluations: 4739\n",
      "INFO:root:Relative l2 distance train: 0.001495305131702687\n",
      "INFO:root:Relative l2 distance validation: 0.0022583414890591127\n",
      "INFO:root:Training time: 5.01837420463562\n",
      "INFO:root:Cumulative training time: 37.88679361343384\n",
      "INFO:root:Cumulative number of evaluations: 56414\n",
      "INFO:root:New best relative l2 distance validation: 0.0022583414890591127\n",
      "INFO:root:Model parameters: {'degree_input_polynomials': 1, 'degree_output_polynomials': 1, 'functions': ['sqrt'], 'function_names': ['sqrt'], 'width': 1, 'degree_input_denominator': 0, 'degree_output_denominator': 0, 'degree_output_polynomials_specific': [1], 'degree_output_polynomials_denominator_specific': [1], 'enforce_function': False, 'maximal_potence': 3}\n",
      "INFO:root:Number parameters: 11\n",
      "INFO:root:Number parameters active: 11\n"
     ]
    },
    {
     "name": "stdout",
     "output_type": "stream",
     "text": [
      "Training time: 5.01837420463562\n",
      "Target expression: None\n",
      "Relative l_2-distance train: 0.001495305131702687\n",
      "Relative l_2-distance validation: 0.0022583414890591127\n",
      "##### Training #####\n",
      "Number parameters: 11\n",
      "Number parameters active: 11\n"
     ]
    },
    {
     "name": "stderr",
     "output_type": "stream",
     "text": [
      "INFO:root:Number of evaluations: 1232\n",
      "INFO:root:Relative l2 distance train: 0.17500446121820853\n",
      "INFO:root:Relative l2 distance validation: 0.1652432434640407\n",
      "INFO:root:Training time: 0.5798766613006592\n",
      "INFO:root:Cumulative training time: 38.4683518409729\n",
      "INFO:root:Cumulative number of evaluations: 57646\n",
      "INFO:root:Model parameters: {'degree_input_polynomials': 1, 'degree_output_polynomials': 1, 'functions': ['sqrt'], 'function_names': ['sqrt'], 'width': 1, 'degree_input_denominator': 0, 'degree_output_denominator': 0, 'degree_output_polynomials_specific': [1], 'degree_output_polynomials_denominator_specific': [1], 'enforce_function': True, 'maximal_potence': 3}\n",
      "INFO:root:Number parameters: 6\n",
      "INFO:root:Number parameters active: 6\n"
     ]
    },
    {
     "name": "stdout",
     "output_type": "stream",
     "text": [
      "Training time: 0.5798766613006592\n",
      "Target expression: None\n",
      "Relative l_2-distance train: 0.17500446121820853\n",
      "Relative l_2-distance validation: 0.1652432434640407\n",
      "##### Training #####\n",
      "Number parameters: 6\n",
      "Number parameters active: 6\n"
     ]
    },
    {
     "name": "stderr",
     "output_type": "stream",
     "text": [
      "INFO:root:Number of evaluations: 1002\n",
      "INFO:root:Relative l2 distance train: 0.3392887576359784\n",
      "INFO:root:Relative l2 distance validation: 0.35252390268263006\n",
      "INFO:root:Training time: 0.42499351501464844\n",
      "INFO:root:Cumulative training time: 38.8949339389801\n",
      "INFO:root:Cumulative number of evaluations: 58648\n",
      "INFO:root:Model parameters: {'degree_input_polynomials': 1, 'degree_output_polynomials': 1, 'functions': ['cos'], 'function_names': ['cos'], 'width': 1, 'degree_input_denominator': 0, 'degree_output_denominator': 0, 'degree_output_polynomials_specific': [1], 'degree_output_polynomials_denominator_specific': [1], 'enforce_function': False, 'maximal_potence': 3}\n",
      "INFO:root:Number parameters: 11\n",
      "INFO:root:Number parameters active: 11\n"
     ]
    },
    {
     "name": "stdout",
     "output_type": "stream",
     "text": [
      "Training time: 0.42499351501464844\n",
      "Target expression: None\n",
      "Relative l_2-distance train: 0.3392887576359784\n",
      "Relative l_2-distance validation: 0.35252390268263006\n",
      "##### Training #####\n",
      "Number parameters: 11\n",
      "Number parameters active: 11\n"
     ]
    },
    {
     "name": "stderr",
     "output_type": "stream",
     "text": [
      "INFO:root:Number of evaluations: 1260\n",
      "INFO:root:Relative l2 distance train: 0.14311937772781627\n",
      "INFO:root:Relative l2 distance validation: 0.13051602580693394\n",
      "INFO:root:Training time: 0.578794002532959\n",
      "INFO:root:Cumulative training time: 39.475340604782104\n",
      "INFO:root:Cumulative number of evaluations: 59908\n",
      "INFO:root:Model parameters: {'degree_input_polynomials': 1, 'degree_output_polynomials': 1, 'functions': ['cos'], 'function_names': ['cos'], 'width': 1, 'degree_input_denominator': 0, 'degree_output_denominator': 0, 'degree_output_polynomials_specific': [1], 'degree_output_polynomials_denominator_specific': [1], 'enforce_function': True, 'maximal_potence': 3}\n",
      "INFO:root:Number parameters: 6\n",
      "INFO:root:Number parameters active: 6\n"
     ]
    },
    {
     "name": "stdout",
     "output_type": "stream",
     "text": [
      "Training time: 0.578794002532959\n",
      "Target expression: None\n",
      "Relative l_2-distance train: 0.14311937772781627\n",
      "Relative l_2-distance validation: 0.13051602580693394\n",
      "##### Training #####\n",
      "Number parameters: 6\n",
      "Number parameters active: 6\n"
     ]
    },
    {
     "name": "stderr",
     "output_type": "stream",
     "text": [
      "INFO:root:Number of evaluations: 716\n",
      "INFO:root:Relative l2 distance train: 2.7606375257548526\n",
      "INFO:root:Relative l2 distance validation: 2.6923892106690634\n",
      "INFO:root:Training time: 0.3024787902832031\n",
      "INFO:root:Cumulative training time: 39.7792181968689\n",
      "INFO:root:Cumulative number of evaluations: 60624\n",
      "INFO:root:Model parameters: {'degree_input_polynomials': 1, 'degree_output_polynomials': 1, 'functions': ['exp'], 'function_names': ['exp'], 'width': 1, 'degree_input_denominator': 0, 'degree_output_denominator': 0, 'degree_output_polynomials_specific': [1], 'degree_output_polynomials_denominator_specific': [1], 'enforce_function': False, 'maximal_potence': 3}\n",
      "INFO:root:Number parameters: 11\n",
      "INFO:root:Number parameters active: 11\n"
     ]
    },
    {
     "name": "stdout",
     "output_type": "stream",
     "text": [
      "Training time: 0.3024787902832031\n",
      "Target expression: None\n",
      "Relative l_2-distance train: 2.7606375257548526\n",
      "Relative l_2-distance validation: 2.6923892106690634\n",
      "##### Training #####\n",
      "Number parameters: 11\n",
      "Number parameters active: 11\n"
     ]
    },
    {
     "name": "stderr",
     "output_type": "stream",
     "text": [
      "INFO:root:Number of evaluations: 1245\n",
      "INFO:root:Relative l2 distance train: 0.14468964074456217\n",
      "INFO:root:Relative l2 distance validation: 0.12531563141426094\n",
      "INFO:root:Training time: 0.6853010654449463\n",
      "INFO:root:Cumulative training time: 40.46618103981018\n",
      "INFO:root:Cumulative number of evaluations: 61869\n",
      "INFO:root:Model parameters: {'degree_input_polynomials': 1, 'degree_output_polynomials': 1, 'functions': ['exp'], 'function_names': ['exp'], 'width': 1, 'degree_input_denominator': 0, 'degree_output_denominator': 0, 'degree_output_polynomials_specific': [1], 'degree_output_polynomials_denominator_specific': [1], 'enforce_function': True, 'maximal_potence': 3}\n",
      "INFO:root:Number parameters: 6\n",
      "INFO:root:Number parameters active: 6\n"
     ]
    },
    {
     "name": "stdout",
     "output_type": "stream",
     "text": [
      "Training time: 0.6853010654449463\n",
      "Target expression: None\n",
      "Relative l_2-distance train: 0.14468964074456217\n",
      "Relative l_2-distance validation: 0.12531563141426094\n",
      "##### Training #####\n",
      "Number parameters: 6\n",
      "Number parameters active: 6\n"
     ]
    },
    {
     "name": "stderr",
     "output_type": "stream",
     "text": [
      "INFO:root:Number of evaluations: 988\n",
      "INFO:root:Relative l2 distance train: 0.1734012904685096\n",
      "INFO:root:Relative l2 distance validation: 0.15055360914975927\n",
      "INFO:root:Training time: 0.4527621269226074\n",
      "INFO:root:Cumulative training time: 40.92085027694702\n",
      "INFO:root:Cumulative number of evaluations: 62857\n",
      "INFO:root:Model parameters: {'degree_input_polynomials': 2, 'degree_output_polynomials': 1, 'functions': ['sqrt'], 'function_names': ['sqrt'], 'width': 1, 'degree_input_denominator': 0, 'degree_output_denominator': 0, 'degree_output_polynomials_specific': [1], 'degree_output_polynomials_denominator_specific': [1], 'enforce_function': False, 'maximal_potence': 3}\n",
      "INFO:root:Number parameters: 21\n",
      "INFO:root:Number parameters active: 21\n"
     ]
    },
    {
     "name": "stdout",
     "output_type": "stream",
     "text": [
      "Training time: 0.4527621269226074\n",
      "Target expression: None\n",
      "Relative l_2-distance train: 0.1734012904685096\n",
      "Relative l_2-distance validation: 0.15055360914975927\n",
      "##### Training #####\n",
      "Number parameters: 21\n",
      "Number parameters active: 21\n"
     ]
    },
    {
     "name": "stderr",
     "output_type": "stream",
     "text": [
      "INFO:root:Number of evaluations: 2241\n",
      "INFO:root:Relative l2 distance train: 0.046567999645406456\n",
      "INFO:root:Relative l2 distance validation: 0.053232226247535\n",
      "INFO:root:Training time: 1.0930452346801758\n",
      "INFO:root:Cumulative training time: 42.01574969291687\n",
      "INFO:root:Cumulative number of evaluations: 65098\n",
      "INFO:root:Model parameters: {'degree_input_polynomials': 2, 'degree_output_polynomials': 1, 'functions': ['sqrt'], 'function_names': ['sqrt'], 'width': 1, 'degree_input_denominator': 0, 'degree_output_denominator': 0, 'degree_output_polynomials_specific': [1], 'degree_output_polynomials_denominator_specific': [1], 'enforce_function': True, 'maximal_potence': 3}\n",
      "INFO:root:Number parameters: 16\n",
      "INFO:root:Number parameters active: 16\n"
     ]
    },
    {
     "name": "stdout",
     "output_type": "stream",
     "text": [
      "Training time: 1.0930452346801758\n",
      "Target expression: None\n",
      "Relative l_2-distance train: 0.046567999645406456\n",
      "Relative l_2-distance validation: 0.053232226247535\n",
      "##### Training #####\n",
      "Number parameters: 16\n",
      "Number parameters active: 16\n"
     ]
    },
    {
     "name": "stderr",
     "output_type": "stream",
     "text": [
      "INFO:root:Number of evaluations: 2163\n",
      "INFO:root:Relative l2 distance train: 0.1408765653665603\n",
      "INFO:root:Relative l2 distance validation: 0.18108611701455513\n",
      "INFO:root:Training time: 0.910780668258667\n",
      "INFO:root:Cumulative training time: 42.928439140319824\n",
      "INFO:root:Cumulative number of evaluations: 67261\n",
      "INFO:root:Model parameters: {'degree_input_polynomials': 2, 'degree_output_polynomials': 1, 'functions': ['cos'], 'function_names': ['cos'], 'width': 1, 'degree_input_denominator': 0, 'degree_output_denominator': 0, 'degree_output_polynomials_specific': [1], 'degree_output_polynomials_denominator_specific': [1], 'enforce_function': False, 'maximal_potence': 3}\n",
      "INFO:root:Number parameters: 21\n",
      "INFO:root:Number parameters active: 21\n"
     ]
    },
    {
     "name": "stdout",
     "output_type": "stream",
     "text": [
      "Training time: 0.910780668258667\n",
      "Target expression: None\n",
      "Relative l_2-distance train: 0.1408765653665603\n",
      "Relative l_2-distance validation: 0.18108611701455513\n",
      "##### Training #####\n",
      "Number parameters: 21\n",
      "Number parameters active: 21\n"
     ]
    },
    {
     "name": "stderr",
     "output_type": "stream",
     "text": [
      "INFO:root:Number of evaluations: 2054\n",
      "INFO:root:Relative l2 distance train: 0.18112700713906021\n",
      "INFO:root:Relative l2 distance validation: 0.17502421258550632\n",
      "INFO:root:Training time: 0.9824597835540771\n",
      "INFO:root:Cumulative training time: 43.91297197341919\n",
      "INFO:root:Cumulative number of evaluations: 69315\n",
      "INFO:root:Model parameters: {'degree_input_polynomials': 2, 'degree_output_polynomials': 1, 'functions': ['cos'], 'function_names': ['cos'], 'width': 1, 'degree_input_denominator': 0, 'degree_output_denominator': 0, 'degree_output_polynomials_specific': [1], 'degree_output_polynomials_denominator_specific': [1], 'enforce_function': True, 'maximal_potence': 3}\n",
      "INFO:root:Number parameters: 16\n",
      "INFO:root:Number parameters active: 16\n"
     ]
    },
    {
     "name": "stdout",
     "output_type": "stream",
     "text": [
      "Training time: 0.9824597835540771\n",
      "Target expression: None\n",
      "Relative l_2-distance train: 0.18112700713906021\n",
      "Relative l_2-distance validation: 0.17502421258550632\n",
      "##### Training #####\n",
      "Number parameters: 16\n",
      "Number parameters active: 16\n"
     ]
    },
    {
     "name": "stderr",
     "output_type": "stream",
     "text": [
      "INFO:root:Number of evaluations: 1807\n",
      "INFO:root:Relative l2 distance train: 2.619838881769492\n",
      "INFO:root:Relative l2 distance validation: 2.680333920730007\n",
      "INFO:root:Training time: 0.7575993537902832\n",
      "INFO:root:Cumulative training time: 44.6725800037384\n",
      "INFO:root:Cumulative number of evaluations: 71122\n",
      "INFO:root:Model parameters: {'degree_input_polynomials': 2, 'degree_output_polynomials': 1, 'functions': ['exp'], 'function_names': ['exp'], 'width': 1, 'degree_input_denominator': 0, 'degree_output_denominator': 0, 'degree_output_polynomials_specific': [1], 'degree_output_polynomials_denominator_specific': [1], 'enforce_function': False, 'maximal_potence': 3}\n",
      "INFO:root:Number parameters: 21\n",
      "INFO:root:Number parameters active: 21\n"
     ]
    },
    {
     "name": "stdout",
     "output_type": "stream",
     "text": [
      "Training time: 0.7575993537902832\n",
      "Target expression: None\n",
      "Relative l_2-distance train: 2.619838881769492\n",
      "Relative l_2-distance validation: 2.680333920730007\n",
      "##### Training #####\n",
      "Number parameters: 21\n",
      "Number parameters active: 21\n"
     ]
    },
    {
     "name": "stderr",
     "output_type": "stream",
     "text": [
      "INFO:root:Number of evaluations: 2492\n",
      "INFO:root:Relative l2 distance train: 0.1827910815811785\n",
      "INFO:root:Relative l2 distance validation: 0.1754486308259725\n",
      "INFO:root:Training time: 1.3257582187652588\n",
      "INFO:root:Cumulative training time: 46.00028324127197\n",
      "INFO:root:Cumulative number of evaluations: 73614\n",
      "INFO:root:Model parameters: {'degree_input_polynomials': 2, 'degree_output_polynomials': 1, 'functions': ['exp'], 'function_names': ['exp'], 'width': 1, 'degree_input_denominator': 0, 'degree_output_denominator': 0, 'degree_output_polynomials_specific': [1], 'degree_output_polynomials_denominator_specific': [1], 'enforce_function': True, 'maximal_potence': 3}\n",
      "INFO:root:Number parameters: 16\n",
      "INFO:root:Number parameters active: 16\n"
     ]
    },
    {
     "name": "stdout",
     "output_type": "stream",
     "text": [
      "Training time: 1.3257582187652588\n",
      "Target expression: None\n",
      "Relative l_2-distance train: 0.1827910815811785\n",
      "Relative l_2-distance validation: 0.1754486308259725\n",
      "##### Training #####\n",
      "Number parameters: 16\n",
      "Number parameters active: 16\n"
     ]
    },
    {
     "name": "stderr",
     "output_type": "stream",
     "text": [
      "INFO:root:Number of evaluations: 2026\n",
      "INFO:root:Relative l2 distance train: 0.041111072067966374\n",
      "INFO:root:Relative l2 distance validation: 0.03982159664063033\n",
      "INFO:root:Training time: 0.9508163928985596\n",
      "INFO:root:Cumulative training time: 46.9529767036438\n",
      "INFO:root:Cumulative number of evaluations: 75640\n",
      "INFO:root:Model parameters: {'degree_input_polynomials': 1, 'degree_output_polynomials': 1, 'functions': ['sqrt'], 'function_names': ['sqrt'], 'width': 1, 'degree_input_denominator': 1, 'degree_output_denominator': 0, 'degree_output_polynomials_specific': [1], 'degree_output_polynomials_denominator_specific': [1], 'enforce_function': False, 'maximal_potence': 3}\n",
      "INFO:root:Number parameters: 16\n",
      "INFO:root:Number parameters active: 16\n"
     ]
    },
    {
     "name": "stdout",
     "output_type": "stream",
     "text": [
      "Training time: 0.9508163928985596\n",
      "Target expression: None\n",
      "Relative l_2-distance train: 0.041111072067966374\n",
      "Relative l_2-distance validation: 0.03982159664063033\n",
      "##### Training #####\n",
      "Number parameters: 16\n",
      "Number parameters active: 16\n"
     ]
    },
    {
     "name": "stderr",
     "output_type": "stream",
     "text": [
      "INFO:root:Number of evaluations: 2741\n",
      "INFO:root:Relative l2 distance train: 0.09058738874325475\n",
      "INFO:root:Relative l2 distance validation: 0.09688020442951956\n",
      "INFO:root:Training time: 1.5758962631225586\n",
      "INFO:root:Cumulative training time: 48.53081560134888\n",
      "INFO:root:Cumulative number of evaluations: 78381\n",
      "INFO:root:Model parameters: {'degree_input_polynomials': 1, 'degree_output_polynomials': 1, 'functions': ['sqrt'], 'function_names': ['sqrt'], 'width': 1, 'degree_input_denominator': 1, 'degree_output_denominator': 0, 'degree_output_polynomials_specific': [1], 'degree_output_polynomials_denominator_specific': [1], 'enforce_function': True, 'maximal_potence': 3}\n",
      "INFO:root:Number parameters: 11\n",
      "INFO:root:Number parameters active: 11\n"
     ]
    },
    {
     "name": "stdout",
     "output_type": "stream",
     "text": [
      "Training time: 1.5758962631225586\n",
      "Target expression: None\n",
      "Relative l_2-distance train: 0.09058738874325475\n",
      "Relative l_2-distance validation: 0.09688020442951956\n",
      "##### Training #####\n",
      "Number parameters: 11\n",
      "Number parameters active: 11\n"
     ]
    },
    {
     "name": "stderr",
     "output_type": "stream",
     "text": [
      "INFO:root:Number of evaluations: 3934\n",
      "INFO:root:Relative l2 distance train: 0.15793362973689043\n",
      "INFO:root:Relative l2 distance validation: 0.13514706052250905\n",
      "INFO:root:Training time: 1.993255376815796\n",
      "INFO:root:Cumulative training time: 50.52582144737244\n",
      "INFO:root:Cumulative number of evaluations: 82315\n",
      "INFO:root:Model parameters: {'degree_input_polynomials': 1, 'degree_output_polynomials': 1, 'functions': ['cos'], 'function_names': ['cos'], 'width': 1, 'degree_input_denominator': 1, 'degree_output_denominator': 0, 'degree_output_polynomials_specific': [1], 'degree_output_polynomials_denominator_specific': [1], 'enforce_function': False, 'maximal_potence': 3}\n",
      "INFO:root:Number parameters: 16\n",
      "INFO:root:Number parameters active: 16\n"
     ]
    },
    {
     "name": "stdout",
     "output_type": "stream",
     "text": [
      "Training time: 1.993255376815796\n",
      "Target expression: None\n",
      "Relative l_2-distance train: 0.15793362973689043\n",
      "Relative l_2-distance validation: 0.13514706052250905\n",
      "##### Training #####\n",
      "Number parameters: 16\n",
      "Number parameters active: 16\n"
     ]
    },
    {
     "name": "stderr",
     "output_type": "stream",
     "text": [
      "INFO:root:Number of evaluations: 2858\n",
      "INFO:root:Relative l2 distance train: 0.09203654623936382\n",
      "INFO:root:Relative l2 distance validation: 0.1103735979094763\n",
      "INFO:root:Training time: 1.63203763961792\n",
      "INFO:root:Cumulative training time: 52.15982127189636\n",
      "INFO:root:Cumulative number of evaluations: 85173\n",
      "INFO:root:Model parameters: {'degree_input_polynomials': 1, 'degree_output_polynomials': 1, 'functions': ['cos'], 'function_names': ['cos'], 'width': 1, 'degree_input_denominator': 1, 'degree_output_denominator': 0, 'degree_output_polynomials_specific': [1], 'degree_output_polynomials_denominator_specific': [1], 'enforce_function': True, 'maximal_potence': 3}\n",
      "INFO:root:Number parameters: 11\n",
      "INFO:root:Number parameters active: 11\n"
     ]
    },
    {
     "name": "stdout",
     "output_type": "stream",
     "text": [
      "Training time: 1.63203763961792\n",
      "Target expression: None\n",
      "Relative l_2-distance train: 0.09203654623936382\n",
      "Relative l_2-distance validation: 0.1103735979094763\n",
      "##### Training #####\n",
      "Number parameters: 11\n",
      "Number parameters active: 11\n"
     ]
    },
    {
     "name": "stderr",
     "output_type": "stream",
     "text": [
      "INFO:root:Number of evaluations: 2677\n",
      "INFO:root:Relative l2 distance train: 1.380238519582754\n",
      "INFO:root:Relative l2 distance validation: 1.5207550739119384\n",
      "INFO:root:Training time: 1.3498260974884033\n",
      "INFO:root:Cumulative training time: 53.51174068450928\n",
      "INFO:root:Cumulative number of evaluations: 87850\n",
      "INFO:root:Model parameters: {'degree_input_polynomials': 1, 'degree_output_polynomials': 1, 'functions': ['exp'], 'function_names': ['exp'], 'width': 1, 'degree_input_denominator': 1, 'degree_output_denominator': 0, 'degree_output_polynomials_specific': [1], 'degree_output_polynomials_denominator_specific': [1], 'enforce_function': False, 'maximal_potence': 3}\n",
      "INFO:root:Number parameters: 16\n",
      "INFO:root:Number parameters active: 16\n"
     ]
    },
    {
     "name": "stdout",
     "output_type": "stream",
     "text": [
      "Training time: 1.3498260974884033\n",
      "Target expression: None\n",
      "Relative l_2-distance train: 1.380238519582754\n",
      "Relative l_2-distance validation: 1.5207550739119384\n",
      "##### Training #####\n",
      "Number parameters: 16\n",
      "Number parameters active: 16\n"
     ]
    },
    {
     "name": "stderr",
     "output_type": "stream",
     "text": [
      "INFO:root:Number of evaluations: 2413\n",
      "INFO:root:Relative l2 distance train: 0.07569868023240849\n",
      "INFO:root:Relative l2 distance validation: 0.08406052004637231\n",
      "INFO:root:Training time: 1.5295157432556152\n",
      "INFO:root:Cumulative training time: 55.04295897483826\n",
      "INFO:root:Cumulative number of evaluations: 90263\n",
      "INFO:root:Model parameters: {'degree_input_polynomials': 1, 'degree_output_polynomials': 1, 'functions': ['exp'], 'function_names': ['exp'], 'width': 1, 'degree_input_denominator': 1, 'degree_output_denominator': 0, 'degree_output_polynomials_specific': [1], 'degree_output_polynomials_denominator_specific': [1], 'enforce_function': True, 'maximal_potence': 3}\n",
      "INFO:root:Number parameters: 11\n",
      "INFO:root:Number parameters active: 11\n"
     ]
    },
    {
     "name": "stdout",
     "output_type": "stream",
     "text": [
      "Training time: 1.5295157432556152\n",
      "Target expression: None\n",
      "Relative l_2-distance train: 0.07569868023240849\n",
      "Relative l_2-distance validation: 0.08406052004637231\n",
      "##### Training #####\n",
      "Number parameters: 11\n",
      "Number parameters active: 11\n"
     ]
    },
    {
     "name": "stderr",
     "output_type": "stream",
     "text": [
      "INFO:root:Number of evaluations: 1909\n",
      "INFO:root:Relative l2 distance train: 0.1391071014697656\n",
      "INFO:root:Relative l2 distance validation: 0.12435098597039909\n",
      "INFO:root:Training time: 1.0737018585205078\n",
      "INFO:root:Cumulative training time: 56.118321895599365\n",
      "INFO:root:Cumulative number of evaluations: 92172\n",
      "INFO:root:Model parameters: {'degree_input_polynomials': 2, 'degree_output_polynomials': 1, 'functions': ['sqrt'], 'function_names': ['sqrt'], 'width': 1, 'degree_input_denominator': 1, 'degree_output_denominator': 0, 'degree_output_polynomials_specific': [1], 'degree_output_polynomials_denominator_specific': [1], 'enforce_function': False, 'maximal_potence': 3}\n",
      "INFO:root:Number parameters: 26\n",
      "INFO:root:Number parameters active: 26\n"
     ]
    },
    {
     "name": "stdout",
     "output_type": "stream",
     "text": [
      "Training time: 1.0737018585205078\n",
      "Target expression: None\n",
      "Relative l_2-distance train: 0.1391071014697656\n",
      "Relative l_2-distance validation: 0.12435098597039909\n",
      "##### Training #####\n",
      "Number parameters: 26\n",
      "Number parameters active: 26\n"
     ]
    },
    {
     "name": "stderr",
     "output_type": "stream",
     "text": [
      "INFO:root:Number of evaluations: 2569\n",
      "INFO:root:Relative l2 distance train: 0.1568614786088103\n",
      "INFO:root:Relative l2 distance validation: 0.16835490956744187\n",
      "INFO:root:Training time: 1.508047103881836\n",
      "INFO:root:Cumulative training time: 57.628573417663574\n",
      "INFO:root:Cumulative number of evaluations: 94741\n",
      "INFO:root:Model parameters: {'degree_input_polynomials': 2, 'degree_output_polynomials': 1, 'functions': ['sqrt'], 'function_names': ['sqrt'], 'width': 1, 'degree_input_denominator': 1, 'degree_output_denominator': 0, 'degree_output_polynomials_specific': [1], 'degree_output_polynomials_denominator_specific': [1], 'enforce_function': True, 'maximal_potence': 3}\n",
      "INFO:root:Number parameters: 21\n",
      "INFO:root:Number parameters active: 21\n"
     ]
    },
    {
     "name": "stdout",
     "output_type": "stream",
     "text": [
      "Training time: 1.508047103881836\n",
      "Target expression: None\n",
      "Relative l_2-distance train: 0.1568614786088103\n",
      "Relative l_2-distance validation: 0.16835490956744187\n",
      "##### Training #####\n",
      "Number parameters: 21\n",
      "Number parameters active: 21\n"
     ]
    },
    {
     "name": "stderr",
     "output_type": "stream",
     "text": [
      "INFO:root:Number of evaluations: 3272\n",
      "INFO:root:Relative l2 distance train: 0.13791368562262774\n",
      "INFO:root:Relative l2 distance validation: 0.18030521221399975\n",
      "INFO:root:Training time: 1.7215356826782227\n",
      "INFO:root:Cumulative training time: 59.35227084159851\n",
      "INFO:root:Cumulative number of evaluations: 98013\n",
      "INFO:root:Model parameters: {'degree_input_polynomials': 2, 'degree_output_polynomials': 1, 'functions': ['cos'], 'function_names': ['cos'], 'width': 1, 'degree_input_denominator': 1, 'degree_output_denominator': 0, 'degree_output_polynomials_specific': [1], 'degree_output_polynomials_denominator_specific': [1], 'enforce_function': False, 'maximal_potence': 3}\n",
      "INFO:root:Number parameters: 26\n",
      "INFO:root:Number parameters active: 26\n"
     ]
    },
    {
     "name": "stdout",
     "output_type": "stream",
     "text": [
      "Training time: 1.7215356826782227\n",
      "Target expression: None\n",
      "Relative l_2-distance train: 0.13791368562262774\n",
      "Relative l_2-distance validation: 0.18030521221399975\n",
      "##### Training #####\n",
      "Number parameters: 26\n",
      "Number parameters active: 26\n"
     ]
    },
    {
     "name": "stderr",
     "output_type": "stream",
     "text": [
      "INFO:root:Number of evaluations: 2155\n",
      "INFO:root:Relative l2 distance train: 0.265092404180135\n",
      "INFO:root:Relative l2 distance validation: 0.2876214055004252\n",
      "INFO:root:Training time: 1.2376971244812012\n",
      "INFO:root:Cumulative training time: 60.5929217338562\n",
      "INFO:root:Cumulative number of evaluations: 100168\n",
      "INFO:root:Model parameters: {'degree_input_polynomials': 2, 'degree_output_polynomials': 1, 'functions': ['cos'], 'function_names': ['cos'], 'width': 1, 'degree_input_denominator': 1, 'degree_output_denominator': 0, 'degree_output_polynomials_specific': [1], 'degree_output_polynomials_denominator_specific': [1], 'enforce_function': True, 'maximal_potence': 3}\n",
      "INFO:root:Number parameters: 21\n",
      "INFO:root:Number parameters active: 21\n"
     ]
    },
    {
     "name": "stdout",
     "output_type": "stream",
     "text": [
      "Training time: 1.2376971244812012\n",
      "Target expression: None\n",
      "Relative l_2-distance train: 0.265092404180135\n",
      "Relative l_2-distance validation: 0.2876214055004252\n",
      "##### Training #####\n",
      "Number parameters: 21\n",
      "Number parameters active: 21\n"
     ]
    },
    {
     "name": "stderr",
     "output_type": "stream",
     "text": [
      "INFO:root:Number of evaluations: 2605\n",
      "INFO:root:Relative l2 distance train: 2.7234345892949374\n",
      "INFO:root:Relative l2 distance validation: 2.871033273903371\n",
      "INFO:root:Training time: 1.3424232006072998\n",
      "INFO:root:Cumulative training time: 61.93743634223938\n",
      "INFO:root:Cumulative number of evaluations: 102773\n",
      "INFO:root:Model parameters: {'degree_input_polynomials': 2, 'degree_output_polynomials': 1, 'functions': ['exp'], 'function_names': ['exp'], 'width': 1, 'degree_input_denominator': 1, 'degree_output_denominator': 0, 'degree_output_polynomials_specific': [1], 'degree_output_polynomials_denominator_specific': [1], 'enforce_function': False, 'maximal_potence': 3}\n",
      "INFO:root:Number parameters: 26\n",
      "INFO:root:Number parameters active: 26\n"
     ]
    },
    {
     "name": "stdout",
     "output_type": "stream",
     "text": [
      "Training time: 1.3424232006072998\n",
      "Target expression: None\n",
      "Relative l_2-distance train: 2.7234345892949374\n",
      "Relative l_2-distance validation: 2.871033273903371\n",
      "##### Training #####\n",
      "Number parameters: 26\n",
      "Number parameters active: 26\n"
     ]
    },
    {
     "name": "stderr",
     "output_type": "stream",
     "text": [
      "INFO:root:Number of evaluations: 908\n",
      "INFO:root:Relative l2 distance train: 0.18181747970445722\n",
      "INFO:root:Relative l2 distance validation: 0.1747793538052086\n",
      "INFO:root:Training time: 0.5537228584289551\n",
      "INFO:root:Cumulative training time: 62.49330401420593\n",
      "INFO:root:Cumulative number of evaluations: 103681\n",
      "INFO:root:Model parameters: {'degree_input_polynomials': 2, 'degree_output_polynomials': 1, 'functions': ['exp'], 'function_names': ['exp'], 'width': 1, 'degree_input_denominator': 1, 'degree_output_denominator': 0, 'degree_output_polynomials_specific': [1], 'degree_output_polynomials_denominator_specific': [1], 'enforce_function': True, 'maximal_potence': 3}\n",
      "INFO:root:Number parameters: 21\n",
      "INFO:root:Number parameters active: 21\n",
      "INFO:root:Number of evaluations: 47\n",
      "INFO:root:Relative l2 distance train: 128.93436698917904\n",
      "INFO:root:Relative l2 distance validation: 106.81550848714404\n",
      "INFO:root:Training time: 0.02222752571105957\n",
      "INFO:root:Cumulative training time: 62.51803684234619\n",
      "INFO:root:Cumulative number of evaluations: 103728\n",
      "INFO:root:Model parameters: {'degree_input_polynomials': 1, 'degree_output_polynomials': 1, 'functions': ['sqrt'], 'function_names': ['sqrt'], 'width': 1, 'degree_input_denominator': 2, 'degree_output_denominator': 0, 'degree_output_polynomials_specific': [1], 'degree_output_polynomials_denominator_specific': [1], 'enforce_function': False, 'maximal_potence': 3}\n",
      "INFO:root:Number parameters: 26\n",
      "INFO:root:Number parameters active: 26\n"
     ]
    },
    {
     "name": "stdout",
     "output_type": "stream",
     "text": [
      "Training time: 0.5537228584289551\n",
      "Target expression: None\n",
      "Relative l_2-distance train: 0.18181747970445722\n",
      "Relative l_2-distance validation: 0.1747793538052086\n",
      "##### Training #####\n",
      "Number parameters: 21\n",
      "Number parameters active: 21\n",
      "Training time: 0.02222752571105957\n",
      "Target expression: None\n",
      "Relative l_2-distance train: 128.93436698917904\n",
      "Relative l_2-distance validation: 106.81550848714404\n",
      "##### Training #####\n",
      "Number parameters: 26\n",
      "Number parameters active: 26\n"
     ]
    },
    {
     "name": "stderr",
     "output_type": "stream",
     "text": [
      "INFO:root:Number of evaluations: 3779\n",
      "INFO:root:Relative l2 distance train: 0.02723379414444421\n",
      "INFO:root:Relative l2 distance validation: 0.030622951513354972\n",
      "INFO:root:Training time: 2.228224992752075\n",
      "INFO:root:Cumulative training time: 64.7482500076294\n",
      "INFO:root:Cumulative number of evaluations: 107507\n",
      "INFO:root:Model parameters: {'degree_input_polynomials': 1, 'degree_output_polynomials': 1, 'functions': ['sqrt'], 'function_names': ['sqrt'], 'width': 1, 'degree_input_denominator': 2, 'degree_output_denominator': 0, 'degree_output_polynomials_specific': [1], 'degree_output_polynomials_denominator_specific': [1], 'enforce_function': True, 'maximal_potence': 3}\n",
      "INFO:root:Number parameters: 21\n",
      "INFO:root:Number parameters active: 21\n"
     ]
    },
    {
     "name": "stdout",
     "output_type": "stream",
     "text": [
      "Training time: 2.228224992752075\n",
      "Target expression: None\n",
      "Relative l_2-distance train: 0.02723379414444421\n",
      "Relative l_2-distance validation: 0.030622951513354972\n",
      "##### Training #####\n",
      "Number parameters: 21\n",
      "Number parameters active: 21\n"
     ]
    },
    {
     "name": "stderr",
     "output_type": "stream",
     "text": [
      "INFO:root:Number of evaluations: 4079\n",
      "INFO:root:Relative l2 distance train: 0.746996493253091\n",
      "INFO:root:Relative l2 distance validation: 1.3408442335496236\n",
      "INFO:root:Training time: 2.144378900527954\n",
      "INFO:root:Cumulative training time: 66.89466261863708\n",
      "INFO:root:Cumulative number of evaluations: 111586\n",
      "INFO:root:Model parameters: {'degree_input_polynomials': 1, 'degree_output_polynomials': 1, 'functions': ['cos'], 'function_names': ['cos'], 'width': 1, 'degree_input_denominator': 2, 'degree_output_denominator': 0, 'degree_output_polynomials_specific': [1], 'degree_output_polynomials_denominator_specific': [1], 'enforce_function': False, 'maximal_potence': 3}\n",
      "INFO:root:Number parameters: 26\n",
      "INFO:root:Number parameters active: 26\n"
     ]
    },
    {
     "name": "stdout",
     "output_type": "stream",
     "text": [
      "Training time: 2.144378900527954\n",
      "Target expression: None\n",
      "Relative l_2-distance train: 0.746996493253091\n",
      "Relative l_2-distance validation: 1.3408442335496236\n",
      "##### Training #####\n",
      "Number parameters: 26\n",
      "Number parameters active: 26\n"
     ]
    },
    {
     "name": "stderr",
     "output_type": "stream",
     "text": [
      "INFO:root:Number of evaluations: 4174\n",
      "INFO:root:Relative l2 distance train: 0.04844385306619434\n",
      "INFO:root:Relative l2 distance validation: 0.19264931350903075\n",
      "INFO:root:Training time: 2.4285500049591064\n",
      "INFO:root:Cumulative training time: 69.32522702217102\n",
      "INFO:root:Cumulative number of evaluations: 115760\n",
      "INFO:root:Model parameters: {'degree_input_polynomials': 1, 'degree_output_polynomials': 1, 'functions': ['cos'], 'function_names': ['cos'], 'width': 1, 'degree_input_denominator': 2, 'degree_output_denominator': 0, 'degree_output_polynomials_specific': [1], 'degree_output_polynomials_denominator_specific': [1], 'enforce_function': True, 'maximal_potence': 3}\n",
      "INFO:root:Number parameters: 21\n",
      "INFO:root:Number parameters active: 21\n"
     ]
    },
    {
     "name": "stdout",
     "output_type": "stream",
     "text": [
      "Training time: 2.4285500049591064\n",
      "Target expression: None\n",
      "Relative l_2-distance train: 0.04844385306619434\n",
      "Relative l_2-distance validation: 0.19264931350903075\n",
      "##### Training #####\n",
      "Number parameters: 21\n",
      "Number parameters active: 21\n"
     ]
    },
    {
     "name": "stderr",
     "output_type": "stream",
     "text": [
      "INFO:root:Number of evaluations: 3335\n",
      "INFO:root:Relative l2 distance train: 0.9546978640715017\n",
      "INFO:root:Relative l2 distance validation: 1.3821408827612718\n",
      "INFO:root:Training time: 1.7095272541046143\n",
      "INFO:root:Cumulative training time: 71.03675532341003\n",
      "INFO:root:Cumulative number of evaluations: 119095\n",
      "INFO:root:Model parameters: {'degree_input_polynomials': 1, 'degree_output_polynomials': 1, 'functions': ['exp'], 'function_names': ['exp'], 'width': 1, 'degree_input_denominator': 2, 'degree_output_denominator': 0, 'degree_output_polynomials_specific': [1], 'degree_output_polynomials_denominator_specific': [1], 'enforce_function': False, 'maximal_potence': 3}\n",
      "INFO:root:Number parameters: 26\n",
      "INFO:root:Number parameters active: 26\n"
     ]
    },
    {
     "name": "stdout",
     "output_type": "stream",
     "text": [
      "Training time: 1.7095272541046143\n",
      "Target expression: None\n",
      "Relative l_2-distance train: 0.9546978640715017\n",
      "Relative l_2-distance validation: 1.3821408827612718\n",
      "##### Training #####\n",
      "Number parameters: 26\n",
      "Number parameters active: 26\n"
     ]
    },
    {
     "name": "stderr",
     "output_type": "stream",
     "text": [
      "INFO:root:Number of evaluations: 3191\n",
      "INFO:root:Relative l2 distance train: 0.7307338045115238\n",
      "INFO:root:Relative l2 distance validation: 0.7024169098247253\n",
      "INFO:root:Training time: 2.0457663536071777\n",
      "INFO:root:Cumulative training time: 73.0850133895874\n",
      "INFO:root:Cumulative number of evaluations: 122286\n",
      "INFO:root:Model parameters: {'degree_input_polynomials': 1, 'degree_output_polynomials': 1, 'functions': ['exp'], 'function_names': ['exp'], 'width': 1, 'degree_input_denominator': 2, 'degree_output_denominator': 0, 'degree_output_polynomials_specific': [1], 'degree_output_polynomials_denominator_specific': [1], 'enforce_function': True, 'maximal_potence': 3}\n",
      "INFO:root:Number parameters: 21\n",
      "INFO:root:Number parameters active: 21\n"
     ]
    },
    {
     "name": "stdout",
     "output_type": "stream",
     "text": [
      "Training time: 2.0457663536071777\n",
      "Target expression: None\n",
      "Relative l_2-distance train: 0.7307338045115238\n",
      "Relative l_2-distance validation: 0.7024169098247253\n",
      "##### Training #####\n",
      "Number parameters: 21\n",
      "Number parameters active: 21\n"
     ]
    },
    {
     "name": "stderr",
     "output_type": "stream",
     "text": [
      "INFO:root:Number of evaluations: 3596\n",
      "INFO:root:Relative l2 distance train: 2.777982910302428\n",
      "INFO:root:Relative l2 distance validation: 2.6948262334269937\n",
      "INFO:root:Training time: 2.0796871185302734\n",
      "INFO:root:Cumulative training time: 75.16695523262024\n",
      "INFO:root:Cumulative number of evaluations: 125882\n",
      "INFO:root:Model parameters: {'degree_input_polynomials': 2, 'degree_output_polynomials': 1, 'functions': ['sqrt'], 'function_names': ['sqrt'], 'width': 1, 'degree_input_denominator': 2, 'degree_output_denominator': 0, 'degree_output_polynomials_specific': [1], 'degree_output_polynomials_denominator_specific': [1], 'enforce_function': False, 'maximal_potence': 3}\n",
      "INFO:root:Number parameters: 36\n",
      "INFO:root:Number parameters active: 36\n"
     ]
    },
    {
     "name": "stdout",
     "output_type": "stream",
     "text": [
      "Training time: 2.0796871185302734\n",
      "Target expression: None\n",
      "Relative l_2-distance train: 2.777982910302428\n",
      "Relative l_2-distance validation: 2.6948262334269937\n",
      "##### Training #####\n",
      "Number parameters: 36\n",
      "Number parameters active: 36\n"
     ]
    },
    {
     "name": "stderr",
     "output_type": "stream",
     "text": [
      "INFO:root:Number of evaluations: 4630\n",
      "INFO:root:Relative l2 distance train: 0.025091384806009313\n",
      "INFO:root:Relative l2 distance validation: 0.024427643622541725\n",
      "INFO:root:Training time: 2.7861952781677246\n",
      "INFO:root:Cumulative training time: 77.95568442344666\n",
      "INFO:root:Cumulative number of evaluations: 130512\n",
      "INFO:root:Model parameters: {'degree_input_polynomials': 2, 'degree_output_polynomials': 1, 'functions': ['sqrt'], 'function_names': ['sqrt'], 'width': 1, 'degree_input_denominator': 2, 'degree_output_denominator': 0, 'degree_output_polynomials_specific': [1], 'degree_output_polynomials_denominator_specific': [1], 'enforce_function': True, 'maximal_potence': 3}\n",
      "INFO:root:Number parameters: 31\n",
      "INFO:root:Number parameters active: 31\n"
     ]
    },
    {
     "name": "stdout",
     "output_type": "stream",
     "text": [
      "Training time: 2.7861952781677246\n",
      "Target expression: None\n",
      "Relative l_2-distance train: 0.025091384806009313\n",
      "Relative l_2-distance validation: 0.024427643622541725\n",
      "##### Training #####\n",
      "Number parameters: 31\n",
      "Number parameters active: 31\n"
     ]
    },
    {
     "name": "stderr",
     "output_type": "stream",
     "text": [
      "INFO:root:Number of evaluations: 5287\n",
      "INFO:root:Relative l2 distance train: 0.5865125425608894\n",
      "INFO:root:Relative l2 distance validation: 0.4152942192447311\n",
      "INFO:root:Training time: 2.82586669921875\n",
      "INFO:root:Cumulative training time: 80.78407955169678\n",
      "INFO:root:Cumulative number of evaluations: 135799\n",
      "INFO:root:Model parameters: {'degree_input_polynomials': 2, 'degree_output_polynomials': 1, 'functions': ['cos'], 'function_names': ['cos'], 'width': 1, 'degree_input_denominator': 2, 'degree_output_denominator': 0, 'degree_output_polynomials_specific': [1], 'degree_output_polynomials_denominator_specific': [1], 'enforce_function': False, 'maximal_potence': 3}\n",
      "INFO:root:Number parameters: 36\n",
      "INFO:root:Number parameters active: 36\n"
     ]
    },
    {
     "name": "stdout",
     "output_type": "stream",
     "text": [
      "Training time: 2.82586669921875\n",
      "Target expression: None\n",
      "Relative l_2-distance train: 0.5865125425608894\n",
      "Relative l_2-distance validation: 0.4152942192447311\n",
      "##### Training #####\n",
      "Number parameters: 36\n",
      "Number parameters active: 36\n"
     ]
    },
    {
     "name": "stderr",
     "output_type": "stream",
     "text": [
      "INFO:root:Number of evaluations: 4208\n",
      "INFO:root:Relative l2 distance train: 0.028524428503353284\n",
      "INFO:root:Relative l2 distance validation: 0.03177562590551201\n",
      "INFO:root:Training time: 2.486736536026001\n",
      "INFO:root:Cumulative training time: 83.27325868606567\n",
      "INFO:root:Cumulative number of evaluations: 140007\n",
      "INFO:root:Model parameters: {'degree_input_polynomials': 2, 'degree_output_polynomials': 1, 'functions': ['cos'], 'function_names': ['cos'], 'width': 1, 'degree_input_denominator': 2, 'degree_output_denominator': 0, 'degree_output_polynomials_specific': [1], 'degree_output_polynomials_denominator_specific': [1], 'enforce_function': True, 'maximal_potence': 3}\n",
      "INFO:root:Number parameters: 31\n",
      "INFO:root:Number parameters active: 31\n"
     ]
    },
    {
     "name": "stdout",
     "output_type": "stream",
     "text": [
      "Training time: 2.486736536026001\n",
      "Target expression: None\n",
      "Relative l_2-distance train: 0.028524428503353284\n",
      "Relative l_2-distance validation: 0.03177562590551201\n",
      "##### Training #####\n",
      "Number parameters: 31\n",
      "Number parameters active: 31\n"
     ]
    },
    {
     "name": "stderr",
     "output_type": "stream",
     "text": [
      "INFO:root:Number of evaluations: 4146\n",
      "INFO:root:Relative l2 distance train: 2.702660595823449\n",
      "INFO:root:Relative l2 distance validation: 2.7073709065421583\n",
      "INFO:root:Training time: 2.223317861557007\n",
      "INFO:root:Cumulative training time: 85.499187707901\n",
      "INFO:root:Cumulative number of evaluations: 144153\n",
      "INFO:root:Model parameters: {'degree_input_polynomials': 2, 'degree_output_polynomials': 1, 'functions': ['exp'], 'function_names': ['exp'], 'width': 1, 'degree_input_denominator': 2, 'degree_output_denominator': 0, 'degree_output_polynomials_specific': [1], 'degree_output_polynomials_denominator_specific': [1], 'enforce_function': False, 'maximal_potence': 3}\n",
      "INFO:root:Number parameters: 36\n",
      "INFO:root:Number parameters active: 36\n"
     ]
    },
    {
     "name": "stdout",
     "output_type": "stream",
     "text": [
      "Training time: 2.223317861557007\n",
      "Target expression: None\n",
      "Relative l_2-distance train: 2.702660595823449\n",
      "Relative l_2-distance validation: 2.7073709065421583\n",
      "##### Training #####\n",
      "Number parameters: 36\n",
      "Number parameters active: 36\n"
     ]
    },
    {
     "name": "stderr",
     "output_type": "stream",
     "text": [
      "INFO:root:Number of evaluations: 1259\n",
      "INFO:root:Relative l2 distance train: 1921.2119911331245\n",
      "INFO:root:Relative l2 distance validation: 1484.4719518660727\n",
      "INFO:root:Training time: 0.813957691192627\n",
      "INFO:root:Cumulative training time: 86.31564831733704\n",
      "INFO:root:Cumulative number of evaluations: 145412\n",
      "INFO:root:Model parameters: {'degree_input_polynomials': 2, 'degree_output_polynomials': 1, 'functions': ['exp'], 'function_names': ['exp'], 'width': 1, 'degree_input_denominator': 2, 'degree_output_denominator': 0, 'degree_output_polynomials_specific': [1], 'degree_output_polynomials_denominator_specific': [1], 'enforce_function': True, 'maximal_potence': 3}\n",
      "INFO:root:Number parameters: 31\n",
      "INFO:root:Number parameters active: 31\n"
     ]
    },
    {
     "name": "stdout",
     "output_type": "stream",
     "text": [
      "Training time: 0.813957691192627\n",
      "Target expression: None\n",
      "Relative l_2-distance train: 1921.2119911331245\n",
      "Relative l_2-distance validation: 1484.4719518660727\n",
      "##### Training #####\n",
      "Number parameters: 31\n",
      "Number parameters active: 31\n"
     ]
    },
    {
     "name": "stderr",
     "output_type": "stream",
     "text": [
      "INFO:root:Number of evaluations: 3322\n",
      "INFO:root:Relative l2 distance train: 0.01685649871377114\n",
      "INFO:root:Relative l2 distance validation: 0.01578434387046828\n",
      "INFO:root:Training time: 1.961618185043335\n",
      "INFO:root:Cumulative training time: 88.27973556518555\n",
      "INFO:root:Cumulative number of evaluations: 148734\n",
      "INFO:root:Model parameters: {'degree_input_polynomials': 1, 'degree_output_polynomials': 2, 'functions': ['sqrt'], 'function_names': ['sqrt'], 'width': 1, 'degree_input_denominator': 0, 'degree_output_denominator': 0, 'degree_output_polynomials_specific': [1], 'degree_output_polynomials_denominator_specific': [1], 'enforce_function': False, 'maximal_potence': 3}\n",
      "INFO:root:Number parameters: 25\n",
      "INFO:root:Number parameters active: 25\n"
     ]
    },
    {
     "name": "stdout",
     "output_type": "stream",
     "text": [
      "Training time: 1.961618185043335\n",
      "Target expression: None\n",
      "Relative l_2-distance train: 0.01685649871377114\n",
      "Relative l_2-distance validation: 0.01578434387046828\n",
      "##### Training #####\n",
      "Number parameters: 25\n",
      "Number parameters active: 25\n"
     ]
    },
    {
     "name": "stderr",
     "output_type": "stream",
     "text": [
      "INFO:root:Number of evaluations: 1638\n",
      "INFO:root:Relative l2 distance train: 0.023094336102675007\n",
      "INFO:root:Relative l2 distance validation: 0.023368240903921287\n",
      "INFO:root:Training time: 1.425581455230713\n",
      "INFO:root:Cumulative training time: 89.70745515823364\n",
      "INFO:root:Cumulative number of evaluations: 150372\n",
      "INFO:root:Model parameters: {'degree_input_polynomials': 1, 'degree_output_polynomials': 2, 'functions': ['sqrt'], 'function_names': ['sqrt'], 'width': 1, 'degree_input_denominator': 0, 'degree_output_denominator': 0, 'degree_output_polynomials_specific': [1], 'degree_output_polynomials_denominator_specific': [1], 'enforce_function': True, 'maximal_potence': 3}\n",
      "INFO:root:Number parameters: 10\n",
      "INFO:root:Number parameters active: 10\n"
     ]
    },
    {
     "name": "stdout",
     "output_type": "stream",
     "text": [
      "Training time: 1.425581455230713\n",
      "Target expression: None\n",
      "Relative l_2-distance train: 0.023094336102675007\n",
      "Relative l_2-distance validation: 0.023368240903921287\n",
      "##### Training #####\n",
      "Number parameters: 10\n",
      "Number parameters active: 10\n"
     ]
    },
    {
     "name": "stderr",
     "output_type": "stream",
     "text": [
      "INFO:root:Number of evaluations: 1345\n",
      "INFO:root:Relative l2 distance train: 0.07074495348783953\n",
      "INFO:root:Relative l2 distance validation: 0.07545048232695059\n",
      "INFO:root:Training time: 0.9059977531433105\n",
      "INFO:root:Cumulative training time: 90.61505079269409\n",
      "INFO:root:Cumulative number of evaluations: 151717\n",
      "INFO:root:Model parameters: {'degree_input_polynomials': 1, 'degree_output_polynomials': 2, 'functions': ['cos'], 'function_names': ['cos'], 'width': 1, 'degree_input_denominator': 0, 'degree_output_denominator': 0, 'degree_output_polynomials_specific': [1], 'degree_output_polynomials_denominator_specific': [1], 'enforce_function': False, 'maximal_potence': 3}\n",
      "INFO:root:Number parameters: 25\n",
      "INFO:root:Number parameters active: 25\n"
     ]
    },
    {
     "name": "stdout",
     "output_type": "stream",
     "text": [
      "Training time: 0.9059977531433105\n",
      "Target expression: None\n",
      "Relative l_2-distance train: 0.07074495348783953\n",
      "Relative l_2-distance validation: 0.07545048232695059\n",
      "##### Training #####\n",
      "Number parameters: 25\n",
      "Number parameters active: 25\n"
     ]
    },
    {
     "name": "stderr",
     "output_type": "stream",
     "text": [
      "INFO:root:Number of evaluations: 1843\n",
      "INFO:root:Relative l2 distance train: 0.01961996083352315\n",
      "INFO:root:Relative l2 distance validation: 0.020048714526652953\n",
      "INFO:root:Training time: 1.6065235137939453\n",
      "INFO:root:Cumulative training time: 92.22372817993164\n",
      "INFO:root:Cumulative number of evaluations: 153560\n",
      "INFO:root:Model parameters: {'degree_input_polynomials': 1, 'degree_output_polynomials': 2, 'functions': ['cos'], 'function_names': ['cos'], 'width': 1, 'degree_input_denominator': 0, 'degree_output_denominator': 0, 'degree_output_polynomials_specific': [1], 'degree_output_polynomials_denominator_specific': [1], 'enforce_function': True, 'maximal_potence': 3}\n",
      "INFO:root:Number parameters: 10\n",
      "INFO:root:Number parameters active: 10\n"
     ]
    },
    {
     "name": "stdout",
     "output_type": "stream",
     "text": [
      "Training time: 1.6065235137939453\n",
      "Target expression: None\n",
      "Relative l_2-distance train: 0.01961996083352315\n",
      "Relative l_2-distance validation: 0.020048714526652953\n",
      "##### Training #####\n",
      "Number parameters: 10\n",
      "Number parameters active: 10\n"
     ]
    },
    {
     "name": "stderr",
     "output_type": "stream",
     "text": [
      "INFO:root:Number of evaluations: 1505\n",
      "INFO:root:Relative l2 distance train: 0.07449497672403774\n",
      "INFO:root:Relative l2 distance validation: 0.07217949785265211\n",
      "INFO:root:Training time: 0.9943985939025879\n",
      "INFO:root:Cumulative training time: 93.21982622146606\n",
      "INFO:root:Cumulative number of evaluations: 155065\n",
      "INFO:root:Model parameters: {'degree_input_polynomials': 1, 'degree_output_polynomials': 2, 'functions': ['exp'], 'function_names': ['exp'], 'width': 1, 'degree_input_denominator': 0, 'degree_output_denominator': 0, 'degree_output_polynomials_specific': [1], 'degree_output_polynomials_denominator_specific': [1], 'enforce_function': False, 'maximal_potence': 3}\n",
      "INFO:root:Number parameters: 25\n",
      "INFO:root:Number parameters active: 25\n"
     ]
    },
    {
     "name": "stdout",
     "output_type": "stream",
     "text": [
      "Training time: 0.9943985939025879\n",
      "Target expression: None\n",
      "Relative l_2-distance train: 0.07449497672403774\n",
      "Relative l_2-distance validation: 0.07217949785265211\n",
      "##### Training #####\n",
      "Number parameters: 25\n",
      "Number parameters active: 25\n"
     ]
    },
    {
     "name": "stderr",
     "output_type": "stream",
     "text": [
      "INFO:root:Number of evaluations: 1910\n",
      "INFO:root:Relative l2 distance train: 0.023182569087206378\n",
      "INFO:root:Relative l2 distance validation: 0.02366105303802664\n",
      "INFO:root:Training time: 1.774078130722046\n",
      "INFO:root:Cumulative training time: 94.99624061584473\n",
      "INFO:root:Cumulative number of evaluations: 156975\n",
      "INFO:root:Model parameters: {'degree_input_polynomials': 1, 'degree_output_polynomials': 2, 'functions': ['exp'], 'function_names': ['exp'], 'width': 1, 'degree_input_denominator': 0, 'degree_output_denominator': 0, 'degree_output_polynomials_specific': [1], 'degree_output_polynomials_denominator_specific': [1], 'enforce_function': True, 'maximal_potence': 3}\n",
      "INFO:root:Number parameters: 10\n",
      "INFO:root:Number parameters active: 10\n"
     ]
    },
    {
     "name": "stdout",
     "output_type": "stream",
     "text": [
      "Training time: 1.774078130722046\n",
      "Target expression: None\n",
      "Relative l_2-distance train: 0.023182569087206378\n",
      "Relative l_2-distance validation: 0.02366105303802664\n",
      "##### Training #####\n",
      "Number parameters: 10\n",
      "Number parameters active: 10\n"
     ]
    },
    {
     "name": "stderr",
     "output_type": "stream",
     "text": [
      "INFO:root:Number of evaluations: 1524\n",
      "INFO:root:Relative l2 distance train: 0.14601914640181246\n",
      "INFO:root:Relative l2 distance validation: 0.13643488602978696\n",
      "INFO:root:Training time: 1.0846774578094482\n",
      "INFO:root:Cumulative training time: 96.08258438110352\n",
      "INFO:root:Cumulative number of evaluations: 158499\n",
      "INFO:root:Model parameters: {'degree_input_polynomials': 2, 'degree_output_polynomials': 2, 'functions': ['sqrt'], 'function_names': ['sqrt'], 'width': 1, 'degree_input_denominator': 0, 'degree_output_denominator': 0, 'degree_output_polynomials_specific': [1], 'degree_output_polynomials_denominator_specific': [1], 'enforce_function': False, 'maximal_potence': 3}\n",
      "INFO:root:Number parameters: 35\n",
      "INFO:root:Number parameters active: 35\n"
     ]
    },
    {
     "name": "stdout",
     "output_type": "stream",
     "text": [
      "Training time: 1.0846774578094482\n",
      "Target expression: None\n",
      "Relative l_2-distance train: 0.14601914640181246\n",
      "Relative l_2-distance validation: 0.13643488602978696\n",
      "##### Training #####\n",
      "Number parameters: 35\n",
      "Number parameters active: 35\n"
     ]
    },
    {
     "name": "stderr",
     "output_type": "stream",
     "text": [
      "INFO:root:Number of evaluations: 4027\n",
      "INFO:root:Relative l2 distance train: 0.00032481008631229984\n",
      "INFO:root:Relative l2 distance validation: 0.00032817492889557887\n",
      "INFO:root:Training time: 3.669748067855835\n",
      "INFO:root:Cumulative training time: 99.75501370429993\n",
      "INFO:root:Cumulative number of evaluations: 162526\n",
      "INFO:root:New best relative l2 distance validation: 0.00032817492889557887\n",
      "INFO:root:Model parameters: {'degree_input_polynomials': 2, 'degree_output_polynomials': 2, 'functions': ['sqrt'], 'function_names': ['sqrt'], 'width': 1, 'degree_input_denominator': 0, 'degree_output_denominator': 0, 'degree_output_polynomials_specific': [1], 'degree_output_polynomials_denominator_specific': [1], 'enforce_function': True, 'maximal_potence': 3}\n",
      "INFO:root:Number parameters: 20\n",
      "INFO:root:Number parameters active: 20\n"
     ]
    },
    {
     "name": "stdout",
     "output_type": "stream",
     "text": [
      "Training time: 3.669748067855835\n",
      "Target expression: None\n",
      "Relative l_2-distance train: 0.00032481008631229984\n",
      "Relative l_2-distance validation: 0.00032817492889557887\n",
      "##### Training #####\n",
      "Number parameters: 20\n",
      "Number parameters active: 20\n"
     ]
    },
    {
     "name": "stderr",
     "output_type": "stream",
     "text": [
      "INFO:root:Number of evaluations: 4726\n",
      "INFO:root:Relative l2 distance train: 7.53151849457589e-06\n",
      "INFO:root:Relative l2 distance validation: 8.180310709956026e-06\n",
      "INFO:root:Training time: 3.3246750831604004\n",
      "INFO:root:Cumulative training time: 103.08168458938599\n",
      "INFO:root:Cumulative number of evaluations: 167252\n",
      "INFO:root:New best relative l2 distance validation: 8.180310709956026e-06\n",
      "INFO:root:Terminate proccess, wanted accuracy 0.001 and number of active parameters 4 / 10 was reached\n",
      "INFO:root:Time for multiprocessing in total: 103.15348362922668\n",
      "INFO:root:Finetuning with this cut off would not change anything.\n"
     ]
    },
    {
     "name": "stdout",
     "output_type": "stream",
     "text": [
      "Training time: 3.3246750831604004\n",
      "Target expression: None\n",
      "Relative l_2-distance train: 7.53151849457589e-06\n",
      "Relative l_2-distance validation: 8.180310709956026e-06\n",
      "Terminate proccess, wanted accuracy 0.001 and number of active parameters 4 / 10 was reached\n"
     ]
    },
    {
     "name": "stderr",
     "output_type": "stream",
     "text": [
      "INFO:root:Finetuning with this cut off would not change anything.\n",
      "INFO:root:Finetuning with this cut off would not change anything.\n",
      "INFO:root:Finetuning with this cut off would not change anything.\n",
      "INFO:root:Finetuning with this cut off would not change anything.\n",
      "INFO:root:Best distance (train, val, test): (tensor(7.5315e-06, dtype=torch.float64), tensor(8.1803e-06, dtype=torch.float64), tensor(7.8988e-06, dtype=torch.float64))\n",
      "INFO:root:Best formula: 1.133*x0*sqrt(Abs(0.779*x1**2 + 0.779*x2**2 + 0.779*x3**2)) best training time: 3.3246750831604004\n"
     ]
    }
   ],
   "source": [
    "# If one has more time, one can also simply use the 'big' configuration (config_files/wrapper/big.ini) in the following way\n",
    "parfam = ParFamWrapper(iterate=True, config_name='big')\n",
    "parfam.fit(x, y, seed=1234, time_limit=500)"
   ]
  },
  {
   "cell_type": "code",
   "execution_count": 19,
   "metadata": {},
   "outputs": [
    {
     "name": "stdout",
     "output_type": "stream",
     "text": [
      "Target formula: mom*(x**2 + y**2 + z**2)**0.5\n",
      "Computed formula: 0.999996865495087*x0*sqrt(Abs(x1**2 + x2**2 + x3**2))\n"
     ]
    }
   ],
   "source": [
    "print(f'Target formula: {target_expr}')\n",
    "print(f'Computed formula: {parfam.formula_reduced.simplify()}')"
   ]
  },
  {
   "cell_type": "code",
   "execution_count": 20,
   "metadata": {},
   "outputs": [
    {
     "name": "stdout",
     "output_type": "stream",
     "text": [
      "Relative l2 distance: 3.357728362046558e-08\n"
     ]
    }
   ],
   "source": [
    "y_pred = parfam.predict(x).cpu().detach().numpy()\n",
    "print(f'Relative l2 distance: {np.linalg.norm(y - y_pred, ord=2) / np.linalg.norm(y, ord=2)}')"
   ]
  },
  {
   "cell_type": "markdown",
   "metadata": {},
   "source": [
    "# Custom loss\n",
    "\n",
    "Try the custom_loss from parfam_wrapper:\n",
    "\n",
    "Instead of fitting f(x) to y (||f(x)-y||), fit f(x) to y^2 (||f(x)-y^2||). In this case, the same could be achieved with by simply recasting $\\tilde y= y^2$, but this custom_loss can be modified to arbitrary settings, that might be not possible otherwise."
   ]
  },
  {
   "cell_type": "code",
   "execution_count": 21,
   "metadata": {},
   "outputs": [
    {
     "name": "stderr",
     "output_type": "stream",
     "text": [
      "/home/math/scholl/projects/physicalLawLearning/parfam/train.py:1632: UserWarning: To copy construct from a tensor, it is recommended to use sourceTensor.clone().detach() or sourceTensor.clone().detach().requires_grad_(True), rather than torch.tensor(sourceTensor).\n",
      "  x, y = torch.tensor(x, device=training_parameters['device']), torch.tensor(y, device=training_parameters['device'])\n",
      "INFO:root:Sequential computation\n",
      "INFO:root:Model parameters: {'degree_input_polynomials': 2, 'degree_output_polynomials': 4, 'degree_input_denominator': 0, 'degree_output_denominator': 0, 'degree_output_polynomials_specific': [], 'degree_output_polynomials_denominator_specific': [], 'width': 1, 'function_names': [], 'enforce_function': False, 'maximal_potence': 4, 'functions': []}\n",
      "INFO:root:Number parameters: 5\n",
      "INFO:root:Number parameters active: 5\n"
     ]
    },
    {
     "name": "stdout",
     "output_type": "stream",
     "text": [
      "Training parameters: {'normalization': False, 'time_limit': 100, 'evaluations_limit': 1000000, 'max_dataset_length': 500, 'model': 'ParFamTorch', 'target_noise': 0.0, 'feature_noise': 0.0, 'seed': 1234, 'accuracy': 0.0001, 'maxiter1': 100, 'maxiter2': 0, 'optimizer': 'basinhopping', 'pruning_iterations': 1, 'pruning_cut_off': 0.01, 'classifier': None, 'local_minimizer': 'BFGS', 'maxiter_per_dim_local_minimizer': 100, 'lambda_1': 0.001, 'repetitions': 1, 'parallel': False, 'n_processes': 4, 'lambda_1_cut': 0, 'lambda_1_piecewise': 0, 'device': 'cpu', 'iterative_finetuning': True, 'max_n_active_parameters': 10, 'lambda_1_finetuning': 1e-05, 'path_pretrained': 'Flexible dimension/full_19_big_training_sets/20240427_070711_5M/Datetime_20240427_070717_Loss_training_set_size_797545_batch_size_341_hidden_dim_256.pt', 'topk_predictions': 10, 'enforce_function_iterate': 'False'}\n",
      "Sequential computation\n",
      "##### Training #####\n",
      "Number parameters: 5\n",
      "Number parameters active: 5\n"
     ]
    },
    {
     "name": "stderr",
     "output_type": "stream",
     "text": [
      "INFO:root:Number of evaluations: 0\n",
      "INFO:root:Custom loss train: 2.2422072318067243e-07\n",
      "INFO:root:Custom loss val: 2.6112640888481205e-07\n",
      "INFO:root:Training time: 0.6908495426177979\n",
      "INFO:root:Cumulative training time: 0.6919922828674316\n",
      "INFO:root:Cumulative number of evaluations: 0\n",
      "INFO:root:New best custom loss validation: 2.6112640888481205e-07\n",
      "INFO:root:Terminate proccess, wanted accuracy 0.001 and number of active parameters 2 / 10 was reached\n",
      "INFO:root:Time for multiprocessing in total: 0.6949994564056396\n",
      "INFO:root:Finetuning with this cut off would not change anything.\n",
      "INFO:root:Finetuning with this cut off would not change anything.\n",
      "INFO:root:Finetuning with this cut off would not change anything.\n",
      "INFO:root:Finetuning with this cut off would not change anything.\n",
      "INFO:root:Finetuning with this cut off would not change anything.\n",
      "INFO:root:Finetuning with this cut off would not change anything.\n",
      "INFO:root:Finetuning with this cut off would not change anything.\n",
      "INFO:root:Best distance (train, val, test): (tensor(2.2422e-07, dtype=torch.float64), tensor(2.6113e-07, dtype=torch.float64), tensor(2.4205e-07, dtype=torch.float64))\n",
      "INFO:root:Best formula: 1.0*x0**2 + 1.0*x0 best training time: 0.6908495426177979\n"
     ]
    },
    {
     "name": "stdout",
     "output_type": "stream",
     "text": [
      "Training time: 0.6908495426177979\n",
      "Target expression: None\n",
      "Custom loss train: 2.2422072318067243e-07\n",
      "Custom loss val: 2.6112640888481205e-07\n",
      "Terminate proccess, wanted accuracy 0.001 and number of active parameters 2 / 10 was reached\n"
     ]
    },
    {
     "data": {
      "text/plain": [
       "<matplotlib.legend.Legend at 0x7f639749e480>"
      ]
     },
     "execution_count": 21,
     "metadata": {},
     "output_type": "execute_result"
    },
    {
     "data": {
      "image/png": "[encoded data removed]",
      "text/plain": [
       "<Figure size 640x480 with 1 Axes>"
      ]
     },
     "metadata": {},
     "output_type": "display_data"
    }
   ],
   "source": [
    "functions = []\n",
    "function_names = []\n",
    "\n",
    "n_data_points = 500 \n",
    "\n",
    "x = np.linspace(0, 5, n_data_points).reshape(n_data_points,1)\n",
    "y = ((x**2 + x)**(1/2)).flatten()\n",
    "\n",
    "\n",
    "# The loss function needs to include 3 parameters:\n",
    "# - y_pred: the prediction of the model\n",
    "# - y: The \"target\" in general; This is the only parameter that is directly chosen as an input by the user, as part of the function .fit(x, y).\n",
    "# - coefficients: the coefficients of ParFam. Usually this is interesting for regularization. Note, that it is only used during training and not testing,\n",
    "#                 therefore, it is important to include the case that coefficients=None.\n",
    "def custom_loss(y_pred, y, coefficients):\n",
    "    if coefficients is None:\n",
    "        reg = 0\n",
    "    else: \n",
    "        reg = torch.norm(coefficients, p=1)\n",
    "    return torch.norm(y_pred - y**2, p=2) / torch.norm(y, p=2) + 0.001 * reg\n",
    "\n",
    "parfam = ParFamWrapper(config_name='small', iterate=False, degree_input_denominator=0, degree_output_denominator=0, function_names=function_names, functions=functions, \n",
    "                        degree_output_numerator=4, maximal_potence=4)\n",
    "parfam.fit(x=x, y=y, custom_loss=custom_loss)\n",
    "\n",
    "y_pred = parfam.predict(x)\n",
    "\n",
    "plt.plot(x, y**2, '+', label='Samples squared')\n",
    "plt.plot(x, y_pred, label='Prediction')\n",
    "plt.legend()"
   ]
  },
  {
   "cell_type": "code",
   "execution_count": 22,
   "metadata": {},
   "outputs": [
    {
     "data": {
      "text/latex": [
       "$\\displaystyle 1.0 x^{2} + 1.0 x$"
      ],
      "text/plain": [
       "1.0*x**2 + 1.0*x"
      ]
     },
     "execution_count": 22,
     "metadata": {},
     "output_type": "execute_result"
    }
   ],
   "source": [
    "parfam.get_formula(['x'])"
   ]
  },
  {
   "cell_type": "markdown",
   "metadata": {},
   "source": []
  }
 ],
 "metadata": {
  "kernelspec": {
   "display_name": "parfam",
   "language": "python",
   "name": "python3"
  },
  "language_info": {
   "codemirror_mode": {
    "name": "ipython",
    "version": 3
   },
   "file_extension": ".py",
   "mimetype": "text/x-python",
   "name": "python",
   "nbconvert_exporter": "python",
   "pygments_lexer": "ipython3",
   "version": "3.12.2"
  }
 },
 "nbformat": 4,
 "nbformat_minor": 2
}
