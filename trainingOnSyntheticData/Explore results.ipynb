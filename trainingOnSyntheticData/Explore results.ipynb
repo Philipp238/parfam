{
 "cells": [
  {
   "cell_type": "code",
   "execution_count": 1,
   "id": "4a3003eb",
   "metadata": {},
   "outputs": [],
   "source": [
    "import pandas as pd\n",
    "import numpy as np\n",
    "import matplotlib.pyplot as plt\n",
    "\n",
    "import os \n",
    "from glob import glob"
   ]
  },
  {
   "cell_type": "markdown",
   "id": "fee8a82b-fd72-43eb-b2ac-2e159d73ed16",
   "metadata": {
    "tags": []
   },
   "source": [
    "## Exploring the results of ParFam vs DL-ParFam"
   ]
  },
  {
   "cell_type": "code",
   "execution_count": 2,
   "id": "27b03230",
   "metadata": {},
   "outputs": [],
   "source": [
    "files = {50: ['20230811_152333_results_iter_50.csv', '20230811_155210_results_iter_50.csv', \n",
    "              '20230811_162935_results_iter_50.csv'], \n",
    "        100: ['20230809_163746_results_iter_100.csv', '20230809_172056_results_iter_100.csv',\n",
    "             '20230811_144228_results_iter_100.csv'],\n",
    "        500: ['20230809_171749_results_iter_500.csv', '20230810_095849_results_iter_500.csv',\n",
    "             '20230812_000614_results_iter_500.csv'],\n",
    "        1000: ['20230809_125708_results_iter_1000.csv', '20230809_142011_results_iter_1000.csv',\n",
    "              '20230811_170837_results_iter_1000.csv']}"
   ]
  },
  {
   "cell_type": "code",
   "execution_count": 3,
   "id": "700536fb",
   "metadata": {},
   "outputs": [],
   "source": [
    "results_list = []\n",
    "for key in files.keys():\n",
    "    for file in files[key]:\n",
    "        result = pd.read_csv(file, index_col=0)\n",
    "        result['iter'] = key\n",
    "        results_list.append(result)"
   ]
  },
  {
   "cell_type": "code",
   "execution_count": 4,
   "id": "f8727556",
   "metadata": {},
   "outputs": [
    {
     "data": {
      "text/html": [
       "<div>\n",
       "<style scoped>\n",
       "    .dataframe tbody tr th:only-of-type {\n",
       "        vertical-align: middle;\n",
       "    }\n",
       "\n",
       "    .dataframe tbody tr th {\n",
       "        vertical-align: top;\n",
       "    }\n",
       "\n",
       "    .dataframe thead th {\n",
       "        text-align: right;\n",
       "    }\n",
       "</style>\n",
       "<table border=\"1\" class=\"dataframe\">\n",
       "  <thead>\n",
       "    <tr style=\"text-align: right;\">\n",
       "      <th></th>\n",
       "      <th>classifier</th>\n",
       "      <th>iter</th>\n",
       "      <th>rel_l2_distance</th>\n",
       "      <th>success</th>\n",
       "      <th>training_time</th>\n",
       "    </tr>\n",
       "  </thead>\n",
       "  <tbody>\n",
       "    <tr>\n",
       "      <th>0</th>\n",
       "      <td>False</td>\n",
       "      <td>50</td>\n",
       "      <td>0.271440</td>\n",
       "      <td>0.32</td>\n",
       "      <td>12.661418</td>\n",
       "    </tr>\n",
       "    <tr>\n",
       "      <th>1</th>\n",
       "      <td>False</td>\n",
       "      <td>100</td>\n",
       "      <td>0.303898</td>\n",
       "      <td>0.30</td>\n",
       "      <td>24.465190</td>\n",
       "    </tr>\n",
       "    <tr>\n",
       "      <th>2</th>\n",
       "      <td>False</td>\n",
       "      <td>500</td>\n",
       "      <td>0.190862</td>\n",
       "      <td>0.43</td>\n",
       "      <td>748.221433</td>\n",
       "    </tr>\n",
       "    <tr>\n",
       "      <th>3</th>\n",
       "      <td>False</td>\n",
       "      <td>1000</td>\n",
       "      <td>0.226762</td>\n",
       "      <td>0.37</td>\n",
       "      <td>220.583152</td>\n",
       "    </tr>\n",
       "    <tr>\n",
       "      <th>4</th>\n",
       "      <td>True</td>\n",
       "      <td>50</td>\n",
       "      <td>0.249856</td>\n",
       "      <td>0.48</td>\n",
       "      <td>6.882555</td>\n",
       "    </tr>\n",
       "    <tr>\n",
       "      <th>5</th>\n",
       "      <td>True</td>\n",
       "      <td>100</td>\n",
       "      <td>0.249994</td>\n",
       "      <td>0.46</td>\n",
       "      <td>11.906587</td>\n",
       "    </tr>\n",
       "    <tr>\n",
       "      <th>6</th>\n",
       "      <td>True</td>\n",
       "      <td>500</td>\n",
       "      <td>0.131505</td>\n",
       "      <td>0.66</td>\n",
       "      <td>55.479544</td>\n",
       "    </tr>\n",
       "    <tr>\n",
       "      <th>7</th>\n",
       "      <td>True</td>\n",
       "      <td>1000</td>\n",
       "      <td>0.110687</td>\n",
       "      <td>0.69</td>\n",
       "      <td>106.897338</td>\n",
       "    </tr>\n",
       "  </tbody>\n",
       "</table>\n",
       "</div>"
      ],
      "text/plain": [
       "   classifier  iter  rel_l2_distance  success  training_time\n",
       "0       False    50         0.271440     0.32      12.661418\n",
       "1       False   100         0.303898     0.30      24.465190\n",
       "2       False   500         0.190862     0.43     748.221433\n",
       "3       False  1000         0.226762     0.37     220.583152\n",
       "4        True    50         0.249856     0.48       6.882555\n",
       "5        True   100         0.249994     0.46      11.906587\n",
       "6        True   500         0.131505     0.66      55.479544\n",
       "7        True  1000         0.110687     0.69     106.897338"
      ]
     },
     "execution_count": 4,
     "metadata": {},
     "output_type": "execute_result"
    }
   ],
   "source": [
    "results = pd.concat(results_list)\n",
    "results_avg = results.groupby(['classifier', 'iter'], as_index=False).mean()\n",
    "results_avg"
   ]
  },
  {
   "cell_type": "code",
   "execution_count": 5,
   "id": "f5c8de14",
   "metadata": {},
   "outputs": [
    {
     "data": {
      "image/png": "[encoded data removed]",
      "text/plain": [
       "<Figure size 500x300 with 1 Axes>"
      ]
     },
     "metadata": {},
     "output_type": "display_data"
    }
   ],
   "source": [
    "results_avg_class = results_avg[results_avg['classifier']]\n",
    "results_avg_standard = results_avg[~ results_avg['classifier']]\n",
    "plt.figure(figsize=(5, 3))\n",
    "plt.plot(results_avg_class['iter'], results_avg_class['success'], label='DL-ParFam')\n",
    "plt.plot(results_avg_standard['iter'], results_avg_standard['success'], label='ParFam')\n",
    "plt.xlabel('Number of iterations')\n",
    "plt.ylabel('Symbolic formula recovery rate')\n",
    "plt.legend()\n",
    "plt.tight_layout()"
   ]
  },
  {
   "cell_type": "code",
   "execution_count": 6,
   "id": "2b49749f-77b2-42ff-9ece-c5b6fde3e495",
   "metadata": {},
   "outputs": [
    {
     "data": {
      "text/html": [
       "<div>\n",
       "<style scoped>\n",
       "    .dataframe tbody tr th:only-of-type {\n",
       "        vertical-align: middle;\n",
       "    }\n",
       "\n",
       "    .dataframe tbody tr th {\n",
       "        vertical-align: top;\n",
       "    }\n",
       "\n",
       "    .dataframe thead th {\n",
       "        text-align: right;\n",
       "    }\n",
       "</style>\n",
       "<table border=\"1\" class=\"dataframe\">\n",
       "  <thead>\n",
       "    <tr style=\"text-align: right;\">\n",
       "      <th></th>\n",
       "      <th>classifier</th>\n",
       "      <th>iter</th>\n",
       "      <th>rel_l2_distance</th>\n",
       "      <th>success</th>\n",
       "      <th>training_time</th>\n",
       "    </tr>\n",
       "  </thead>\n",
       "  <tbody>\n",
       "    <tr>\n",
       "      <th>0</th>\n",
       "      <td>False</td>\n",
       "      <td>50</td>\n",
       "      <td>0.271440</td>\n",
       "      <td>0.320000</td>\n",
       "      <td>12.661418</td>\n",
       "    </tr>\n",
       "    <tr>\n",
       "      <th>1</th>\n",
       "      <td>False</td>\n",
       "      <td>100</td>\n",
       "      <td>0.295852</td>\n",
       "      <td>0.300000</td>\n",
       "      <td>24.465190</td>\n",
       "    </tr>\n",
       "    <tr>\n",
       "      <th>2</th>\n",
       "      <td>False</td>\n",
       "      <td>500</td>\n",
       "      <td>0.217638</td>\n",
       "      <td>0.423729</td>\n",
       "      <td>115.663396</td>\n",
       "    </tr>\n",
       "    <tr>\n",
       "      <th>3</th>\n",
       "      <td>False</td>\n",
       "      <td>1000</td>\n",
       "      <td>0.227689</td>\n",
       "      <td>0.350000</td>\n",
       "      <td>220.583152</td>\n",
       "    </tr>\n",
       "    <tr>\n",
       "      <th>4</th>\n",
       "      <td>True</td>\n",
       "      <td>50</td>\n",
       "      <td>0.249856</td>\n",
       "      <td>0.480000</td>\n",
       "      <td>6.882555</td>\n",
       "    </tr>\n",
       "    <tr>\n",
       "      <th>5</th>\n",
       "      <td>True</td>\n",
       "      <td>100</td>\n",
       "      <td>0.287056</td>\n",
       "      <td>0.433333</td>\n",
       "      <td>11.906587</td>\n",
       "    </tr>\n",
       "    <tr>\n",
       "      <th>6</th>\n",
       "      <td>True</td>\n",
       "      <td>500</td>\n",
       "      <td>0.149921</td>\n",
       "      <td>0.683333</td>\n",
       "      <td>55.479544</td>\n",
       "    </tr>\n",
       "    <tr>\n",
       "      <th>7</th>\n",
       "      <td>True</td>\n",
       "      <td>1000</td>\n",
       "      <td>0.136279</td>\n",
       "      <td>0.666667</td>\n",
       "      <td>106.897338</td>\n",
       "    </tr>\n",
       "  </tbody>\n",
       "</table>\n",
       "</div>"
      ],
      "text/plain": [
       "   classifier  iter  rel_l2_distance   success  training_time\n",
       "0       False    50         0.271440  0.320000      12.661418\n",
       "1       False   100         0.295852  0.300000      24.465190\n",
       "2       False   500         0.217638  0.423729     115.663396\n",
       "3       False  1000         0.227689  0.350000     220.583152\n",
       "4        True    50         0.249856  0.480000       6.882555\n",
       "5        True   100         0.287056  0.433333      11.906587\n",
       "6        True   500         0.149921  0.683333      55.479544\n",
       "7        True  1000         0.136279  0.666667     106.897338"
      ]
     },
     "execution_count": 6,
     "metadata": {},
     "output_type": "execute_result"
    }
   ],
   "source": [
    "results[results['training_time'] < 10000].groupby(['classifier', 'iter'], as_index=False).mean()"
   ]
  },
  {
   "cell_type": "code",
   "execution_count": 7,
   "id": "7cc2c329-81dd-4f1e-9817-e3f9183cca22",
   "metadata": {},
   "outputs": [
    {
     "data": {
      "text/plain": [
       "Index(['formula', 'classifier', 'rel_l2_distance', 'success',\n",
       "       'estimated_formula', 'training_time', 'iter'],\n",
       "      dtype='object')"
      ]
     },
     "execution_count": 7,
     "metadata": {},
     "output_type": "execute_result"
    }
   ],
   "source": [
    "results.columns"
   ]
  },
  {
   "cell_type": "markdown",
   "id": "c82e7ccf-ac05-4d6f-91fb-b80283f19aac",
   "metadata": {
    "tags": []
   },
   "source": [
    "## The synthetic dataset"
   ]
  },
  {
   "cell_type": "code",
   "execution_count": 8,
   "id": "e27f1048-f9f7-40c1-af89-ef8db36df805",
   "metadata": {},
   "outputs": [
    {
     "name": "stdout",
     "output_type": "stream",
     "text": [
      "1. & $y=1.357 \\sin{\\left(4.072 x^{2} + 1.044 \\right)}$ \\\\ \\hline\n",
      "2. & $y=- 2.909 x \\sin{\\left(8.746 x^{2} - 1.637 x + 0.72 \\right)} + 2.591$ \\\\ \\hline\n",
      "3. & $y=4.131 x \\sin{\\left(1.933 x^{2} - 0.549 x + 3.205 \\right)} - 2.847 \\sin{\\left(1.933 x^{2} - 0.549 x + 3.205 \\right)} \\sqrt{\\left|{1.344 x + 1.678}\\right|}$ \\\\ \\hline\n",
      "4. & $y=0.771 x \\sqrt{\\left|{3.293 x^{2} + 0.878 x + 1.837}\\right|} + 3.64 \\sin{\\left(0.824 x^{2} - 8.78 x + 1.936 \\right)}$ \\\\ \\hline\n",
      "5. & $y=- 1.375 x$ \\\\ \\hline\n",
      "6. & $y=- 6.339 x \\sin{\\left(6.961 x \\right)} + 2.891$ \\\\ \\hline\n",
      "7. & $y=0.944 x \\sin{\\left(2.042 x^{2} + 5.451 x + 3.97 \\right)} + 0.548 x$ \\\\ \\hline\n",
      "8. & $y=- 3.907 x \\sin{\\left(5.384 x^{2} \\right)} + 2.681 \\sin{\\left(5.384 x^{2} \\right)} \\sqrt{\\left|{0.276 x^{2} + 2.406 x - 1.149}\\right|}$ \\\\ \\hline\n",
      "9. & $y=4.276 x + 2.025 \\sin{\\left(3.93 x \\right)}$ \\\\ \\hline\n",
      "10. & $y=- 3.00775414005201 x \\sqrt{\\left|{x^{2}}\\right|} - 2.751 \\sin{\\left(0.231 x^{2} - 1.3 \\right)}$ \\\\ \\hline\n",
      "11. & $y=- 2.189 x^{2} - 2.828 \\sin{\\left(0.188 x^{2} + 0.63 \\right)}$ \\\\ \\hline\n",
      "12. & $y=- 0.317 \\sin{\\left(- 2.351 x^{2} + 1.448 x + 2.344 \\right)} - 6.667$ \\\\ \\hline\n",
      "13. & $y=2.154 x + 3.064 \\sin{\\left(4.773 x^{2} \\right)} \\sqrt{\\left|{4.491 x - 0.423}\\right|}$ \\\\ \\hline\n",
      "14. & $y=- 0.772 x^{2} + 0.333 x \\sin{\\left(2.938 x^{2} + 2.245 x \\right)}$ \\\\ \\hline\n",
      "15. & $y=- 6.929 \\sin{\\left(2.451 x^{2} + 2.37 x + 4.415 \\right)} \\sqrt{\\left|{2.486 x - 1.428}\\right|} - 1.873 \\sin{\\left(2.451 x^{2} + 2.37 x + 4.415 \\right)}$ \\\\ \\hline\n",
      "16. & $y=- 0.528 x^{2} - 0.601 \\sin{\\left(3.249 x^{2} \\right)}$ \\\\ \\hline\n",
      "17. & $y=- 3.77 \\sin{\\left(0.577 x \\right)} \\sqrt{\\left|{0.981 x - 2.192}\\right|}$ \\\\ \\hline\n",
      "18. & $y=1.076 \\sin{\\left(0.189 x \\right)}$ \\\\ \\hline\n",
      "19. & $y=- 2.046 x$ \\\\ \\hline\n",
      "20. & $y=1.60844082887746 \\sin{\\left(5.982 x - 2.644 \\right)} \\sqrt{\\left|{x^{2}}\\right|}$ \\\\ \\hline\n"
     ]
    }
   ],
   "source": [
    "import sympy\n",
    "import numpy as np\n",
    "np.random.seed(12345)\n",
    "formulas = results.groupby('formula').first().sample(frac=1).index\n",
    "for i, formula in enumerate(formulas[:20]):\n",
    "    formula = formula.replace('x0', 'x')\n",
    "    print(f'{i+1}. & $y={sympy.latex(sympy.parse_expr(formula))}$ \\\\\\\\ \\\\hline')"
   ]
  },
  {
   "cell_type": "markdown",
   "id": "130f4698-06ff-48f3-92c1-adae09757650",
   "metadata": {
    "tags": []
   },
   "source": [
    "## The classifier network"
   ]
  },
  {
   "cell_type": "code",
   "execution_count": 45,
   "id": "30c7652f-d0ba-4fa9-9228-30923622b001",
   "metadata": {},
   "outputs": [
    {
     "data": {
      "text/plain": [
       "Index(['algorithm', 'dataset', 'target_noise', 'data_group', 'random_state',\n",
       "       'process_time', 'training time (s)', 'feature_noise', 'model_size',\n",
       "       'mse_train', 'mae_train', 'r2_train', 'mse_test', 'mae_test', 'r2_test',\n",
       "       'simplified_complexity', 'symbolic_error_is_zero',\n",
       "       'symbolic_error_is_constant', 'symbolic_fraction_is_constant',\n",
       "       'training time (hr)', 'r2_zero_test', 'symbolic_solution',\n",
       "       'algorithm_count', 'random_state_repeats', 'accuracy_solution',\n",
       "       'accuracy_solution_rate', 'symbolic_solution_rate',\n",
       "       'model_size_rank_per_trial', 'mse_test_rank_per_trial',\n",
       "       'mae_test_rank_per_trial', 'r2_test_rank_per_trial',\n",
       "       'r2_zero_test_rank_per_trial', 'model_size_rank', 'model_size_norm',\n",
       "       'mse_test_rank', 'mse_test_norm', 'mae_test_rank', 'mae_test_norm',\n",
       "       'r2_test_rank', 'r2_test_norm', 'r2_zero_test_rank',\n",
       "       'r2_zero_test_norm', 'accuracy_solution_rate_rank',\n",
       "       'accuracy_solution_rate_norm', 'symbolic_solution_rate_rank',\n",
       "       'symbolic_solution_rate_norm', 'accuracy_solution_rate_(%)',\n",
       "       'symbolic_solution_rate_(%)', 'rmse_test', 'log_mse_test', 'Unnamed: 0',\n",
       "       'Index', 'maximal_n_functions', 'maxiter1', 'accuracy', 'time_limit',\n",
       "       'evaluations_limit', 'iterative_finetuning', 'max_n_active_parameters',\n",
       "       'target_formula', 'estimated_formula', 'relative_l2_val',\n",
       "       'r_squared_val', 'r_squared_test', 'success', 'n_active_coefficients',\n",
       "       'n_active_coefficients_reduced', 'relative_l2_distance_test_reduced',\n",
       "       'r_squared_test_reduced', 'r_squared_val_reduced',\n",
       "       'best_formula_reduced', 'n_evaluations', 'n_active_coefficients_final',\n",
       "       'estimated_formula_final', 'accuracy_solution_final',\n",
       "       'simplified_formulas'],\n",
       "      dtype='object')"
      ]
     },
     "execution_count": 45,
     "metadata": {},
     "output_type": "execute_result"
    }
   ],
   "source": [
    "df_sum.columns"
   ]
  },
  {
   "cell_type": "code",
   "execution_count": 18,
   "id": "de15f331-d69b-45d2-a64e-e07e23985418",
   "metadata": {},
   "outputs": [],
   "source": [
    "os.chdir(os.path.dirname(os.getcwd()))"
   ]
  },
  {
   "cell_type": "code",
   "execution_count": 22,
   "id": "450bc9d1-b487-4ce5-9b44-7c53fdc9c031",
   "metadata": {},
   "outputs": [],
   "source": [
    "import torch\n",
    "from utils import create_dataset\n",
    "dataset_size = 2000000\n",
    "hidden_neurons = 200\n",
    "n_batches = 500\n",
    "net_path = (f'trainingOnSyntheticData/results/20230807_213046_train/model_training_set_size_{dataset_size}_hidden_neurons_{hidden_neurons}_n_batches_{n_batches}.pt')\n",
    "\n",
    "net = torch.load(net_path, map_location=torch.device('cpu'))"
   ]
  },
  {
   "cell_type": "code",
   "execution_count": 35,
   "id": "c83d1a3f-6e1e-4195-836b-006889ec7381",
   "metadata": {},
   "outputs": [
    {
     "name": "stderr",
     "output_type": "stream",
     "text": [
      "/home/philipp/projects/phyiscalLawLearning/ForNet/ParFamTorch/utils.py:263: UserWarning: To copy construct from a tensor, it is recommended to use sourceTensor.clone().detach() or sourceTensor.clone().detach().requires_grad_(True), rather than torch.tensor(sourceTensor).\n",
      "  y = torch.tensor(y, dtype=torch.float, device=device)\n"
     ]
    }
   ],
   "source": [
    "test_set_size = 10000\n",
    "functions = [torch.sin, lambda x: torch.sqrt(torch.abs(x))]\n",
    "function_names = [sympy.sin, lambda x: sympy.sqrt(sympy.Abs(x))]\n",
    "degree_output_polynomials = 2\n",
    "degree_input_polynomials = 2\n",
    "width = 1\n",
    "degree_output_polynomials_specific = [1, 1]\n",
    "degree_output_denominator = 0\n",
    "degree_input_denominator = 0\n",
    "enforce_function = False\n",
    "n_functions_max = 2\n",
    "\n",
    "iter_standard = 2000\n",
    "iter_classifier = 2000\n",
    "iter2 = 0\n",
    "optimizer = 'basinhopping'\n",
    "lambda_1 = 0.001\n",
    "accuracy = 0.0001\n",
    "\n",
    "torch.manual_seed(1234)\n",
    "np.random.seed(1234)\n",
    "y, a, params = create_dataset(test_set_size, True, degree_input_polynomials,\n",
    "                              degree_output_polynomials,\n",
    "                              width, functions, function_names, device='cpu', normalization=False,\n",
    "                              degree_output_polynomials_specific=degree_output_polynomials_specific,\n",
    "                              enforce_function=enforce_function, n_functions_max=n_functions_max)\n",
    "successes_standard = 0"
   ]
  },
  {
   "cell_type": "code",
   "execution_count": 36,
   "id": "af9c8e25-b610-43cc-b0cc-15c1536cf6b2",
   "metadata": {},
   "outputs": [
    {
     "data": {
      "text/plain": [
       "torch.Size([10000, 200])"
      ]
     },
     "execution_count": 36,
     "metadata": {},
     "output_type": "execute_result"
    }
   ],
   "source": [
    "y.shape"
   ]
  },
  {
   "cell_type": "code",
   "execution_count": 37,
   "id": "0c540959-d24d-45ed-9c2e-56812603172f",
   "metadata": {},
   "outputs": [],
   "source": [
    "def evaluate_covering(y, a_target, name, quantile, net):\n",
    "    # Get the score of how many formulas got a complete covering (all important coefficients have been marked as\n",
    "    # important).\n",
    "    # Furthermore, calculate the average number of coefficients, in the case that a full covering has been reached.\n",
    "    prediction = net(y).cpu().detach().numpy()\n",
    "    if quantile:\n",
    "        cutoff = np.quantile(prediction, 0.7)\n",
    "        description = 'quantile cutoff'\n",
    "    else:\n",
    "        cutoff = 0.2\n",
    "        description = '0.2 cutoff'\n",
    "    a_pred = (prediction > cutoff).astype(int)\n",
    "    a_target = a_target.cpu().detach().numpy().squeeze(-1)\n",
    "\n",
    "    complete_coverings = np.sum(a_target > a_pred, axis=1) == 0\n",
    "    covering_score = np.round(sum(complete_coverings) / y.shape[0], decimals=5)\n",
    "\n",
    "    print(f'Covering score ({name} data) ({description}): {covering_score}')\n",
    "\n",
    "    coverings = a_pred[complete_coverings]\n",
    "    avg_complete_cover_size = coverings.mean()\n",
    "\n",
    "    print(f'Complete cover size ({name} data) ({description}): {avg_complete_cover_size}')"
   ]
  },
  {
   "cell_type": "code",
   "execution_count": 38,
   "id": "1e3c415a-16dd-45a6-88cf-bdf329313491",
   "metadata": {},
   "outputs": [
    {
     "name": "stdout",
     "output_type": "stream",
     "text": [
      "Covering score (test data) (0.2 cutoff): 0.9132\n",
      "Complete cover size (test data) (0.2 cutoff): 0.26615199299167763\n"
     ]
    }
   ],
   "source": [
    "evaluate_covering(y, a, 'test', False, net)"
   ]
  }
 ],
 "metadata": {
  "kernelspec": {
   "display_name": "Python 3 (ipykernel)",
   "language": "python",
   "name": "python3"
  },
  "language_info": {
   "codemirror_mode": {
    "name": "ipython",
    "version": 3
   },
   "file_extension": ".py",
   "mimetype": "text/x-python",
   "name": "python",
   "nbconvert_exporter": "python",
   "pygments_lexer": "ipython3",
   "version": "3.10.8"
  }
 },
 "nbformat": 4,
 "nbformat_minor": 5
}
