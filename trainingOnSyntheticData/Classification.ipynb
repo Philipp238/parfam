{
 "cells": [
  {
   "cell_type": "markdown",
   "id": "1f9d7171",
   "metadata": {},
   "source": [
    "The goal is to train a neural network to predict whether a parameter must be non-zero or not"
   ]
  },
  {
   "cell_type": "code",
   "execution_count": 3,
   "id": "c7bac7cd",
   "metadata": {
    "collapsed": true,
    "jupyter": {
     "outputs_hidden": true
    }
   },
   "outputs": [
    {
     "name": "stdout",
     "output_type": "stream",
     "text": [
      "Collecting package metadata (current_repodata.json): done\n",
      "Solving environment: done\n",
      "\n",
      "## Package Plan ##\n",
      "\n",
      "  environment location: /opt/conda\n",
      "\n",
      "  added / updated specs:\n",
      "    - sympy\n",
      "\n",
      "\n",
      "The following packages will be downloaded:\n",
      "\n",
      "    package                    |            build\n",
      "    ---------------------------|-----------------\n",
      "    ca-certificates-2022.12.7  |       ha878542_0         143 KB  conda-forge\n",
      "    certifi-2022.12.7          |     pyhd8ed1ab_0         147 KB  conda-forge\n",
      "    conda-4.14.0               |   py38h578d9bd_0        1012 KB  conda-forge\n",
      "    mpmath-1.3.0               |     pyhd8ed1ab_0         428 KB  conda-forge\n",
      "    numpy-1.20.3               |   py38h8246c76_2         5.8 MB  conda-forge\n",
      "    sympy-1.11.1               |     pyh04b8f61_3         4.5 MB  conda-forge\n",
      "    toolz-0.12.0               |     pyhd8ed1ab_0          48 KB  conda-forge\n",
      "    ------------------------------------------------------------\n",
      "                                           Total:        12.1 MB\n",
      "\n",
      "The following NEW packages will be INSTALLED:\n",
      "\n",
      "  mpmath             conda-forge/noarch::mpmath-1.3.0-pyhd8ed1ab_0\n",
      "  sympy              conda-forge/noarch::sympy-1.11.1-pyh04b8f61_3\n",
      "  toolz              conda-forge/noarch::toolz-0.12.0-pyhd8ed1ab_0\n",
      "\n",
      "The following packages will be UPDATED:\n",
      "\n",
      "  ca-certificates                      2021.10.8-ha878542_0 --> 2022.12.7-ha878542_0\n",
      "  certifi            conda-forge/linux-64::certifi-2021.10~ --> conda-forge/noarch::certifi-2022.12.7-pyhd8ed1ab_0\n",
      "  conda                               4.10.3-py38h578d9bd_3 --> 4.14.0-py38h578d9bd_0\n",
      "\n",
      "The following packages will be DOWNGRADED:\n",
      "\n",
      "  numpy                               1.21.4-py38he2449b9_0 --> 1.20.3-py38h8246c76_2\n",
      "\n",
      "\n",
      "\n",
      "Downloading and Extracting Packages\n",
      "certifi-2022.12.7    | 147 KB    | ##################################### | 100% \n",
      "numpy-1.20.3         | 5.8 MB    | ##################################### | 100% \n",
      "mpmath-1.3.0         | 428 KB    | ##################################### | 100% \n",
      "conda-4.14.0         | 1012 KB   | ##################################### | 100% \n",
      "sympy-1.11.1         | 4.5 MB    | ##################################### | 100% \n",
      "ca-certificates-2022 | 143 KB    | ##################################### | 100% \n",
      "toolz-0.12.0         | 48 KB     | ##################################### | 100% \n",
      "Preparing transaction: done\n",
      "Verifying transaction: done\n",
      "Executing transaction: done\n",
      "\n",
      "Note: you may need to restart the kernel to use updated packages.\n"
     ]
    }
   ],
   "source": [
    "%conda install sympy"
   ]
  },
  {
   "cell_type": "code",
   "execution_count": 1,
   "id": "b945f31a",
   "metadata": {},
   "outputs": [
    {
     "name": "stdout",
     "output_type": "stream",
     "text": [
      "Using cpu.\n"
     ]
    }
   ],
   "source": [
    "import torch\n",
    "import torch.nn as nn\n",
    "import torch.nn.functional as F\n",
    "import torch.optim as optim\n",
    "\n",
    "import matplotlib.pyplot as plt\n",
    "\n",
    "from sklearn.metrics import precision_score, recall_score, f1_score\n",
    "from sklearn.metrics import precision_recall_fscore_support\n",
    "\n",
    "import copy\n",
    "from itertools import product\n",
    "import sympy\n",
    "from sympy import symbols\n",
    "from time import time\n",
    "import numpy as np\n",
    "\n",
    "def round_expr(expr, num_digits):\n",
    "    return expr.xreplace({n: round(n, num_digits) for n in expr.atoms(sympy.Number)})\n",
    "\n",
    "if torch.cuda.is_available():\n",
    "    device = 'cuda'\n",
    "else:\n",
    "    device = 'cpu'\n",
    "print(f'Using {device}.')"
   ]
  },
  {
   "cell_type": "markdown",
   "id": "b65803e0",
   "metadata": {
    "jp-MarkdownHeadingCollapsed": true,
    "tags": []
   },
   "source": [
    "## 1. Does it work for the simple polynomial model: $y=ax+b$?"
   ]
  },
  {
   "cell_type": "code",
   "execution_count": 2,
   "id": "67b86c15",
   "metadata": {},
   "outputs": [],
   "source": [
    "class Net(nn.Module):\n",
    "    def __init__(self, L, n_params):\n",
    "        super().__init__()\n",
    "        L = torch.tensor(L, dtype=torch.float)\n",
    "        \n",
    "        kernel_size, stride, dilation, padding = 5, 1, 1, 0\n",
    "        self.conv1 = nn.Conv1d(1, 2, kernel_size=kernel_size, stride=stride, dilation=dilation, padding=padding)\n",
    "        L = torch.floor((L+2*padding-dilation*(kernel_size-1)-1)/stride+1)\n",
    "        \n",
    "        \n",
    "        kernel_size, stride, dilation, padding = 5, 1, 1, 0\n",
    "        self.pool = nn.MaxPool1d(kernel_size=kernel_size, stride=stride, dilation=dilation, padding=padding)\n",
    "        L = torch.floor((L+2*padding-dilation*(kernel_size-1)-1)/stride+1)\n",
    "        \n",
    "        print(L)\n",
    "        \n",
    "        self.fc1 = nn.Linear(L.int().item() * 2, 20)\n",
    "        self.fc2 = nn.Linear(20, 10)\n",
    "        self.fc3 = nn.Linear(10, n_params)\n",
    "        \n",
    "        self.softmax =  torch.nn.Softmax(dim=1)\n",
    "\n",
    "    def forward(self, x):\n",
    "        x = x.unsqueeze(1)\n",
    "        x = self.pool(F.relu(self.conv1(x)))\n",
    "        # x = self.pool(F.relu(self.conv2(x)))\n",
    "        x = torch.flatten(x, 1) # flatten all dimensions except batch\n",
    "        x = F.relu(self.fc1(x))\n",
    "        x = F.relu(self.fc2(x))\n",
    "        x = F.sigmoid(self.fc3(x))\n",
    "        return x"
   ]
  },
  {
   "cell_type": "code",
   "execution_count": 3,
   "id": "5dce81cc",
   "metadata": {},
   "outputs": [],
   "source": [
    "class MLP(nn.Module):\n",
    "    def __init__(self, L, n_params):\n",
    "        super().__init__()\n",
    "        self.fc1 = nn.Linear(L, 50)\n",
    "        self.fc2 = nn.Linear(50, n_params)\n",
    "\n",
    "    def forward(self, x):\n",
    "        x = F.relu(self.fc1(x))\n",
    "        x = torch.sigmoid(self.fc2(x))\n",
    "        return x"
   ]
  },
  {
   "cell_type": "code",
   "execution_count": 4,
   "id": "5c57f841",
   "metadata": {},
   "outputs": [],
   "source": [
    "a = torch.bernoulli(0.5 * torch.ones(300, 2, 1))\n",
    "params = torch.randn(300, 2, 1) * a\n",
    "x = torch.arange(-10, 10, 0.1).unsqueeze(0)\n",
    "y = params[:, 0] + params[:, 1] * x\n",
    "y_training = y[:150]\n",
    "a_training = a[:150]\n",
    "y_validation = y[150:200]\n",
    "a_validation = a[150:200]\n",
    "y_test = y[200:]\n",
    "a_test = a[200:]"
   ]
  },
  {
   "cell_type": "code",
   "execution_count": 5,
   "id": "fd4ad0c2",
   "metadata": {},
   "outputs": [
    {
     "data": {
      "text/plain": [
       "(tensor([[[0.],\n",
       "          [0.]],\n",
       " \n",
       "         [[1.],\n",
       "          [0.]]]),\n",
       " tensor([[[-0.0000],\n",
       "          [0.0000]],\n",
       " \n",
       "         [[0.7759],\n",
       "          [-0.0000]]]))"
      ]
     },
     "execution_count": 5,
     "metadata": {},
     "output_type": "execute_result"
    }
   ],
   "source": [
    "a[0:2], params[0:2]"
   ]
  },
  {
   "cell_type": "code",
   "execution_count": 6,
   "id": "129d1a8d",
   "metadata": {},
   "outputs": [
    {
     "data": {
      "text/plain": [
       "[<matplotlib.lines.Line2D at 0x7f67b06f9ac0>,\n",
       " <matplotlib.lines.Line2D at 0x7f67b06f9970>]"
      ]
     },
     "execution_count": 6,
     "metadata": {},
     "output_type": "execute_result"
    },
    {
     "data": {
      "image/png": "[encoded data removed]",
      "text/plain": [
       "<Figure size 432x288 with 1 Axes>"
      ]
     },
     "metadata": {
      "needs_background": "light"
     },
     "output_type": "display_data"
    }
   ],
   "source": [
    "plt.plot(y[0:2].T)"
   ]
  },
  {
   "cell_type": "code",
   "execution_count": 8,
   "id": "583d6813",
   "metadata": {},
   "outputs": [
    {
     "name": "stdout",
     "output_type": "stream",
     "text": [
      "[10000] loss: 0.00018270\r"
     ]
    },
    {
     "data": {
      "image/png": "[encoded data removed]",
      "text/plain": [
       "<Figure size 432x288 with 1 Axes>"
      ]
     },
     "metadata": {
      "needs_background": "light"
     },
     "output_type": "display_data"
    }
   ],
   "source": [
    "net = MLP(x.shape[-1], n_params=2)\n",
    "\n",
    "# create your optimizer\n",
    "optimizer = optim.Adam(net.parameters(), lr=0.0001)\n",
    "criterion = nn.MSELoss()\n",
    "\n",
    "running_loss = 0\n",
    "training_loss_list = []\n",
    "validation_loss_list = []\n",
    "best_coeff = 0\n",
    "best_loss = torch.inf\n",
    "\n",
    "for i in range(10000):\n",
    "    optimizer.zero_grad()   # zero the gradient buffers\n",
    "    a_pred = net(y_training)\n",
    "    loss = criterion(a_training.squeeze(2), a_pred)\n",
    "    loss.backward()\n",
    "    optimizer.step()  \n",
    "    \n",
    "    # print statistics\n",
    "    running_loss += loss.item()\n",
    "    if i % 100 == 99:\n",
    "#        print(list(net.parameters()))\n",
    "        print(f'[{i + 1:5d}] loss: {running_loss / 100:.8f}', end='\\r')\n",
    "        training_loss_list.append(running_loss / 100)\n",
    "        running_loss = 0.0\n",
    "        \n",
    "        a_pred = net(y_validation)\n",
    "        validation_loss = criterion(a_validation.squeeze(2), a_pred)\n",
    "        validation_loss_list.append(validation_loss.cpu().detach().numpy())\n",
    "        \n",
    "plt.plot(training_loss_list, label='training loss')\n",
    "plt.plot(validation_loss_list, label='validation loss')\n",
    "plt.legend()\n",
    "plt.yscale('log')"
   ]
  },
  {
   "cell_type": "code",
   "execution_count": 9,
   "id": "d3f570b1",
   "metadata": {},
   "outputs": [
    {
     "data": {
      "text/plain": [
       "tensor(0.0539, grad_fn=<MseLossBackward0>)"
      ]
     },
     "execution_count": 9,
     "metadata": {},
     "output_type": "execute_result"
    }
   ],
   "source": [
    "criterion(net(y_test), a_test.squeeze(-1))"
   ]
  },
  {
   "cell_type": "code",
   "execution_count": 10,
   "id": "d7439a0f",
   "metadata": {},
   "outputs": [
    {
     "data": {
      "text/plain": [
       "(tensor([[0.0116, 0.0113],\n",
       "         [1.0000, 0.0012],\n",
       "         [1.0000, 1.0000],\n",
       "         [1.0000, 1.0000],\n",
       "         [0.0116, 0.0113]], grad_fn=<SigmoidBackward0>),\n",
       " tensor([[[0.],\n",
       "          [0.]],\n",
       " \n",
       "         [[1.],\n",
       "          [0.]],\n",
       " \n",
       "         [[1.],\n",
       "          [1.]],\n",
       " \n",
       "         [[1.],\n",
       "          [1.]],\n",
       " \n",
       "         [[0.],\n",
       "          [0.]]]))"
      ]
     },
     "execution_count": 10,
     "metadata": {},
     "output_type": "execute_result"
    }
   ],
   "source": [
    "net(y[:5]), a[:5]"
   ]
  },
  {
   "cell_type": "code",
   "execution_count": 11,
   "id": "89bda211",
   "metadata": {},
   "outputs": [
    {
     "name": "stdout",
     "output_type": "stream",
     "text": [
      "Precision score (training data): [1. 1.]\n",
      "Recall score (training data): [1. 1.]\n",
      "F1 score (training data): [1. 1.]\n"
     ]
    }
   ],
   "source": [
    "a_pred = (net(y_training).detach().numpy() > 0.5).astype(int)\n",
    "a_target = a_training.detach().numpy().squeeze(-1)\n",
    "print(f'Precision score (training data): {precision_score(a_pred, a_target, average=None)}')\n",
    "print(f'Recall score (training data): {recall_score(a_pred, a_target, average=None)}')\n",
    "print(f'F1 score (training data): {f1_score(a_pred, a_target, average=None)}')"
   ]
  },
  {
   "cell_type": "code",
   "execution_count": 12,
   "id": "cc83ce5e",
   "metadata": {},
   "outputs": [
    {
     "name": "stdout",
     "output_type": "stream",
     "text": [
      "Precision score (test data): [0.76       0.98214286]\n",
      "Recall score (test data): [1. 1.]\n",
      "F1 score (test data): [0.86363636 0.99099099]\n"
     ]
    }
   ],
   "source": [
    "a_pred = (net(y_test).detach().numpy() > 0.5).astype(int)\n",
    "a_target = a_test.detach().numpy().squeeze(-1)\n",
    "print(f'Precision score (test data): {precision_score(a_pred, a_target, average=None)}')\n",
    "print(f'Recall score (test data): {recall_score(a_pred, a_target, average=None)}')\n",
    "print(f'F1 score (test data): {f1_score(a_pred, a_target, average=None)}')"
   ]
  },
  {
   "cell_type": "markdown",
   "id": "d31a8dfa",
   "metadata": {},
   "source": [
    "So this works."
   ]
  },
  {
   "cell_type": "markdown",
   "id": "0cd3839f",
   "metadata": {
    "jp-MarkdownHeadingCollapsed": true,
    "tags": []
   },
   "source": [
    "## 2. Does it work for general polynomials?"
   ]
  },
  {
   "cell_type": "code",
   "execution_count": 15,
   "id": "cf1786d9",
   "metadata": {},
   "outputs": [],
   "source": [
    "class MLP(nn.Module):\n",
    "    def __init__(self, L, n_params):\n",
    "        super().__init__()\n",
    "        self.fc1 = nn.Linear(L, 100)\n",
    "        self.fc2 = nn.Linear(100, 100)\n",
    "        self.fc3 = nn.Linear(100, n_params)\n",
    "\n",
    "    def forward(self, x):\n",
    "        x = F.relu(self.fc1(x))\n",
    "        x = F.relu(self.fc2(x))\n",
    "        x = torch.sigmoid(self.fc3(x))  # Yann LeCun et al. \"Efficient BackProp\" 1.7159 * torch.tanh(2/3*self.fc3(x))\n",
    "        return x"
   ]
  },
  {
   "cell_type": "code",
   "execution_count": 493,
   "id": "affb295a",
   "metadata": {},
   "outputs": [],
   "source": [
    "dataset_size = 2000\n",
    "training_set_size = 1500\n",
    "a = torch.bernoulli(0.5 * torch.ones(dataset_size, 5, 1))\n",
    "params = 5 * torch.randn(dataset_size, 5, 1) * a\n",
    "x = torch.arange(-10, 10, 0.1).unsqueeze(0)\n",
    "y = params[:, 0] + params[:, 1] * x + params[:, 2] * x**2 + params[:, 3] * x**3 + params[:, 4]*x**4\n",
    "# a = 2 * a - 1\n",
    "y = F.normalize(y)\n",
    "y_training = y[:training_set_size]\n",
    "a_training = a[:training_set_size]\n",
    "y_validation = y[training_set_size:1700]\n",
    "a_validation = a[training_set_size:1700]\n",
    "y_test = y[1700:]\n",
    "a_test = a[1700:]"
   ]
  },
  {
   "cell_type": "code",
   "execution_count": 495,
   "id": "c2f64615",
   "metadata": {},
   "outputs": [
    {
     "data": {
      "text/plain": [
       "tensor([[[ 1.6730],\n",
       "         [-0.0000],\n",
       "         [ 0.0000],\n",
       "         [ 7.8439],\n",
       "         [ 1.0402]],\n",
       "\n",
       "        [[-0.0000],\n",
       "         [-0.0000],\n",
       "         [-1.5122],\n",
       "         [ 3.0258],\n",
       "         [ 3.0923]]])"
      ]
     },
     "execution_count": 495,
     "metadata": {},
     "output_type": "execute_result"
    }
   ],
   "source": [
    "params[0:2]"
   ]
  },
  {
   "cell_type": "code",
   "execution_count": 496,
   "id": "7814bd67",
   "metadata": {},
   "outputs": [
    {
     "data": {
      "text/plain": [
       "[<matplotlib.lines.Line2D at 0x7f89c19510d0>,\n",
       " <matplotlib.lines.Line2D at 0x7f89c1951290>]"
      ]
     },
     "execution_count": 496,
     "metadata": {},
     "output_type": "execute_result"
    },
    {
     "data": {
      "image/png": "[encoded data removed]",
      "text/plain": [
       "<Figure size 432x288 with 1 Axes>"
      ]
     },
     "metadata": {
      "needs_background": "light"
     },
     "output_type": "display_data"
    }
   ],
   "source": [
    "plt.plot(y[0:2].T)"
   ]
  },
  {
   "cell_type": "code",
   "execution_count": 497,
   "id": "ab35ecb4",
   "metadata": {},
   "outputs": [
    {
     "name": "stdout",
     "output_type": "stream",
     "text": [
      "Training took 163.2801s0\n"
     ]
    },
    {
     "data": {
      "image/png": "[encoded data removed]",
      "text/plain": [
       "<Figure size 432x288 with 1 Axes>"
      ]
     },
     "metadata": {
      "needs_background": "light"
     },
     "output_type": "display_data"
    }
   ],
   "source": [
    "net = MLP(x.shape[-1], n_params=5)\n",
    "\n",
    "# create your optimizer\n",
    "optimizer = optim.Adam(net.parameters(), lr=0.0001)\n",
    "criterion = nn.MSELoss()\n",
    "\n",
    "running_loss = 0\n",
    "training_loss_list = []\n",
    "validation_loss_list = []\n",
    "best_coeff = 0\n",
    "best_loss = torch.inf\n",
    "\n",
    "n_batches = 15\n",
    "batch_size = int(training_set_size / n_batches)\n",
    "\n",
    "t_0 = time()\n",
    "\n",
    "for i in range(10000):\n",
    "    for batch in range(n_batches):\n",
    "        y_training_batch = y_training[batch * batch_size: (batch + 1) * batch_size]\n",
    "        a_training_batch = a_training[batch * batch_size: (batch + 1) * batch_size]\n",
    "    \n",
    "        optimizer.zero_grad()   # zero the gradient buffers\n",
    "        a_pred = net(y_training_batch)\n",
    "        loss = criterion(a_pred, a_training_batch.squeeze(2))\n",
    "        loss.backward()\n",
    "        optimizer.step()  \n",
    "\n",
    "        # print statistics\n",
    "        running_loss += loss.item()\n",
    "    if i % 100 == 99:\n",
    "#        print(list(net.parameters()))\n",
    "        print(f'[{i + 1:5d}] loss: {running_loss / 100 / n_batches:.7f}', end='\\r')\n",
    "        training_loss_list.append(running_loss / 100 / n_batches)\n",
    "        running_loss = 0.0\n",
    "\n",
    "        a_pred = net(y_validation)\n",
    "        validation_loss = criterion(a_validation.squeeze(2), a_pred)\n",
    "        validation_loss_list.append(validation_loss.cpu().detach().numpy())\n",
    "\n",
    "t_1 = time()\n",
    "print(f'Training took {t_1-t_0:.4f}s')\n",
    "plt.plot(training_loss_list, label='training loss')\n",
    "plt.plot(validation_loss_list, label='validation loss')\n",
    "plt.legend()\n",
    "plt.yscale('log')"
   ]
  },
  {
   "cell_type": "code",
   "execution_count": 498,
   "id": "f40d1657",
   "metadata": {},
   "outputs": [
    {
     "data": {
      "text/plain": [
       "(tensor([[0.8955, 0.0788, 0.0986, 1.0000, 1.0000],\n",
       "         [0.4306, 0.1894, 0.9038, 1.0000, 1.0000]], grad_fn=<SigmoidBackward0>),\n",
       " tensor([[[1.],\n",
       "          [0.],\n",
       "          [0.],\n",
       "          [1.],\n",
       "          [1.]],\n",
       " \n",
       "         [[0.],\n",
       "          [0.],\n",
       "          [1.],\n",
       "          [1.],\n",
       "          [1.]]]),\n",
       " tensor([[[ 1.6730],\n",
       "          [-0.0000],\n",
       "          [ 0.0000],\n",
       "          [ 7.8439],\n",
       "          [ 1.0402]],\n",
       " \n",
       "         [[-0.0000],\n",
       "          [-0.0000],\n",
       "          [-1.5122],\n",
       "          [ 3.0258],\n",
       "          [ 3.0923]]]))"
      ]
     },
     "execution_count": 498,
     "metadata": {},
     "output_type": "execute_result"
    }
   ],
   "source": [
    "net(y[:2]), a[:2], params[:2]"
   ]
  },
  {
   "cell_type": "code",
   "execution_count": 499,
   "id": "e438017d",
   "metadata": {},
   "outputs": [
    {
     "data": {
      "text/plain": [
       "tensor(0.0534, grad_fn=<MseLossBackward0>)"
      ]
     },
     "execution_count": 499,
     "metadata": {},
     "output_type": "execute_result"
    }
   ],
   "source": [
    "criterion(net(y_test), a_test.squeeze(-1))"
   ]
  },
  {
   "cell_type": "code",
   "execution_count": 500,
   "id": "708e9d0a",
   "metadata": {},
   "outputs": [
    {
     "name": "stdout",
     "output_type": "stream",
     "text": [
      "Precision score (training data): 0.9706221198156681\n",
      "Recall score (training data): 0.9046979865771813\n",
      "F1 score (training data): 0.9365013199944421\n"
     ]
    }
   ],
   "source": [
    "a_pred = (net(y_training).detach().numpy() > 0.5).astype(int)\n",
    "# a_target = (a_training.detach().numpy().squeeze(-1) + 1) / 2\n",
    "a_target = a_training.detach().numpy().squeeze(-1)\n",
    "average = 'micro' \n",
    "print(f'Precision score (training data): {precision_score(a_target, a_pred, average=average)}')\n",
    "print(f'Recall score (training data): {recall_score(a_target, a_pred, average=average)}')\n",
    "print(f'F1 score (training data): {f1_score(a_target, a_pred, average=average)}')"
   ]
  },
  {
   "cell_type": "code",
   "execution_count": 501,
   "id": "ed0bdf1a",
   "metadata": {},
   "outputs": [
    {
     "name": "stdout",
     "output_type": "stream",
     "text": [
      "Precision score (test data): 0.9340974212034384\n",
      "Recall score (test data): 0.8798920377867746\n",
      "F1 score (test data): 0.906184850590688\n"
     ]
    }
   ],
   "source": [
    "a_pred = (net(y_test).detach().numpy() > 0.5).astype(int)\n",
    "# a_target = (a_training.detach().numpy().squeeze(-1) + 1) / 2\n",
    "a_target = a_test.detach().numpy().squeeze(-1)\n",
    "print(f'Precision score (test data): {precision_score(a_target, a_pred, average=average)}')\n",
    "print(f'Recall score (test data): {recall_score(a_target, a_pred, average=average)}')\n",
    "print(f'F1 score (test data): {f1_score(a_target, a_pred, average=average)}')"
   ]
  },
  {
   "cell_type": "markdown",
   "id": "aa340154",
   "metadata": {
    "jp-MarkdownHeadingCollapsed": true,
    "tags": []
   },
   "source": [
    "## 3. Does it work for more complicated functions? $y=\\cos(ax)b+c+\\cos(dx)^2e$"
   ]
  },
  {
   "cell_type": "code",
   "execution_count": 22,
   "id": "adb67a5c",
   "metadata": {},
   "outputs": [],
   "source": [
    "class MLP(nn.Module):\n",
    "    def __init__(self, L, n_params):\n",
    "        super().__init__()\n",
    "        self.fc1 = nn.Linear(L, 100)\n",
    "        self.fc2 = nn.Linear(100, 100)\n",
    "        self.fc3 = nn.Linear(100, n_params)\n",
    "\n",
    "    def forward(self, x):\n",
    "        x = F.relu(self.fc1(x))\n",
    "        x = F.relu(self.fc2(x))\n",
    "        x = torch.sigmoid(self.fc3(x))  # Yann LeCun et al. \"Efficient BackProp\" 1.7159 * torch.tanh(2/3*self.fc3(x))\n",
    "        return x"
   ]
  },
  {
   "cell_type": "code",
   "execution_count": 22,
   "id": "307b2d64",
   "metadata": {},
   "outputs": [],
   "source": [
    "dataset_size = 25000\n",
    "training_set_size = 23500\n",
    "validation_set_size = 500 \n",
    "a = torch.bernoulli(0.7 * torch.ones(dataset_size, 5, 1))\n",
    "a[:, 0] = a[:, 0] * a[:, 1]\n",
    "a[:, 1] = a[:, 0] * a[:, 1]\n",
    "a[:, 3] = a[:, 3] * a[:, 4]\n",
    "a[:, 4] = a[:, 3] * a[:, 4]\n",
    "params = 5 * torch.randn(dataset_size, 5, 1) * a\n",
    "x = torch.arange(-10, 10, 0.1).unsqueeze(0)\n",
    "y = torch.cos(params[:, 0]*x)* params[:, 1] + params[:, 2] + torch.cos(params[:, 3]*x)**2*params[:,4]\n",
    "# a = 2 * a - 1\n",
    "y = F.normalize(y)\n",
    "y_training = y[:training_set_size]\n",
    "a_training = a[:training_set_size]\n",
    "y_validation = y[training_set_size:training_set_size+validation_set_size]\n",
    "a_validation = a[training_set_size:training_set_size+validation_set_size]\n",
    "y_test = y[training_set_size+validation_set_size:]\n",
    "a_test = a[training_set_size+validation_set_size:]"
   ]
  },
  {
   "cell_type": "code",
   "execution_count": 23,
   "id": "13eb4917",
   "metadata": {},
   "outputs": [
    {
     "data": {
      "text/plain": [
       "(torch.Size([25000, 200]), torch.Size([25000, 5, 1]))"
      ]
     },
     "execution_count": 23,
     "metadata": {},
     "output_type": "execute_result"
    }
   ],
   "source": [
    "y.shape, a.shape"
   ]
  },
  {
   "cell_type": "code",
   "execution_count": 50,
   "id": "341bf9ff",
   "metadata": {},
   "outputs": [
    {
     "data": {
      "text/plain": [
       "tensor([[[  0.0000],\n",
       "         [  0.0000],\n",
       "         [  0.0000],\n",
       "         [-10.3139],\n",
       "         [ -4.6188]],\n",
       "\n",
       "        [[  0.2310],\n",
       "         [  6.0663],\n",
       "         [ -1.5729],\n",
       "         [  0.0000],\n",
       "         [ -0.0000]]])"
      ]
     },
     "execution_count": 50,
     "metadata": {},
     "output_type": "execute_result"
    }
   ],
   "source": [
    "params[0:2]"
   ]
  },
  {
   "cell_type": "code",
   "execution_count": 51,
   "id": "f0393601",
   "metadata": {},
   "outputs": [
    {
     "data": {
      "text/plain": [
       "[<matplotlib.lines.Line2D at 0x7f41eac66a60>,\n",
       " <matplotlib.lines.Line2D at 0x7f41eac66b20>]"
      ]
     },
     "execution_count": 51,
     "metadata": {},
     "output_type": "execute_result"
    },
    {
     "data": {
      "image/png": "[encoded data removed]",
      "text/plain": [
       "<Figure size 432x288 with 1 Axes>"
      ]
     },
     "metadata": {
      "needs_background": "light"
     },
     "output_type": "display_data"
    }
   ],
   "source": [
    "plt.plot(x.squeeze(0), y[0:2].T)"
   ]
  },
  {
   "cell_type": "code",
   "execution_count": 52,
   "id": "16371957",
   "metadata": {},
   "outputs": [
    {
     "name": "stdout",
     "output_type": "stream",
     "text": [
      "[ 1000] Training loss: 0.10298819, Validation loss: 0.10656285\r"
     ]
    },
    {
     "data": {
      "image/png": "[encoded data removed]",
      "text/plain": [
       "<Figure size 432x288 with 1 Axes>"
      ]
     },
     "metadata": {
      "needs_background": "light"
     },
     "output_type": "display_data"
    }
   ],
   "source": [
    "net = MLP(x.shape[-1], n_params=5)\n",
    "\n",
    "# create your optimizer\n",
    "optimizer = optim.Adam(net.parameters(), lr=0.0001)\n",
    "criterion = nn.MSELoss()\n",
    "\n",
    "running_loss = 0\n",
    "training_loss_list = []\n",
    "validation_loss_list = []\n",
    "best_coeff = 0\n",
    "best_loss = torch.inf\n",
    "\n",
    "n_batches = 30\n",
    "batch_size = int(training_set_size / n_batches)\n",
    "\n",
    "t_0 = time()\n",
    "\n",
    "for i in range(1000):\n",
    "    permutation = np.random.permutation(training_set_size)\n",
    "    y_training_permute = y_training[permutation]\n",
    "    a_training_permute = a_training[permutation]\n",
    "    \n",
    "    for batch in range(n_batches):\n",
    "        y_training_batch = y_training_permute[batch * batch_size: (batch + 1) * batch_size]\n",
    "        a_training_batch = a_training_permute[batch * batch_size: (batch + 1) * batch_size]\n",
    "    \n",
    "        optimizer.zero_grad()   # zero the gradient buffers\n",
    "        a_pred = net(y_training_batch)\n",
    "        loss = criterion(a_pred, a_training_batch.squeeze(2))\n",
    "        loss.backward()\n",
    "        optimizer.step()  \n",
    "\n",
    "        # print statistics\n",
    "        running_loss += loss.item()\n",
    "    if i % 100 == 99:\n",
    "#        print(list(net.parameters()))\n",
    "        a_pred = net(y_validation)\n",
    "        validation_loss = criterion(a_validation.squeeze(2), a_pred)\n",
    "        validation_loss_list.append(validation_loss.cpu().detach().numpy())\n",
    "        print(f'[{i + 1:5d}] Training loss: {running_loss / 100 / n_batches:.8f}, Validation loss: {validation_loss:.8f}', end='\\r')\n",
    "        training_loss_list.append(running_loss / 100 / n_batches)\n",
    "        running_loss = 0.0\n",
    "\n",
    "\n",
    "t_1 = time()\n",
    "plt.plot(training_loss_list, label='training loss')\n",
    "plt.plot(validation_loss_list, label='validation loss')\n",
    "plt.legend()\n",
    "plt.yscale('log')"
   ]
  },
  {
   "cell_type": "code",
   "execution_count": 53,
   "id": "23594003",
   "metadata": {},
   "outputs": [
    {
     "name": "stdout",
     "output_type": "stream",
     "text": [
      "Training took 72.8742s\n"
     ]
    }
   ],
   "source": [
    "print(f'Training took {t_1-t_0:.4f}s')"
   ]
  },
  {
   "cell_type": "code",
   "execution_count": 54,
   "id": "8764f1be",
   "metadata": {},
   "outputs": [
    {
     "data": {
      "text/plain": [
       "(tensor([[0.0602, 0.0595, 0.2520, 0.9906, 0.9904],\n",
       "         [0.9952, 0.9949, 0.5465, 0.2088, 0.2149]], grad_fn=<SigmoidBackward0>),\n",
       " tensor([[[0.],\n",
       "          [0.],\n",
       "          [0.],\n",
       "          [1.],\n",
       "          [1.]],\n",
       " \n",
       "         [[1.],\n",
       "          [1.],\n",
       "          [1.],\n",
       "          [0.],\n",
       "          [0.]]]),\n",
       " tensor([[[  0.0000],\n",
       "          [  0.0000],\n",
       "          [  0.0000],\n",
       "          [-10.3139],\n",
       "          [ -4.6188]],\n",
       " \n",
       "         [[  0.2310],\n",
       "          [  6.0663],\n",
       "          [ -1.5729],\n",
       "          [  0.0000],\n",
       "          [ -0.0000]]]))"
      ]
     },
     "execution_count": 54,
     "metadata": {},
     "output_type": "execute_result"
    }
   ],
   "source": [
    "net(y[:2]), a[:2], params[:2]"
   ]
  },
  {
   "cell_type": "code",
   "execution_count": 55,
   "id": "1b97ac8b",
   "metadata": {},
   "outputs": [
    {
     "data": {
      "text/plain": [
       "tensor(0.1142, grad_fn=<MseLossBackward0>)"
      ]
     },
     "execution_count": 55,
     "metadata": {},
     "output_type": "execute_result"
    }
   ],
   "source": [
    "criterion(net(y_test), a_test.squeeze(-1))"
   ]
  },
  {
   "cell_type": "code",
   "execution_count": 56,
   "id": "0f663589",
   "metadata": {},
   "outputs": [
    {
     "name": "stdout",
     "output_type": "stream",
     "text": [
      "Precision score (training data): 0.8392609286151367\n",
      "Recall score (training data): 0.9032688137498996\n",
      "F1 score (training data): 0.8700892788067277\n"
     ]
    }
   ],
   "source": [
    "a_pred = (net(y_training).detach().numpy() > 0.5).astype(int)\n",
    "# a_target = (a_training.detach().numpy().squeeze(-1) + 1) / 2\n",
    "a_target = a_training.detach().numpy().squeeze(-1)\n",
    "average = 'micro' \n",
    "print(f'Precision score (training data): {precision_score(a_target, a_pred, average=average)}')\n",
    "print(f'Recall score (training data): {recall_score(a_target, a_pred, average=average)}')\n",
    "print(f'F1 score (training data): {f1_score(a_target, a_pred, average=average)}')"
   ]
  },
  {
   "cell_type": "code",
   "execution_count": 57,
   "id": "0842259e",
   "metadata": {},
   "outputs": [
    {
     "name": "stdout",
     "output_type": "stream",
     "text": [
      "Precision score (test data): 0.8278716798896171\n",
      "Recall score (test data): 0.8928571428571429\n",
      "F1 score (test data): 0.8591372829783427\n"
     ]
    }
   ],
   "source": [
    "a_pred = (net(y_test).detach().numpy() > 0.5).astype(int)\n",
    "# a_target = (a_training.detach().numpy().squeeze(-1) + 1) / 2\n",
    "a_target = a_test.detach().numpy().squeeze(-1)\n",
    "print(f'Precision score (test data): {precision_score(a_target, a_pred, average=average)}')\n",
    "print(f'Recall score (test data): {recall_score(a_target, a_pred, average=average)}')\n",
    "print(f'F1 score (test data): {f1_score(a_target, a_pred, average=average)}')"
   ]
  },
  {
   "cell_type": "markdown",
   "id": "bda5a2ef",
   "metadata": {
    "tags": []
   },
   "source": [
    "## 3. Does it work for ParFamNP?"
   ]
  },
  {
   "cell_type": "code",
   "execution_count": 2,
   "id": "7085e789",
   "metadata": {},
   "outputs": [
    {
     "data": {
      "text/plain": [
       "'/home/math/scholl/projects/physicalLawLearning/ForNet/ParFamNP/optimization/trainingOnSyntheticData'"
      ]
     },
     "execution_count": 2,
     "metadata": {},
     "output_type": "execute_result"
    }
   ],
   "source": [
    "import os\n",
    "os.getcwd()"
   ]
  },
  {
   "cell_type": "code",
   "execution_count": 3,
   "id": "101a5f80",
   "metadata": {},
   "outputs": [
    {
     "name": "stdout",
     "output_type": "stream",
     "text": [
      "/home/math/scholl/projects/physicalLawLearning/ForNet/ParFamNP/optimization\n",
      "/home/math/scholl/projects/physicalLawLearning/ForNet/ParFamNP\n"
     ]
    },
    {
     "data": {
      "text/plain": [
       "'/home/math/scholl/projects/physicalLawLearning/ForNet/ParFamNP'"
      ]
     },
     "execution_count": 3,
     "metadata": {},
     "output_type": "execute_result"
    }
   ],
   "source": [
    "%cd '..'\n",
    "%cd '..'\n",
    "os.getcwd()"
   ]
  },
  {
   "cell_type": "code",
   "execution_count": 4,
   "id": "6d7ec742",
   "metadata": {},
   "outputs": [],
   "source": [
    "from parfam_np import ParFamNP, Evaluator"
   ]
  },
  {
   "cell_type": "code",
   "execution_count": 5,
   "id": "b4a74d78",
   "metadata": {},
   "outputs": [],
   "source": [
    "class MLP(nn.Module):\n",
    "    def __init__(self, L, n_params):\n",
    "        super().__init__()\n",
    "        self.fc1 = nn.Linear(L, 100)\n",
    "        self.fc2 = nn.Linear(100, 100)\n",
    "        self.fc3 = nn.Linear(100, n_params)\n",
    "\n",
    "    def forward(self, x):\n",
    "        x = F.relu(self.fc1(x))\n",
    "        x = F.relu(self.fc2(x))\n",
    "        x = torch.sigmoid(self.fc3(x))  # Yann LeCun et al. \"Efficient BackProp\" 1.7159 * torch.tanh(2/3*self.fc3(x))\n",
    "        return x"
   ]
  },
  {
   "cell_type": "code",
   "execution_count": 6,
   "id": "346bbb38",
   "metadata": {},
   "outputs": [],
   "source": [
    "# Without batch_prediction the data generation for 10**6 data points took 420s"
   ]
  },
  {
   "cell_type": "code",
   "execution_count": 184,
   "id": "3fc34a17",
   "metadata": {},
   "outputs": [],
   "source": [
    "torch.save(a, f'data_sets/a_dataset_size_{dataset_size}_d_input_{degree_input_polynomials}_d_output_{degree_output_polynomials}_width_{width}.pt')\n",
    "torch.save(y, f'data_sets/y_dataset_size_{dataset_size}_d_input_{degree_input_polynomials}_d_output_{degree_output_polynomials}_width_{width}.pt')"
   ]
  },
  {
   "cell_type": "code",
   "execution_count": 190,
   "id": "f55bcea1",
   "metadata": {},
   "outputs": [],
   "source": [
    "a_new = torch.load(f'data_sets/a_dataset_size_{dataset_size}_d_input_{degree_input_polynomials}_d_output_{degree_output_polynomials}_width_{width}.pt')\n",
    "y_new = torch.load(f'data_sets/y_dataset_size_{dataset_size}_d_input_{degree_input_polynomials}_d_output_{degree_output_polynomials}_width_{width}.pt')"
   ]
  },
  {
   "cell_type": "code",
   "execution_count": 11,
   "id": "d9ee89d1-2a3a-46e4-9b53-ff648c4b6dca",
   "metadata": {},
   "outputs": [],
   "source": [
    "x = np.arange(-10, 10, 0.1)\n",
    "x = x.reshape(len(x), 1)\n",
    "functions = [np.sin, np.cos]\n",
    "function_names = [sympy.sin, sympy.cos]\n",
    "degree_input_polynomials = 2\n",
    "degree_output_polynomials = 2\n",
    "width = 1\n",
    "target_model = ParFamNP(n_input=1, degree_input_polynomials=degree_input_polynomials, degree_output_polynomials=degree_output_polynomials, width=width,\n",
    "                        functions=functions, function_names=function_names)\n",
    "n_params = target_model.get_number_parameters()\n",
    "\n",
    "dataset_size = 12000\n",
    "training_set_size = 1000\n",
    "validation_set_size = 1000"
   ]
  },
  {
   "cell_type": "code",
   "execution_count": 12,
   "id": "6ef484e1",
   "metadata": {},
   "outputs": [
    {
     "name": "stdout",
     "output_type": "stream",
     "text": [
      "Generating the data took 2.006s.\n"
     ]
    }
   ],
   "source": [
    "x = np.arange(-10, 10, 0.1).reshape(-1, 1)\n",
    "y = np.zeros((dataset_size, len(x)))\n",
    "a = np.zeros((dataset_size, n_params))\n",
    "params = torch.randn(dataset_size, n_params)\n",
    "\n",
    "t_0 = time()\n",
    "\n",
    "\n",
    "\n",
    "for i in range(dataset_size):\n",
    "    a[i] = target_model.get_random_coefficients(n_functions_max=3)\n",
    "\n",
    "params = params * a\n",
    "y = target_model.predict_batch(params.T, x).T\n",
    "\n",
    "#    params[i] = params[i] * a[i]\n",
    "#    y[i] = target_model.predict(params[i], x)\n",
    "a = torch.tensor(a, dtype=torch.float, device=device).unsqueeze(-1)\n",
    "y = torch.tensor(y, dtype=torch.float, device=device)\n",
    "y = F.normalize(y)\n",
    "t_1 = time()\n",
    "print(f'Generating the data took {t_1 - t_0:.3f}s.')\n",
    "\n",
    "y_training = y[:training_set_size]\n",
    "a_training = a[:training_set_size]\n",
    "y_validation = y[training_set_size:training_set_size+validation_set_size]\n",
    "a_validation = a[training_set_size:training_set_size+validation_set_size]\n",
    "y_test = y[training_set_size+validation_set_size:]\n",
    "a_test = a[training_set_size+validation_set_size:]"
   ]
  },
  {
   "cell_type": "code",
   "execution_count": 13,
   "id": "323a8d0f",
   "metadata": {},
   "outputs": [
    {
     "data": {
      "text/plain": [
       "(torch.Size([12000, 200]), torch.Size([12000, 16, 1]), torch.Size([12000, 16]))"
      ]
     },
     "execution_count": 13,
     "metadata": {},
     "output_type": "execute_result"
    }
   ],
   "source": [
    "y.shape, a.shape, params.shape"
   ]
  },
  {
   "cell_type": "code",
   "execution_count": 47,
   "id": "7ef80796",
   "metadata": {},
   "outputs": [
    {
     "data": {
      "text/plain": [
       "tensor([[ 0.8123,  0.7742,  0.0000, -1.1044, -0.0000,  2.0328,  0.0000,  1.2073,\n",
       "          0.0000,  0.0000, -0.0000, -0.0000, -0.0000, -0.0000, -0.0450,  0.0000],\n",
       "        [-0.2502,  0.0462, -0.0000,  1.0043, -0.0000,  1.5027, -0.0000, -0.0000,\n",
       "         -0.0000,  0.0000,  0.1134,  0.0000,  0.0000, -0.0000, -0.0000,  0.0000]],\n",
       "       dtype=torch.float64)"
      ]
     },
     "execution_count": 47,
     "metadata": {},
     "output_type": "execute_result"
    }
   ],
   "source": [
    "params[0:2]"
   ]
  },
  {
   "cell_type": "code",
   "execution_count": 48,
   "id": "62b602f0",
   "metadata": {},
   "outputs": [
    {
     "name": "stdout",
     "output_type": "stream",
     "text": [
      "Computing the formula for the input layer took 0.009 seconds\n",
      "Computing the end formula took 0.008 seconds\n",
      "Simplifying the formula took 0.000 seconds\n",
      "Target expression 0: -0.045*x0*sin(0.774*x0 + 0.812) + 1.207*cos(2.033*x0**2 - 1.104)\n",
      "Computing the formula for the input layer took 0.008 seconds\n",
      "Computing the end formula took 0.007 seconds\n",
      "Simplifying the formula took 0.000 seconds\n",
      "Target expression 1: 0.113*sin(0.046*x0 - 0.25)*cos(1.503*x0**2 + 1.004)\n"
     ]
    },
    {
     "data": {
      "text/plain": [
       "[<matplotlib.lines.Line2D at 0x7f0bf1a466d0>,\n",
       " <matplotlib.lines.Line2D at 0x7f0bf1a46730>]"
      ]
     },
     "execution_count": 48,
     "metadata": {},
     "output_type": "execute_result"
    },
    {
     "data": {
      "image/png": "[encoded data removed]",
      "text/plain": [
       "<Figure size 432x288 with 1 Axes>"
      ]
     },
     "metadata": {
      "needs_background": "light"
     },
     "output_type": "display_data"
    }
   ],
   "source": [
    "x_sym = symbols('x')\n",
    "\n",
    "target_expr = target_model.get_formula(params[0])\n",
    "target_expr = round_expr(target_expr, 3)\n",
    "print(f'Target expression 0: {target_expr}')\n",
    "\n",
    "target_expr = target_model.get_formula(params[1])\n",
    "target_expr = round_expr(target_expr, 3)\n",
    "print(f'Target expression 1: {target_expr}')\n",
    "\n",
    "plt.plot(x.squeeze(1), y[0:2].squeeze(-1).cpu().T)"
   ]
  },
  {
   "cell_type": "code",
   "execution_count": 49,
   "id": "1a6f0854",
   "metadata": {},
   "outputs": [],
   "source": [
    "# how should we adapt the loss function such that the ambivalences are being taken care of?"
   ]
  },
  {
   "cell_type": "code",
   "execution_count": 50,
   "id": "72e8f83c",
   "metadata": {},
   "outputs": [
    {
     "data": {
      "text/plain": [
       "(200, 1)"
      ]
     },
     "execution_count": 50,
     "metadata": {},
     "output_type": "execute_result"
    }
   ],
   "source": [
    "x.shape"
   ]
  },
  {
   "cell_type": "code",
   "execution_count": null,
   "id": "7e59b607",
   "metadata": {},
   "outputs": [
    {
     "name": "stdout",
     "output_type": "stream",
     "text": [
      "Batch size: 9900\n",
      "[ 4900] Training loss: 0.11073455, Validation loss: 0.11236005\r"
     ]
    }
   ],
   "source": [
    "net = MLP(x.shape[0], n_params=n_params).to(device)\n",
    "\n",
    "# create your optimizer\n",
    "optimizer = optim.Adam(net.parameters(), lr=0.0001)\n",
    "criterion = nn.MSELoss()\n",
    "\n",
    "running_loss = 0\n",
    "training_loss_list = []\n",
    "validation_loss_list = []\n",
    "best_coeff = 0\n",
    "best_loss = torch.inf\n",
    "\n",
    "n_batches = 100\n",
    "batch_size = int(training_set_size / n_batches)\n",
    "print(f'Batch size: {batch_size}')\n",
    "t_0 = time()\n",
    "\n",
    "for i in range(5000):\n",
    "    permutation = np.random.permutation(training_set_size)\n",
    "    y_training_permute = y_training[permutation]\n",
    "    a_training_permute = a_training[permutation]\n",
    "    \n",
    "    for batch in range(n_batches):\n",
    "        y_training_batch = y_training_permute[batch * batch_size: (batch + 1) * batch_size]\n",
    "        a_training_batch = a_training_permute[batch * batch_size: (batch + 1) * batch_size]\n",
    "    \n",
    "        optimizer.zero_grad()   # zero the gradient buffers\n",
    "        a_pred = net(y_training_batch)\n",
    "        loss = criterion(a_pred, a_training_batch.squeeze(2))\n",
    "        loss.backward()\n",
    "        optimizer.step()  \n",
    "\n",
    "        # print statistics\n",
    "        running_loss += loss.item()\n",
    "    if i % 100 == 99:\n",
    "#        print(list(net.parameters()))\n",
    "        a_pred = net(y_validation)\n",
    "        validation_loss = criterion(a_validation.squeeze(2), a_pred)\n",
    "        validation_loss_list.append(validation_loss.cpu().detach().numpy())\n",
    "        print(f'[{i + 1:5d}] Training loss: {running_loss / 100 / n_batches:.8f}, Validation loss: {validation_loss:.8f}', end='\\r')\n",
    "        training_loss_list.append(running_loss / 100 / n_batches)\n",
    "        running_loss = 0.0\n",
    "\n",
    "\n",
    "t_1 = time()\n",
    "plt.plot(training_loss_list, label='training loss')\n",
    "plt.plot(validation_loss_list, label='validation loss')\n",
    "plt.legend()\n",
    "plt.yscale('log')"
   ]
  },
  {
   "cell_type": "code",
   "execution_count": 194,
   "id": "5a44f4f8",
   "metadata": {},
   "outputs": [],
   "source": [
    "torch.save(net, f'models/model_dataset_size_{dataset_size}_d_input_{degree_input_polynomials}_d_output_{degree_output_polynomials}_width_{width}.pt')"
   ]
  },
  {
   "cell_type": "code",
   "execution_count": 10,
   "id": "cd333ff0",
   "metadata": {},
   "outputs": [],
   "source": [
    "net = torch.load(f'models/model_dataset_size_{dataset_size}_d_input_{degree_input_polynomials}_d_output_{degree_output_polynomials}_width_{width}.pt', map_location=torch.device(device))"
   ]
  },
  {
   "cell_type": "code",
   "execution_count": 36,
   "id": "27e5e54f",
   "metadata": {},
   "outputs": [
    {
     "name": "stdout",
     "output_type": "stream",
     "text": [
      "Training took 39.5577s\n"
     ]
    }
   ],
   "source": [
    "print(f'Training took {t_1-t_0:.4f}s')"
   ]
  },
  {
   "cell_type": "code",
   "execution_count": 37,
   "id": "4816de79",
   "metadata": {},
   "outputs": [
    {
     "data": {
      "text/plain": [
       "(tensor([[7.5162e-01, 7.3592e-01, 2.0735e-01, 2.4662e-01, 3.0567e-01, 2.8080e-01,\n",
       "          7.4663e-01, 3.9886e-02, 4.3370e-01, 3.9350e-02, 1.5489e-02, 7.6284e-01,\n",
       "          9.7777e-01, 9.5552e-03, 4.8527e-05, 3.5375e-04],\n",
       "         [8.9725e-05, 5.9537e-04, 6.5179e-02, 9.8742e-01, 9.7591e-01, 9.3627e-01,\n",
       "          1.4560e-02, 1.2624e-01, 2.9472e-01, 3.3925e-02, 3.2732e-03, 1.6457e-04,\n",
       "          1.0157e-03, 8.5810e-01, 1.4137e-01, 1.1447e-03]], device='cuda:0',\n",
       "        grad_fn=<SigmoidBackward0>),\n",
       " tensor([[[1.],\n",
       "          [1.],\n",
       "          [0.],\n",
       "          [1.],\n",
       "          [0.],\n",
       "          [1.],\n",
       "          [0.],\n",
       "          [0.],\n",
       "          [1.],\n",
       "          [0.],\n",
       "          [0.],\n",
       "          [1.],\n",
       "          [1.],\n",
       "          [0.],\n",
       "          [0.],\n",
       "          [0.]],\n",
       " \n",
       "         [[0.],\n",
       "          [0.],\n",
       "          [0.],\n",
       "          [1.],\n",
       "          [1.],\n",
       "          [1.],\n",
       "          [0.],\n",
       "          [0.],\n",
       "          [0.],\n",
       "          [0.],\n",
       "          [0.],\n",
       "          [0.],\n",
       "          [0.],\n",
       "          [1.],\n",
       "          [0.],\n",
       "          [0.]]], device='cuda:0'),\n",
       " tensor([[-2.1808,  0.0770,  0.0000,  1.4233,  0.0000,  0.9404, -0.0000,  0.0000,\n",
       "          -1.3325,  0.0000,  0.0000, -2.5685, -0.1840, -0.0000,  0.0000, -0.0000],\n",
       "         [-0.0000, -0.0000, -0.0000, -1.3192,  0.8439,  0.3065,  0.0000, -0.0000,\n",
       "           0.0000,  0.0000, -0.0000,  0.0000,  0.0000,  0.0541,  0.0000,  0.0000]],\n",
       "        dtype=torch.float64))"
      ]
     },
     "execution_count": 37,
     "metadata": {},
     "output_type": "execute_result"
    }
   ],
   "source": [
    "net(y[:2]), a[:2], params[:2]"
   ]
  },
  {
   "cell_type": "code",
   "execution_count": 15,
   "id": "a76a77ff",
   "metadata": {},
   "outputs": [
    {
     "data": {
      "text/plain": [
       "tensor(0.1060, grad_fn=<MseLossBackward0>)"
      ]
     },
     "execution_count": 15,
     "metadata": {},
     "output_type": "execute_result"
    }
   ],
   "source": [
    "criterion = nn.MSELoss()\n",
    "criterion(net(y_test), a_test.squeeze(-1))"
   ]
  },
  {
   "cell_type": "code",
   "execution_count": 39,
   "id": "acdaa2ee",
   "metadata": {},
   "outputs": [
    {
     "name": "stdout",
     "output_type": "stream",
     "text": [
      "Precision score (training data): 0.9430985915492958\n",
      "Recall score (training data): 0.744\n",
      "F1 score (training data): 0.8318012422360248\n"
     ]
    }
   ],
   "source": [
    "a_pred = (net(y_training).cpu().detach().numpy() > 0.5).astype(int)\n",
    "# a_target = (a_training.detach().numpy().squeeze(-1) + 1) / 2\n",
    "a_target = a_training.cpu().detach().numpy().squeeze(-1)\n",
    "average = 'micro' \n",
    "print(f'Precision score (training data): {precision_score(a_target, a_pred, average=average)}')\n",
    "print(f'Recall score (training data): {recall_score(a_target, a_pred, average=average)}')\n",
    "print(f'F1 score (training data): {f1_score(a_target, a_pred, average=average)}')"
   ]
  },
  {
   "cell_type": "code",
   "execution_count": 17,
   "id": "82d8697a",
   "metadata": {},
   "outputs": [
    {
     "name": "stdout",
     "output_type": "stream",
     "text": [
      "Precision score (test data): 0.7285219174070097\n",
      "Recall score (test data): 0.6810020305263398\n",
      "F1 score (test data): 0.703960944777897\n"
     ]
    }
   ],
   "source": [
    "a_pred = (net(y_test).cpu().detach().numpy() > 0.5).astype(int)\n",
    "# a_target = (a_training.detach().numpy().squeeze(-1) + 1) / 2\n",
    "a_target = a_test.cpu().detach().numpy().squeeze(-1)\n",
    "average = 'micro'\n",
    "print(f'Precision score (test data): {precision_score(a_target, a_pred, average=average)}')\n",
    "print(f'Recall score (test data): {recall_score(a_target, a_pred, average=average)}')\n",
    "print(f'F1 score (test data): {f1_score(a_target, a_pred, average=average)}')"
   ]
  }
 ],
 "metadata": {
  "kernelspec": {
   "display_name": "Python 3 (ipykernel)",
   "language": "python",
   "name": "python3"
  },
  "language_info": {
   "codemirror_mode": {
    "name": "ipython",
    "version": 3
   },
   "file_extension": ".py",
   "mimetype": "text/x-python",
   "name": "python",
   "nbconvert_exporter": "python",
   "pygments_lexer": "ipython3",
   "version": "3.7.12"
  }
 },
 "nbformat": 4,
 "nbformat_minor": 5
}
