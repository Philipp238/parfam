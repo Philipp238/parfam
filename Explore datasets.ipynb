{
 "cells": [
  {
   "cell_type": "code",
   "execution_count": 1,
   "id": "7a3ccade",
   "metadata": {},
   "outputs": [
    {
     "name": "stderr",
     "output_type": "stream",
     "text": [
      "/home/philipp/anaconda3/envs/srbench/lib/python3.10/site-packages/tqdm/auto.py:21: TqdmWarning: IProgress not found. Please update jupyter and ipywidgets. See https://ipywidgets.readthedocs.io/en/stable/user_install.html\n",
      "  from .autonotebook import tqdm as notebook_tqdm\n"
     ]
    },
    {
     "name": "stdout",
     "output_type": "stream",
     "text": [
      "Using device: cpu\n"
     ]
    }
   ],
   "source": [
    "from pmlb import fetch_data\n",
    "import torch\n",
    "import os\n",
    "from utils import get_formula\n",
    "if torch.cuda.is_available():\n",
    "    device = 'cuda'\n",
    "else:\n",
    "    device = 'cpu'\n",
    "print(f'Using device: {device}')"
   ]
  },
  {
   "cell_type": "code",
   "execution_count": 2,
   "id": "a395c037",
   "metadata": {},
   "outputs": [],
   "source": [
    "path_pmlb_datasets = os.path.join('~/projects/phyiscalLawLearning/pmlb', 'datasets')"
   ]
  },
  {
   "cell_type": "code",
   "execution_count": 3,
   "id": "6e25316b",
   "metadata": {},
   "outputs": [],
   "source": [
    "function_name = 'feynman_II_6_11'"
   ]
  },
  {
   "cell_type": "code",
   "execution_count": 4,
   "id": "e06496c3",
   "metadata": {},
   "outputs": [],
   "source": [
    "x, y = fetch_data(function_name, return_X_y=True, local_cache_dir=path_pmlb_datasets)"
   ]
  },
  {
   "cell_type": "code",
   "execution_count": 5,
   "id": "dd5b1758",
   "metadata": {},
   "outputs": [],
   "source": [
    "x = torch.tensor(x, device=device, dtype=torch.double)\n",
    "y = torch.tensor(y, device=device, dtype=torch.double)"
   ]
  },
  {
   "cell_type": "code",
   "execution_count": 6,
   "id": "ec87431e",
   "metadata": {},
   "outputs": [],
   "source": [
    "target_formula = get_formula(function_name)"
   ]
  },
  {
   "cell_type": "code",
   "execution_count": 7,
   "id": "257fc077",
   "metadata": {},
   "outputs": [],
   "source": [
    "def data_feynmann(function_name):\n",
    "    path_pmlb_datasets = os.path.join('~/projects/phyiscalLawLearning/pmlb', 'datasets')\n",
    "    x, y = fetch_data(function_name, return_X_y=True, local_cache_dir=path_pmlb_datasets)\n",
    "    x = np.asarray(x).astype(np.float64)\n",
    "    y = np.asarray(y).astype(np.float64)\n",
    "    target_formula = get_formula(function_name)\n",
    "    if len(y) > 1000:\n",
    "        subset = np.random.choice(len(y), 1000, replace=False)\n",
    "    else:\n",
    "        subset = np.arange(len(y))\n",
    "    x = x[subset]\n",
    "    y = y[subset]\n",
    "    return x, y, target_formula, None"
   ]
  },
  {
   "cell_type": "code",
   "execution_count": 8,
   "id": "a843e436",
   "metadata": {},
   "outputs": [
    {
     "data": {
      "text/plain": [
       "(torch.Size([100000, 4]), torch.Size([100000]))"
      ]
     },
     "execution_count": 8,
     "metadata": {},
     "output_type": "execute_result"
    }
   ],
   "source": [
    "x.shape, y.shape"
   ]
  },
  {
   "cell_type": "code",
   "execution_count": 9,
   "id": "eb1bc892",
   "metadata": {},
   "outputs": [
    {
     "data": {
      "text/plain": [
       "tensor(7.1990, dtype=torch.float64)"
      ]
     },
     "execution_count": 9,
     "metadata": {},
     "output_type": "execute_result"
    }
   ],
   "source": [
    "torch.norm(y, p=2)"
   ]
  },
  {
   "cell_type": "code",
   "execution_count": 10,
   "id": "01afb937",
   "metadata": {},
   "outputs": [
    {
     "data": {
      "text/plain": [
       "tensor(6.4379, dtype=torch.float64)"
      ]
     },
     "execution_count": 10,
     "metadata": {},
     "output_type": "execute_result"
    }
   ],
   "source": [
    "torch.norm(y - torch.mean(y), p=2)"
   ]
  },
  {
   "cell_type": "code",
   "execution_count": 11,
   "id": "3e9e9592",
   "metadata": {},
   "outputs": [],
   "source": [
    "from sympy.parsing.sympy_parser import parse_expr"
   ]
  },
  {
   "cell_type": "code",
   "execution_count": 12,
   "id": "c3521903",
   "metadata": {},
   "outputs": [],
   "source": [
    "string = '0.08*x1*cos(0.999*x2 + 3.144)/(-0.001*x0**2*x1 - 0.002*x0**2*x2 - 0.001*x0**2*x3 + 0.002*x0**2*cos(0.999*x2 + 3.144) + 0.005*x0**2 - 0.002*x0*x1*x2 + 0.001*x0*x1*cos(0.999*x2 + 3.144) + 0.005*x0*x1 + 0.004*x0*x2**2 + 0.002*x0*x2*x3 - 0.021*x0*x2 - 0.997*x0*x3**2 - 0.005*x0*x3*cos(0.999*x2 + 3.144) - 0.008*x0*x3 + 0.011*x0*cos(0.999*x2 + 3.144) + 0.019*x0 - 0.002*x1**2*x2 + 0.002*x1**2*cos(0.999*x2 + 3.144) + 0.003*x1**2 + 0.001*x1*x2**2 + 0.002*x1*x2*x3 - 0.002*x1*x2*cos(0.999*x2 + 3.144) - 0.004*x1*x3*cos(0.999*x2 + 3.144) - 0.005*x1*x3 - 0.002*x1*cos(0.999*x2 + 3.144) - 0.003*x1 - 0.009*x2**2*x3 + 0.011*x2**2*cos(0.999*x2 + 3.144) - 0.004*x2**2 - 0.002*x2*x3**2 + 0.013*x2*x3*cos(0.999*x2 + 3.144) + 0.027*x2*x3 - 0.045*x2*cos(0.999*x2 + 3.144) + 0.001*x3**2 - 0.004*x3*cos(0.999*x2 + 3.144) - 0.017*x3 + 0.046*cos(0.999*x2 + 3.144) + 0.014)'"
   ]
  },
  {
   "cell_type": "code",
   "execution_count": 13,
   "id": "4f47de1c",
   "metadata": {},
   "outputs": [
    {
     "data": {
      "text/latex": [
       "$\\displaystyle \\frac{0.08 x_{1} \\cos{\\left(0.999 x_{2} + 3.144 \\right)}}{- 0.001 x_{0}^{2} x_{1} - 0.002 x_{0}^{2} x_{2} - 0.001 x_{0}^{2} x_{3} + 0.002 x_{0}^{2} \\cos{\\left(0.999 x_{2} + 3.144 \\right)} + 0.005 x_{0}^{2} - 0.002 x_{0} x_{1} x_{2} + 0.001 x_{0} x_{1} \\cos{\\left(0.999 x_{2} + 3.144 \\right)} + 0.005 x_{0} x_{1} + 0.004 x_{0} x_{2}^{2} + 0.002 x_{0} x_{2} x_{3} - 0.021 x_{0} x_{2} - 0.997 x_{0} x_{3}^{2} - 0.005 x_{0} x_{3} \\cos{\\left(0.999 x_{2} + 3.144 \\right)} - 0.008 x_{0} x_{3} + 0.011 x_{0} \\cos{\\left(0.999 x_{2} + 3.144 \\right)} + 0.019 x_{0} - 0.002 x_{1}^{2} x_{2} + 0.002 x_{1}^{2} \\cos{\\left(0.999 x_{2} + 3.144 \\right)} + 0.003 x_{1}^{2} + 0.001 x_{1} x_{2}^{2} + 0.002 x_{1} x_{2} x_{3} - 0.002 x_{1} x_{2} \\cos{\\left(0.999 x_{2} + 3.144 \\right)} - 0.004 x_{1} x_{3} \\cos{\\left(0.999 x_{2} + 3.144 \\right)} - 0.005 x_{1} x_{3} - 0.002 x_{1} \\cos{\\left(0.999 x_{2} + 3.144 \\right)} - 0.003 x_{1} - 0.009 x_{2}^{2} x_{3} + 0.011 x_{2}^{2} \\cos{\\left(0.999 x_{2} + 3.144 \\right)} - 0.004 x_{2}^{2} - 0.002 x_{2} x_{3}^{2} + 0.013 x_{2} x_{3} \\cos{\\left(0.999 x_{2} + 3.144 \\right)} + 0.027 x_{2} x_{3} - 0.045 x_{2} \\cos{\\left(0.999 x_{2} + 3.144 \\right)} + 0.001 x_{3}^{2} - 0.004 x_{3} \\cos{\\left(0.999 x_{2} + 3.144 \\right)} - 0.017 x_{3} + 0.046 \\cos{\\left(0.999 x_{2} + 3.144 \\right)} + 0.014}$"
      ],
      "text/plain": [
       "0.08*x1*cos(0.999*x2 + 3.144)/(-0.001*x0**2*x1 - 0.002*x0**2*x2 - 0.001*x0**2*x3 + 0.002*x0**2*cos(0.999*x2 + 3.144) + 0.005*x0**2 - 0.002*x0*x1*x2 + 0.001*x0*x1*cos(0.999*x2 + 3.144) + 0.005*x0*x1 + 0.004*x0*x2**2 + 0.002*x0*x2*x3 - 0.021*x0*x2 - 0.997*x0*x3**2 - 0.005*x0*x3*cos(0.999*x2 + 3.144) - 0.008*x0*x3 + 0.011*x0*cos(0.999*x2 + 3.144) + 0.019*x0 - 0.002*x1**2*x2 + 0.002*x1**2*cos(0.999*x2 + 3.144) + 0.003*x1**2 + 0.001*x1*x2**2 + 0.002*x1*x2*x3 - 0.002*x1*x2*cos(0.999*x2 + 3.144) - 0.004*x1*x3*cos(0.999*x2 + 3.144) - 0.005*x1*x3 - 0.002*x1*cos(0.999*x2 + 3.144) - 0.003*x1 - 0.009*x2**2*x3 + 0.011*x2**2*cos(0.999*x2 + 3.144) - 0.004*x2**2 - 0.002*x2*x3**2 + 0.013*x2*x3*cos(0.999*x2 + 3.144) + 0.027*x2*x3 - 0.045*x2*cos(0.999*x2 + 3.144) + 0.001*x3**2 - 0.004*x3*cos(0.999*x2 + 3.144) - 0.017*x3 + 0.046*cos(0.999*x2 + 3.144) + 0.014)"
      ]
     },
     "execution_count": 13,
     "metadata": {},
     "output_type": "execute_result"
    }
   ],
   "source": [
    "parse_expr(string)"
   ]
  },
  {
   "cell_type": "code",
   "execution_count": 14,
   "id": "2d8aab8c-c24b-4580-9542-50b9ecee9d3e",
   "metadata": {},
   "outputs": [],
   "source": [
    "import sympy"
   ]
  },
  {
   "cell_type": "code",
   "execution_count": 15,
   "id": "bcc7f447",
   "metadata": {},
   "outputs": [
    {
     "name": "stdout",
     "output_type": "stream",
     "text": [
      "\\int \\sqrt{\\frac{1}{x}}\\, dx\n"
     ]
    }
   ],
   "source": [
    "x, y, z = sympy.symbols('x y z')\n",
    "print(sympy.latex(sympy.Integral(sympy.sqrt(1/x), x)))"
   ]
  },
  {
   "cell_type": "code",
   "execution_count": 16,
   "id": "185bc414-9f27-4b09-b535-56962fc4af79",
   "metadata": {},
   "outputs": [
    {
     "data": {
      "text/plain": [
       "'\\\\frac{x}{y^{2}}'"
      ]
     },
     "execution_count": 16,
     "metadata": {},
     "output_type": "execute_result"
    }
   ],
   "source": [
    "sympy.latex(sympy.parse_expr('x/y**2'))"
   ]
  },
  {
   "cell_type": "code",
   "execution_count": 17,
   "id": "d284e98a-996d-4327-a28d-fbde311bab73",
   "metadata": {},
   "outputs": [],
   "source": [
    "import pandas as pd"
   ]
  },
  {
   "cell_type": "code",
   "execution_count": 18,
   "id": "418d4ac5-cb82-4aa0-b2e4-019139086367",
   "metadata": {},
   "outputs": [],
   "source": [
    "df = pd.read_csv('datasets', index_col=0, names=['Formula name', 'Formula'])"
   ]
  },
  {
   "cell_type": "code",
   "execution_count": 19,
   "id": "1af1ee89-aca1-4265-9c7a-625fc5c88a71",
   "metadata": {},
   "outputs": [
    {
     "name": "stdout",
     "output_type": "stream",
     "text": [
      "$\\dot x =- \\frac{x y}{0.5 x^{2} + 1} - x + 20$\n",
      "$\\dot y =- \\frac{x y}{0.5 x^{2} + 1} + 10$\n",
      "$\\dot x =- \\sin{\\left(x \\right)} + 0.5 \\sin{\\left(x - y \\right)}$\n",
      "$\\dot y =- \\sin{\\left(y \\right)} - 0.5 \\sin{\\left(x - y \\right)}$\n",
      "$\\dot x =- 0.05 x^{2} - \\sin{\\left(y \\right)}$\n",
      "$\\dot y =x - \\frac{\\cos{\\left(y \\right)}}{x}$\n",
      "$\\dot x =- x^{2} - 2 x y + 3 x$\n",
      "$\\dot y =- x y - y^{2} + 2 y$\n",
      "$\\dot x =x \\left(- x - \\frac{y}{x + 1} + 4\\right)$\n",
      "$\\dot y =y \\left(\\frac{x}{x + 1} - 0.075 y\\right)$\n",
      "$\\dot x =\\cos{\\left(x \\right)} \\cot{\\left(y \\right)}$\n",
      "$\\dot y =\\left(0.1 \\sin^{2}{\\left(y \\right)} + \\cos^{2}{\\left(y \\right)}\\right) \\sin{\\left(x \\right)}$\n",
      "$\\dot x =- \\frac{10 x^{3}}{3} + \\frac{10 x}{3} + 10 y$\n",
      "$\\dot y =- \\frac{x}{10}$\n"
     ]
    }
   ],
   "source": [
    "for i in range(241, 255):\n",
    "    if i % 2 == 0:\n",
    "        print(f'$\\dot y ={sympy.latex(parse_expr(get_formula(df.loc[i, \"Formula name\"])))}$')\n",
    "    else:\n",
    "        print(f'$\\dot x ={sympy.latex(parse_expr(get_formula(df.loc[i, \"Formula name\"])))}$')"
   ]
  },
  {
   "cell_type": "code",
   "execution_count": 20,
   "id": "9c8b630a-c791-41e2-a853-04ce4d1027d2",
   "metadata": {},
   "outputs": [],
   "source": [
    "x = [2,3,4]"
   ]
  },
  {
   "cell_type": "code",
   "execution_count": 21,
   "id": "50f229d9-4626-4a1c-8d0c-9db535829d52",
   "metadata": {},
   "outputs": [
    {
     "ename": "SyntaxError",
     "evalue": "invalid decimal literal (2809675116.py, line 1)",
     "output_type": "error",
     "traceback": [
      "\u001b[0;36m  Cell \u001b[0;32mIn[21], line 1\u001b[0;36m\u001b[0m\n\u001b[0;31m    x.remove(2dqn\u001b[0m\n\u001b[0m             ^\u001b[0m\n\u001b[0;31mSyntaxError\u001b[0m\u001b[0;31m:\u001b[0m invalid decimal literal\n"
     ]
    }
   ],
   "source": [
    "x.remove(2dqn"
   ]
  },
  {
   "cell_type": "code",
   "execution_count": 26,
   "id": "dd1f32e3-5b44-4a08-8097-04b3a16f9d7a",
   "metadata": {},
   "outputs": [],
   "source": [
    "import numpy as np\n",
    "np.random.seed(123456)\n",
    "feynman_indices = [i for i in range(120, 239) if not i in [179, 188, 193, 220]]\n",
    "random_feynman_subset = np.sort(np.random.choice(feynman_indices, 15, replace=False))"
   ]
  },
  {
   "cell_type": "code",
   "execution_count": 27,
   "id": "e4447bf1-6838-4ced-9f04-ed74f509cf31",
   "metadata": {},
   "outputs": [
    {
     "name": "stdout",
     "output_type": "stream",
     "text": [
      "Feynman-III-4-33 & $y =\\frac{h \\omega}{2 \\pi \\left(e^{\\frac{h \\omega}{2 \\pi T kb}} - 1\\right)}$\\\\ \\hline\n",
      "Feynman-III-8-54 & $y =\\sin^{2}{\\left(\\frac{2 \\pi E_{n} t}{h} \\right)}$\\\\ \\hline\n",
      "Feynman-II-15-4 & $y =- B mom \\cos{\\left(\\theta \\right)}$\\\\ \\hline\n",
      "Feynman-II-24-17 & $y =\\sqrt{- \\frac{\\pi^{2}}{d^{2}} + \\frac{\\omega^{2}}{c^{2}}}$\\\\ \\hline\n",
      "Feynman-II-34-29b & $y =\\frac{2 \\pi B Jz g_{} mom}{h}$\\\\ \\hline\n",
      "Feynman-I-12-5 & $y =Ef q_{2}$\\\\ \\hline\n",
      "Feynman-I-18-4 & $y =\\frac{m_{1} r_{1} + m_{2} r_{2}}{m_{1} + m_{2}}$\\\\ \\hline\n",
      "Feynman-I-38-12 & $y =\\frac{\\epsilon h^{2}}{\\pi m q^{2}}$\\\\ \\hline\n",
      "Feynman-I-39-22 & $y =\\frac{T kb n}{V}$\\\\ \\hline\n",
      "Feynman-I-40-1 & $y =n_{0} e^{- \\frac{g m x}{T kb}}$\\\\ \\hline\n",
      "Feynman-I-43-31 & $y =T kb mob$\\\\ \\hline\n",
      "Feynman-I-8-14 & $y =\\sqrt{\\left(- x_{1} + x_{2}\\right)^{2} + \\left(- y_{1} + y_{2}\\right)^{2}}$\\\\ \\hline\n",
      "Feynman-I-9-18 & $y =\\frac{G m_{1} m_{2}}{\\left(- x_{1} + x_{2}\\right)^{2} + \\left(- y_{1} + y_{2}\\right)^{2} + \\left(- z_{1} + z_{2}\\right)^{2}}$\\\\ \\hline\n",
      "Feynman-test-17 & $y =\\frac{m^{2} \\omega^{2} x^{2} \\left(\\frac{\\alpha x}{y} + 1\\right) + p^{2}}{2 m}$\\\\ \\hline\n",
      "Feynman-test-18 & $y =\\frac{3 \\left(H_{G}^{2} + \\frac{c^{2} k_{f}}{r^{2}}\\right)}{8 \\pi G}$\\\\ \\hline\n"
     ]
    }
   ],
   "source": [
    "for i in random_feynman_subset:\n",
    "    formula_name = df.loc[i, \"Formula name\"].replace('_', '-').replace('f', 'F')\n",
    "    formula_str = get_formula(df.loc[i, \"Formula name\"])\n",
    "    # print(formula_str)\n",
    "    if 'beta' in formula_str and 'gamma' in formula_str:\n",
    "        raise ValueError(f'The formula {formula_str} includes \"gamma\" and \"beta\"')\n",
    "    if 'beta' in formula_str or 'gamma' in formula_str:\n",
    "        if not 'delta' in formula_str:\n",
    "            formula_str = formula_str.replace('beta','delta').replace('gamma', 'delta')\n",
    "        else:\n",
    "            raise ValueError(f'The formula {formula_str} includes \"delta\" and \"beta\"')\n",
    "        \n",
    "    formula = sympy.latex(parse_expr(formula_str))\n",
    "    formula = formula.replace('delta', 'beta')\n",
    "    print(f'{formula_name} & $y ={formula}$' + '\\\\\\\\ \\\\hline')"
   ]
  },
  {
   "cell_type": "code",
   "execution_count": 28,
   "id": "468cdb5b-f92a-4596-a179-5b06b60b5180",
   "metadata": {},
   "outputs": [
    {
     "data": {
      "text/latex": [
       "$\\displaystyle \\frac{\\alpha^{2} h^{2} \\omega_{0}^{2}}{4 \\pi c^{2} m^{2} \\omega^{2}}$"
      ],
      "text/plain": [
       "alpha**2*h**2*omega_0**2/(4*pi*c**2*m**2*omega**2)"
      ]
     },
     "execution_count": 28,
     "metadata": {},
     "output_type": "execute_result"
    }
   ],
   "source": [
    "parse_expr('1/(4*pi)*alpha**2*h**2/(m**2*c**2)*(omega_0/omega)**2')"
   ]
  },
  {
   "cell_type": "code",
   "execution_count": 33,
   "id": "2f408f24-bbb3-4f9a-9a0d-af9b7001494d",
   "metadata": {},
   "outputs": [
    {
     "name": "stdout",
     "output_type": "stream",
     "text": [
      "131: feynman_III_4_33 & $y =h*omega/(2*pi*(exp(h*omega/(2*pi*T*kb)) - 1))$\\\\ \\hline\n",
      "133: feynman_III_8_54 & $y =sin(2*pi*E_n*t/h)**2$\\\\ \\hline\n",
      "143: feynman_II_15_4 & $y =-B*mom*cos(theta)$\\\\ \\hline\n",
      "146: feynman_II_24_17 & $y =sqrt(-pi**2/d**2 + omega**2/c**2)$\\\\ \\hline\n",
      "153: feynman_II_34_29b & $y =2*pi*B*Jz*g_*mom/h$\\\\ \\hline\n",
      "174: feynman_I_12_5 & $y =Ef*q2$\\\\ \\hline\n",
      "185: feynman_I_18_4 & $y =(m1*r1 + m2*r2)/(m1 + m2)$\\\\ \\hline\n",
      "201: feynman_I_38_12 & $y =epsilon*h**2/(pi*m*q**2)$\\\\ \\hline\n",
      "204: feynman_I_39_22 & $y =T*kb*n/V$\\\\ \\hline\n",
      "205: feynman_I_40_1 & $y =n_0*exp(-g*m*x/(T*kb))$\\\\ \\hline\n",
      "208: feynman_I_43_31 & $y =T*kb*mob$\\\\ \\hline\n",
      "217: feynman_I_8_14 & $y =sqrt((-x1 + x2)**2 + (-y1 + y2)**2)$\\\\ \\hline\n",
      "218: feynman_I_9_18 & $y =G*m1*m2/((-x1 + x2)**2 + (-y1 + y2)**2 + (-z1 + z2)**2)$\\\\ \\hline\n",
      "227: feynman_test_17 & $y =(m**2*omega**2*x**2*(alpha*x/y + 1) + p**2)/(2*m)$\\\\ \\hline\n",
      "228: feynman_test_18 & $y =3*(H_G**2 + c**2*k_f/r**2)/(8*pi*G)$\\\\ \\hline\n"
     ]
    }
   ],
   "source": [
    "for i in random_feynman_subset:\n",
    "    formula_name = df.loc[i, \"Formula name\"]\n",
    "    formula_str = get_formula(df.loc[i, \"Formula name\"])\n",
    "    # print(formula_str)\n",
    "    if 'beta' in formula_str and 'gamma' in formula_str:\n",
    "        raise ValueError(f'The formula {formula_str} includes \"gamma\" and \"beta\"')\n",
    "    if 'beta' in formula_str or 'gamma' in formula_str:\n",
    "        if not 'delta' in formula_str:\n",
    "            formula_str = formula_str.replace('beta','delta').replace('gamma', 'delta')\n",
    "        else:\n",
    "            raise ValueError(f'The formula {formula_str} includes \"delta\" and \"beta\"')\n",
    "        \n",
    "    formula = parse_expr(formula_str)\n",
    "    print(f'{i}: {formula_name} & $y ={formula}$' + '\\\\\\\\ \\\\hline')"
   ]
  },
  {
   "cell_type": "markdown",
   "id": "ed033f45-1f7c-4931-8028-a5ac6841c474",
   "metadata": {},
   "source": [
    "### Explore why Strogatz is so complicated"
   ]
  },
  {
   "cell_type": "code",
   "execution_count": 26,
   "id": "99c60583-83d1-4d49-9ad4-cd1c057aaa6b",
   "metadata": {},
   "outputs": [],
   "source": [
    "import matplotlib.pyplot as plt"
   ]
  },
  {
   "cell_type": "code",
   "execution_count": 49,
   "id": "e5740648-15c9-406e-8c8a-dda388f99719",
   "metadata": {},
   "outputs": [
    {
     "data": {
      "text/plain": [
       "[<matplotlib.lines.Line2D at 0x7fe236fa4670>]"
      ]
     },
     "execution_count": 49,
     "metadata": {},
     "output_type": "execute_result"
    },
    {
     "data": {
      "image/png": "[encoded data removed]",
      "text/plain": [
       "<Figure size 640x480 with 1 Axes>"
      ]
     },
     "metadata": {},
     "output_type": "display_data"
    }
   ],
   "source": [
    "function_name = 'strogatz_lv1'\n",
    "x, y = fetch_data(function_name, return_X_y=True, local_cache_dir=path_pmlb_datasets)\n",
    "target_formula = get_formula(function_name)\n",
    "target_formula\n",
    "plt.plot(y)"
   ]
  }
 ],
 "metadata": {
  "kernelspec": {
   "display_name": "Python 3 (ipykernel)",
   "language": "python",
   "name": "python3"
  },
  "language_info": {
   "codemirror_mode": {
    "name": "ipython",
    "version": 3
   },
   "file_extension": ".py",
   "mimetype": "text/x-python",
   "name": "python",
   "nbconvert_exporter": "python",
   "pygments_lexer": "ipython3",
   "version": "3.10.8"
  }
 },
 "nbformat": 4,
 "nbformat_minor": 5
}
